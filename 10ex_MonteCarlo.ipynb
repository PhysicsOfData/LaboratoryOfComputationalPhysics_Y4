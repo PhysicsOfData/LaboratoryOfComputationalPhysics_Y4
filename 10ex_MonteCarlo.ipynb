{
 "cells": [
  {
   "cell_type": "markdown",
   "metadata": {},
   "source": [
    "1\\. **Radioactive decay chain**\n",
    "\n",
    "${\\rm Tl}^{208}$ decays to ${\\rm Pb}^{208}$ with a half-lieve of 3.052 minutes. Suppose to start with a sample of 1000 Thallium atoms and 0 of Lead atoms.\n",
    "\n",
    "* Take steps in time of 1 second and at each time-step decide whether each Tl atom has decayed or not, accordingly to the probability $p(t)=1-2^{-t/\\tau}$. Subtract the total number of Tl atoms that decayed at each step from the Tl sample and add them to the Lead one. Plot the evolution of the two sets as a function of time  \n",
    "* Repeat the exercise by means of the inverse transform method: draw 1000 random numbers from the non-uniform probability distribution $p(t)=2^{-t/\\tau}\\frac{\\ln 2}{\\tau}$ to represent the times of decay of the 1000 Tl atoms. Make a plot showing the number of atoms that have not decayed as a function of time"
   ]
  },
  {
   "cell_type": "code",
   "execution_count": 1,
   "metadata": {},
   "outputs": [],
   "source": [
    "import numpy as np\n",
    "from scipy import integrate\n",
    "import matplotlib.pyplot as plt\n",
    "import numpy.random as npr\n",
    "import math"
   ]
  },
  {
   "cell_type": "code",
   "execution_count": 2,
   "metadata": {},
   "outputs": [
    {
     "data": {
      "image/png": "[encoded data removed]",
      "text/plain": [
       "<Figure size 432x288 with 1 Axes>"
      ]
     },
     "metadata": {
      "needs_background": "light"
     },
     "output_type": "display_data"
    }
   ],
   "source": [
    "T= 50\n",
    "theta= 183.12\n",
    "Thallium = 1000  \n",
    "Lead= 0      \n",
    "\n",
    "Thallium_list=[]\n",
    "\n",
    "Lead_list=[]\n",
    "\n",
    "Time=[]\n",
    "\n",
    "\n",
    "for t in range(T):\n",
    "    \n",
    "    Time.append(t)\n",
    "\n",
    "\n",
    "    for i in range(Thallium):\n",
    "\n",
    "\n",
    "        if npr.rand() < 1- 2**(-t/theta):\n",
    "            \n",
    "            Thallium = Thallium-1\n",
    "            \n",
    "            \n",
    "    Thallium_list.append(Thallium)\n",
    "    \n",
    "    Lead= 1000 - Thallium\n",
    "    \n",
    "    Lead_list.append(Lead)\n",
    "        \n",
    "\n",
    "\n",
    "plt.plot(Time, Thallium_list, label= 'Thallium')\n",
    "\n",
    "plt.plot(Time, Lead_list, label= 'Lead')\n",
    "\n",
    "plt.ylabel(\"N\")\n",
    "\n",
    "plt.xlabel(\"Time\")\n",
    "\n",
    "plt.legend(loc='best')\n",
    "\n",
    "plt.show()"
   ]
  },
  {
   "cell_type": "markdown",
   "metadata": {},
   "source": [
    "2\\. **Rutherford Scattering**\n",
    "\n",
    "The scattering angle $\\theta$ of $\\alpha$ particles hitting a positively charged nucleus of a Gold atom ($Z=79$) follows the rule:\n",
    "\n",
    "$$\n",
    "\\tan{\\frac{1}{2} \\theta} = \\frac{Z e^2} {2\\pi \\epsilon_0 E b}\n",
    "$$\n",
    "\n",
    "where $E=7.7$ MeV and $b$ beam is the impact parameter. The beam is represented by a 2D gaussian distribution with $\\sigma=a_0/100$ for both coordinates ($a_0$ being the Bohr radius). Assume 1 million $\\alpha$ particles are shot on the gold atom.\n",
    "\n",
    "Computing the fraction of particles that \"bounce back\",i.e. those particle whose scattering angle is greater than $\\pi/2$ (which set a condition on the impact parameter $b$)"
   ]
  },
  {
   "cell_type": "code",
   "execution_count": 3,
   "metadata": {},
   "outputs": [
    {
     "name": "stdout",
     "output_type": "stream",
     "text": [
      "The fraction of particles scattering with theta>90 is:\n",
      "0.002848\n"
     ]
    }
   ],
   "source": [
    "Number= 1000000\n",
    "\n",
    "Z=79\n",
    "\n",
    "e= 1.60217* (10**-19)\n",
    "\n",
    "epsilon = 8.85419 * (10**-12)\n",
    "\n",
    "E= 7.7 * (10**6) * 1.60217* (10**-19)\n",
    "\n",
    "a0= 5.2918 * (10**-11)\n",
    "\n",
    "sigma = a0/100\n",
    "\n",
    "\n",
    "bigger_than_90 = 0\n",
    "\n",
    "for i in range(Number):\n",
    "    \n",
    "    x = npr.normal(0, sigma)\n",
    "    \n",
    "    y = npr.normal(0, sigma)\n",
    "    \n",
    "    b= x**2 + y**2\n",
    "    \n",
    "    theta = np.arctan((2*Z*e**2)/(E*b)) * 2\n",
    "    \n",
    "    if theta < np.pi/2:\n",
    "        \n",
    "        bigger_than_90 = bigger_than_90 + 1 \n",
    "        \n",
    "print(\"The fraction of particles scattering with theta>90 is:\")\n",
    "\n",
    "print(bigger_than_90/Number)"
   ]
  },
  {
   "cell_type": "markdown",
   "metadata": {},
   "source": [
    "3\\. **Monte Carlo integration: hit/miss vs mean value method**\n",
    "\n",
    "Consider the function \n",
    "\n",
    "$$f(x) =\\sin^2{\\frac{1}{x(2-x)}}$$\n",
    "\n",
    "* Compute the integral of $f(x)$ between 0 and 2 with the hit/miss method. Evaluate the error of your estimate\n",
    "* Repeat the integral with the mean value method. Evaluate the error and compare it with the previous one"
   ]
  },
  {
   "cell_type": "code",
   "execution_count": 4,
   "metadata": {},
   "outputs": [
    {
     "name": "stdout",
     "output_type": "stream",
     "text": [
      "hit and miss integral:\n",
      "1.428\n",
      "mean value method integral:\n",
      "1.4226517037397262\n"
     ]
    }
   ],
   "source": [
    "whole_area = 2*1\n",
    "\n",
    "accepted= 0\n",
    "\n",
    "for i in range(1000):\n",
    "    \n",
    "    x = npr.rand() * 2\n",
    "    \n",
    "    y = npr.rand()\n",
    "    \n",
    "    \n",
    "    if y < math.sin(1/(x*(2-x)))**2: \n",
    "        \n",
    "        accepted = accepted + 1\n",
    "\n",
    "area = whole_area * (accepted/1000)\n",
    "\n",
    "print(\"hit and miss integral:\")\n",
    "print(area)\n",
    "\n",
    "\n",
    "area = 0 \n",
    "\n",
    "for i in range(1000):\n",
    "    \n",
    "    x = npr.uniform(0,2)\n",
    "    \n",
    "    area= area + math.sin(1/(x*(2-x)))**2\n",
    "\n",
    "range_x = 2-0\n",
    "\n",
    "area = ((range_x) * area)/1000\n",
    "\n",
    "print(\"mean value method integral:\")\n",
    "\n",
    "print(area)"
   ]
  },
  {
   "cell_type": "markdown",
   "metadata": {},
   "source": [
    "4\\. **Monte Carlo integration in high dimension**\n",
    "\n",
    "* Start of by computing the area of a circle of unit radius, by integrating the function \n",
    "\n",
    "$$\n",
    "f(x,y)=\n",
    "\\left\\{\n",
    "\\begin{array}{ll}\n",
    "      1 & x^2+y^2\\le 1 \\\\\n",
    "      0 & {\\rm elsewhere}\n",
    "\\end{array} \n",
    "\\right.\n",
    "$$\n",
    "\n",
    "* Generalize the result for a 10D sphere\n",
    "\n"
   ]
  },
  {
   "cell_type": "code",
   "execution_count": 5,
   "metadata": {},
   "outputs": [
    {
     "name": "stdout",
     "output_type": "stream",
     "text": [
      "3.096\n"
     ]
    }
   ],
   "source": [
    "def distance_from_origin_func(x, y):\n",
    "    \n",
    "    return x**2 + y**2\n",
    " \n",
    "\n",
    "whole_area = 2*2\n",
    "accepted=0\n",
    "\n",
    "for i in range(1000):\n",
    "    \n",
    "    x = npr.uniform(-1, 1)\n",
    "    \n",
    "    y = npr.uniform(-1, 1)\n",
    "    \n",
    "    if  distance_from_origin_func(x,y) < 1: \n",
    "        \n",
    "        accepted = accepted + 1\n",
    "\n",
    "circle_area = whole_area * (accepted/1000)\n",
    "\n",
    "print(circle_area)"
   ]
  },
  {
   "cell_type": "markdown",
   "metadata": {},
   "source": [
    "5\\. **Monte Carlo integration with importance sampling** \n",
    "\n",
    "Calculate the value of the integral:\n",
    "\n",
    "$$\n",
    "I=\\int_0^1 \\frac{x^{-1/2}}{e^x+1} dx\n",
    "$$\n",
    "\n",
    "using the importance sampling method with $w(x)=1/\\sqrt{x}$. You should get a result about 0.84"
   ]
  },
  {
   "cell_type": "code",
   "execution_count": 6,
   "metadata": {},
   "outputs": [
    {
     "name": "stdout",
     "output_type": "stream",
     "text": [
      "Integral of W in that range is 2, we can use it for impotance sampling\n",
      "The Final asnwer is:\n",
      "0.7478172907441734\n"
     ]
    }
   ],
   "source": [
    "def w_func(x):\n",
    "    \n",
    "    return 1/(math.sqrt(x))\n",
    "\n",
    "\n",
    "def f_func(x):\n",
    "    \n",
    "    return (x**(-0.5))/(math.exp(x) + 1)\n",
    "\n",
    "\n",
    "area=0\n",
    "\n",
    "print(\"Integral of W in that range is 2, we can use it for impotance sampling\")\n",
    "\n",
    "Integral_w = 2\n",
    "\n",
    "\n",
    "for i in range(1000):\n",
    "    \n",
    "    rand = npr.uniform(0,1)\n",
    "    \n",
    "    area = area + (f_func(rand)/w_func(rand))\n",
    "\n",
    "Int = (area * Integral_w)/1000\n",
    "\n",
    "print(\"The Final asnwer is:\")\n",
    "\n",
    "print(Int)"
   ]
  },
  {
   "cell_type": "code",
   "execution_count": null,
   "metadata": {},
   "outputs": [],
   "source": []
  }
 ],
 "metadata": {
  "kernelspec": {
   "display_name": "Python 3",
   "language": "python",
   "name": "python3"
  },
  "language_info": {
   "codemirror_mode": {
    "name": "ipython",
    "version": 3
   },
   "file_extension": ".py",
   "mimetype": "text/x-python",
   "name": "python",
   "nbconvert_exporter": "python",
   "pygments_lexer": "ipython3",
   "version": "3.8.8"
  }
 },
 "nbformat": 4,
 "nbformat_minor": 2
}
