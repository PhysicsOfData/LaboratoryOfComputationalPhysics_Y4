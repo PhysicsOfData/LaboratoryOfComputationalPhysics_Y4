{
 "cells": [
  {
   "cell_type": "code",
   "execution_count": null,
   "id": "71af7588",
   "metadata": {},
   "outputs": [],
   "source": [
    "# q1\n",
    "ans = []\n",
    "for i in range(3):\n",
    "    for j in range(4):\n",
    "        ans.append((i, j))\n",
    "print (ans)\n",
    "\n",
    "\n",
    "\n",
    "\n",
    "#2\n",
    "ans = map(lambda x: x*x, filter(lambda x: x%2 == 0, range(5)))\n",
    "print (list(ans))\n"
   ]
  },
  {
   "cell_type": "code",
   "execution_count": null,
   "id": "c142e2a5",
   "metadata": {},
   "outputs": [],
   "source": [
    "#ans1 \n",
    "#list comprehension 1\n",
    "ans = [(i,j) for i in range(3) for j in range(4)]\n",
    "print(ans)\n",
    "\n",
    "\n",
    "#2\n",
    "\n",
    "ans = [x**2 for x in range(5) if x%2 == 0]"
   ]
  },
  {
   "cell_type": "code",
   "execution_count": null,
   "id": "7f82b6f3",
   "metadata": {},
   "outputs": [],
   "source": [
    "#q2\n",
    "\n",
    "\n",
    "x = 5\n",
    "def f(alist):\n",
    "    for i in range(x):\n",
    "         alist.append(i)\n",
    "    return alist\n",
    "\n",
    "alist = [1,2,3]\n",
    "ans = f(alist)\n",
    "print (ans)\n",
    "print (alist) # alist has been changed!"
   ]
  },
  {
   "cell_type": "code",
   "execution_count": null,
   "id": "ca627836",
   "metadata": {},
   "outputs": [],
   "source": [
    "#ans 2\n",
    "\n",
    "x = input(\"a number : \")\n",
    "def pure(mylist):\n",
    "    newlist = mylist + [i for i in range(x)]\n",
    "    return newlist\n",
    "\n",
    "mylist = [1, 2, 3]\n",
    "\n",
    "print(mylist)\n",
    "print(pure(mylist))\n",
    "print(mylist)"
   ]
  },
  {
   "cell_type": "code",
   "execution_count": null,
   "id": "69e9691e",
   "metadata": {},
   "outputs": [],
   "source": [
    "#q3\n",
    "\n",
    "\n",
    "@hello\n",
    "def square(x):\n",
    "    return x*x\n"
   ]
  },
  {
   "cell_type": "code",
   "execution_count": 9,
   "id": "1718de98",
   "metadata": {},
   "outputs": [
    {
     "name": "stdout",
     "output_type": "stream",
     "text": [
      "square: 4\n",
      "Hello\n"
     ]
    }
   ],
   "source": [
    "#ans 3\n",
    "\n",
    "def deco(f):\n",
    "    def designer():\n",
    "        print(\"Hello\")\n",
    "        \n",
    "\n",
    "    return designer\n",
    "    \n",
    "def square(x):\n",
    "    print(\"square:\" , x**2)\n",
    "\n",
    "hello_hello = deco(square(2))\n",
    "hello_hello()"
   ]
  },
  {
   "cell_type": "code",
   "execution_count": 16,
   "id": "f77b07d9",
   "metadata": {},
   "outputs": [
    {
     "name": "stdout",
     "output_type": "stream",
     "text": [
      "a number: 5\n"
     ]
    },
    {
     "data": {
      "text/plain": [
       "120"
      ]
     },
     "execution_count": 16,
     "metadata": {},
     "output_type": "execute_result"
    }
   ],
   "source": [
    "#anA\n",
    "#recursion\n",
    "\n",
    "def fact(n):\n",
    "    for i in range(n):\n",
    "         if n == 0 or n == 1:\n",
    "            return 1\n",
    "         else:\n",
    "            return n* fact(n-1)\n",
    "    \n"
   ]
  },
  {
   "cell_type": "code",
   "execution_count": 17,
   "id": "82859ef4",
   "metadata": {},
   "outputs": [
    {
     "name": "stdout",
     "output_type": "stream",
     "text": [
      "a number: 5\n"
     ]
    },
    {
     "data": {
      "text/plain": [
       "120"
      ]
     },
     "execution_count": 17,
     "metadata": {},
     "output_type": "execute_result"
    }
   ],
   "source": [
    "#ansB\n",
    "#not recursion\n",
    "n = int(input(\"a number: \"))\n",
    "import math\n",
    "math.factorial(n)\n"
   ]
  },
  {
   "cell_type": "code",
   "execution_count": null,
   "id": "a09c2105",
   "metadata": {},
   "outputs": [],
   "source": [
    "#q5\n",
    "\n",
    "densities = {\"Al\":[0.5,1,2],\"Fe\":[3,4,5],\"Pb\": [15,20,30]}\n",
    "radii = [1,2,3]"
   ]
  },
  {
   "cell_type": "code",
   "execution_count": 18,
   "id": "90a86d78",
   "metadata": {},
   "outputs": [
    {
     "name": "stdout",
     "output_type": "stream",
     "text": [
      "Al sphere 2.0943951023931953\n",
      "Al disk 1.5707963267948966\n",
      "Al circle 3.141592653589793\n",
      "Al sphere 33.510321638291124\n",
      "Al disk 12.566370614359172\n",
      "Al circle 12.566370614359172\n",
      "Al sphere 226.19467105846508\n",
      "Al disk 56.548667764616276\n",
      "Al circle 37.69911184307752\n",
      "Fe sphere 12.566370614359172\n",
      "Fe disk 9.42477796076938\n",
      "Fe circle 18.84955592153876\n",
      "Fe sphere 134.0412865531645\n",
      "Fe disk 50.26548245743669\n",
      "Fe circle 50.26548245743669\n",
      "Fe sphere 565.4866776461628\n",
      "Fe disk 141.3716694115407\n",
      "Fe circle 94.24777960769379\n",
      "Pb sphere 62.83185307179586\n",
      "Pb disk 47.12388980384689\n",
      "Pb circle 94.24777960769379\n",
      "Pb sphere 670.2064327658226\n",
      "Pb disk 251.32741228718345\n",
      "Pb circle 251.32741228718345\n",
      "Pb sphere 3392.9200658769764\n",
      "Pb disk 848.2300164692441\n",
      "Pb circle 565.4866776461627\n"
     ]
    }
   ],
   "source": [
    "#ans5\n",
    "from math import pi\n",
    "densities = {\"Al\":[0.5,1,2],\"Fe\":[3,4,5],\"Pb\": [15,20,30]}\n",
    "radii = [1,2,3]\n",
    "\n",
    "#calculating the weight\n",
    "\n",
    "def sphere(D, r):\n",
    "    return D*4/3*pi*r**(3)\n",
    "\n",
    "def disk(D, r):\n",
    "    return D*pi*r**(2)\n",
    "\n",
    "def circle(D, r):\n",
    "    return D*pi*2*r\n",
    "\n",
    "for key in densities:\n",
    " m = densities[key]\n",
    " for D, r in zip(m, radii):\n",
    "  print(key,\"sphere\", sphere(D, r))\n",
    "  print(key,\"disk\", disk(D, r))\n",
    "  print(key,\"circle\", circle(D, r))\n"
   ]
  },
  {
   "cell_type": "code",
   "execution_count": null,
   "id": "8827197f",
   "metadata": {},
   "outputs": [],
   "source": [
    "#q6\n",
    "# Parent class\n",
    "class Dog:\n",
    "\n",
    "    # Class attribute\n",
    "    species = 'mammal'\n",
    "\n",
    "    # Initializer / Instance attributes\n",
    "    def __init__(self, name, age):\n",
    "        self.name = name\n",
    "        self.age = age\n",
    "\n",
    "    # instance method\n",
    "    def description(self):\n",
    "        return \"{} is {} years old\".format(self.name, self.age)\n",
    "\n",
    "    # instance method\n",
    "    def speak(self, sound):\n",
    "        return \"{} says {}\".format(self.name, sound)\n",
    "\n",
    "# Child class (inherits from Dog class)\n",
    "class RussellTerrier(Dog):\n",
    "    def run(self, speed):\n",
    "        return \"{} runs {}\".format(self.name, speed)\n",
    "\n",
    "# Child class (inherits from Dog class)\n",
    "class Bulldog(Dog):\n",
    "    def run(self, speed):\n",
    "        return \"{} runs {}\".format(self.name, speed)"
   ]
  },
  {
   "cell_type": "code",
   "execution_count": 20,
   "id": "8debbc93",
   "metadata": {},
   "outputs": [
    {
     "name": "stdout",
     "output_type": "stream",
     "text": [
      "I have 3 dogs.\n",
      "Tom is 6.\n",
      "Fletcher is 7.\n",
      "Larry is 9.\n",
      "And they're all mammals, of course.\n",
      "My dogs arent hungry.\n"
     ]
    }
   ],
   "source": [
    "# Parent class\n",
    "class Dog:\n",
    "    # Class attribute\n",
    "    species = 'mammal'\n",
    "    \n",
    "    # Initializer / Instance attributes\n",
    "    def __init__(self, name, age):\n",
    "        self.name = name\n",
    "        self.age = age\n",
    "        self.is_hungry = True\n",
    "\n",
    "    # instance method\n",
    "    def description(self):\n",
    "        return \"{} is {}.\".format(self.name, self.age)\n",
    "\n",
    "    # instance method\n",
    "    def speak(self, sound):\n",
    "        return \"{} says {}\".format(self.name, sound)\n",
    "    \n",
    "    # instance method\n",
    "    def eat(self):\n",
    "        self.is_hungry = False\n",
    "\n",
    "# Child class (inherits from Dog class)\n",
    "class RussellTerrier(Dog):\n",
    "    def run(self, speed):\n",
    "        return \"{} runs {}\".format(self.name, speed)\n",
    "\n",
    "# Child class (inherits from Dog class)\n",
    "class Bulldog(Dog):\n",
    "    def run(self, speed):\n",
    "        return \"{} runs {}\".format(self.name, speed)\n",
    "\n",
    "my_dogs = [RussellTerrier(\"Tom\", 6), RussellTerrier(\"Fletcher\", 7), Bulldog(\"Larry\", 9)]\n",
    "print(\"I have {} dogs.\".format(len(my_dogs)))\n",
    "# Presenting dogs\n",
    "for dog in my_dogs:\n",
    "    print(dog.description())\n",
    "\n",
    "\n",
    "assert(all(dog.species == \"mammal\" for dog in my_dogs))\n",
    "print(\"And they're all mammals, of course.\".format())\n",
    "# dog feeding\n",
    "for dog in my_dogs:\n",
    "    dog.eat()\n",
    "# Checking if any dogs is still hungry\n",
    "if any(dog.is_hungry for dog in my_dogs):\n",
    "    print(\"My dogs are hungry.\")\n",
    "else:\n",
    "    print(\"My dogs arent hungry.\")"
   ]
  },
  {
   "cell_type": "code",
   "execution_count": null,
   "id": "04eedc4b",
   "metadata": {},
   "outputs": [],
   "source": []
  }
 ],
 "metadata": {
  "kernelspec": {
   "display_name": "Python 3",
   "language": "python",
   "name": "python3"
  },
  "language_info": {
   "codemirror_mode": {
    "name": "ipython",
    "version": 3
   },
   "file_extension": ".py",
   "mimetype": "text/x-python",
   "name": "python",
   "nbconvert_exporter": "python",
   "pygments_lexer": "ipython3",
   "version": "3.8.8"
  }
 },
 "nbformat": 4,
 "nbformat_minor": 5
}
