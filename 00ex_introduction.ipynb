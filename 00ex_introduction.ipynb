{
 "cells": [
  {
   "cell_type": "markdown",
   "metadata": {},
   "source": [
    "1. The MickeyMouse problem\n",
    "\n",
    "a) Write a program that prints the numbers from 1 to 100. But for multiples of three print Mickey instead of the number and for the multiples of five print Mouse. For numbers which are multiples of both three and five print MickeyMouse\n",
    "\n",
    "b) Put the result in a tuple and substitute Mickey with Donald and Mouse with Duck"
   ]
  },
  {
   "cell_type": "code",
   "execution_count": null,
   "metadata": {},
   "outputs": [],
   "source": [
    "#ex 1\n",
    "l=[]\n",
    "for i in range(1, 101):\n",
    "    if i%3 == 0 and i%5==0:\n",
    "        l.append(\"MickeyMouse\")\n",
    "    elif i%3==0:\n",
    "        l.append(\"Mickey\")\n",
    "    elif i%5==0:\n",
    "        l.append(\"Mouse\")\n",
    "    else:\n",
    "        l.append(i)\n",
    "print(\"Here are the results\",l)\n",
    "\n",
    "for i in range(0,100):\n",
    "    if l[i]==\"Mickey\":\n",
    "        l[i]=\"Donald\"\n",
    "    elif l[i]==\"Mouse\":\n",
    "        l[i]=\"Duck\"\n",
    "\n",
    "t = tuple(l)\n",
    "print(\"Here are the results in tuple\",t)"
   ]
  },
  {
   "cell_type": "markdown",
   "metadata": {},
   "source": [
    "2\\. The swap function\n",
    "\n",
    "Write a function that swap the values of two input variables x and y (whatever the type). Try to do that also without a temporary variable"
   ]
  },
  {
   "cell_type": "code",
   "execution_count": null,
   "metadata": {},
   "outputs": [],
   "source": [
    "def swap(a,b):\n",
    "    a = str(a)\n",
    "    b = str(b)\n",
    "    a = a + b\n",
    "    b = a[0:(len(a) -len(b))]\n",
    "    a = a[len(b):]\n",
    "    print(a,b)\n",
    "    \n",
    "    \n",
    "    \n",
    "x = 1\n",
    "y = \"Ciao\"\n",
    "\n",
    "swap(x,y)\n",
    "\n",
    "    "
   ]
  },
  {
   "cell_type": "markdown",
   "metadata": {},
   "source": [
    "3\\. Computing the distance\n",
    "\n",
    "Write a function that calculates and returns the euclidean distance between two points *u* and *v*, where *u* and *v* are both 2-tuples *(x,y)*. For example, if *u=(3,0)* and *v=(0,4)*, the function should return 5"
   ]
  },
  {
   "cell_type": "code",
   "execution_count": null,
   "metadata": {},
   "outputs": [],
   "source": [
    "def distance(u,v):\n",
    "    \n",
    "    a = list(u)\n",
    "    b = list(v)\n",
    "    d = ((a[0] - b[0])**2 + ((a[1] - b[1])**2))**(1/2)\n",
    "    return d\n",
    "distance((5,0),(6,0))"
   ]
  },
  {
   "cell_type": "markdown",
   "metadata": {},
   "source": [
    "4\\. Counting letters\n",
    "\n",
    "Write a program to calculate the number of times each character occurs in a given string *s*. Ignore differneces in capitalization"
   ]
  },
  {
   "cell_type": "code",
   "execution_count": null,
   "metadata": {},
   "outputs": [],
   "source": [
    "s=\"Write a program that prints the numbers from 1 to 100. \\\n",
    "But for multiples of three print Mickey instead of the number and for the multiples of five print Mouse. \\\n",
    "For numbers which are multiples of both three and five print MickeyMouse\"\n",
    "freq = {}\n",
    "  \n",
    "for i in s:\n",
    "    if i in freq:\n",
    "        freq[i] += 1\n",
    "    else:\n",
    "        freq[i] = 1\n",
    "  \n",
    "\n",
    "print (str(freq))"
   ]
  },
  {
   "cell_type": "markdown",
   "metadata": {},
   "source": [
    "5\\. Isolating the unique\n",
    "\n",
    "Write a function that determines and count the unique numbers in the list *l*"
   ]
  },
  {
   "cell_type": "code",
   "execution_count": 1,
   "metadata": {},
   "outputs": [
    {
     "name": "stdout",
     "output_type": "stream",
     "text": [
      "36\n",
      "45\n",
      "58\n",
      "3\n",
      "74\n",
      "96\n",
      "64\n",
      "45\n",
      "31\n",
      "10\n",
      "24\n",
      "19\n",
      "33\n",
      "86\n",
      "99\n",
      "18\n",
      "63\n",
      "70\n",
      "85\n",
      "63\n",
      "47\n",
      "56\n",
      "42\n",
      "70\n",
      "84\n",
      "88\n",
      "55\n",
      "20\n",
      "54\n",
      "8\n",
      "56\n",
      "51\n",
      "79\n",
      "81\n",
      "57\n",
      "37\n",
      "91\n",
      "1\n",
      "84\n",
      "36\n",
      "66\n",
      "9\n",
      "89\n",
      "50\n",
      "42\n",
      "91\n",
      "50\n",
      "95\n",
      "90\n",
      "98\n",
      "39\n",
      "16\n",
      "82\n",
      "31\n",
      "92\n",
      "41\n",
      "45\n",
      "30\n",
      "66\n",
      "70\n",
      "34\n",
      "85\n",
      "94\n",
      "5\n",
      "3\n",
      "36\n",
      "72\n",
      "91\n",
      "84\n",
      "34\n",
      "87\n",
      "75\n",
      "53\n",
      "51\n",
      "20\n",
      "89\n",
      "51\n",
      "The number of unique numbers is 77\n"
     ]
    }
   ],
   "source": [
    "l = [36, 45, 58, 3, 74, 96, 64, 45, 31, 10, 24, 19, 33, 86, 99, 18, 63, 70, 85,\n",
    " 85, 63, 47, 56, 42, 70, 84, 88, 55, 20, 54, 8, 56, 51, 79, 81, 57, 37, 91,\n",
    " 1, 84, 84, 36, 66, 9, 89, 50, 42, 91, 50, 95, 90, 98, 39, 16, 82, 31, 92, 41,\n",
    " 45, 30, 66, 70, 34, 85, 94, 5, 3, 36, 72, 91, 84, 34, 87, 75, 53, 51, 20, 89, 51, 20]\n",
    "a=0\n",
    "\n",
    "for i in range(len(l)-1):\n",
    "    if l[i]!= l[i+1]:\n",
    "        print(l[i])\n",
    "        a +=1\n",
    "    else: \n",
    "        continue\n",
    "        \n",
    "        \n",
    "print(\"The number of unique numbers is\", a)"
   ]
  },
  {
   "cell_type": "markdown",
   "metadata": {},
   "source": [
    "6\\. Combination of functions\n",
    "\n",
    "Write two functions - one that returns the square of a number, and one that returns the cube. Now write a third function that returns the number raised to the 6th power using the two previous functions."
   ]
  },
  {
   "cell_type": "code",
   "execution_count": null,
   "metadata": {},
   "outputs": [],
   "source": [
    "def square(a):\n",
    "    a=a*a\n",
    "    return a\n",
    "def cube(a):\n",
    "    a=a*a*a\n",
    "    return a\n",
    "def power_of_six(a):\n",
    "    a = a* square(a) * cube(a)\n",
    "    return a\n",
    "print(power_of_six(2))"
   ]
  },
  {
   "cell_type": "markdown",
   "metadata": {},
   "source": [
    "7\\. Cubes\n",
    "\n",
    "Create a list of the cubes of x for x in *[0, 10]* using:\n",
    "\n",
    "a) a for loop\n",
    "\n",
    "b) a list comprehension"
   ]
  },
  {
   "cell_type": "code",
   "execution_count": null,
   "metadata": {},
   "outputs": [],
   "source": [
    "l =[]\n",
    "for k in range(10):\n",
    "    l.append(k**3)\n",
    "    \n",
    "nl = [x**3 for x in range(10)]\n",
    "print(l) \n",
    "print(nl)"
   ]
  },
  {
   "cell_type": "markdown",
   "metadata": {},
   "source": [
    "8\\. Nested list comprehension\n",
    "\n",
    "A Pythagorean triple is an integer solution to the Pythagorean theorem $a^2+b^2=c^2$. The first Pythagorean triple is (3,4,5). Find and put in a tuple all unique Pythagorean triples for the positive integers a, b and c less than 100."
   ]
  },
  {
   "cell_type": "code",
   "execution_count": null,
   "metadata": {},
   "outputs": [],
   "source": [
    "c = 0\n",
    "m = 2\n",
    "limit = 100\n",
    "n = 1\n",
    "temp_list=[a,b,c for i in range(1,m)]\n",
    " \n",
    "\n",
    "while c < limit:\n",
    "    for i in range(1, m) :\n",
    "        a = m * m - n * n\n",
    "        b = 2 * m * n\n",
    "        c = m * m + n * n\n",
    "        \n",
    "        if c > limit:\n",
    "            break\n",
    " \n",
    "        temp_list.append(a)\n",
    "        temp_list.append(b)\n",
    "        temp_list.append(c)\n",
    "        m = m + 1\n",
    "        n = n +1\n",
    "    \n",
    "t= tuple(temp_list)\n",
    "print(t)"
   ]
  },
  {
   "cell_type": "markdown",
   "metadata": {},
   "source": [
    "9\\. Normalization\n",
    "\n",
    "Write a function that takes a tuple of numbers and returns it with the entries normalized to one"
   ]
  },
  {
   "cell_type": "code",
   "execution_count": null,
   "metadata": {},
   "outputs": [],
   "source": [
    "l=[2,4,5,6,12,456,1,98,47,28]\n",
    "nl=[0 for _ in range(len(l))]\n",
    "biggest = max(l)\n",
    "smallest = min(l)\n",
    "for i in range(len(l)):\n",
    "    print(i)\n",
    "    nl[i]=(l[i]-smallest)/(biggest-smallest)\n"
   ]
  }
 ],
 "metadata": {
  "kernelspec": {
   "display_name": "Python 3",
   "language": "python",
   "name": "python3"
  },
  "language_info": {
   "codemirror_mode": {
    "name": "ipython",
    "version": 3
   },
   "file_extension": ".py",
   "mimetype": "text/x-python",
   "name": "python",
   "nbconvert_exporter": "python",
   "pygments_lexer": "ipython3",
   "version": "3.8.8"
  }
 },
 "nbformat": 4,
 "nbformat_minor": 2
}
