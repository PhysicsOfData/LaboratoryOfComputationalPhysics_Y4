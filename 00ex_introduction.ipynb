{
 "cells": [
  {
   "cell_type": "code",
   "execution_count": 37,
   "metadata": {},
   "outputs": [
    {
     "name": "stdout",
     "output_type": "stream",
     "text": [
      "1\n",
      "2\n",
      "Mickey\n",
      "4\n",
      "Mouse\n",
      "Mickey\n",
      "7\n",
      "8\n",
      "Mickey\n",
      "Mouse\n",
      "11\n",
      "Mickey\n",
      "13\n",
      "14\n",
      "MickeyMouse\n",
      "16\n",
      "17\n",
      "Mickey\n",
      "19\n",
      "Mouse\n",
      "Mickey\n",
      "22\n",
      "23\n",
      "Mickey\n",
      "Mouse\n",
      "26\n",
      "Mickey\n",
      "28\n",
      "29\n",
      "MickeyMouse\n",
      "31\n",
      "32\n",
      "Mickey\n",
      "34\n",
      "Mouse\n",
      "Mickey\n",
      "37\n",
      "38\n",
      "Mickey\n",
      "Mouse\n",
      "41\n",
      "Mickey\n",
      "43\n",
      "44\n",
      "MickeyMouse\n",
      "46\n",
      "47\n",
      "Mickey\n",
      "49\n",
      "Mouse\n",
      "Mickey\n",
      "52\n",
      "53\n",
      "Mickey\n",
      "Mouse\n",
      "56\n",
      "Mickey\n",
      "58\n",
      "59\n",
      "MickeyMouse\n",
      "61\n",
      "62\n",
      "Mickey\n",
      "64\n",
      "Mouse\n",
      "Mickey\n",
      "67\n",
      "68\n",
      "Mickey\n",
      "Mouse\n",
      "71\n",
      "Mickey\n",
      "73\n",
      "74\n",
      "MickeyMouse\n",
      "76\n",
      "77\n",
      "Mickey\n",
      "79\n",
      "Mouse\n",
      "Mickey\n",
      "82\n",
      "83\n",
      "Mickey\n",
      "Mouse\n",
      "86\n",
      "Mickey\n",
      "88\n",
      "89\n",
      "MickeyMouse\n",
      "91\n",
      "92\n",
      "Mickey\n",
      "94\n",
      "Mouse\n",
      "Mickey\n",
      "97\n",
      "98\n",
      "Mickey\n",
      "Mouse\n",
      "(1, 2, 'Donald', 4, 'Duck', 'Donald', 7, 8, 'Donald', 'Duck', 11, 'Donald', 13, 14, 'DonaldDuck', 16, 17, 'Donald', 19, 'Duck', 'Donald', 22, 23, 'Donald', 'Duck', 26, 'Donald', 28, 29, 'DonaldDuck', 31, 32, 'Donald', 34, 'Duck', 'Donald', 37, 38, 'Donald', 'Duck', 41, 'Donald', 43, 44, 'DonaldDuck', 46, 47, 'Donald', 49, 'Duck', 'Donald', 52, 53, 'Donald', 'Duck', 56, 'Donald', 58, 59, 'DonaldDuck', 61, 62, 'Donald', 64, 'Duck', 'Donald', 67, 68, 'Donald', 'Duck', 71, 'Donald', 73, 74, 'DonaldDuck', 76, 77, 'Donald', 79, 'Duck', 'Donald', 82, 83, 'Donald', 'Duck', 86, 'Donald', 88, 89, 'DonaldDuck', 91, 92, 'Donald', 94, 'Duck', 'Donald', 97, 98, 'Donald', 'Duck')\n"
     ]
    }
   ],
   "source": [
    "#1. The MickeyMouse problem\n",
    "\n",
    "#a) Write a program that prints the numbers from 1 to 100. But for multiples of three print Mickey instead of the number and for the multiples of five print Mouse. For numbers which are multiples of both three and five print MickeyMouse\n",
    "\n",
    "#b) Put the result in a tuple and substitute Mickey with Donald and Mouse with Duck\n",
    "\n",
    "s=[]\n",
    "i=1\n",
    "while i<101:\n",
    "    if (i%3==0) & (i%5!=0):\n",
    "        print(\"Mickey\")\n",
    "        s=s+[\"Mickey\"]\n",
    "    elif (i%5==0) & (i%3!=0):\n",
    "        print(\"Mouse\")\n",
    "        s=s+[\"Mouse\"]\n",
    "    elif (i%3==0) & (i%5==0):\n",
    "        print(\"MickeyMouse\")\n",
    "        s=s+[\"MickeyMouse\"]\n",
    "    else:\n",
    "        print(i)\n",
    "        s=s+[i]\n",
    "    i+=1 \n",
    "    \n",
    "j=1\n",
    "while j<101:\n",
    "    if (j%3==0) & (j%5!=0):\n",
    "        s.remove(s[j-1])\n",
    "        s.insert(j-1,\"Donald\")\n",
    "    elif (j%5==0) & (j%3!=0):\n",
    "        s.remove(s[j-1])\n",
    "        s.insert(j-1,\"Duck\")\n",
    "    elif (j%3==0) & (j%5==0):\n",
    "        s.remove(s[j-1])\n",
    "        s.insert(j-1,\"DonaldDuck\")\n",
    "    j+=1     \n",
    "t = ()\n",
    "i=0\n",
    "while i<100:\n",
    "    w=s[i]\n",
    "    t=t+(w,)\n",
    "    i+=1\n",
    "print(t)\n"
   ]
  },
  {
   "cell_type": "code",
   "execution_count": 50,
   "metadata": {},
   "outputs": [
    {
     "name": "stdout",
     "output_type": "stream",
     "text": [
      "set the a=22\n",
      "set the b=222\n",
      "\n",
      "new a is= 222 \n",
      "new b is= 22\n",
      "\n",
      "set the a=11\n",
      "set the b=zz\n",
      "\n",
      "new a is= zz \n",
      "new b is= 11\n"
     ]
    }
   ],
   "source": [
    "#2\\. The swap function\n",
    "\n",
    "#Write a function that swap the values of two input variables x and y (whatever the type). Try to do that also without a temporary variable\n",
    "\n",
    "def swap(a,b):\n",
    "    c=a\n",
    "    a=b\n",
    "    b=c\n",
    "    print(\"\\nnew a is=\",a,\"\\nnew b is=\",b)\n",
    "    \n",
    "swap(input(\"set the a=\"),input(\"set the b=\")) \n",
    "\n",
    "def swap1(a,b):\n",
    "    b=a+b\n",
    "    a=b-a\n",
    "    b=b-b\n",
    "    print(\"\\nnew a is=\",a,\"\\nnew b is=\",b)\n",
    "    \n",
    "swap(input(\"\\nset the a=\"),input(\"set the b=\")) "
   ]
  },
  {
   "cell_type": "code",
   "execution_count": 48,
   "metadata": {},
   "outputs": [
    {
     "name": "stdout",
     "output_type": "stream",
     "text": [
      "set the value of u1=22\n",
      "set the value of u2=22\n",
      "set the value of v1=222\n",
      "set the value of v2=222\n",
      "the euclidean distance between two points *u* and *v* is= 282.842712474619\n"
     ]
    }
   ],
   "source": [
    "#3\\. Computing the distance\n",
    "\n",
    "#Write a function that calculates and returns the euclidean distance between two points *u* and *v*, where *u* and *v* are both 2-tuples *(x,y)*. For example, if *u=(3,0)* and *v=(0,4)*, the function should return 5\n",
    "\n",
    "u = (int(input(\"set the value of u1=\")),int(input(\"set the value of u2=\")))\n",
    "v = (int(input(\"set the value of v1=\")),int(input(\"set the value of v2=\")))\n",
    "def my_function(a,b,c,d):\n",
    "    result = ((a-c)**2 + (b-d)**2)**0.5\n",
    "    return result\n",
    "\n",
    "print(\"the euclidean distance between two points *u* and *v* is=\",my_function(u[0],u[1],v[0],v[1]))"
   ]
  },
  {
   "cell_type": "code",
   "execution_count": null,
   "metadata": {},
   "outputs": [],
   "source": [
    "4\\. Counting letters\n",
    "\n",
    "Write a program to calculate the number of times each character occurs in a given string *s*. Ignore differneces in capitalization"
   ]
  },
  {
   "cell_type": "code",
   "execution_count": 8,
   "metadata": {},
   "outputs": [
    {
     "name": "stdout",
     "output_type": "stream",
     "text": [
      "a = 7\n",
      "b = 4\n",
      "c = 4\n",
      "d = 3\n",
      "e = 22\n",
      "f = 9\n",
      "g = 2\n",
      "h = 9\n",
      "i = 14\n",
      "j = 0\n",
      "k = 2\n",
      "l = 6\n",
      "m = 8\n",
      "n = 14\n",
      "o = 13\n",
      "p = 8\n",
      "q = 0\n",
      "r = 17\n",
      "s = 9\n",
      "t = 19\n",
      "u = 9\n",
      "v = 2\n",
      "w = 1\n",
      "x = 1\n",
      "y = 2\n",
      "z = 0\n",
      "0 = 2\n",
      "1 = 2\n",
      "2 = 0\n",
      "3 = 0\n",
      "4 = 0\n",
      "5 = 0\n",
      "6 = 0\n",
      "7 = 0\n",
      "8 = 0\n",
      "9 = 0\n",
      "spase= 41\n"
     ]
    }
   ],
   "source": [
    "s=\"Write a program that prints the numbers from 1 to 100. \\\n",
    "But for multiples of three print Mickey instead of the number and for the multiples of five print Mouse. \\\n",
    "For numbers which are multiples of both three and five print MickeyMouse\"\n",
    "\n",
    "list1=\"abcdefghijklmnopqrstuvwxyzABCDEFGHIJKLMNOPQRSTUVWXYZ0123456789 \"\n",
    "i=0\n",
    "while i<26:\n",
    "    a=s.count(list1[i])\n",
    "    b=s.count(list1[i+25])\n",
    "    print (list1[i],\"=\",b+a)\n",
    "    i+=1\n",
    "i=52\n",
    "while i<63:\n",
    "    a=s.count(list1[i])\n",
    "    if i<62:\n",
    "        print (list1[i],\"=\",a)\n",
    "    else:\n",
    "        print(\"spase=\",a)\n",
    "    i+=1\n"
   ]
  },
  {
   "cell_type": "markdown",
   "metadata": {},
   "source": [
    "5\\. Isolating the unique\n",
    "\n",
    "Write a function that determines and count the unique numbers in the list *l*"
   ]
  },
  {
   "cell_type": "code",
   "execution_count": 11,
   "metadata": {},
   "outputs": [
    {
     "name": "stdout",
     "output_type": "stream",
     "text": [
      "the unique numbers are -> [1, 5, 8, 9, 10, 16, 18, 19, 24, 30, 33, 37, 39, 41, 47, 53, 54, 55, 57, 58, 64, 72, 74, 75, 79, 81, 82, 86, 87, 88, 90, 92, 94, 95, 96, 98, 99] \n",
      "\n",
      "and they are 37 numbers.\n"
     ]
    }
   ],
   "source": [
    "l = [36, 45, 58, 3, 74, 96, 64, 45, 31, 10, 24, 19, 33, 86, 99, 18, 63, 70, 85,\n",
    " 85, 63, 47, 56, 42, 70, 84, 88, 55, 20, 54, 8, 56, 51, 79, 81, 57, 37, 91,\n",
    " 1, 84, 84, 36, 66, 9, 89, 50, 42, 91, 50, 95, 90, 98, 39, 16, 82, 31, 92, 41,\n",
    " 45, 30, 66, 70, 34, 85, 94, 5, 3, 36, 72, 91, 84, 34, 87, 75, 53, 51, 20, 89, 51, 20]\n",
    "def detcount(l):\n",
    "    count=[]\n",
    "    det=[]\n",
    "    det_unique=[]\n",
    "    j=0\n",
    "    while j<len(l):\n",
    "        a=l.count(l[0])\n",
    "        if l[0] not in det:\n",
    "            count=count+[(l[0],a)]\n",
    "            det.append(l[0])\n",
    "        l.remove(l[0])     \n",
    "    count.sort()\n",
    "    det.sort()\n",
    "    for i in range(len(det)):\n",
    "        if count[i][1]==1:\n",
    "            det_unique=det_unique+[det[i]]\n",
    "    print (\"the unique numbers are ->\",det_unique,\"\\n\\nand they are\",len(det_unique), \"numbers.\")\n",
    "detcount(l) "
   ]
  },
  {
   "cell_type": "code",
   "execution_count": 39,
   "metadata": {},
   "outputs": [
    {
     "name": "stdout",
     "output_type": "stream",
     "text": [
      "enter a number:1\n",
      "its 6th power is: 1\n"
     ]
    }
   ],
   "source": [
    "#6\\. Combination of functions\n",
    "\n",
    "#Write two functions - one that returns the square of a number, and one that returns the cube. Now write a third function that returns the number raised to the 6th power using the two previous functions.\n",
    "\n",
    "def square(a):\n",
    "    b=a**2\n",
    "    return b\n",
    "def cube(a):\n",
    "    b=a**3\n",
    "    return b\n",
    "def six(a):\n",
    "    b=cube(square(a))\n",
    "    return b\n",
    "c=int(input(\"enter a number:\"))\n",
    "print(\"its 6th power is:\", six(c))\n"
   ]
  },
  {
   "cell_type": "code",
   "execution_count": 7,
   "metadata": {},
   "outputs": [
    {
     "name": "stdout",
     "output_type": "stream",
     "text": [
      "[0, 1, 8, 27, 64, 125, 216, 343, 512, 729]\n",
      "[0, 1, 8, 27, 64, 125, 216, 343, 512, 729]\n"
     ]
    }
   ],
   "source": [
    "#7\\. Cubes\n",
    "\n",
    "#Create a list of the cubes of x for x in *[0, 10]* using:\n",
    "\n",
    "#a) a for loop\n",
    "\n",
    "#b) a list comprehension\n",
    "\n",
    "cubes=[]\n",
    "for i in range(0,10):\n",
    "    cubes=cubes+[i**3]\n",
    "print(cubes)\n",
    "\n",
    "print([x**3 for x in range(10)])\n"
   ]
  },
  {
   "cell_type": "code",
   "execution_count": 1,
   "metadata": {},
   "outputs": [
    {
     "name": "stdout",
     "output_type": "stream",
     "text": [
      "[(3, 4, 5), (5, 12, 13), (6, 8, 10), (7, 24, 25), (8, 15, 17), (9, 12, 15), (9, 40, 41), (10, 24, 26), (11, 60, 61), (12, 16, 20), (12, 35, 37), (13, 84, 85), (14, 48, 50), (15, 20, 25), (15, 36, 39), (16, 30, 34), (16, 63, 65), (18, 24, 30), (18, 80, 82), (20, 21, 29), (20, 48, 52), (21, 28, 35), (21, 72, 75), (24, 32, 40), (24, 45, 51), (24, 70, 74), (25, 60, 65), (27, 36, 45), (28, 45, 53), (28, 96, 100), (30, 40, 50), (30, 72, 78), (32, 60, 68), (33, 44, 55), (33, 56, 65), (35, 84, 91), (36, 48, 60), (36, 77, 85), (39, 52, 65), (39, 80, 89), (40, 42, 58), (40, 75, 85), (42, 56, 70), (45, 60, 75), (48, 55, 73), (48, 64, 80), (51, 68, 85), (54, 72, 90), (57, 76, 95), (60, 63, 87), (60, 80, 100), (65, 72, 97)]\n"
     ]
    }
   ],
   "source": [
    "#8\\. Nested list comprehension\n",
    "\n",
    "#A Pythagorean triple is an integer solution to the Pythagorean theorem $a^2+b^2=c^2$. The first Pythagorean triple is (3,4,5). Find and put in a tuple all unique Pythagorean triples for the positive integers a, b and c less than 100.\n",
    "a=[(x,y,z) for x in range(1,101) for y in range(1,101) for z in range(1,101) if x**2+y**2==z**2 if x<y]\n",
    "print(a)\n",
    "        "
   ]
  },
  {
   "cell_type": "code",
   "execution_count": 40,
   "metadata": {},
   "outputs": [
    {
     "name": "stdout",
     "output_type": "stream",
     "text": [
      "set your tuple=(2,35,-6,3.5,6.7)\n",
      "the normalized tuple is= (0.0, 1.0, 0.0, 0.0, 0.0)\n"
     ]
    }
   ],
   "source": [
    "#9\\. Normalization\n",
    "\n",
    "#Write a function that takes a tuple of numbers and returns it with the entries normalized to one\n",
    "\n",
    "def norm(a):\n",
    "    a = a.replace('(', '')\n",
    "    a = a.replace(')', '')\n",
    "    a = a.split(\",\")\n",
    "    b=()\n",
    "    for i in range(len(a)):\n",
    "        b=b+(float(a[i]),)\n",
    "    n=()\n",
    "    for i in range(len(b)):\n",
    "        m=(b[i]-min(b))/(max(b)-min(b))\n",
    "        n=n+(m,)\n",
    "    print(\"the normalized tuple is=\",n)\n",
    "    \n",
    "a=input(\"set your tuple=\")\n",
    "norm(a)\n",
    "        \n"
   ]
  },
  {
   "cell_type": "code",
   "execution_count": null,
   "metadata": {},
   "outputs": [],
   "source": []
  }
 ],
 "metadata": {
  "kernelspec": {
   "display_name": "Python 3",
   "language": "python",
   "name": "python3"
  },
  "language_info": {
   "codemirror_mode": {
    "name": "ipython",
    "version": 3
   },
   "file_extension": ".py",
   "mimetype": "text/x-python",
   "name": "python",
   "nbconvert_exporter": "python",
   "pygments_lexer": "ipython3",
   "version": "3.8.8"
  }
 },
 "nbformat": 4,
 "nbformat_minor": 2
}
