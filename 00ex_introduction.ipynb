{
 "cells": [
  {
   "cell_type": "code",
   "execution_count": 23,
   "metadata": {},
   "outputs": [
    {
     "name": "stdout",
     "output_type": "stream",
     "text": [
      "1\n",
      "2\n",
      "Mickey\n",
      "4\n",
      "Mouse\n",
      "Mickey\n",
      "7\n",
      "8\n",
      "Mickey\n",
      "Mouse\n",
      "11\n",
      "Mickey\n",
      "13\n",
      "14\n",
      "mickeymouse\n",
      "16\n",
      "17\n",
      "Mickey\n",
      "19\n",
      "Mouse\n",
      "Mickey\n",
      "22\n",
      "23\n",
      "Mickey\n",
      "Mouse\n",
      "26\n",
      "Mickey\n",
      "28\n",
      "29\n",
      "mickeymouse\n",
      "31\n",
      "32\n",
      "Mickey\n",
      "34\n",
      "Mouse\n",
      "Mickey\n",
      "37\n",
      "38\n",
      "Mickey\n",
      "Mouse\n",
      "41\n",
      "Mickey\n",
      "43\n",
      "44\n",
      "mickeymouse\n",
      "46\n",
      "47\n",
      "Mickey\n",
      "49\n",
      "Mouse\n",
      "Mickey\n",
      "52\n",
      "53\n",
      "Mickey\n",
      "Mouse\n",
      "56\n",
      "Mickey\n",
      "58\n",
      "59\n",
      "mickeymouse\n",
      "61\n",
      "62\n",
      "Mickey\n",
      "64\n",
      "Mouse\n",
      "Mickey\n",
      "67\n",
      "68\n",
      "Mickey\n",
      "Mouse\n",
      "71\n",
      "Mickey\n",
      "73\n",
      "74\n",
      "mickeymouse\n",
      "76\n",
      "77\n",
      "Mickey\n",
      "79\n",
      "Mouse\n",
      "Mickey\n",
      "82\n",
      "83\n",
      "Mickey\n",
      "Mouse\n",
      "86\n",
      "Mickey\n",
      "88\n",
      "89\n",
      "mickeymouse\n",
      "91\n",
      "92\n",
      "Mickey\n",
      "94\n",
      "Mouse\n",
      "Mickey\n",
      "97\n",
      "98\n",
      "Mickey\n",
      "Mouse\n",
      "(1, 2, 'Donald', 4, 'Duck', 'Donald', 7, 8, 'Donald', 'Duck', 11, 'Donald', 13, 14, 'mickeymouse', 16, 17, 'Donald', 19, 'Duck', 'Donald', 22, 23, 'Donald', 'Duck', 26, 'Donald', 28, 29, 'mickeymouse', 31, 32, 'Donald', 34, 'Duck', 'Donald', 37, 38, 'Donald', 'Duck', 41, 'Donald', 43, 44, 'mickeymouse', 46, 47, 'Donald', 49, 'Duck', 'Donald', 52, 53, 'Donald', 'Duck', 56, 'Donald', 58, 59, 'mickeymouse', 61, 62, 'Donald', 64, 'Duck', 'Donald', 67, 68, 'Donald', 'Duck', 71, 'Donald', 73, 74, 'mickeymouse', 76, 77, 'Donald', 79, 'Duck', 'Donald', 82, 83, 'Donald', 'Duck', 86, 'Donald', 88, 89, 'mickeymouse', 91, 92, 'Donald', 94, 'Duck', 'Donald', 97, 98, 'Donald', 'Duck')\n"
     ]
    }
   ],
   "source": [
    "#1The MickeyMouse problem\n",
    "\n",
    "#a) Write a program that prints the numbers from 1 to 100. But for multiples of three print Mickey instead of the number and for the multiples of five print Mouse. For numbers which are multiples of both three and five print MickeyMouse\n",
    "\n",
    "#b) Put the result in a tuple and substitute Mickey with Donald and Mouse with Duck\n",
    "a=()\n",
    "for i in range(1,101): \n",
    "        if i%3==0:\n",
    "            if i%5==0:\n",
    "                print(\"mickeymouse\")\n",
    "                m=(\"mickeymouse\",)\n",
    "                a=a+m\n",
    "            else:\n",
    "                print(\"Mickey\")\n",
    "                m=(\"Mickey\",)\n",
    "                a=a+m\n",
    "        elif i%5==0:\n",
    "            print(\"Mouse\")\n",
    "            m=(\"Mouse\",)\n",
    "            a=a+m\n",
    "        else:\n",
    "            print(i)\n",
    "            m=(i,)\n",
    "            a=a+m\n",
    "b=list(a)\n",
    "s=[]\n",
    "for i in b:\n",
    "    if str(i)==\"Mickey\":\n",
    "        i=\"Donald\"\n",
    "        s.append(i)\n",
    "    elif str(i)==\"Mouse\":\n",
    "        i=\"Duck\"\n",
    "        s.append(i)\n",
    "    else:\n",
    "        s.append(i)\n",
    "print(tuple(s))"
   ]
  },
  {
   "cell_type": "markdown",
   "metadata": {},
   "source": [
    "2\\. The swap function\n",
    "\n",
    "Write a function that swap the values of two input variables x and y (whatever the type). Try to do that also without a temporary variable"
   ]
  },
  {
   "cell_type": "code",
   "execution_count": 1,
   "metadata": {},
   "outputs": [
    {
     "name": "stdout",
     "output_type": "stream",
     "text": [
      "set the value of i:8\n",
      "set the value of j:9\n",
      "\n",
      "now i is= 9 and j is= 8\n"
     ]
    }
   ],
   "source": [
    "def swap1 (i,j):\n",
    "    m=i\n",
    "    i=j\n",
    "    j=m\n",
    "    return(i,j)\n",
    "i= input(\"set the value of i:\")\n",
    "j= input(\"set the value of j:\")\n",
    "print('\\nnow i is=',swap1(i,j)[0], \"and j is=\" ,swap1(i,j)[1])\n",
    "   "
   ]
  },
  {
   "cell_type": "code",
   "execution_count": 8,
   "metadata": {},
   "outputs": [
    {
     "name": "stdout",
     "output_type": "stream",
     "text": [
      "set the value of i:87yuh\n",
      "set the value of j:908\n",
      "\n",
      "now i is= 908 and j is= 908\n"
     ]
    }
   ],
   "source": [
    "def swap2 (i,j):\n",
    "    i=j\n",
    "    j=i\n",
    "    return(i,j)\n",
    "i= input(\"set the value of i:\")\n",
    "j= input(\"set the value of j:\")\n",
    "print('\\nnow i is=',swap2(i,j)[0], \"and j is=\" ,swap2(i,j)[1])"
   ]
  },
  {
   "cell_type": "markdown",
   "metadata": {},
   "source": [
    "3\\. Computing the distance\n",
    "\n",
    "Write a function that calculates and returns the euclidean distance between two points *u* and *v*, where *u* and *v* are both 2-tuples *(x,y)*. For example, if *u=(3,0)* and *v=(0,4)*, the function should return 5"
   ]
  },
  {
   "cell_type": "code",
   "execution_count": 15,
   "metadata": {},
   "outputs": [
    {
     "name": "stdout",
     "output_type": "stream",
     "text": [
      "set the x1:1\n",
      "set the x2:1\n",
      "set the y1:3\n",
      "set the y2:3\n",
      "the distance between x and y is: 2.8284271247461903\n"
     ]
    }
   ],
   "source": [
    "def dist(x,y):\n",
    "    z=(((x[0]-y[0])**2)+((x[1]-y[1])**2))**(1/2)\n",
    "    return z\n",
    "x1= int(input(\"set the x1:\"))\n",
    "x2= int(input(\"set the x2:\"))\n",
    "x=(x1,x2)\n",
    "y1= int(input(\"set the y1:\"))\n",
    "y2= int(input(\"set the y2:\"))\n",
    "y=(y1,y2)\n",
    "print(\"the distance between x and y is:\",dist(x,y))"
   ]
  },
  {
   "cell_type": "markdown",
   "metadata": {},
   "source": [
    "## 4\\. Counting letters\n",
    "\n",
    "Write a program to calculate the number of times each character occurs in a given string *s*. Ignore differneces in capitalization"
   ]
  },
  {
   "cell_type": "code",
   "execution_count": 21,
   "metadata": {},
   "outputs": [
    {
     "name": "stdout",
     "output_type": "stream",
     "text": [
      "[(' ', 41), ('g', 1), ('k', 2), ('b', 5), ('v', 2), ('a', 7), ('1', 2), ('w', 2), ('f', 10), ('u', 9), ('l', 6), ('p', 8), ('y', 2), ('d', 3), ('n', 10), ('c', 3), ('s', 9), ('o', 13), ('i', 14), ('.', 2), ('r', 17), ('t', 19), ('h', 9), ('e', 22), ('0', 2), ('m', 12)]\n"
     ]
    }
   ],
   "source": [
    "s=\"Write a program that prints the numbers from 1 to 100. \\\n",
    "But for multiples of three print Mickey instead of the number and for the multiples of five print Mouse. \\\n",
    "For numbers which are multiples of both three and five print MickeyMouse\"\n",
    "\n",
    "l=[]\n",
    "s=s.lower()\n",
    "for i in s:\n",
    "    m=s.count(i)\n",
    "    l.append((i,m))\n",
    "l = list(set(l)) \n",
    "print(l)"
   ]
  },
  {
   "cell_type": "markdown",
   "metadata": {},
   "source": [
    "5\\. Isolating the unique\n",
    "\n",
    "Write a function that determines and count the unique numbers in the list *l*"
   ]
  },
  {
   "cell_type": "code",
   "execution_count": 10,
   "metadata": {},
   "outputs": [
    {
     "name": "stdout",
     "output_type": "stream",
     "text": [
      "the unique numbers are: [47, 58, 5, 82, 16, 95, 64, 86, 18, 53, 55, 9, 99, 88, 75, 57, 33, 79, 90, 24, 81, 39, 72, 92, 37, 94, 74, 96, 19, 8, 98, 1, 41, 10, 30, 87, 54] \n",
      "\n",
      "there are 37 unique numbers in the list\n"
     ]
    }
   ],
   "source": [
    "l = [36, 45, 58, 3, 74, 96, 64, 45, 31, 10, 24, 19, 33, 86, 99, 18, 63, 70, 85,\n",
    " 85, 63, 47, 56, 42, 70, 84, 88, 55, 20, 54, 8, 56, 51, 79, 81, 57, 37, 91,\n",
    " 1, 84, 84, 36, 66, 9, 89, 50, 42, 91, 50, 95, 90, 98, 39, 16, 82, 31, 92, 41,\n",
    " 45, 30, 66, 70, 34, 85, 94, 5, 3, 36, 72, 91, 84, 34, 87, 75, 53, 51, 20, 89, 51, 20]\n",
    "def countlist(l):\n",
    "    ll=[]\n",
    "    unique_list=[]\n",
    "    for i in l:\n",
    "        m=l.count(i)\n",
    "        ll.append((i,m))\n",
    "    ll = list(set(ll)) \n",
    "    for i in ll:\n",
    "        if i[1]==1:\n",
    "            unique_list.append(i[0])\n",
    "    print(\"the unique numbers are:\",unique_list, \"\\n\\nthere are \"+str(len(unique_list))+\" unique numbers in the list\")\n",
    "countlist(l)"
   ]
  },
  {
   "cell_type": "markdown",
   "metadata": {},
   "source": [
    "6\\. Combination of functions\n",
    "\n",
    "Write two functions - one that returns the square of a number, and one that returns the cube. Now write a third function that returns the number raised to the 6th power using the two previous functions."
   ]
  },
  {
   "cell_type": "code",
   "execution_count": 7,
   "metadata": {},
   "outputs": [
    {
     "name": "stdout",
     "output_type": "stream",
     "text": [
      "set a number:2\n",
      "64\n"
     ]
    }
   ],
   "source": [
    "def p2(a):\n",
    "    b=a**2\n",
    "    return b\n",
    "def p3(a):\n",
    "    b=a**3\n",
    "    return b\n",
    "def p6(a):\n",
    "    c=p3(p2(a))\n",
    "    return c\n",
    "a= int(input(\"set a number:\"))\n",
    "print(p6(a))"
   ]
  },
  {
   "cell_type": "markdown",
   "metadata": {},
   "source": [
    "7\\. Cubes\n",
    "\n",
    "Create a list of the cubes of x for x in *[0, 10]* using:\n",
    "\n",
    "a) a for loop\n",
    "\n",
    "b) a list comprehension"
   ]
  },
  {
   "cell_type": "code",
   "execution_count": 11,
   "metadata": {},
   "outputs": [
    {
     "name": "stdout",
     "output_type": "stream",
     "text": [
      "[0, 1, 8, 27, 64, 125, 216, 343, 512, 729]\n",
      "[0, 1, 8, 27, 64, 125, 216, 343, 512, 729]\n"
     ]
    }
   ],
   "source": [
    "l=range(10)\n",
    "m1=[]\n",
    "for x in l:\n",
    "    m1.append(x**3)\n",
    "print(m1)\n",
    "m2=[x**3 for x in range(10)]\n",
    "print(m2)"
   ]
  },
  {
   "cell_type": "markdown",
   "metadata": {},
   "source": [
    "8\\. Nested list comprehension\n",
    "\n",
    "A Pythagorean triple is an integer solution to the Pythagorean theorem $a^2+b^2=c^2$. The first Pythagorean triple is (3,4,5). Find and put in a tuple all unique Pythagorean triples for the positive integers a, b and c less than 100."
   ]
  },
  {
   "cell_type": "code",
   "execution_count": 3,
   "metadata": {},
   "outputs": [
    {
     "name": "stdout",
     "output_type": "stream",
     "text": [
      "((4, 3, 5), (8, 6, 10), (12, 5, 13), (12, 9, 15), (15, 8, 17), (16, 12, 20), (20, 15, 25), (21, 20, 29), (24, 7, 25), (24, 10, 26), (24, 18, 30), (28, 21, 35), (30, 16, 34), (32, 24, 40), (35, 12, 37), (36, 15, 39), (36, 27, 45), (40, 9, 41), (40, 30, 50), (42, 40, 58), (44, 33, 55), (45, 24, 51), (45, 28, 53), (48, 14, 50), (48, 20, 52), (48, 36, 60), (52, 39, 65), (55, 48, 73), (56, 33, 65), (56, 42, 70), (60, 11, 61), (60, 25, 65), (60, 32, 68), (60, 45, 75), (63, 16, 65), (63, 60, 87), (64, 48, 80), (68, 51, 85), (70, 24, 74), (72, 21, 75), (72, 30, 78), (72, 54, 90), (72, 65, 97), (75, 40, 85), (76, 57, 95), (77, 36, 85), (80, 18, 82), (80, 39, 89), (84, 13, 85), (84, 35, 91))\n"
     ]
    }
   ],
   "source": [
    "l=[(i,j,k) for i in range(1,100) for j in range(1,100) for k in range(1,100) if i**2+j**2==k**2 if i-j>0]\n",
    "#print(l[5][2])\n",
    "\n",
    "print((tuple(l)))"
   ]
  },
  {
   "cell_type": "markdown",
   "metadata": {},
   "source": [
    "9\\. Normalization\n",
    "\n",
    "Write a function that takes a tuple of numbers and returns it with the entries normalized to one"
   ]
  },
  {
   "cell_type": "code",
   "execution_count": null,
   "metadata": {},
   "outputs": [],
   "source": [
    "def normal(t):\n",
    "    t=(input(\"set a tuple:\"))\n",
    "    t=t.replace('(','')\n",
    "    t=t.replace(')','')\n",
    "    t=t.split(',')\n",
    "\n",
    "    tt=[]\n",
    "    for i in range(len(t)):\n",
    "        tt.append(float(t[i]))\n",
    "\n",
    "    maxi=max(tt)\n",
    "    mini=min(tt)\n",
    "    return [(x-mini)/(maxi-mini) for x in tt]\n",
    "\n",
    "\n",
    "print(normal(t))"
   ]
  }
 ],
 "metadata": {
  "kernelspec": {
   "display_name": "Python 3",
   "language": "python",
   "name": "python3"
  },
  "language_info": {
   "codemirror_mode": {
    "name": "ipython",
    "version": 3
   },
   "file_extension": ".py",
   "mimetype": "text/x-python",
   "name": "python",
   "nbconvert_exporter": "python",
   "pygments_lexer": "ipython3",
   "version": "3.8.8"
  }
 },
 "nbformat": 4,
 "nbformat_minor": 2
}
