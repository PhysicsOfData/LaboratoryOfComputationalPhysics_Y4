{
 "cells": [
  {
   "cell_type": "markdown",
   "metadata": {},
   "source": [
    "### Numpy basics"
   ]
  },
  {
   "cell_type": "markdown",
   "metadata": {},
   "source": [
    "1\\. Find the row, column and overall means for the following matrix:\n",
    "\n",
    "```python\n",
    "m = np.arange(12).reshape((3,4))\n",
    "```"
   ]
  },
  {
   "cell_type": "code",
   "execution_count": 16,
   "metadata": {},
   "outputs": [
    {
     "name": "stdout",
     "output_type": "stream",
     "text": [
      "[[ 0  1  2  3]\n",
      " [ 4  5  6  7]\n",
      " [ 8  9 10 11]] \n",
      "\n",
      "row 0 : [0 1 2 3] 1.5\n",
      "row 1 : [4 5 6 7] 5.5\n",
      "row 2 : [ 8  9 10 11] 9.5\n",
      "\n",
      "\n",
      "column 0 : [0 4 8] mean: 4.0\n",
      "column 1 : [1 5 9] mean: 5.0\n",
      "column 2 : [ 2  6 10] mean: 6.0\n",
      "column 3 : [ 3  7 11] mean: 7.0\n",
      "\n",
      "\n",
      "Column means:  [4. 5. 6. 7.]\n",
      "Row means:  [1.5 5.5 9.5]\n",
      "Overall mean:  5.5\n"
     ]
    }
   ],
   "source": [
    "import numpy as np\n",
    "m = np.arange(12).reshape((3,4))\n",
    "\n",
    "print(m,'\\n')\n",
    "\n",
    "for i in range(len(m)):print(\"row\",i,\":\",m[i,:],np.mean(m, axis = 1)[i])\n",
    "print ('\\n')\n",
    "for i in range(len(m[0])):print(\"column\",i,\":\",m[:,i],\"mean:\",np.mean(m, axis = 0)[i])\n",
    "    \n",
    "print ('\\n')\n",
    "\n",
    "print(\"Column means: \", np.mean(m, axis = 0))\n",
    "print(\"Row means: \", np.mean(m, axis = 1))\n",
    "print(\"Overall mean: \", np.mean(m))"
   ]
  },
  {
   "cell_type": "markdown",
   "metadata": {},
   "source": [
    "2\\. Find the outer product of the following two vecotrs\n",
    "\n",
    "```python\n",
    "u = np.array([1,3,5,7])\n",
    "v = np.array([2,4,6,8])\n",
    "```\n",
    "\n",
    "Do this in the following ways:\n",
    "\n",
    "   * Using the function outer in numpy\n",
    "   * Using a nested for loop or list comprehension\n",
    "   * Using numpy broadcasting operatoins\n"
   ]
  },
  {
   "cell_type": "code",
   "execution_count": 27,
   "metadata": {},
   "outputs": [
    {
     "name": "stdout",
     "output_type": "stream",
     "text": [
      "outer function: \n",
      " [[ 2  4  6  8]\n",
      " [ 6 12 18 24]\n",
      " [10 20 30 40]\n",
      " [14 28 42 56]] \n",
      "\n",
      "list comprehension:\n",
      " [[ 2  4  6  8]\n",
      " [ 6 12 18 24]\n",
      " [10 20 30 40]\n",
      " [14 28 42 56]] \n",
      "\n",
      "broadcasting operatoin:\n",
      " [[ 2  4  6  8]\n",
      " [ 6 12 18 24]\n",
      " [10 20 30 40]\n",
      " [14 28 42 56]] \n",
      "\n"
     ]
    }
   ],
   "source": [
    "import numpy as np\n",
    "u = np.array([1,3,5,7])\n",
    "v = np.array([2,4,6,8])\n",
    "outer=np.outer(u,v)\n",
    "print(\"outer function:\",\"\\n\",outer,'\\n')\n",
    "listcomp = np.array([[u[i]*v[j] for j in range(len(v))] for i in range(len(u))])\n",
    "print(\"list comprehension:\\n\",listcomp,'\\n')\n",
    "\n",
    "br=u.reshape(4,1)*v \n",
    "print(\"broadcasting operatoin:\\n\",br,'\\n')\n"
   ]
  },
  {
   "cell_type": "markdown",
   "metadata": {},
   "source": [
    "3\\. Create a 10 by 6 matrix of random uniform numbers. Set all rows with any entry less than 0.1 to be zero\n",
    "\n",
    "Hint: Use the following numpy functions - np.random.random, np.any as well as Boolean indexing and the axis argument."
   ]
  },
  {
   "cell_type": "code",
   "execution_count": 47,
   "metadata": {},
   "outputs": [
    {
     "name": "stdout",
     "output_type": "stream",
     "text": [
      "array : \n",
      " [[0.50229426 0.34063534 0.32968226 0.08640954 0.57123082 0.32588293]\n",
      " [0.09384351 0.86596396 0.43066459 0.8983457  0.50837335 0.3478453 ]\n",
      " [0.96595851 0.47048101 0.78798376 0.48505879 0.48775535 0.26852   ]\n",
      " [0.41749102 0.05825462 0.20930759 0.82091546 0.8751765  0.27831103]\n",
      " [0.05634784 0.39928359 0.25570865 0.7504649  0.71725497 0.4258318 ]\n",
      " [0.12667519 0.05358468 0.3857673  0.9283558  0.37304705 0.63499052]\n",
      " [0.80565545 0.58297589 0.04154911 0.33550463 0.86754727 0.89257712]\n",
      " [0.43444824 0.85072984 0.61587717 0.6521818  0.63352458 0.99667115]\n",
      " [0.88301282 0.9333579  0.2904156  0.75417514 0.29622368 0.5076831 ]\n",
      " [0.02264236 0.54379797 0.87139553 0.26270097 0.28338708 0.11095507]]\n",
      "\n",
      "Boolean_indexing : \n",
      " [[False False False  True False False]\n",
      " [ True False False False False False]\n",
      " [False False False False False False]\n",
      " [False  True False False False False]\n",
      " [ True False False False False False]\n",
      " [False  True False False False False]\n",
      " [False False  True False False False]\n",
      " [False False False False False False]\n",
      " [False False False False False False]\n",
      " [ True False False False False False]]\n",
      "[[0.         0.         0.         0.         0.         0.        ]\n",
      " [0.         0.         0.         0.         0.         0.        ]\n",
      " [0.96595851 0.47048101 0.78798376 0.48505879 0.48775535 0.26852   ]\n",
      " [0.         0.         0.         0.         0.         0.        ]\n",
      " [0.         0.         0.         0.         0.         0.        ]\n",
      " [0.         0.         0.         0.         0.         0.        ]\n",
      " [0.         0.         0.         0.         0.         0.        ]\n",
      " [0.43444824 0.85072984 0.61587717 0.6521818  0.63352458 0.99667115]\n",
      " [0.88301282 0.9333579  0.2904156  0.75417514 0.29622368 0.5076831 ]\n",
      " [0.         0.         0.         0.         0.         0.        ]]\n"
     ]
    }
   ],
   "source": [
    "rd=np.random.rand(10,6)\n",
    "print(\"array :\",'\\n',rd)\n",
    "\n",
    "Boolean_indexing=(rd<0.1)\n",
    "mask=(np.any(rd<0.1,axis=1))\n",
    "rd[mask, ...] = 0\n",
    "print(\"\\nBoolean_indexing :\",'\\n',Boolean_indexing)\n",
    "\n",
    "print(rd)\n"
   ]
  },
  {
   "cell_type": "markdown",
   "metadata": {},
   "source": [
    "4\\. Use np.linspace to create an array of 100 numbers between 0 and 2π (includsive).\n",
    "\n",
    "  * Extract every 10th element using slice notation\n",
    "  * Reverse the array using slice notation\n",
    "  * Extract elements where the absolute difference between the sine and cosine functions evaluated at that element is less than 0.1\n",
    "  * Make a plot showing the sin and cos functions and indicate where they are close"
   ]
  },
  {
   "cell_type": "code",
   "execution_count": 65,
   "metadata": {},
   "outputs": [
    {
     "name": "stdout",
     "output_type": "stream",
     "text": [
      "array:\n",
      " [0.         0.06346652 0.12693304 0.19039955 0.25386607 0.31733259\n",
      " 0.38079911 0.44426563 0.50773215 0.57119866 0.63466518 0.6981317\n",
      " 0.76159822 0.82506474 0.88853126 0.95199777 1.01546429 1.07893081\n",
      " 1.14239733 1.20586385 1.26933037 1.33279688 1.3962634  1.45972992\n",
      " 1.52319644 1.58666296 1.65012947 1.71359599 1.77706251 1.84052903\n",
      " 1.90399555 1.96746207 2.03092858 2.0943951  2.15786162 2.22132814\n",
      " 2.28479466 2.34826118 2.41172769 2.47519421 2.53866073 2.60212725\n",
      " 2.66559377 2.72906028 2.7925268  2.85599332 2.91945984 2.98292636\n",
      " 3.04639288 3.10985939 3.17332591 3.23679243 3.30025895 3.36372547\n",
      " 3.42719199 3.4906585  3.55412502 3.61759154 3.68105806 3.74452458\n",
      " 3.8079911  3.87145761 3.93492413 3.99839065 4.06185717 4.12532369\n",
      " 4.1887902  4.25225672 4.31572324 4.37918976 4.44265628 4.5061228\n",
      " 4.56958931 4.63305583 4.69652235 4.75998887 4.82345539 4.88692191\n",
      " 4.95038842 5.01385494 5.07732146 5.14078798 5.2042545  5.26772102\n",
      " 5.33118753 5.39465405 5.45812057 5.52158709 5.58505361 5.64852012\n",
      " 5.71198664 5.77545316 5.83891968 5.9023862  5.96585272 6.02931923\n",
      " 6.09278575 6.15625227 6.21971879 6.28318531] \n",
      "\n",
      "[0.         0.63466518 1.26933037 1.90399555 2.53866073 3.17332591\n",
      " 3.8079911  4.44265628 5.07732146 5.71198664] \n",
      "\n",
      "resh:\n",
      " [[0.         0.06346652 0.12693304 0.19039955 0.25386607 0.31733259\n",
      "  0.38079911 0.44426563 0.50773215 0.57119866]\n",
      " [0.63466518 0.6981317  0.76159822 0.82506474 0.88853126 0.95199777\n",
      "  1.01546429 1.07893081 1.14239733 1.20586385]\n",
      " [1.26933037 1.33279688 1.3962634  1.45972992 1.52319644 1.58666296\n",
      "  1.65012947 1.71359599 1.77706251 1.84052903]\n",
      " [1.90399555 1.96746207 2.03092858 2.0943951  2.15786162 2.22132814\n",
      "  2.28479466 2.34826118 2.41172769 2.47519421]\n",
      " [2.53866073 2.60212725 2.66559377 2.72906028 2.7925268  2.85599332\n",
      "  2.91945984 2.98292636 3.04639288 3.10985939]\n",
      " [3.17332591 3.23679243 3.30025895 3.36372547 3.42719199 3.4906585\n",
      "  3.55412502 3.61759154 3.68105806 3.74452458]\n",
      " [3.8079911  3.87145761 3.93492413 3.99839065 4.06185717 4.12532369\n",
      "  4.1887902  4.25225672 4.31572324 4.37918976]\n",
      " [4.44265628 4.5061228  4.56958931 4.63305583 4.69652235 4.75998887\n",
      "  4.82345539 4.88692191 4.95038842 5.01385494]\n",
      " [5.07732146 5.14078798 5.2042545  5.26772102 5.33118753 5.39465405\n",
      "  5.45812057 5.52158709 5.58505361 5.64852012]\n",
      " [5.71198664 5.77545316 5.83891968 5.9023862  5.96585272 6.02931923\n",
      "  6.09278575 6.15625227 6.21971879 6.28318531]] \n",
      "\n",
      "[False False False False False False False False False False False False\n",
      "  True  True False False False False False False False False False False\n",
      " False False False False False False False False False False False False\n",
      " False False False False False False False False False False False False\n",
      " False False False False False False False False False False False False\n",
      " False  True  True False False False False False False False False False\n",
      " False False False False False False False False False False False False\n",
      " False False False False False False False False False False False False\n",
      " False False False False]\n",
      "absolute_valuses_of_sin_and_cos<0.1: \n",
      " [0.76159822 0.82506474 3.87145761 3.93492413] \n",
      "\n"
     ]
    },
    {
     "data": {
      "text/plain": [
       "<matplotlib.collections.PathCollection at 0x991c760>"
      ]
     },
     "execution_count": 65,
     "metadata": {},
     "output_type": "execute_result"
    },
    {
     "data": {
      "image/png": "[encoded data removed]",
      "text/plain": [
       "<Figure size 432x288 with 1 Axes>"
      ]
     },
     "metadata": {
      "needs_background": "light"
     },
     "output_type": "display_data"
    }
   ],
   "source": [
    "import numpy as np\n",
    "import matplotlib.pyplot as plt\n",
    "array=np.linspace(0,2*np.pi,num=100)\n",
    "print(\"array:\\n\",array,'\\n')\n",
    "th10=array[::10]\n",
    "print(th10,'\\n')\n",
    "\n",
    "resh=array.reshape(10,10)\n",
    "print('resh:\\n',resh,'\\n')\n",
    "#condition \n",
    "# absolute_value = abs[math.sin-math.cos]\n",
    "\n",
    "mask =  (abs(np.sin(array)-np.cos(array))<0.1)\n",
    "print(mask)\n",
    "absf = array[mask]\n",
    "\n",
    "print(\"abs sin cos <0.1:\",'\\n',absf,'\\n')\n",
    "sin=np.sin(array)\n",
    "cos=np.cos(array)\n",
    "plt.plot(array,sin,array,cos)\n",
    "plt.scatter(absf, np.sin(absf), color='g')\n",
    "plt.scatter(absf, np.cos(absf), color='r')"
   ]
  },
  {
   "cell_type": "markdown",
   "metadata": {},
   "source": [
    "5\\. Create a matrix that shows the 10 by 10 multiplication table.\n",
    "\n",
    " * Find the trace of the matrix\n",
    " * Extract the anto-diagonal (this should be ```array([10, 18, 24, 28, 30, 30, 28, 24, 18, 10])```)\n",
    " * Extract the diagnoal offset by 1 upwards (this should be ```array([ 2,  6, 12, 20, 30, 42, 56, 72, 90])```)"
   ]
  },
  {
   "cell_type": "code",
   "execution_count": 78,
   "metadata": {},
   "outputs": [
    {
     "name": "stdout",
     "output_type": "stream",
     "text": [
      "[[  1   2   3   4   5   6   7   8   9  10]\n",
      " [  2   4   6   8  10  12  14  16  18  20]\n",
      " [  3   6   9  12  15  18  21  24  27  30]\n",
      " [  4   8  12  16  20  24  28  32  36  40]\n",
      " [  5  10  15  20  25  30  35  40  45  50]\n",
      " [  6  12  18  24  30  36  42  48  54  60]\n",
      " [  7  14  21  28  35  42  49  56  63  70]\n",
      " [  8  16  24  32  40  48  56  64  72  80]\n",
      " [  9  18  27  36  45  54  63  72  81  90]\n",
      " [ 10  20  30  40  50  60  70  80  90 100]] \n",
      "\n",
      "trace of matrix: 385\n",
      "anto-diagonal: [10 18 24 28 30 30 28 24 18 10]\n",
      "\n",
      "Diagonal: [ 2  6 12 20 30 42 56 72 90]\n"
     ]
    }
   ],
   "source": [
    "a = np.arange(1, 11)\n",
    "tbl=a * a[0:10, None]\n",
    "print(tbl,'\\n')\n",
    "\n",
    "\n",
    "t=np.matrix.trace(tbl)\n",
    "print(\"trace of matrix:\" ,t)\n",
    "\n",
    "anti=np.diag(np.fliplr(tbl))\n",
    "print('antه-diagonal:',anti)\n",
    "\n",
    "o= np.diag(tbl,1)\n",
    "print(\"\\nDiagonal:\", o)"
   ]
  },
  {
   "cell_type": "markdown",
   "metadata": {},
   "source": [
    "6\\. Use broadcasting to create a grid of distances\n",
    "\n",
    "Route 66 crosses the following cities in the US: Chicago, Springfield, Saint-Louis, Tulsa, Oklahoma City, Amarillo, Santa Fe, Albuquerque, Flagstaff, Los Angeles\n",
    "The corresponding positions in miles are: 0, 198, 303, 736, 871, 1175, 1475, 1544, 1913, 2448\n",
    "\n",
    "  * Construct a 2D grid of distances among each city along Route 66\n",
    "  * Convert that in km (those savages...)"
   ]
  },
  {
   "cell_type": "code",
   "execution_count": 96,
   "metadata": {},
   "outputs": [
    {
     "name": "stdout",
     "output_type": "stream",
     "text": [
      "distances in mile:\n",
      " [[   0  198  303  736  871 1175 1475 1544 1913 2448]\n",
      " [ 198    0  105  538  673  977 1277 1346 1715 2250]\n",
      " [ 303  105    0  433  568  872 1172 1241 1610 2145]\n",
      " [ 736  538  433    0  135  439  739  808 1177 1712]\n",
      " [ 871  673  568  135    0  304  604  673 1042 1577]\n",
      " [1175  977  872  439  304    0  300  369  738 1273]\n",
      " [1475 1277 1172  739  604  300    0   69  438  973]\n",
      " [1544 1346 1241  808  673  369   69    0  369  904]\n",
      " [1913 1715 1610 1177 1042  738  438  369    0  535]\n",
      " [2448 2250 2145 1712 1577 1273  973  904  535    0]] \n",
      "\n",
      "distances in km :\n",
      " [[   0.       318.64932  487.63002 1184.47424 1401.73514 1890.9745\n",
      "  2373.7765  2484.82096 3078.66742 3939.66432]\n",
      " [ 318.64932    0.       168.9807   865.82492 1083.08582 1572.32518\n",
      "  2055.12718 2166.17164 2760.0181  3621.015  ]\n",
      " [ 487.63002  168.9807     0.       696.84422  914.10512 1403.34448\n",
      "  1886.14648 1997.19094 2591.0374  3452.0343 ]\n",
      " [1184.47424  865.82492  696.84422    0.       217.2609   706.50026\n",
      "  1189.30226 1300.34672 1894.19318 2755.19008]\n",
      " [1401.73514 1083.08582  914.10512  217.2609     0.       489.23936\n",
      "   972.04136 1083.08582 1676.93228 2537.92918]\n",
      " [1890.9745  1572.32518 1403.34448  706.50026  489.23936    0.\n",
      "   482.802    593.84646 1187.69292 2048.68982]\n",
      " [2373.7765  2055.12718 1886.14648 1189.30226  972.04136  482.802\n",
      "     0.       111.04446  704.89092 1565.88782]\n",
      " [2484.82096 2166.17164 1997.19094 1300.34672 1083.08582  593.84646\n",
      "   111.04446    0.       593.84646 1454.84336]\n",
      " [3078.66742 2760.0181  2591.0374  1894.19318 1676.93228 1187.69292\n",
      "   704.89092  593.84646    0.       860.9969 ]\n",
      " [3939.66432 3621.015   3452.0343  2755.19008 2537.92918 2048.68982\n",
      "  1565.88782 1454.84336  860.9969     0.     ]]\n"
     ]
    }
   ],
   "source": [
    "cities=np.array([\"Chicago\", \"Springfield\", \"Saint-Louis\", \"Tulsa\", \"Oklahoma City\", \"Amarillo\", \"Santa Fe\", \"Albuquerque\", \"Flagstaff\", \"Los Angeles\"])\n",
    "dm=np.array([0, 198, 303, 736, 871, 1175, 1475, 1544, 1913, 2448])\n",
    "\n",
    "lendm=len(dm)\n",
    "\n",
    "d=np.array([[abs((dm[i]-dm[j])) for i in range(lendm)] for j in range(lendm)])\n",
    "\n",
    "print('distances in mile:\\n',d,'\\n')\n",
    "km =d *1.60934\n",
    "print('distances in km :\\n',km)\n",
    "#print(np.shape(d))"
   ]
  },
  {
   "cell_type": "markdown",
   "metadata": {},
   "source": [
    "7\\. Prime numbers sieve: compute the prime numbers in the 0-N (N=99 to start with) range with a sieve (mask).\n",
    "  * Constract a shape (100,) boolean array, the mask\n",
    "  * Identify the multiples of each number starting from 2 and set accordingly the corresponding mask element\n",
    "  * Apply the mask to obtain an array of ordered prime numbers\n",
    "  * Check the performances (timeit); how does it scale with N?\n",
    "  * Implement the optimization suggested in the [sieve of Eratosthenes](https://en.wikipedia.org/wiki/Sieve_of_Eratosthenes)"
   ]
  },
  {
   "cell_type": "code",
   "execution_count": 104,
   "metadata": {},
   "outputs": [
    {
     "name": "stdout",
     "output_type": "stream",
     "text": [
      "Prime numbers 1 to 100: \n",
      " [ 2  3  5  7 11 13 17 19 23 29 31 37 41 43 47 53 59 61 67 71 73 79 83 89\n",
      " 97]\n",
      "\n",
      " Time for the first 2 numbers:\n",
      "7.55 µs ± 76.4 ns per loop (mean ± std. dev. of 7 runs, 100000 loops each)\n",
      "\n",
      " Time for the first 4 numbers:\n",
      "12.8 µs ± 156 ns per loop (mean ± std. dev. of 7 runs, 100000 loops each)\n",
      "\n",
      " Time for the first 8 numbers:\n",
      "13.6 µs ± 85.8 ns per loop (mean ± std. dev. of 7 runs, 100000 loops each)\n",
      "\n",
      " Time for the first 16 numbers:\n",
      "21.4 µs ± 64.4 ns per loop (mean ± std. dev. of 7 runs, 10000 loops each)\n",
      "\n",
      " Time for the first 32 numbers:\n",
      "27.7 µs ± 117 ns per loop (mean ± std. dev. of 7 runs, 10000 loops each)\n",
      "\n",
      " Time for the first 64 numbers:\n",
      "43.8 µs ± 719 ns per loop (mean ± std. dev. of 7 runs, 10000 loops each)\n",
      "\n",
      " Time for the first 128 numbers:\n",
      "66.7 µs ± 1.02 µs per loop (mean ± std. dev. of 7 runs, 10000 loops each)\n",
      "\n",
      " Time for the first 256 numbers:\n",
      "111 µs ± 3 µs per loop (mean ± std. dev. of 7 runs, 10000 loops each)\n",
      "\n",
      " Time for the first 512 numbers:\n",
      "217 µs ± 5.2 µs per loop (mean ± std. dev. of 7 runs, 1000 loops each)\n",
      "\n",
      " Time for the first 1024 numbers:\n",
      "395 µs ± 12.6 µs per loop (mean ± std. dev. of 7 runs, 1000 loops each)\n"
     ]
    }
   ],
   "source": [
    "import numpy as np\n",
    "\n",
    "def Prime(n):\n",
    "    alln = np.arange(n+1)\n",
    "    mask = np.array([True for i in range(n+1)])\n",
    "    k=2\n",
    "    while (k**2<=n):  \n",
    "        if (mask[k]==True): \n",
    "            for i in range(k*2,n+1,k): \n",
    "                mask[i] = False\n",
    "        k+=1\n",
    "    mask[0]= False\n",
    "    mask[1]= False\n",
    "    prime = alln[mask]\n",
    "    \n",
    "    return(prime)\n",
    "\n",
    "print(\"Prime numbers 1 to 100:\", '\\n', Prime(100))\n",
    "\n",
    "a=[2**i for i in range(1,11)]\n",
    "\n",
    "for i in a:\n",
    "    print('\\n', \"Time for the first %i numbers:\"%i)\n",
    "    %timeit Prime(i)"
   ]
  },
  {
   "cell_type": "code",
   "execution_count": null,
   "metadata": {},
   "outputs": [],
   "source": []
  },
  {
   "cell_type": "markdown",
   "metadata": {},
   "source": [
    "**N.B. the following exercises are meant to be solved only if you are familiar with the numpy random library. If not you can skip them (postponed for one of the next exercise sessions)**\n"
   ]
  },
  {
   "cell_type": "markdown",
   "metadata": {},
   "source": [
    "8\\. Diffusion using random walk\n",
    "\n",
    "Consider a simple random walk process: at each step in time, a walker jumps right or left (+1 or -1) with equal probability. The goal is to find the typical distance from the origin of a random walker after a given amount of time. \n",
    "To do that, let's simulate many walkers and create a 2D array with each walker as a raw and the actual time evolution as columns\n",
    "\n",
    "  * Take 1000 walkers and let them walk for 200 steps\n",
    "  * Use randint to create a 2D array of size walkers x steps with values -1 or 1\n",
    "  * Build the actual walking distances for each walker (i.e. another 2D array \"summing on each raw\")\n",
    "  * Take the square of that 2D array (elementwise)\n",
    "  * Compute the mean of the squared distances at each step (i.e. the mean along the columns)\n",
    "  * Plot the average distances (sqrt(distance\\*\\*2)) as a function of time (step)\n",
    "  \n",
    "Did you get what you expected?"
   ]
  },
  {
   "cell_type": "code",
   "execution_count": null,
   "metadata": {},
   "outputs": [],
   "source": []
  },
  {
   "cell_type": "markdown",
   "metadata": {},
   "source": [
    "9\\. Analyze a data file \n",
    "  * Download the population of hares, lynxes and carrots at the beginning of the last century.\n",
    "    ```python\n",
    "    ! wget https://www.dropbox.com/s/3vigxoqayo389uc/populations.txt\n",
    "    ```\n",
    "\n",
    "  * Check the content by looking within the file\n",
    "  * Load the data (use an appropriate numpy method) into a 2D array\n",
    "  * Create arrays out of the columns, the arrays being (in order): *year*, *hares*, *lynxes*, *carrots* \n",
    "  * Plot the 3 populations over the years\n",
    "  * Compute the main statistical properties of the dataset (mean, std, correlations, etc.)\n",
    "  * Which species has the highest population each year?\n",
    "\n",
    "Do you feel there is some evident correlation here? [Studies](https://www.enr.gov.nt.ca/en/services/lynx/lynx-snowshoe-hare-cycle) tend to believe so."
   ]
  },
  {
   "cell_type": "code",
   "execution_count": null,
   "metadata": {},
   "outputs": [],
   "source": []
  }
 ],
 "metadata": {
  "kernelspec": {
   "display_name": "Python 3",
   "language": "python",
   "name": "python3"
  },
  "language_info": {
   "codemirror_mode": {
    "name": "ipython",
    "version": 3
   },
   "file_extension": ".py",
   "mimetype": "text/x-python",
   "name": "python",
   "nbconvert_exporter": "python",
   "pygments_lexer": "ipython3",
   "version": "3.8.5"
  }
 },
 "nbformat": 4,
 "nbformat_minor": 2
}
