{
 "cells": [
  {
   "cell_type": "markdown",
   "metadata": {},
   "source": [
    "### Numpy basics"
   ]
  },
  {
   "cell_type": "markdown",
   "metadata": {},
   "source": [
    "1\\. Find the row, column and overall means for the following matrix:\n",
    "\n",
    "```python\n",
    "m = np.arange(12).reshape((3,4))\n",
    "```"
   ]
  },
  {
   "cell_type": "code",
   "execution_count": 3,
   "metadata": {},
   "outputs": [
    {
     "name": "stdout",
     "output_type": "stream",
     "text": [
      "mean of the row number 1 ---> 1.5\n",
      "mean of the row number 2 ---> 5.5\n",
      "mean of the row number 3 ---> 9.5\n",
      "\n",
      "\n",
      "mean of the column number 3 ---> 4.0\n",
      "mean of the column number 3 ---> 5.0\n",
      "mean of the column number 3 ---> 6.0\n",
      "mean of the column number 3 ---> 7.0\n",
      "\n",
      "\n",
      "the overall mean is: 5.5\n"
     ]
    }
   ],
   "source": [
    "import numpy as np\n",
    "m = np.arange(12).reshape((3,4))\n",
    "for i in range(3):\n",
    "    b=sum(m[i,0:])\n",
    "    print(\"mean of the row number\",i+1,'--->',b/4)\n",
    "print(\"\\n\")    \n",
    "for j in range(4):\n",
    "    b=sum(m[0:,j])\n",
    "    print(\"mean of the column number\",i+1,'--->',b/3) \n",
    "print(\"\\n\")   \n",
    "c=0\n",
    "for i in range(3):\n",
    "    b=sum(m[i,0:])\n",
    "    c=c+b\n",
    "c=c/12\n",
    "print(\"the overall mean is:\",c)\n",
    "       \n",
    "    "
   ]
  },
  {
   "cell_type": "markdown",
   "metadata": {},
   "source": [
    "2\\. Find the outer product of the following two vecotrs\n",
    "\n",
    "```python\n",
    "u = np.array([1,3,5,7])\n",
    "v = np.array([2,4,6,8])\n",
    "```\n",
    "\n",
    "Do this in the following ways:\n",
    "\n",
    "   * Using the function outer in numpy\n",
    "   * Using a nested for loop or list comprehension\n",
    "   * Using numpy broadcasting operatoins\n"
   ]
  },
  {
   "cell_type": "code",
   "execution_count": 4,
   "metadata": {},
   "outputs": [
    {
     "name": "stdout",
     "output_type": "stream",
     "text": [
      "[[ 2  4  6  8]\n",
      " [ 6 12 18 24]\n",
      " [10 20 30 40]\n",
      " [14 28 42 56]]\n",
      "\n",
      "\n",
      "[[ 2  4  6  8]\n",
      " [ 6 12 18 24]\n",
      " [10 20 30 40]\n",
      " [14 28 42 56]]\n",
      "\n",
      "\n",
      "[[ 2.  6. 10. 14.]\n",
      " [ 4. 12. 20. 28.]\n",
      " [ 6. 18. 30. 42.]\n",
      " [ 8. 24. 40. 56.]]\n"
     ]
    }
   ],
   "source": [
    "u = np.array([1,3,5,7])\n",
    "v = np.array([2,4,6,8])\n",
    "print(np.outer(u, v))\n",
    "print('\\n')\n",
    "b=[]\n",
    "for i in u:\n",
    "    for j in v:\n",
    "        b.append(i*j)\n",
    "print(np.reshape(b,(4,4)))\n",
    "print('\\n')\n",
    "\n",
    "v1=v.reshape(4,1)\n",
    "a=np.broadcast(u,v1)\n",
    "outer = np.empty(a.shape)\n",
    "outer.flat = [x*y for (x,y) in a]\n",
    "print(outer)\n"
   ]
  },
  {
   "cell_type": "markdown",
   "metadata": {},
   "source": [
    "3\\. Create a 10 by 6 matrix of random uniform numbers. Set all rows with any entry less than 0.1 to be zero\n",
    "\n",
    "Hint: Use the following numpy functions - np.random.random, np.any as well as Boolean indexing and the axis argument."
   ]
  },
  {
   "cell_type": "code",
   "execution_count": 5,
   "metadata": {},
   "outputs": [
    {
     "name": "stdout",
     "output_type": "stream",
     "text": [
      "[[0.43331892 0.95927744 0.86542397 0.85257991 0.69230761 0.46674632]\n",
      " [0.         0.         0.         0.         0.         0.        ]\n",
      " [0.37802866 0.43244166 0.45269234 0.97616615 0.80873096 0.39917248]\n",
      " [0.60324126 0.66352742 0.68576754 0.88743223 0.19680108 0.64007316]\n",
      " [0.         0.         0.         0.         0.         0.        ]\n",
      " [0.         0.         0.         0.         0.         0.        ]\n",
      " [0.         0.         0.         0.         0.         0.        ]\n",
      " [0.         0.         0.         0.         0.         0.        ]\n",
      " [0.88055623 0.86091108 0.95661609 0.49727769 0.3843423  0.75202595]\n",
      " [0.         0.         0.         0.         0.         0.        ]]\n"
     ]
    }
   ],
   "source": [
    "m=[]\n",
    "for i in range (60):\n",
    "    b=np.random.random()\n",
    "    m.append(b)\n",
    "m=np.array(m)\n",
    "m=m.reshape(10,6)\n",
    "for i in range(10):\n",
    "    if np.any(m[i,:]<0.1):\n",
    "        m[i,:]=0\n",
    "print(m)"
   ]
  },
  {
   "cell_type": "markdown",
   "metadata": {},
   "source": [
    "4\\. Use np.linspace to create an array of 100 numbers between 0 and 2π (includsive).\n",
    "\n",
    "  * Extract every 10th element using slice notation\n",
    "  * Reverse the array using slice notation\n",
    "  * Extract elements where the absolute difference between the sine and cosine functions evaluated at that element is less than 0.1\n",
    "  * Make a plot showing the sin and cos functions and indicate where they are close"
   ]
  },
  {
   "cell_type": "code",
   "execution_count": 28,
   "metadata": {},
   "outputs": [
    {
     "name": "stdout",
     "output_type": "stream",
     "text": [
      "[0.         0.06346652 0.12693304 0.19039955 0.25386607 0.31733259\n",
      " 0.38079911 0.44426563 0.50773215 0.57119866]\n",
      "[0.63466518 0.6981317  0.76159822 0.82506474 0.88853126 0.95199777\n",
      " 1.01546429 1.07893081 1.14239733 1.20586385]\n",
      "[1.26933037 1.33279688 1.3962634  1.45972992 1.52319644 1.58666296\n",
      " 1.65012947 1.71359599 1.77706251 1.84052903]\n",
      "[1.90399555 1.96746207 2.03092858 2.0943951  2.15786162 2.22132814\n",
      " 2.28479466 2.34826118 2.41172769 2.47519421]\n",
      "[2.53866073 2.60212725 2.66559377 2.72906028 2.7925268  2.85599332\n",
      " 2.91945984 2.98292636 3.04639288 3.10985939]\n",
      "[3.17332591 3.23679243 3.30025895 3.36372547 3.42719199 3.4906585\n",
      " 3.55412502 3.61759154 3.68105806 3.74452458]\n",
      "[3.8079911  3.87145761 3.93492413 3.99839065 4.06185717 4.12532369\n",
      " 4.1887902  4.25225672 4.31572324 4.37918976]\n",
      "[4.44265628 4.5061228  4.56958931 4.63305583 4.69652235 4.75998887\n",
      " 4.82345539 4.88692191 4.95038842 5.01385494]\n",
      "[5.07732146 5.14078798 5.2042545  5.26772102 5.33118753 5.39465405\n",
      " 5.45812057 5.52158709 5.58505361 5.64852012]\n",
      "[5.71198664 5.77545316 5.83891968 5.9023862  5.96585272 6.02931923\n",
      " 6.09278575 6.15625227 6.21971879 6.28318531]\n",
      "\n",
      "\n",
      "[6.28318531 6.21971879 6.15625227 6.09278575 6.02931923 5.96585272\n",
      " 5.9023862  5.83891968 5.77545316 5.71198664 5.64852012 5.58505361\n",
      " 5.52158709 5.45812057 5.39465405 5.33118753 5.26772102 5.2042545\n",
      " 5.14078798 5.07732146 5.01385494 4.95038842 4.88692191 4.82345539\n",
      " 4.75998887 4.69652235 4.63305583 4.56958931 4.5061228  4.44265628\n",
      " 4.37918976 4.31572324 4.25225672 4.1887902  4.12532369 4.06185717\n",
      " 3.99839065 3.93492413 3.87145761 3.8079911  3.74452458 3.68105806\n",
      " 3.61759154 3.55412502 3.4906585  3.42719199 3.36372547 3.30025895\n",
      " 3.23679243 3.17332591 3.10985939 3.04639288 2.98292636 2.91945984\n",
      " 2.85599332 2.7925268  2.72906028 2.66559377 2.60212725 2.53866073\n",
      " 2.47519421 2.41172769 2.34826118 2.28479466 2.22132814 2.15786162\n",
      " 2.0943951  2.03092858 1.96746207 1.90399555 1.84052903 1.77706251\n",
      " 1.71359599 1.65012947 1.58666296 1.52319644 1.45972992 1.3962634\n",
      " 1.33279688 1.26933037 1.20586385 1.14239733 1.07893081 1.01546429\n",
      " 0.95199777 0.88853126 0.82506474 0.76159822 0.6981317  0.63466518\n",
      " 0.57119866 0.50773215 0.44426563 0.38079911 0.31733259 0.25386607\n",
      " 0.19039955 0.12693304 0.06346652 0.        ]\n",
      "\n",
      "\n",
      "0.7615982190520711\n",
      "0.8250647373064104\n",
      "3.8714576135146945\n",
      "3.934924131769034\n",
      "4\n"
     ]
    },
    {
     "data": {
      "image/png": "[encoded data removed]",
      "text/plain": [
       "<Figure size 432x288 with 1 Axes>"
      ]
     },
     "metadata": {
      "needs_background": "light"
     },
     "output_type": "display_data"
    }
   ],
   "source": [
    "import matplotlib.pyplot as plt\n",
    "%matplotlib inline\n",
    "from math import pi,sin,cos\n",
    "m=np.linspace(0,2*pi,100)\n",
    "\n",
    "\n",
    "\n",
    "for i in range(0,100,10):\n",
    "    print(m[i:i+10])\n",
    "print('\\n')\n",
    "m_r=m[::-1]\n",
    "print(m_r)\n",
    "print('\\n')\n",
    "\n",
    "for i in m:\n",
    "    if (abs(sin(i)-cos(i)))<0.1:\n",
    "        print(i)\n",
    "\n",
    "\n",
    "s=[]\n",
    "for i in m:\n",
    "    if (abs(sin(i)-cos(i)))<0.1:\n",
    "        s.append(i)\n",
    "print(len(s))\n",
    "l=[sin(s[0]),sin(s[1]),sin(s[2]),sin(s[3])]\n",
    "y=np.sin(m)\n",
    "z=np.cos(m)\n",
    "plt.plot(m,y)\n",
    "plt.plot(m,z)\n",
    "plt.scatter(s,l,color='red')\n",
    "plt.show()\n"
   ]
  },
  {
   "cell_type": "markdown",
   "metadata": {},
   "source": [
    "5\\. Create a matrix that shows the 10 by 10 multiplication table.\n",
    "\n",
    " * Find the trace of the matrix\n",
    " * Extract the anto-diagonal (this should be ```array([10, 18, 24, 28, 30, 30, 28, 24, 18, 10])```)\n",
    " * Extract the diagnoal offset by 1 upwards (this should be ```array([ 2,  6, 12, 20, 30, 42, 56, 72, 90])```)"
   ]
  },
  {
   "cell_type": "code",
   "execution_count": 9,
   "metadata": {},
   "outputs": [
    {
     "name": "stdout",
     "output_type": "stream",
     "text": [
      "[[  1   2   3   4   5   6   7   8   9  10]\n",
      " [  2   4   6   8  10  12  14  16  18  20]\n",
      " [  3   6   9  12  15  18  21  24  27  30]\n",
      " [  4   8  12  16  20  24  28  32  36  40]\n",
      " [  5  10  15  20  25  30  35  40  45  50]\n",
      " [  6  12  18  24  30  36  42  48  54  60]\n",
      " [  7  14  21  28  35  42  49  56  63  70]\n",
      " [  8  16  24  32  40  48  56  64  72  80]\n",
      " [  9  18  27  36  45  54  63  72  81  90]\n",
      " [ 10  20  30  40  50  60  70  80  90 100]]\n",
      "\n",
      "\n",
      "the trace is: 385\n",
      "\n",
      "\n",
      "[10 18 24 28 30 30 28 24 18 10]\n",
      "[ 2  6 12 20 30 42 56 72 90]\n"
     ]
    }
   ],
   "source": [
    "m=[]\n",
    "for i in range(1,11):\n",
    "    for j in range(1,11):\n",
    "        m.append(i*j)\n",
    "m=np.array(m)\n",
    "m=m.reshape(10,10)\n",
    "print(m)\n",
    "print('\\n')\n",
    "trace=m.trace()\n",
    "print(\"the trace is:\",trace)\n",
    "print('\\n')\n",
    "flipped_m = np.fliplr(m)\n",
    "print(flipped_m.diagonal())\n",
    "diagnoal_offset_by_1_upwards=np.diag(m,1)\n",
    "print(diagnoal_offset_by_1_upwards)"
   ]
  },
  {
   "cell_type": "markdown",
   "metadata": {},
   "source": [
    "6\\. Use broadcasting to create a grid of distances\n",
    "\n",
    "Route 66 crosses the following cities in the US: Chicago, Springfield, Saint-Louis, Tulsa, Oklahoma City, Amarillo, Santa Fe, Albuquerque, Flagstaff, Los Angeles\n",
    "The corresponding positions in miles are: 0, 198, 303, 736, 871, 1175, 1475, 1544, 1913, 2448\n",
    "\n",
    "  * Construct a 2D grid of distances among each city along Route 66\n",
    "  * Convert that in km (those savages...)"
   ]
  },
  {
   "cell_type": "code",
   "execution_count": 7,
   "metadata": {},
   "outputs": [
    {
     "name": "stdout",
     "output_type": "stream",
     "text": [
      "[[   0.  198.  303.  736.  871. 1175. 1475. 1544. 1913. 2448.]\n",
      " [ 198.    0.  105.  538.  673.  977. 1277. 1346. 1715. 2250.]\n",
      " [ 303.  105.    0.  433.  568.  872. 1172. 1241. 1610. 2145.]\n",
      " [ 736.  538.  433.    0.  135.  439.  739.  808. 1177. 1712.]\n",
      " [ 871.  673.  568.  135.    0.  304.  604.  673. 1042. 1577.]\n",
      " [1175.  977.  872.  439.  304.    0.  300.  369.  738. 1273.]\n",
      " [1475. 1277. 1172.  739.  604.  300.    0.   69.  438.  973.]\n",
      " [1544. 1346. 1241.  808.  673.  369.   69.    0.  369.  904.]\n",
      " [1913. 1715. 1610. 1177. 1042.  738.  438.  369.    0.  535.]\n",
      " [2448. 2250. 2145. 1712. 1577. 1273.  973.  904.  535.    0.]]\n",
      "\n",
      "\n",
      "[[   0.       318.64932  487.63002 1184.47424 1401.73514 1890.9745\n",
      "  2373.7765  2484.82096 3078.66742 3939.66432]\n",
      " [ 318.64932    0.       168.9807   865.82492 1083.08582 1572.32518\n",
      "  2055.12718 2166.17164 2760.0181  3621.015  ]\n",
      " [ 487.63002  168.9807     0.       696.84422  914.10512 1403.34448\n",
      "  1886.14648 1997.19094 2591.0374  3452.0343 ]\n",
      " [1184.47424  865.82492  696.84422    0.       217.2609   706.50026\n",
      "  1189.30226 1300.34672 1894.19318 2755.19008]\n",
      " [1401.73514 1083.08582  914.10512  217.2609     0.       489.23936\n",
      "   972.04136 1083.08582 1676.93228 2537.92918]\n",
      " [1890.9745  1572.32518 1403.34448  706.50026  489.23936    0.\n",
      "   482.802    593.84646 1187.69292 2048.68982]\n",
      " [2373.7765  2055.12718 1886.14648 1189.30226  972.04136  482.802\n",
      "     0.       111.04446  704.89092 1565.88782]\n",
      " [2484.82096 2166.17164 1997.19094 1300.34672 1083.08582  593.84646\n",
      "   111.04446    0.       593.84646 1454.84336]\n",
      " [3078.66742 2760.0181  2591.0374  1894.19318 1676.93228 1187.69292\n",
      "   704.89092  593.84646    0.       860.9969 ]\n",
      " [3939.66432 3621.015   3452.0343  2755.19008 2537.92918 2048.68982\n",
      "  1565.88782 1454.84336  860.9969     0.     ]]\n"
     ]
    }
   ],
   "source": [
    "name=['Chicago', 'Springfield', 'Saint-Louis', 'Tulsa', 'Oklahoma City', 'Amarillo', 'Santa Fe', 'Albuquerque', 'Flagstaff', 'Los Angeles']\n",
    "u=[0, 198, 303, 736, 871, 1175, 1475, 1544, 1913, 2448]\n",
    "u=np.array(u)\n",
    "a=np.broadcast(u,u.reshape(10,1))\n",
    "distance = np.empty(a.shape)\n",
    "distance.flat=[abs(x-y) for x,y in a]\n",
    "print(distance)\n",
    "print('\\n')\n",
    "\n",
    "distance_km=distance*1.60934\n",
    "print( distance_km )\n"
   ]
  },
  {
   "cell_type": "markdown",
   "metadata": {},
   "source": [
    "7\\. Prime numbers sieve: compute the prime numbers in the 0-N (N=99 to start with) range with a sieve (mask).\n",
    "  * Constract a shape (100,) boolean array, the mask\n",
    "  * Identify the multiples of each number starting from 2 and set accordingly the corresponding mask element\n",
    "  * Apply the mask to obtain an array of ordered prime numbers\n",
    "  * Check the performances (timeit); how does it scale with N?\n",
    "  * Implement the optimization suggested in the [sieve of Eratosthenes](https://en.wikipedia.org/wiki/Sieve_of_Eratosthenes)"
   ]
  },
  {
   "cell_type": "code",
   "execution_count": 13,
   "metadata": {},
   "outputs": [
    {
     "name": "stdout",
     "output_type": "stream",
     "text": [
      "[ 2  3  5  7 11 13 17 19 23 29 31 37 41 43 47 53 59 61 67 71 73 79 83 89\n",
      " 97]\n",
      "34.2 µs ± 479 ns per loop (mean ± std. dev. of 7 runs, 10000 loops each)\n",
      "[2, 3, 5, 7, 11, 13, 17, 19, 23, 29, 31, 37, 41, 43, 47, 53, 59, 61, 67, 71, 73, 79, 83, 89, 97]\n"
     ]
    }
   ],
   "source": [
    "N=99\n",
    "a=np.arange(0, N+1)\n",
    "mask=(a>1)\n",
    "#print([mask])\n",
    "l=[]\n",
    "for i in range(2,N+1):\n",
    "    for j in range (2,N+1):\n",
    "        if i*j<100:\n",
    "            l.append(i*j)\n",
    "l = list(set(l)) \n",
    "        \n",
    "for i in range (0,N+1):\n",
    "    if a[i] in l:\n",
    "        mask[i]= False\n",
    "print(a[mask])\n",
    "%timeit for _ in range(2000): True \n",
    "    \n",
    "mask2=(a>1)\n",
    "ii = 2\n",
    "while (ii * ii <= N+1):\n",
    "        if (mask2[ii] == True):\n",
    "            for j in range(ii ** 2, N + 1, ii):\n",
    "                mask2[j] = False\n",
    "        ii += 1\n",
    "ll=[]\n",
    "for i in range(N + 1):\n",
    "        if mask2[i]:\n",
    "            ll.append(i)\n",
    "print(ll)\n"
   ]
  },
  {
   "cell_type": "markdown",
   "metadata": {},
   "source": [
    "**N.B. the following exercises are meant to be solved only if you are familiar with the numpy random library. If not you can skip them (postponed for one of the next exercise sessions)**\n"
   ]
  },
  {
   "cell_type": "markdown",
   "metadata": {},
   "source": [
    "8\\. Diffusion using random walk\n",
    "\n",
    "Consider a simple random walk process: at each step in time, a walker jumps right or left (+1 or -1) with equal probability. The goal is to find the typical distance from the origin of a random walker after a given amount of time. \n",
    "To do that, let's simulate many walkers and create a 2D array with each walker as a raw and the actual time evolution as columns\n",
    "\n",
    "  * Take 1000 walkers and let them walk for 200 steps\n",
    "  * Use randint to create a 2D array of size walkers x steps with values -1 or 1\n",
    "  * Build the actual walking distances for each walker (i.e. another 2D array \"summing on each raw\")\n",
    "  * Take the square of that 2D array (elementwise)\n",
    "  * Compute the mean of the squared distances at each step (i.e. the mean along the columns)\n",
    "  * Plot the average distances (sqrt(distance\\*\\*2)) as a function of time (step)\n",
    "  \n",
    "Did you get what you expected?"
   ]
  },
  {
   "cell_type": "code",
   "execution_count": 20,
   "metadata": {},
   "outputs": [
    {
     "name": "stdout",
     "output_type": "stream",
     "text": [
      "\n",
      "walk for 200 steps:\n",
      " [[1 1 -1 ... 1 1 1]\n",
      " [-1 1 -1 ... -1 -1 1]\n",
      " [1 -1 -1 ... 1 1 -1]\n",
      " ...\n",
      " [1 1 -1 ... -1 1 1]\n",
      " [-1 1 -1 ... -1 1 -1]\n",
      " [1 -1 -1 ... -1 1 1]]\n",
      "\n",
      "actual walking distances in each steps:\n",
      " [[1 2 1 ... 24 25 26]\n",
      " [-1 0 -1 ... -14 -15 -14]\n",
      " [1 0 -1 ... -10 -9 -10]\n",
      " ...\n",
      " [1 2 1 ... 2 3 4]\n",
      " [-1 0 -1 ... -6 -5 -6]\n",
      " [1 0 -1 ... 8 9 10]]\n",
      "\n",
      "square of distances:\n",
      " [[1 4 1 ... 576 625 676]\n",
      " [1 0 1 ... 196 225 196]\n",
      " [1 0 1 ... 100 81 100]\n",
      " ...\n",
      " [1 4 1 ... 4 9 16]\n",
      " [1 0 1 ... 36 25 36]\n",
      " [1 0 1 ... 64 81 100]]\n",
      "\n",
      "mean for each steps:\n",
      " [1.0 1.968 2.808 3.86 4.904 6.092 7.048 8.12 9.112 9.936 11.184 12.688\n",
      " 14.0 15.152 16.104 17.22 18.248 19.704 20.504 21.456 22.624 23.284 24.288\n",
      " 25.16 26.68 27.972 28.464 29.116 30.088 31.064 31.264 31.964 33.008\n",
      " 34.036 35.256 36.748 37.848 38.456 39.592 40.808 41.872 43.072 43.976\n",
      " 44.824 46.12 45.896 47.48 48.284 48.112 49.46 50.344 50.856 51.744 52.928\n",
      " 54.656 55.368 55.488 55.508 56.56 57.532 58.648 60.788 61.952 61.752\n",
      " 63.76 63.796 65.12 66.28 66.776 68.108 69.096 70.44 71.424 72.328 72.92\n",
      " 74.344 75.568 75.616 77.336 77.904 79.336 79.692 81.304 82.448 83.512\n",
      " 84.408 85.224 86.776 87.664 89.02 90.904 91.56 93.056 93.372 95.032\n",
      " 96.116 96.68 97.584 99.024 100.24 101.12 102.348 104.272 105.336 106.68\n",
      " 108.276 108.768 109.444 110.584 111.396 111.304 112.008 112.816 115.16\n",
      " 115.784 117.46 118.704 120.192 120.216 121.98 124.232 126.1 127.816\n",
      " 128.256 129.784 131.244 132.04 133.424 135.288 136.568 137.872 140.216\n",
      " 141.424 142.792 143.792 144.48 146.0 146.88 148.336 149.292 149.856\n",
      " 151.044 153.08 152.996 153.776 153.592 155.832 156.332 157.776 158.412\n",
      " 159.312 160.6 161.608 162.624 162.168 162.084 162.56 162.488 163.528\n",
      " 163.78 164.216 165.856 167.0 169.364 172.176 172.2 172.512 172.492\n",
      " 173.864 175.236 176.544 178.412 179.288 180.192 181.496 182.004 183.408\n",
      " 183.844 184.616 186.064 187.544 189.12 190.824 190.604 189.784 189.232\n",
      " 191.112 192.808 192.8 193.284 194.528 196.024 195.208 195.34 196.872\n",
      " 197.24 197.632 199.516 199.624 201.14]\n"
     ]
    },
    {
     "data": {
      "text/plain": [
       "[<matplotlib.lines.Line2D at 0x7f04808db730>]"
      ]
     },
     "execution_count": 20,
     "metadata": {},
     "output_type": "execute_result"
    },
    {
     "data": {
      "image/png": "[encoded data removed]",
      "text/plain": [
       "<Figure size 432x288 with 1 Axes>"
      ]
     },
     "metadata": {
      "needs_background": "light"
     },
     "output_type": "display_data"
    }
   ],
   "source": [
    "import numpy as np\n",
    "w=1000\n",
    "m = [ [ None for y in range( 200 ) ]\n",
    "             for x in range( 1000) ]\n",
    "m2 = [ [ None for y in range( 200 ) ]\n",
    "             for x in range( 1000) ]\n",
    "m=np.array(m)\n",
    "m2=np.array(m2)\n",
    "\n",
    "for i in range(w):\n",
    "    s=0\n",
    "    for j in range(200):\n",
    "        r=np.random.choice([-1,1])\n",
    "        m[i,j]=r\n",
    "        s+=r\n",
    "        m2[i,j]=s\n",
    "print('walk for 200 steps:\\n',m)\n",
    "print('\\nactual walking distances in each steps:\\n',m2)\n",
    "\n",
    "#distance=m.sum(axis=1)\n",
    "#print(distance)\n",
    "square=np.multiply(m2,m2)\n",
    "print('\\nsquare of distances:\\n',square)\n",
    "mean=square.sum(axis=0)/1000\n",
    "print('\\nmean for each steps:\\n',mean)\n",
    "#dis=m.sum(axis=0)\n",
    "\n",
    "#average=[np.sqrt(i**2) for i in dis]\n",
    "average2=[np.sqrt(i) for i in mean]\n",
    "\n",
    "import matplotlib.pyplot as plt\n",
    "%matplotlib inline\n",
    "plt.plot(np.linspace(1,200,200),average2)"
   ]
  },
  {
   "cell_type": "markdown",
   "metadata": {},
   "source": [
    "9\\. Analyze a data file \n",
    "  * Download the population of hares, lynxes and carrots at the beginning of the last century.\n",
    "    ```python\n",
    "    ! wget https://www.dropbox.com/s/3vigxoqayo389uc/populations.txt\n",
    "    ```\n",
    "\n",
    "  * Check the content by looking within the file\n",
    "  * Load the data (use an appropriate numpy method) into a 2D array\n",
    "  * Create arrays out of the columns, the arrays being (in order): *year*, *hares*, *lynxes*, *carrots* \n",
    "  * Plot the 3 populations over the years\n",
    "  * Compute the main statistical properties of the dataset (mean, std, correlations, etc.)\n",
    "  * Which species has the highest population each year?\n",
    "\n",
    "Do you feel there is some evident correlation here? [Studies](https://www.enr.gov.nt.ca/en/services/lynx/lynx-snowshoe-hare-cycle) tend to believe so."
   ]
  },
  {
   "cell_type": "code",
   "execution_count": 23,
   "metadata": {},
   "outputs": [
    {
     "name": "stdout",
     "output_type": "stream",
     "text": [
      "Header: [' year,hare,lynx,carrot']\n",
      "\n",
      "Data shape: (21, 1)\n",
      "\n",
      "Dataset:\n",
      "[[ 1900 30000  4000 48300]\n",
      " [ 1901 47200  6100 48200]\n",
      " [ 1902 70200  9800 41500]\n",
      " [ 1903 77400 35200 38200]\n",
      " [ 1904 36300 59400 40600]\n",
      " [ 1905 20600 41700 39800]\n",
      " [ 1906 18100 19000 38600]\n",
      " [ 1907 21400 13000 42300]\n",
      " [ 1908 22000  8300 44500]\n",
      " [ 1909 25400  9100 42100]\n",
      " [ 1910 27100  7400 46000]\n",
      " [ 1911 40300  8000 46800]\n",
      " [ 1912 57000 12300 43800]\n",
      " [ 1913 76600 19500 40900]\n",
      " [ 1914 52300 45700 39400]\n",
      " [ 1915 19500 51100 39000]\n",
      " [ 1916 11200 29700 36700]\n",
      " [ 1917  7600 15800 41800]\n",
      " [ 1918 14600  9700 43300]\n",
      " [ 1919 16200 10100 41300]\n",
      " [ 1920 24700  8600 47300]]\n"
     ]
    },
    {
     "data": {
      "image/png": "[encoded data removed]",
      "text/plain": [
       "<Figure size 432x288 with 1 Axes>"
      ]
     },
     "metadata": {
      "needs_background": "light"
     },
     "output_type": "display_data"
    },
    {
     "name": "stdout",
     "output_type": "stream",
     "text": [
      "\n",
      "average of each species: 34080.95238095238 20166.666666666668 42400.0\n",
      "\n",
      "\n",
      "\n",
      "astandard deviation of each species: 20897.906458089667 16254.591536908763 3322.5062255844787\n",
      "\n",
      "\n",
      "\n",
      "maximum of each species: 77400 59400 48300\n",
      "the highest population is belonged to hare \n",
      "\n",
      "\n",
      "[[4.58558619e+08 2.56418333e+07]\n",
      " [2.56418333e+07 2.77422333e+08]] [[ 4.58558619e+08 -1.21050000e+06]\n",
      " [-1.21050000e+06  1.15910000e+07]] [[ 2.77422333e+08 -3.85930000e+07]\n",
      " [-3.85930000e+07  1.15910000e+07]]\n",
      "\n",
      "\n",
      "(0.07189206073535571, 0.7568055579765092) (-0.01660377770987939, 0.9430527380836252) (-0.6805771698401617, 0.0006851476055116459)\n"
     ]
    }
   ],
   "source": [
    "import csv\n",
    "import numpy as np\n",
    "from scipy.stats import pearsonr\n",
    "import matplotlib.pyplot as plt\n",
    "%matplotlib inline\n",
    "\n",
    "filename = 'populations.csv'\n",
    "population = csv.reader(open(filename, newline='\\n'), delimiter='\\t')\n",
    "\n",
    "header = next(population) # skip first line\n",
    "print(f\"Header: {header}\\n\")\n",
    "\n",
    "dataset = np.array(list(population))\n",
    "print(f\"Data shape: {dataset.shape}\\n\")\n",
    "\n",
    "dataset2=[]\n",
    "for i in range(21):\n",
    "    dataset2.append(str(dataset[i,0]).split(\",\"))\n",
    "for i in range(len(dataset2)):\n",
    "    dataset2[i]=[int(b) for b in dataset2[i]]\n",
    "dataset2=np.array(dataset2)\n",
    "dataset2=dataset2.reshape(21,4)\n",
    "\n",
    "print(\"Dataset:\")\n",
    "print(dataset2)\n",
    "plt.plot(dataset2[:,0],dataset2[:,1],color='red')\n",
    "plt.plot(dataset2[:,0],dataset2[:,2],color='green')\n",
    "plt.plot(dataset2[:,0],dataset2[:,3],color='black')\n",
    "plt.show()\n",
    "\n",
    "ave1=np.mean([dataset2[:,1]])\n",
    "ave2=np.mean([dataset2[:,2]])\n",
    "ave3=np.mean([dataset2[:,3]])\n",
    "print('\\naverage of each species:',ave1,ave2,ave3)\n",
    "print('\\n')\n",
    "std1=np.std([dataset2[:,1]])\n",
    "std2=np.std([dataset2[:,2]])\n",
    "std3=np.std([dataset2[:,3]])\n",
    "print('\\nastandard deviation of each species:',std1,std2,std3)\n",
    "print('\\n')\n",
    "\n",
    "max1=np.max([dataset2[:,1]])\n",
    "max2=np.max([dataset2[:,2]])\n",
    "max3=np.max([dataset2[:,3]])\n",
    "print('\\nmaximum of each species:',max1,max2,max3)\n",
    "print(\"the highest population is belonged to hare \")\n",
    "print('\\n')\n",
    "\n",
    "\n",
    "cov1_2 = np.cov([dataset2[:,1]], [dataset2[:,2]])\n",
    "cov1_3 = np.cov([dataset2[:,1]], [dataset2[:,3]])\n",
    "cov2_3 = np.cov([dataset2[:,2]], [dataset2[:,3]])\n",
    "\n",
    "print(cov1_2,cov1_3,cov2_3)\n",
    "print('\\n')\n",
    "\n",
    "c_c1_2 = pearsonr(dataset2[:,1], dataset2[:,2])\n",
    "c_c1_3 = pearsonr(dataset2[:,1], dataset2[:,3])\n",
    "c_c2_3 = pearsonr(dataset2[:,2], dataset2[:,3])\n",
    "print(c_c1_2,c_c1_3,c_c2_3)"
   ]
  }
 ],
 "metadata": {
  "kernelspec": {
   "display_name": "Python 3",
   "language": "python",
   "name": "python3"
  },
  "language_info": {
   "codemirror_mode": {
    "name": "ipython",
    "version": 3
   },
   "file_extension": ".py",
   "mimetype": "text/x-python",
   "name": "python",
   "nbconvert_exporter": "python",
   "pygments_lexer": "ipython3",
   "version": "3.8.8"
  }
 },
 "nbformat": 4,
 "nbformat_minor": 2
}
