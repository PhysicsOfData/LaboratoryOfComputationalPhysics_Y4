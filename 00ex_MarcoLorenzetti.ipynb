{
 "cells": [
  {
   "cell_type": "markdown",
   "metadata": {},
   "source": [
    "1. The MickeyMouse problem\n",
    "\n",
    "a) Write a program that prints the numbers from 1 to 100. But for multiples of three print Mickey instead of the number and for the multiples of five print Mouse. For numbers which are multiples of both three and five print MickeyMouse\n",
    "\n",
    "b) Put the result in a tuple and substitute Mickey with Donald and Mouse with Duck"
   ]
  },
  {
   "cell_type": "code",
   "execution_count": 1,
   "metadata": {},
   "outputs": [
    {
     "name": "stdout",
     "output_type": "stream",
     "text": [
      "1\n",
      "2\n",
      "Mickey\n",
      "4\n",
      "Mouse\n",
      "Mickey\n",
      "7\n",
      "8\n",
      "Mickey\n",
      "Mouse\n",
      "11\n",
      "Mickey\n",
      "13\n",
      "14\n",
      "MickeyMouse\n",
      "16\n",
      "17\n",
      "Mickey\n",
      "19\n",
      "Mouse\n",
      "Mickey\n",
      "22\n",
      "23\n",
      "Mickey\n",
      "Mouse\n",
      "26\n",
      "Mickey\n",
      "28\n",
      "29\n",
      "MickeyMouse\n",
      "31\n",
      "32\n",
      "Mickey\n",
      "34\n",
      "Mouse\n",
      "Mickey\n",
      "37\n",
      "38\n",
      "Mickey\n",
      "Mouse\n",
      "41\n",
      "Mickey\n",
      "43\n",
      "44\n",
      "MickeyMouse\n",
      "46\n",
      "47\n",
      "Mickey\n",
      "49\n",
      "Mouse\n",
      "Mickey\n",
      "52\n",
      "53\n",
      "Mickey\n",
      "Mouse\n",
      "56\n",
      "Mickey\n",
      "58\n",
      "59\n",
      "MickeyMouse\n",
      "61\n",
      "62\n",
      "Mickey\n",
      "64\n",
      "Mouse\n",
      "Mickey\n",
      "67\n",
      "68\n",
      "Mickey\n",
      "Mouse\n",
      "71\n",
      "Mickey\n",
      "73\n",
      "74\n",
      "MickeyMouse\n",
      "76\n",
      "77\n",
      "Mickey\n",
      "79\n",
      "Mouse\n",
      "Mickey\n",
      "82\n",
      "83\n",
      "Mickey\n",
      "Mouse\n",
      "86\n",
      "Mickey\n",
      "88\n",
      "89\n",
      "MickeyMouse\n",
      "91\n",
      "92\n",
      "Mickey\n",
      "94\n",
      "Mouse\n",
      "Mickey\n",
      "97\n",
      "98\n",
      "Mickey\n",
      "Mouse\n",
      "(1, 2, 'Dondald', 4, 'Duck', 'Dondald', 7, 8, 'Dondald', 'Duck', 11, 'Dondald', 13, 14, 'DondalDuck', 16, 17, 'Dondald', 19, 'Duck', 'Dondald', 22, 23, 'Dondald', 'Duck', 26, 'Dondald', 28, 29, 'DondalDuck', 31, 32, 'Dondald', 34, 'Duck', 'Dondald', 37, 38, 'Dondald', 'Duck', 41, 'Dondald', 43, 44, 'DondalDuck', 46, 47, 'Dondald', 49, 'Duck', 'Dondald', 52, 53, 'Dondald', 'Duck', 56, 'Dondald', 58, 59, 'DondalDuck', 61, 62, 'Dondald', 64, 'Duck', 'Dondald', 67, 68, 'Dondald', 'Duck', 71, 'Dondald', 73, 74, 'DondalDuck', 76, 77, 'Dondald', 79, 'Duck', 'Dondald', 82, 83, 'Dondald', 'Duck', 86, 'Dondald', 88, 89, 'DondalDuck', 91, 92, 'Dondald', 94, 'Duck', 'Dondald', 97, 98, 'Dondald', 'Duck')\n"
     ]
    }
   ],
   "source": [
    "#   a)\n",
    "L=list(range(100))\n",
    "for i in range(100): \n",
    "    n=i+1\n",
    "    c=0\n",
    "    if n%3==0 : #control multiples of 3\n",
    "        c=c+3\n",
    "    else:\n",
    "        c=c\n",
    "    if n%5==0 : #control multiples of 5\n",
    "        c=c+5\n",
    "    else:\n",
    "        c=c\n",
    "\n",
    "    if c==3:\n",
    "        print(\"Mickey\")\n",
    "        L[i]=\"Dondald\"\n",
    "    elif c==5 :\n",
    "        print(\"Mouse\")\n",
    "        L[i]=\"Duck\"\n",
    "    elif c==8 :\n",
    "        print(\"MickeyMouse\")\n",
    "        L[i]=\"DondalDuck\"\n",
    "    else:\n",
    "        print(n)\n",
    "        L[i]=n\n",
    "\n",
    "#   b)\n",
    "T=tuple(L)\n",
    "print(T)\n"
   ]
  },
  {
   "cell_type": "markdown",
   "metadata": {},
   "source": [
    "2\\. The swap function\n",
    "\n",
    "Write a function that swap the values of two input variables x and y (whatever the type). Try to do that also without a temporary variable"
   ]
  },
  {
   "cell_type": "code",
   "execution_count": 6,
   "metadata": {},
   "outputs": [
    {
     "name": "stdout",
     "output_type": "stream",
     "text": [
      "insert x value: ciao\n",
      "insert y value: 123\n",
      "\n",
      "x:  ciao  y:  123\n",
      "after swapping...\n",
      "x:  123  y:  ciao\n"
     ]
    }
   ],
   "source": [
    "x=input(\"insert x value: \")\n",
    "y=input(\"insert y value: \")\n",
    "print(\"\\nx: \", x, \" y: \", y)\n",
    "\n",
    "def swap(a, b):\n",
    "    return b, a\n",
    "\n",
    "x,y=swap(x,y)    \n",
    "\n",
    "print(\"after swapping...\\nx: \", x, \" y: \", y)"
   ]
  },
  {
   "cell_type": "markdown",
   "metadata": {},
   "source": [
    "3\\. Computing the distance\n",
    "\n",
    "Write a function that calculates and returns the euclidean distance between two points *u* and *v*, where *u* and *v* are both 2-tuples *(x,y)*. For example, if *u=(3,0)* and *v=(0,4)*, the function should return 5"
   ]
  },
  {
   "cell_type": "code",
   "execution_count": 11,
   "metadata": {
    "scrolled": true
   },
   "outputs": [
    {
     "name": "stdout",
     "output_type": "stream",
     "text": [
      "insert first point's coordinates \n",
      "x1: 1\n",
      "y1: 2\n",
      "x2: 3\n",
      "y2: 4\n",
      "The euclidean distance is:  2.8284271247461903\n"
     ]
    }
   ],
   "source": [
    "x1=float(input(\"insert first point's coordinates \\nx1: \"))\n",
    "y1=float(input(\"y1: \"))\n",
    "x2=float(input(\"x2: \"))\n",
    "y2=float(input(\"y2: \"))\n",
    "\n",
    "def euclidean_distance(x1, y1, x2, y2):\n",
    "    d=((x2-x1)**2+(y2-y1)**2)**(1/2)\n",
    "    return d\n",
    "\n",
    "distance=euclidean_distance(x1, y1, x2, y2)\n",
    "print(\"The euclidean distance is: \", distance)"
   ]
  },
  {
   "cell_type": "markdown",
   "metadata": {},
   "source": [
    "4\\. Counting letters\n",
    "\n",
    "Write a program to calculate the number of times each character occurs in a given string *s*. Ignore differneces in capitalization"
   ]
  },
  {
   "cell_type": "code",
   "execution_count": 10,
   "metadata": {},
   "outputs": [
    {
     "name": "stdout",
     "output_type": "stream",
     "text": [
      "what letter do you want to find? w\n",
      "the letter w appears 2 times in the text\n"
     ]
    }
   ],
   "source": [
    "s=\"Write a program that prints the numbers from 1 to 100. \\\n",
    "But for multiples of three print Mickey instead of the number and for the multiples of five print Mouse. \\\n",
    "For numbers which are multiples of both three and five print MickeyMouse\"\n",
    "#sprint(s)\n",
    "\n",
    "letter=input(\"what letter do you want to find? \")\n",
    "characters = [x for x in s.lower() if x==letter]\n",
    "print(\"the letter\", letter, \"appears\", len(characters), \"times in the text\")"
   ]
  },
  {
   "cell_type": "markdown",
   "metadata": {},
   "source": [
    "5\\. Isolating the unique\n",
    "\n",
    "Write a function that determines and count the unique numbers in the list *l*"
   ]
  },
  {
   "cell_type": "code",
   "execution_count": 9,
   "metadata": {},
   "outputs": [
    {
     "name": "stdout",
     "output_type": "stream",
     "text": [
      "the unique numbers in the list are:  37 and them are...\n",
      "[1, 5, 8, 9, 10, 16, 18, 19, 24, 30, 33, 37, 39, 41, 47, 53, 54, 55, 57, 58, 64, 72, 74, 75, 79, 81, 82, 86, 87, 88, 90, 92, 94, 95, 96, 98, 99]\n"
     ]
    }
   ],
   "source": [
    "l = [36, 45, 58, 3, 74, 96, 64, 45, 31, 10, 24, 19, 33, 86, 99, 18, 63, 70, 85,\n",
    " 85, 63, 47, 56, 42, 70, 84, 88, 55, 20, 54, 8, 56, 51, 79, 81, 57, 37, 91,\n",
    " 1, 84, 84, 36, 66, 9, 89, 50, 42, 91, 50, 95, 90, 98, 39, 16, 82, 31, 92, 41,\n",
    " 45, 30, 66, 70, 34, 85, 94, 5, 3, 36, 72, 91, 84, 34, 87, 75, 53, 51, 20, 89, 51, 20]\n",
    "\n",
    "\n",
    "def unique_numbers(List):\n",
    "    uniques = list(0 for i in range(1,max(List)+1))\n",
    "    for i in range (1,max(List)+1):   \n",
    "        times = len([x for x in List if x==i])\n",
    "        if times==1:\n",
    "            uniques[i-1] = i\n",
    "        else:\n",
    "            uniques[i-1] = 0\n",
    "    only_uniques = [x for x in uniques if x!=0]\n",
    "    print(\"the unique numbers in the list are: \", len(only_uniques), \"and them are...\")\n",
    "    print(only_uniques)\n",
    "\n",
    "unique_numbers(l)"
   ]
  },
  {
   "cell_type": "markdown",
   "metadata": {},
   "source": [
    "6\\. Combination of functions\n",
    "\n",
    "Write two functions - one that returns the square of a number, and one that returns the cube. Now write a third function that returns the number raised to the 6th power using the two previous functions."
   ]
  },
  {
   "cell_type": "code",
   "execution_count": 8,
   "metadata": {},
   "outputs": [
    {
     "name": "stdout",
     "output_type": "stream",
     "text": [
      "insert a value: 7\n",
      "the square of the value is:  49.0\n",
      "the cube of the value is:  343.0\n",
      "the 6th power of the value is:  117649.0\n"
     ]
    }
   ],
   "source": [
    "x=float(input(\"insert a value: \"))\n",
    "\n",
    "def square(a):\n",
    "    return a**2\n",
    "\n",
    "def cube(a):\n",
    "    return a**3\n",
    "\n",
    "print(\"the square of the value is: \", square(x))\n",
    "print(\"the cube of the value is: \", cube(x))\n",
    "\n",
    "def comb_func(a):\n",
    "    P=square(cube(a))\n",
    "    return P\n",
    "\n",
    "print(\"the 6th power of the value is: \", comb_func(x))"
   ]
  },
  {
   "cell_type": "markdown",
   "metadata": {},
   "source": [
    "7\\. Cubes\n",
    "\n",
    "Create a list of the cubes of x for x in *[0, 10]* using:\n",
    "\n",
    "a) a for loop\n",
    "\n",
    "b) a list comprehension"
   ]
  },
  {
   "cell_type": "code",
   "execution_count": 8,
   "metadata": {},
   "outputs": [
    {
     "name": "stdout",
     "output_type": "stream",
     "text": [
      "[0, 1, 8, 27, 64, 125, 216, 343, 512, 729, 1000]\n",
      "[0, 1, 8, 27, 64, 125, 216, 343, 512, 729, 1000]\n"
     ]
    }
   ],
   "source": [
    "#   a) using for...\n",
    "L1=list(0 for i in range(11))\n",
    "for i in range (0,11):\n",
    "    L1[i]=i**3\n",
    "#   b) using list comprehension...\n",
    "L2 = [x**3 for x in range(0,11)]\n",
    "\n",
    "print(L1)\n",
    "print(L2)"
   ]
  },
  {
   "cell_type": "markdown",
   "metadata": {},
   "source": [
    "8\\. Nested list comprehension\n",
    "\n",
    "A Pythagorean triple is an integer solution to the Pythagorean theorem $a^2+b^2=c^2$. The first Pythagorean triple is (3,4,5). Find and put in a tuple all unique Pythagorean triples for the positive integers a, b and c less than 100."
   ]
  },
  {
   "cell_type": "code",
   "execution_count": 11,
   "metadata": {},
   "outputs": [
    {
     "name": "stdout",
     "output_type": "stream",
     "text": [
      "((3, 4, 5), (4, 3, 5), (5, 12, 13), (6, 8, 10), (7, 24, 25), (8, 6, 10), (8, 15, 17), (9, 12, 15), (9, 40, 41), (10, 24, 26), (11, 60, 61), (12, 5, 13), (12, 9, 15), (12, 16, 20), (12, 35, 37), (13, 84, 85), (14, 48, 50), (15, 8, 17), (15, 20, 25), (15, 36, 39), (16, 12, 20), (16, 30, 34), (16, 63, 65), (18, 24, 30), (18, 80, 82), (20, 15, 25), (20, 21, 29), (20, 48, 52), (21, 20, 29), (21, 28, 35), (21, 72, 75), (24, 7, 25), (24, 10, 26), (24, 18, 30), (24, 32, 40), (24, 45, 51), (24, 70, 74), (25, 60, 65), (27, 36, 45), (28, 21, 35), (28, 45, 53), (28, 96, 100), (30, 16, 34), (30, 40, 50), (30, 72, 78), (32, 24, 40), (32, 60, 68), (33, 44, 55), (33, 56, 65), (35, 12, 37), (35, 84, 91), (36, 15, 39), (36, 27, 45), (36, 48, 60), (36, 77, 85), (39, 52, 65), (39, 80, 89), (40, 9, 41), (40, 30, 50), (40, 42, 58), (40, 75, 85), (42, 40, 58), (42, 56, 70), (44, 33, 55), (45, 24, 51), (45, 28, 53), (45, 60, 75), (48, 14, 50), (48, 20, 52), (48, 36, 60), (48, 55, 73), (48, 64, 80), (51, 68, 85), (52, 39, 65), (54, 72, 90), (55, 48, 73), (56, 33, 65), (56, 42, 70), (57, 76, 95), (60, 11, 61), (60, 25, 65), (60, 32, 68), (60, 45, 75), (60, 63, 87), (60, 80, 100), (63, 16, 65), (63, 60, 87), (64, 48, 80), (65, 72, 97), (68, 51, 85), (70, 24, 74), (72, 21, 75), (72, 30, 78), (72, 54, 90), (72, 65, 97), (75, 40, 85), (76, 57, 95), (77, 36, 85), (80, 18, 82), (80, 39, 89), (80, 60, 100), (84, 13, 85), (84, 35, 91), (96, 28, 100))\n"
     ]
    }
   ],
   "source": [
    "pitagorian=list()\n",
    "for a in range(1,101):\n",
    "    for b in range(1,101):\n",
    "        for c in range(1,101):\n",
    "            if (a**2)+(b**2)==(c**2):\n",
    "                pitagorian.append((a,b,c))\n",
    "print(tuple(pitagorian))"
   ]
  },
  {
   "cell_type": "markdown",
   "metadata": {},
   "source": [
    "9\\. Normalization\n",
    "\n",
    "Write a function that takes a tuple of numbers and returns it with the entries normalized to one"
   ]
  },
  {
   "cell_type": "code",
   "execution_count": 2,
   "metadata": {},
   "outputs": [
    {
     "name": "stdout",
     "output_type": "stream",
     "text": [
      "(0.0, 0.15789473684210525, 0.3026315789473684, 0.7368421052631579, 0.5921052631578947, 0.5526315789473685, 1.0, 0.3026315789473684, 0.5921052631578947, 0.9078947368421053)\n"
     ]
    }
   ],
   "source": [
    "tuple_numbers = (22,34,45,78,67,64,98,45,67,91)\n",
    "list_norm = [(x-min(tuple_numbers))/(max(tuple_numbers)-min(tuple_numbers)) for x in tuple_numbers]\n",
    "tuple_norm = tuple(list_norm)\n",
    "print(tuple_norm)"
   ]
  },
  {
   "cell_type": "code",
   "execution_count": null,
   "metadata": {},
   "outputs": [],
   "source": []
  }
 ],
 "metadata": {
  "interpreter": {
   "hash": "4a0cdf5044e235b24d1fc042fb09c724f9ff16da5a82a5cb2270a9975034c9c0"
  },
  "kernelspec": {
   "display_name": "Python 3",
   "language": "python",
   "name": "python3"
  },
  "language_info": {
   "codemirror_mode": {
    "name": "ipython",
    "version": 3
   },
   "file_extension": ".py",
   "mimetype": "text/x-python",
   "name": "python",
   "nbconvert_exporter": "python",
   "pygments_lexer": "ipython3",
   "version": "3.8.8"
  }
 },
 "nbformat": 4,
 "nbformat_minor": 2
}
