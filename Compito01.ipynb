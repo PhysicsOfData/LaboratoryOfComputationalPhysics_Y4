{
 "cells": [
  {
   "cell_type": "code",
   "execution_count": 7,
   "id": "86f27cd5",
   "metadata": {},
   "outputs": [
    {
     "name": "stdout",
     "output_type": "stream",
     "text": [
      "[(0, 0), (0, 1), (0, 2), (0, 3), (1, 0), (1, 1), (1, 2), (1, 3), (2, 0), (2, 1), (2, 2), (2, 3)]\n",
      "[0, 4, 16, 36]\n"
     ]
    }
   ],
   "source": [
    "#Exercise 1\n",
    "ans = [(i,j) for i in range(3) for j in range(4)]\n",
    "print (ans)\n",
    "\n",
    "# 2\n",
    "ans = (x*x for x in range(8) if x%2==0)\n",
    "print (list(ans))\n"
   ]
  },
  {
   "cell_type": "code",
   "execution_count": 20,
   "id": "4caf6696",
   "metadata": {},
   "outputs": [
    {
     "name": "stdout",
     "output_type": "stream",
     "text": [
      "[1, 2, 3, 0, 1, 2, 3, 4]\n",
      "[1, 2, 3]\n"
     ]
    }
   ],
   "source": [
    "#Exercise 2\n",
    "\n",
    "x = 5\n",
    "def f(alist):\n",
    "    for i in range(x):\n",
    "         alist=alist+[i]\n",
    "    return alist\n",
    "\n",
    "alist = [1,2,3]\n",
    "ans = f(alist)\n",
    "print (ans)\n",
    "print (alist) # alist has NOT been changed!"
   ]
  },
  {
   "cell_type": "code",
   "execution_count": 30,
   "id": "ddacbc64",
   "metadata": {},
   "outputs": [
    {
     "name": "stdout",
     "output_type": "stream",
     "text": [
      "Hello!\n",
      "25\n",
      "Hello!\n",
      "216\n"
     ]
    }
   ],
   "source": [
    "#Exercise 3\n",
    "\n",
    "def hello(square):\n",
    "    def inner(x):\n",
    "        print(\"Hello!\")\n",
    "        return square(x)\n",
    "    return inner\n",
    "    \n",
    "\n",
    "@hello\n",
    "def square(x):\n",
    "    return x*x\n",
    "\n",
    "@hello\n",
    "def cubes(x):\n",
    "    return x*x*x\n",
    "\n",
    "print(square(5))\n",
    "print(cubes(6))"
   ]
  },
  {
   "cell_type": "code",
   "execution_count": 38,
   "id": "723736df",
   "metadata": {},
   "outputs": [
    {
     "name": "stdout",
     "output_type": "stream",
     "text": [
      "Dammi il numero di cui vuoi fare il fattoriale: 4\n",
      "Fattoriale fatto con ricorsione:  24\n",
      "Fattoriale fatto senza ricorsione:  24\n"
     ]
    }
   ],
   "source": [
    "#Exercise 4\n",
    "\n",
    "def NOrecursion(x):\n",
    "    factorial=1\n",
    "    for i in range(1,x+1):\n",
    "        factorial=factorial*i\n",
    "    return factorial\n",
    "\n",
    "def recursion(x):\n",
    "    if x==1:\n",
    "        return 1\n",
    "    else:\n",
    "        return (x*recursion(x-1))\n",
    "\n",
    "x=int(input(\"Dammi il numero di cui vuoi fare il fattoriale: \"))\n",
    "print(\"Fattoriale fatto con ricorsione: \",recursion(x))\n",
    "print(\"Fattoriale fatto senza ricorsione: \",NOrecursion(x))"
   ]
  },
  {
   "cell_type": "markdown",
   "id": "8d9c7d05",
   "metadata": {},
   "source": [
    "\n",
    "\n",
    "\n",
    "        \n",
    "        \n",
    "        \n",
    "        \n"
   ]
  },
  {
   "cell_type": "code",
   "execution_count": 75,
   "id": "c9adde31",
   "metadata": {},
   "outputs": [
    {
     "name": "stdout",
     "output_type": "stream",
     "text": [
      "3.141592653589793 1.5707963267948966 2.0943951023931953\n",
      "6.283185307179586 3.141592653589793 4.1887902047863905\n",
      "12.566370614359172 6.283185307179586 8.377580409572781\n",
      "37.69911184307752 37.69911184307752 100.53096491487338\n",
      "50.26548245743669 50.26548245743669 134.0412865531645\n",
      "62.83185307179586 62.83185307179586 167.5516081914556\n",
      "282.7433388230814 424.11500823462205 1696.4600329384882\n",
      "376.99111843077515 565.4866776461628 2261.946710584651\n",
      "565.4866776461628 848.2300164692441 3392.9200658769764\n"
     ]
    }
   ],
   "source": [
    "#Exercise 5\n",
    "\n",
    "import math as SP\n",
    "\n",
    "densities = {\"Al\":[0.5,1,2],\"Fe\":[3,4,5],\"Pb\": [15,20,30]}\n",
    "radii = [1,2,3]\n",
    "\n",
    "Z=zip(densities,radii)\n",
    "for i,j in Z:\n",
    "        c=(lambda j: 2*SP.pi*j)\n",
    "        s=(lambda j: SP.pi*j*j)\n",
    "        v=(lambda j: (4/3)*SP.pi*j*j*j)\n",
    "        for k in range(0,3):\n",
    "            weight1=c(j)*densities[i][k]\n",
    "            weight2=s(j)*densities[i][k]\n",
    "            weight3=v(j)*densities[i][k]\n",
    "            print(weight1,weight2,weight3)"
   ]
  },
  {
   "cell_type": "code",
   "execution_count": 1,
   "id": "30241de7",
   "metadata": {},
   "outputs": [
    {
     "name": "stdout",
     "output_type": "stream",
     "text": [
      "I have 3 dogs.\n",
      "Tom  is  6 .\n",
      "Fletcher  is  7 .\n",
      "Larry  is  9 .\n",
      "And they're all mammals, of course.\n",
      "My dogs are not hungry.\n"
     ]
    }
   ],
   "source": [
    "#Exercise 6\n",
    "\n",
    "class Dog:\n",
    "    species = 'mammal'\n",
    "    def __init__(self, name, age):\n",
    "        self.name = name\n",
    "        self.age = age\n",
    "        self.is_hungry = True\n",
    "    def description(self):\n",
    "        return self.name, self.age\n",
    "    def speak(self, sound):\n",
    "        return \"%s says %s\" % (self.name, sound)\n",
    "    def eat(self):\n",
    "        self.is_hungry = False\n",
    "class RussellTerrier(Dog):\n",
    "    def run(self, speed):\n",
    "        return \"%s runs %s\" % (self.name, speed)\n",
    "class Bulldog(Dog):\n",
    "    def run(self, speed):\n",
    "        return \"%s runs %s\" % (self.name, speed)\n",
    "Dogs = [\n",
    "    Bulldog(\"Tom\", 6), \n",
    "    RussellTerrier(\"Fletcher\", 7), \n",
    "    Dog(\"Larry\", 9)\n",
    "]\n",
    "\n",
    "print(\"I have 3 dogs.\")\n",
    "for dog in Dogs:\n",
    "    dog.eat()\n",
    "    print(dog.name,\" is \",dog.age,\".\")\n",
    "\n",
    "print(\"And they're all mammals, of course.\")\n",
    "\n",
    "Hungry = False\n",
    "for dog in Dogs:\n",
    "    if dog.is_hungry:\n",
    "        Hungry = True\n",
    "\n",
    "if Hungry:\n",
    "    print(\"My dogs are hungry.\")\n",
    "else:\n",
    "    print(\"My dogs are not hungry.\")"
   ]
  },
  {
   "cell_type": "code",
   "execution_count": null,
   "id": "f2e6f6ed",
   "metadata": {},
   "outputs": [],
   "source": []
  }
 ],
 "metadata": {
  "kernelspec": {
   "display_name": "Python 3",
   "language": "python",
   "name": "python3"
  },
  "language_info": {
   "codemirror_mode": {
    "name": "ipython",
    "version": 3
   },
   "file_extension": ".py",
   "mimetype": "text/x-python",
   "name": "python",
   "nbconvert_exporter": "python",
   "pygments_lexer": "ipython3",
   "version": "3.8.8"
  }
 },
 "nbformat": 4,
 "nbformat_minor": 5
}
