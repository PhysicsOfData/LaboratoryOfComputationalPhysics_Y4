{
 "cells": [
  {
   "cell_type": "markdown",
   "metadata": {},
   "source": [
    "1. The MickeyMouse problem\n",
    "\n",
    "a) Write a program that prints the numbers from 1 to 100. But for multiples of three print Mickey instead of the number and for the multiples of five print Mouse. For numbers which are multiples of both three and five print MickeyMouse\n",
    "\n",
    "b) Put the result in a tuple and substitute Mickey with Donald and Mouse with Duck"
   ]
  },
  {
   "cell_type": "code",
   "execution_count": 1,
   "metadata": {},
   "outputs": [
    {
     "name": "stdout",
     "output_type": "stream",
     "text": [
      "1\n",
      "2\n",
      "Mickey\n",
      "4\n",
      "Mouse\n",
      "Mickey\n",
      "7\n",
      "8\n",
      "Mickey\n",
      "Mouse\n",
      "11\n",
      "Mickey\n",
      "13\n",
      "14\n",
      "Mickey Mouse\n",
      "16\n",
      "17\n",
      "Mickey\n",
      "19\n",
      "Mouse\n",
      "Mickey\n",
      "22\n",
      "23\n",
      "Mickey\n",
      "Mouse\n",
      "26\n",
      "Mickey\n",
      "28\n",
      "29\n",
      "Mickey Mouse\n",
      "31\n",
      "32\n",
      "Mickey\n",
      "34\n",
      "Mouse\n",
      "Mickey\n",
      "37\n",
      "38\n",
      "Mickey\n",
      "Mouse\n",
      "41\n",
      "Mickey\n",
      "43\n",
      "44\n",
      "Mickey Mouse\n",
      "46\n",
      "47\n",
      "Mickey\n",
      "49\n",
      "Mouse\n",
      "Mickey\n",
      "52\n",
      "53\n",
      "Mickey\n",
      "Mouse\n",
      "56\n",
      "Mickey\n",
      "58\n",
      "59\n",
      "Mickey Mouse\n",
      "61\n",
      "62\n",
      "Mickey\n",
      "64\n",
      "Mouse\n",
      "Mickey\n",
      "67\n",
      "68\n",
      "Mickey\n",
      "Mouse\n",
      "71\n",
      "Mickey\n",
      "73\n",
      "74\n",
      "Mickey Mouse\n",
      "76\n",
      "77\n",
      "Mickey\n",
      "79\n",
      "Mouse\n",
      "Mickey\n",
      "82\n",
      "83\n",
      "Mickey\n",
      "Mouse\n",
      "86\n",
      "Mickey\n",
      "88\n",
      "89\n",
      "Mickey Mouse\n",
      "91\n",
      "92\n",
      "Mickey\n",
      "94\n",
      "Mouse\n",
      "Mickey\n",
      "97\n",
      "98\n",
      "Mickey\n",
      "(1, 2, 'Donald', 4, 'Duck', 'Donald', 7, 8, 'Donald', 'Duck', 11, 'Donald', 13, 14, 'Donald Duck', 16, 17, 'Donald', 19, 'Duck', 'Donald', 22, 23, 'Donald', 'Duck', 26, 'Donald', 28, 29, 'Donald Duck', 31, 32, 'Donald', 34, 'Duck', 'Donald', 37, 38, 'Donald', 'Duck', 41, 'Donald', 43, 44, 'Donald Duck', 46, 47, 'Donald', 49, 'Duck', 'Donald', 52, 53, 'Donald', 'Duck', 56, 'Donald', 58, 59, 'Donald Duck', 61, 62, 'Donald', 64, 'Duck', 'Donald', 67, 68, 'Donald', 'Duck', 71, 'Donald', 73, 74, 'Donald Duck', 76, 77, 'Donald', 79, 'Duck', 'Donald', 82, 83, 'Donald', 'Duck', 86, 'Donald', 88, 89, 'Donald Duck', 91, 92, 'Donald', 94, 'Duck', 'Donald', 97, 98, 'Donald')\n"
     ]
    }
   ],
   "source": [
    "mylist = []\n",
    "\n",
    "for i in range(1, 100):\n",
    "    if i in [x for x in range(1, 100) if x % 15 == 0]:\n",
    "        print(\"Mickey Mouse\")\n",
    "        mylist.append(\"Mickey Mouse\")\n",
    "    elif i in [x for x in range(1, 100) if x % 3 == 0]:\n",
    "        print(\"Mickey\")\n",
    "        mylist.append(\"Mickey\")\n",
    "    elif i in [x for x in range(1, 100) if x % 5 == 0]:\n",
    "        print(\"Mouse\")\n",
    "        mylist.append(\"Mouse\")\n",
    "    else:\n",
    "        print(i)\n",
    "        mylist.append(i)\n",
    "        \n",
    "for i in mylist:\n",
    "    if i == \"Mickey\":\n",
    "        mylist.insert(mylist.index(\"Mickey\"), \"Donald\")\n",
    "        mylist.remove(\"Mickey\")\n",
    "    elif i == \"Mouse\":\n",
    "        mylist.insert(mylist.index(\"Mouse\"), \"Duck\")\n",
    "        mylist.remove(\"Mouse\")\n",
    "    elif i == \"Mickey Mouse\":\n",
    "        mylist.insert(mylist.index(\"Mickey Mouse\"), \"Donald Duck\")\n",
    "        mylist.remove(\"Mickey Mouse\")\n",
    "    else:\n",
    "        i = i\n",
    "\n",
    "Tuple = tuple(mylist)\n",
    "\n",
    "print(Tuple)\n"
   ]
  },
  {
   "cell_type": "markdown",
   "metadata": {},
   "source": [
    "2\\. The swap function\n",
    "\n",
    "Write a function that swap the values of two input variables x and y (whatever the type). Try to do that also without a temporary variable"
   ]
  },
  {
   "cell_type": "code",
   "execution_count": 2,
   "metadata": {},
   "outputs": [
    {
     "name": "stdout",
     "output_type": "stream",
     "text": [
      "x = wow\n",
      "y = ops\n",
      "x =  ops\n",
      "y =  wow\n"
     ]
    }
   ],
   "source": [
    "x = input(\"x = \")\n",
    "y = input(\"y = \")\n",
    "\n",
    "def swap(x, y):\n",
    "    print(\"x = \", y)\n",
    "    print(\"y = \", x)\n",
    "    return\n",
    "\n",
    "swap(x, y)"
   ]
  },
  {
   "cell_type": "markdown",
   "metadata": {},
   "source": [
    "3\\. Computing the distance\n",
    "\n",
    "Write a function that calculates and returns the euclidean distance between two points *u* and *v*, where *u* and *v* are both 2-tuples *(x,y)*. For example, if *u=(3,0)* and *v=(0,4)*, the function should return 5"
   ]
  },
  {
   "cell_type": "code",
   "execution_count": 13,
   "metadata": {},
   "outputs": [
    {
     "name": "stdout",
     "output_type": "stream",
     "text": [
      "x1 = 0\n",
      "y1 = 3\n",
      "x2 = 4\n",
      "y2 = 0\n",
      "5.0\n"
     ]
    }
   ],
   "source": [
    "x1 = int(input(\"x1 = \")) #coordinates\n",
    "y1 = int(input(\"y1 = \"))\n",
    "\n",
    "x2 = int(input(\"x2 = \"))\n",
    "y2 = int(input(\"y2 = \"))\n",
    "\n",
    "u = (x1, y1)\n",
    "v = (x2, y2)\n",
    "\n",
    "def dis(u, v):\n",
    "    print(  ( (x2 - x1)**2 + (y2 - y1)**2)**0.5)\n",
    "    return\n",
    "\n",
    "dis(u, v)"
   ]
  },
  {
   "cell_type": "markdown",
   "metadata": {},
   "source": [
    "4\\. Counting letters\n",
    "\n",
    "Write a program to calculate the number of times each character occurs in a given string *s*. Ignore differneces in capitalization"
   ]
  },
  {
   "cell_type": "code",
   "execution_count": 6,
   "metadata": {},
   "outputs": [
    {
     "name": "stdout",
     "output_type": "stream",
     "text": [
      "choose a charactor: M\n",
      "M:12\n"
     ]
    }
   ],
   "source": [
    "s=\"Write a program that prints the numbers from 1 to 100. \\\n",
    "But for multiples of three print Mickey instead of the number and for the multiples of five print Mouse. \\\n",
    "For numbers which are multiples of both three and five print MickeyMouse\"\n",
    "\n",
    "a = s.lower()\n",
    "b = s.upper()\n",
    "\n",
    "def counting(ch):\n",
    "    if ch in a:\n",
    "        print(ch, a.count(ch), sep=\":\")\n",
    "    elif ch in b:\n",
    "        print(ch, b.count(ch), sep=\":\")\n",
    "\n",
    "\n",
    "counting(input(\"choose a charactor: \"))"
   ]
  },
  {
   "cell_type": "markdown",
   "metadata": {},
   "source": [
    "5\\. Isolating the unique\n",
    "\n",
    "Write a function that determines and count the unique numbers in the list *l*"
   ]
  },
  {
   "cell_type": "code",
   "execution_count": 7,
   "metadata": {},
   "outputs": [
    {
     "name": "stdout",
     "output_type": "stream",
     "text": [
      "the count of 36 is: 3\n",
      "the count of 45 is: 3\n",
      "the count of 58 is: 1\n",
      "the count of 3 is: 2\n",
      "the count of 74 is: 1\n",
      "the count of 96 is: 1\n",
      "the count of 64 is: 1\n",
      "the count of 31 is: 2\n",
      "the count of 10 is: 1\n",
      "the count of 24 is: 1\n",
      "the count of 19 is: 1\n",
      "the count of 33 is: 1\n",
      "the count of 86 is: 1\n",
      "the count of 99 is: 1\n",
      "the count of 18 is: 1\n",
      "the count of 63 is: 2\n",
      "the count of 70 is: 3\n",
      "the count of 85 is: 3\n",
      "the count of 47 is: 1\n",
      "the count of 56 is: 2\n",
      "the count of 42 is: 2\n",
      "the count of 84 is: 4\n",
      "the count of 88 is: 1\n",
      "the count of 55 is: 1\n",
      "the count of 20 is: 3\n",
      "the count of 54 is: 1\n",
      "the count of 8 is: 1\n",
      "the count of 51 is: 3\n",
      "the count of 79 is: 1\n",
      "the count of 81 is: 1\n",
      "the count of 57 is: 1\n",
      "the count of 37 is: 1\n",
      "the count of 91 is: 3\n",
      "the count of 1 is: 1\n",
      "the count of 66 is: 2\n",
      "the count of 9 is: 1\n",
      "the count of 89 is: 2\n",
      "the count of 50 is: 2\n",
      "the count of 95 is: 1\n",
      "the count of 90 is: 1\n",
      "the count of 98 is: 1\n",
      "the count of 39 is: 1\n",
      "the count of 16 is: 1\n",
      "the count of 82 is: 1\n",
      "the count of 92 is: 1\n",
      "the count of 41 is: 1\n",
      "the count of 30 is: 1\n",
      "the count of 34 is: 2\n",
      "the count of 94 is: 1\n",
      "the count of 5 is: 1\n",
      "the count of 72 is: 1\n",
      "the count of 87 is: 1\n",
      "the count of 75 is: 1\n",
      "the count of 53 is: 1\n"
     ]
    }
   ],
   "source": [
    "l = [36, 45, 58, 3, 74, 96, 64, 45, 31, 10, 24, 19, 33, 86, 99, 18, 63, 70, 85,\n",
    " 85, 63, 47, 56, 42, 70, 84, 88, 55, 20, 54, 8, 56, 51, 79, 81, 57, 37, 91,\n",
    " 1, 84, 84, 36, 66, 9, 89, 50, 42, 91, 50, 95, 90, 98, 39, 16, 82, 31, 92, 41,\n",
    " 45, 30, 66, 70, 34, 85, 94, 5, 3, 36, 72, 91, 84, 34, 87, 75, 53, 51, 20, 89, 51, 20]\n",
    "\n",
    "found = []\n",
    "\n",
    "\n",
    "def detective():\n",
    "    for i in l:\n",
    "        if i not in found:\n",
    "            found.append(i)\n",
    "            a = l.count(i)\n",
    "            print(\"the count of\", i,\"is:\", a)\n",
    "\n",
    "\n",
    "\n",
    "detective()\n",
    "              "
   ]
  },
  {
   "cell_type": "markdown",
   "metadata": {},
   "source": [
    "6\\. Combination of functions\n",
    "\n",
    "Write two functions - one that returns the square of a number, and one that returns the cube. Now write a third function that returns the number raised to the 6th power using the two previous functions."
   ]
  },
  {
   "cell_type": "code",
   "execution_count": 8,
   "metadata": {},
   "outputs": [
    {
     "name": "stdout",
     "output_type": "stream",
     "text": [
      "input= 3\n",
      "729\n"
     ]
    }
   ],
   "source": [
    "def square(x):\n",
    "    return x**2\n",
    "\n",
    "def cube(y):\n",
    "    return y**3\n",
    "\n",
    "\n",
    "def powersix(z):\n",
    "    a = square(z)\n",
    "    b = cube(a)\n",
    "    print(b)\n",
    "\n",
    "\n",
    "powersix(int(input(\"input= \")))\n"
   ]
  },
  {
   "cell_type": "markdown",
   "metadata": {},
   "source": [
    "7\\. Cubes\n",
    "\n",
    "Create a list of the cubes of x for x in *[0, 10]* using:\n",
    "\n",
    "a) a for loop\n",
    "\n",
    "b) a list comprehension"
   ]
  },
  {
   "cell_type": "code",
   "execution_count": 9,
   "metadata": {},
   "outputs": [
    {
     "name": "stdout",
     "output_type": "stream",
     "text": [
      "[1, 8]\n"
     ]
    }
   ],
   "source": [
    "# for loop\n",
    "cubes = []\n",
    "for x in [1, 2, 3, 4, 5, 6, 7, 8, 9, 10]:\n",
    "    for i in range(1, 11):\n",
    "        if i == x**3:\n",
    "            cubes.append(i)\n",
    "\n",
    "\n",
    "print(cubes)"
   ]
  },
  {
   "cell_type": "code",
   "execution_count": 10,
   "metadata": {},
   "outputs": [
    {
     "name": "stdout",
     "output_type": "stream",
     "text": [
      "[1, 8]\n"
     ]
    }
   ],
   "source": [
    "# list comprehension\n",
    "cubes = [a for a in range(1, 11) if a**(1/3) in range(1, 11)]\n",
    "\n",
    "print(cubes)\n"
   ]
  },
  {
   "cell_type": "markdown",
   "metadata": {},
   "source": [
    "8\\. Nested list comprehension\n",
    "\n",
    "A Pythagorean triple is an integer solution to the Pythagorean theorem $a^2+b^2=c^2$. The first Pythagorean triple is (3,4,5). Find and put in a tuple all unique Pythagorean triples for the positive integers a, b and c less than 100."
   ]
  },
  {
   "cell_type": "code",
   "execution_count": 11,
   "metadata": {},
   "outputs": [
    {
     "name": "stdout",
     "output_type": "stream",
     "text": [
      "((3, 4, 5), (4, 3, 5), (5, 12, 13), (6, 8, 10), (7, 24, 25), (8, 6, 10), (8, 15, 17), (9, 12, 15), (9, 40, 41), (10, 24, 26), (11, 60, 61), (12, 5, 13), (12, 9, 15), (12, 16, 20), (12, 35, 37), (13, 84, 85), (14, 48, 50), (15, 8, 17), (15, 20, 25), (15, 36, 39), (16, 12, 20), (16, 30, 34), (16, 63, 65), (18, 24, 30), (18, 80, 82), (20, 15, 25), (20, 21, 29), (20, 48, 52), (21, 20, 29), (21, 28, 35), (21, 72, 75), (24, 7, 25), (24, 10, 26), (24, 18, 30), (24, 32, 40), (24, 45, 51), (24, 70, 74), (25, 60, 65), (27, 36, 45), (28, 21, 35), (28, 45, 53), (30, 16, 34), (30, 40, 50), (30, 72, 78), (32, 24, 40), (32, 60, 68), (33, 44, 55), (33, 56, 65), (35, 12, 37), (35, 84, 91), (36, 15, 39), (36, 27, 45), (36, 48, 60), (36, 77, 85), (39, 52, 65), (39, 80, 89), (40, 9, 41), (40, 30, 50), (40, 42, 58), (40, 75, 85), (42, 40, 58), (42, 56, 70), (44, 33, 55), (45, 24, 51), (45, 28, 53), (45, 60, 75), (48, 14, 50), (48, 20, 52), (48, 36, 60), (48, 55, 73), (48, 64, 80), (51, 68, 85), (52, 39, 65), (54, 72, 90), (55, 48, 73), (56, 33, 65), (56, 42, 70), (57, 76, 95), (60, 11, 61), (60, 25, 65), (60, 32, 68), (60, 45, 75), (60, 63, 87), (63, 16, 65), (63, 60, 87), (64, 48, 80), (65, 72, 97), (68, 51, 85), (70, 24, 74), (72, 21, 75), (72, 30, 78), (72, 54, 90), (72, 65, 97), (75, 40, 85), (76, 57, 95), (77, 36, 85), (80, 18, 82), (80, 39, 89), (84, 13, 85), (84, 35, 91))\n"
     ]
    }
   ],
   "source": [
    "mylist = []\n",
    "\n",
    "for x in range(1, 100):\n",
    "    for y in range(1, 100):\n",
    "        for z in range(1, 100):\n",
    "            if x**2 + y**2 == z**2:\n",
    "                littlelist = [x, y, z]\n",
    "                littletuple = tuple(littlelist)\n",
    "                mylist.append(littletuple)\n",
    "\n",
    "\n",
    "mytuple = tuple(mylist)\n",
    "print(mytuple)"
   ]
  },
  {
   "cell_type": "markdown",
   "metadata": {},
   "source": [
    "9\\. Normalization\n",
    "\n",
    "Write a function that takes a tuple of numbers and returns it with the entries normalized to one"
   ]
  },
  {
   "cell_type": "code",
   "execution_count": 12,
   "metadata": {},
   "outputs": [
    {
     "data": {
      "text/plain": [
       "(0.6, 0.8, 0.0)"
      ]
     },
     "execution_count": 12,
     "metadata": {},
     "output_type": "execute_result"
    }
   ],
   "source": [
    "def norm(x, y, z):\n",
    "    a = (x**2 + y**2 + z**2)**0.5 #a is the length of the vector\n",
    "    X = x/a\n",
    "    Y = y/a\n",
    "    Z = z/a\n",
    "    return (X, Y, Z)\n",
    "\n",
    "    \n",
    "norm(3, 4, 0)"
   ]
  }
 ],
 "metadata": {
  "kernelspec": {
   "display_name": "Python 3",
   "language": "python",
   "name": "python3"
  },
  "language_info": {
   "codemirror_mode": {
    "name": "ipython",
    "version": 3
   },
   "file_extension": ".py",
   "mimetype": "text/x-python",
   "name": "python",
   "nbconvert_exporter": "python",
   "pygments_lexer": "ipython3",
   "version": "3.8.8"
  }
 },
 "nbformat": 4,
 "nbformat_minor": 2
}
