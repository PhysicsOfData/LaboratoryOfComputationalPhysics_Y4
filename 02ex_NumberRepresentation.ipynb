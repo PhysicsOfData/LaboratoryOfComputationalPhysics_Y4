{
 "cells": [
  {
   "cell_type": "markdown",
   "metadata": {},
   "source": [
    "1\\. Write a function that converts number representation (bin<->dec<->hex)"
   ]
  },
  {
   "cell_type": "code",
   "execution_count": 35,
   "metadata": {},
   "outputs": [
    {
     "name": "stdout",
     "output_type": "stream",
     "text": [
      "Il numero in base decimale è 106\n",
      "Il numero in base binaria è  0b1101010\n",
      "Il numero in base esadecimale è  0b6A\n"
     ]
    }
   ],
   "source": [
    "\n",
    "def convertitore(numero,base):\n",
    "        if base == \"decimale\":\n",
    "            a=\"\"\n",
    "            b=\"\"\n",
    "            hexa=numero\n",
    "            while numero != 0:\n",
    "                a+=str(numero%2) \n",
    "                numero=numero//2\n",
    "            print(\"Il numero in base binaria è \",\"0b\"+a[::-1])\n",
    "            while hexa != 0:\n",
    "                if hexa%16 <= 9 :\n",
    "                    b+=str(hexa%16)\n",
    "                    hexa=hexa//16\n",
    "                if hexa%16 == 10 :\n",
    "                    b+=\"A\"\n",
    "                    hexa=hexa//16\n",
    "                if hexa%16 == 11 :\n",
    "                    b+=\"B\"\n",
    "                    hexa=hexa//16\n",
    "                if hexa%16 == 12 :\n",
    "                    b+=\"C\"\n",
    "                    hexa=hexa//16\n",
    "                if hexa%16 == 13 :\n",
    "                    b+=\"D\"\n",
    "                    hexa=hexa//16\n",
    "                if hexa%16 == 14 :\n",
    "                    b+=\"E\"\n",
    "                    hexa=hexa//16                \n",
    "                if hexa%16 == 15 :\n",
    "                    b+=\"F\"\n",
    "                    hexa=hexa//16                    \n",
    "            print(\"Il numero in base esadecimale è \",\"0b\"+b[::-1])\n",
    "               \n",
    "        if base == \"binaria\" :\n",
    "            a=[]\n",
    "            for i in range(len(str(numero))):\n",
    "                val=int(str(numero)[len(str(numero))-1-i])\n",
    "                a.append(pow(2,i)*val)\n",
    "            print(\"Il numero in base decimale è\", str(sum(a)))  \n",
    "\n",
    "            convertitore(int(str(sum(a))),\"decimale\")\n",
    "\n",
    "        if base == \"esadecimale\" :\n",
    "\n",
    "            hbin={'0':'0000','1':'0001','2':'0010','3':'0011','4':'0100','5':'0101','6':'0110','7':'0111','8':'1000','9':'1001','A':'1010','B':'1011','C':'1100','D':'1101','E':'1110','F':'1111'}\n",
    "            a=[]\n",
    "            for i in range(len(str(numero))):\n",
    "                a.append(hbin[str(numero)[i]])\n",
    "            j=\"\".join(a)\n",
    "            jl=list(j)\n",
    "            i=0\n",
    "\n",
    "            convertitore(int(\"\".join(jl)),\"binaria\")\n",
    "\n",
    "convertitore(\"6A\",\"esadecimale\")\n",
    "        \n",
    "        \n",
    "    "
   ]
  },
  {
   "cell_type": "markdown",
   "metadata": {},
   "source": [
    "2\\. Write a function that converts a 32 bit word into a single precision floating point (i.e. interprets the various bits as sign, mantissa and exponent)"
   ]
  },
  {
   "cell_type": "code",
   "execution_count": 36,
   "metadata": {},
   "outputs": [
    {
     "name": "stdout",
     "output_type": "stream",
     "text": [
      "4.427830850453965e-14\n"
     ]
    }
   ],
   "source": [
    "word='00101001010001110110100101101010'\n",
    "\n",
    "s=int(word[0])\n",
    "expo=0\n",
    "mant=1\n",
    "bias=127\n",
    "\n",
    "for i in range(1,len(word)):\n",
    "    if i<9:\n",
    "        expo+=(2**((8-i)))*int(word[i])\n",
    "    else:\n",
    "        mant+=(2**(-(i-8)))*int(word[i])\n",
    "\n",
    "\n",
    "        \n",
    "print(((-1)**(s))*mant*(2**(expo-bias)))"
   ]
  },
  {
   "cell_type": "markdown",
   "metadata": {},
   "source": [
    "3\\. Write a program to determine the underflow and overflow limits (within a factor of 2) for python on your computer. \n",
    "\n",
    "**Tips**: define two variables inizialized to 1 and halve/double them enough time to exceed the under/over-flow limits  "
   ]
  },
  {
   "cell_type": "code",
   "execution_count": 37,
   "metadata": {},
   "outputs": [
    {
     "name": "stdout",
     "output_type": "stream",
     "text": [
      "359538626972463181545861038157804946723595395788461314546860162315465351611001926265416954644815072042240227759742786715317579537628833244985694861278948248755535786849730970552604439202492188238906165904170011537676301364684925762947826221081654474326701021369172596479894491876959432609670712659248448274432 5e-324\n"
     ]
    }
   ],
   "source": [
    "und=1\n",
    "over=1\n",
    "\n",
    "while True:\n",
    "    try:\n",
    "        over*=2\n",
    "        (over/2)*2\n",
    "    except:\n",
    "        break\n",
    "\n",
    "while True:\n",
    "    try:\n",
    "        und/=2\n",
    "        1/(und/2)\n",
    "    except:\n",
    "        break\n",
    "\n",
    "print(over,und)"
   ]
  },
  {
   "cell_type": "markdown",
   "metadata": {},
   "source": [
    "4\\. Write a program to determine the machine precision\n",
    "\n",
    "**Tips**: define a new variable by adding a smaller and smaller value (proceeding similarly to prob. 2) to an original variable and check the point where the two are the same "
   ]
  },
  {
   "cell_type": "code",
   "execution_count": 38,
   "metadata": {},
   "outputs": [
    {
     "name": "stdout",
     "output_type": "stream",
     "text": [
      "4.440892098500626e-16\n"
     ]
    }
   ],
   "source": [
    "a=5\n",
    "i=1\n",
    "\n",
    "while True:\n",
    "    b=5+(2**(-i))\n",
    "    i+=1\n",
    "    if b==a:\n",
    "        break\n",
    "\n",
    "print(2**(-i+1))"
   ]
  },
  {
   "cell_type": "markdown",
   "metadata": {},
   "source": [
    "5\\. Write a function that takes in input three parameters $a$, $b$ and $c$ and prints out the two solutions to the quadratic equation $ax^2+bx+c=0$ using the standard formula:\n",
    "$$\n",
    "x=\\frac{-b\\pm\\sqrt{b^2-4ac}}{2a}\n",
    "$$\n",
    "\n",
    "(a) use the program to compute the solution for $a=0.001$, $b=1000$ and $c=0.001$\n",
    "\n",
    "(b) re-express the standard solution formula by multiplying top and bottom by $-b\\mp\\sqrt{b^2-4ac}$ and again find the solution for $a=0.001$, $b=1000$ and $c=0.001$. How does it compare with what previously obtained? Why?\n",
    "\n",
    "(c) write a function that compute the roots of a quadratic equation accurately in all cases"
   ]
  },
  {
   "cell_type": "code",
   "execution_count": 4,
   "metadata": {},
   "outputs": [
    {
     "name": "stdout",
     "output_type": "stream",
     "text": [
      "-9.999894245993346e-07 -1.999978849198669e-09 -999999.999999\n",
      "-9.999894245993346e-07 -999999.9999990001\n"
     ]
    }
   ],
   "source": [
    "import math\n",
    "\n",
    "a=0.001\n",
    "b=1000\n",
    "c=0.001\n",
    "\n",
    "xpiu=(-b+pow((b*b-4*a*c),1/2))/(2*a)\n",
    "xmeno=(-b-pow((b*b-4*a*c),1/2))/(2*a)\n",
    "p1=-b+pow(b*b-4*a*c,1/2)\n",
    "\n",
    "print(xpiu,p1,xmeno)\n",
    "\n",
    "xpiu1=((-b+pow(b*b-4*a*c,1/2))*(-b-pow(b*b-4*a*c,1/2)))/((2*a)*(-b-pow(b*b-4*a*c,1/2)))\n",
    "xmeno1=((-b-pow((b*b-4*a*c),1/2))*(-b+pow(b*b-4*a*c,1/2)))/((2*a)*(-b+pow(b*b-4*a*c,1/2)))\n",
    "\n",
    "print(xpiu1,xmeno1)"
   ]
  },
  {
   "cell_type": "markdown",
   "metadata": {},
   "source": [
    "6\\. Write a program that implements the function $f(x)=x(x−1)$\n",
    "\n",
    "(a) Calculate the derivative of the function at the point $x = 1$ using the derivative definition:\n",
    "\n",
    "$$\n",
    "\\frac{{\\rm d}f}{{\\rm d}x} = \\lim_{\\delta\\to0} \\frac{f(x+\\delta)-f(x)}{\\delta}\n",
    "$$\n",
    "\n",
    "with $\\delta = 10^{−2}$. Calculate the true value of the same derivative analytically and compare with the answer your program gives. The two will not agree perfectly. Why not?\n",
    "\n",
    "(b) Repeat the calculation for $\\delta = 10^{−4}, 10^{−6}, 10^{−8}, 10^{−10}, 10^{−12}$ and $10^{−14}$. How does the accuracy scales with $\\delta$?"
   ]
  },
  {
   "cell_type": "code",
   "execution_count": 40,
   "metadata": {},
   "outputs": [
    {
     "name": "stdout",
     "output_type": "stream",
     "text": [
      "0\n",
      "Valore delta=10^- 2 : 1.010000000000001\n",
      "Valore delta=10^- 4 : 1.0000999999998899\n",
      "Valore delta=10^- 6 : 1.0000009999177333\n",
      "Valore delta=10^- 8 : 1.0000000039225287\n",
      "Valore delta=10^- 10 : 1.000000082840371\n",
      "Valore delta=10^- 12 : 1.0000889005833413\n",
      "Valore delta=10^- 14 : 0.9992007221626509\n",
      "Valore esatto: 1\n"
     ]
    }
   ],
   "source": [
    "x=1\n",
    "delt=0\n",
    "tup=(2,4,6,8,10,12,14)\n",
    "print(delt)\n",
    "def fx(r):\n",
    "    return(r*(r-1))\n",
    "\n",
    "def derivata(n,delta):\n",
    "    return((fx(n+delta)-fx(n))/delta)\n",
    "\n",
    "for i in tup:\n",
    "    d=1.0*(10**(-i))\n",
    "    print('Valore delta=10^-',i,':', derivata(x,d))\n",
    "\n",
    "print('Valore esatto:', (x-1)+x)"
   ]
  },
  {
   "cell_type": "markdown",
   "metadata": {},
   "source": [
    "7\\. Consider the integral of the semicircle of radius 1:\n",
    "$$\n",
    "I=\\int_{-1}^{1} \\sqrt(1-x^2) {\\rm d}x\n",
    "$$\n",
    "which it's known to be $I=\\frac{\\pi}{2}=1.57079632679...$.\n",
    "Alternatively we can use the Riemann definition of the integral:\n",
    "$$\n",
    "I=\\lim_{N\\to\\infty} \\sum_{k=1}^{N} h y_k \n",
    "$$\n",
    "\n",
    "with $h=2/N$ the width of each of the $N$ slices the domain is divided into and where\n",
    "$y_k$ is the value of the function at the $k-$th slice.\n",
    "\n",
    "(a) Write a programe to compute the integral with $N=100$. How does the result compares to the true value?\n",
    "\n",
    "(b) How much can $N$ be increased if the computation needs to be run in less than a second? What is the gain in running it for 1 minute? \n"
   ]
  },
  {
   "cell_type": "code",
   "execution_count": 15,
   "metadata": {},
   "outputs": [
    {
     "name": "stdout",
     "output_type": "stream",
     "text": [
      "1.5707962742034223\n",
      "Differenza reale e algoritmo 5.2591474286600715e-08\n",
      "103 ms ± 1.3 ms per loop (mean ± std. dev. of 7 runs, 10 loops each)\n"
     ]
    }
   ],
   "source": [
    "\n",
    "def fz(x):\n",
    "    return pow((1-x*x),1/2)\n",
    "\n",
    "def integral(f,xmin,xmax,N):\n",
    "    somma=0\n",
    "    numba=0\n",
    "    for i in range(N):\n",
    "        somma+=((xmax-xmin)/N)*f(xmin+i*((xmax-xmin)/N))    \n",
    "    return somma\n",
    "        \n",
    "\n",
    "I=(integral(fz,-1,1,100000))\n",
    "print(I)\n",
    "print(\"Differenza reale e algoritmo\", (math.pi/2 - I))\n",
    "\n",
    "\n",
    "%timeit integral(fz,-1,1,150000)\n",
    "\n",
    "#Questo è il numero massimo di N che riesco a far girare in 1 sec. "
   ]
  },
  {
   "cell_type": "code",
   "execution_count": null,
   "metadata": {},
   "outputs": [],
   "source": []
  },
  {
   "cell_type": "code",
   "execution_count": null,
   "metadata": {},
   "outputs": [],
   "source": []
  }
 ],
 "metadata": {
  "kernelspec": {
   "display_name": "Python 3",
   "language": "python",
   "name": "python3"
  },
  "language_info": {
   "codemirror_mode": {
    "name": "ipython",
    "version": 3
   },
   "file_extension": ".py",
   "mimetype": "text/x-python",
   "name": "python",
   "nbconvert_exporter": "python",
   "pygments_lexer": "ipython3",
   "version": "3.8.8"
  }
 },
 "nbformat": 4,
 "nbformat_minor": 2
}
