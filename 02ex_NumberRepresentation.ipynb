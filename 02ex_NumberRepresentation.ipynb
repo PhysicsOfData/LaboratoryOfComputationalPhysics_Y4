{
 "cells": [
  {
   "cell_type": "markdown",
   "metadata": {},
   "source": [
    "1\\. Write a function that converts number representation (bin<->dec<->hex)"
   ]
  },
  {
   "cell_type": "code",
   "execution_count": 1,
   "metadata": {},
   "outputs": [],
   "source": [
    "import math \n",
    "from scipy.misc import derivative\n",
    "import timeit"
   ]
  },
  {
   "cell_type": "code",
   "execution_count": 2,
   "metadata": {},
   "outputs": [
    {
     "name": "stdout",
     "output_type": "stream",
     "text": [
      "5\n",
      "0b101\n",
      "47\n",
      "0xd6a\n"
     ]
    }
   ],
   "source": [
    "def bin_to_dec_func(x):\n",
    "    \n",
    "    x_list=[]\n",
    "    \n",
    "    for x in str(x):\n",
    "        \n",
    "        x_list.append(int(x))\n",
    "\n",
    "    add= 0\n",
    "    \n",
    "    for i in range(len(x_list)):\n",
    "        \n",
    "        a = x_list[i] * (2**(len(x_list)-1 - i))\n",
    "        \n",
    "        add= add + a\n",
    "        \n",
    "    return add\n",
    "        \n",
    "def dec_to_bin_func(x):\n",
    "    \n",
    "    return bin(x)\n",
    "\n",
    "def dec_to_hex_func(x):\n",
    "    \n",
    "    return hex(x)\n",
    "    \n",
    "def hex_to_dec_func(x):\n",
    "    \n",
    "    return int(x, 16)\n",
    "\n",
    "print(bin_to_dec_func(101))\n",
    "\n",
    "print(dec_to_bin_func(5))\n",
    "\n",
    "print(hex_to_dec_func('2f'))\n",
    "\n",
    "print(dec_to_hex_func(3434))"
   ]
  },
  {
   "cell_type": "markdown",
   "metadata": {},
   "source": [
    "2\\. Write a function that converts a 32 bit word into a single precision floating point (i.e. interprets the various bits as sign, mantissa and exponent)"
   ]
  },
  {
   "cell_type": "code",
   "execution_count": 3,
   "metadata": {},
   "outputs": [
    {
     "name": "stdout",
     "output_type": "stream",
     "text": [
      "-7.068193710780266e-28\n"
     ]
    }
   ],
   "source": [
    "def convert_func(x):\n",
    "    \n",
    "    bit_list =[]\n",
    "    \n",
    "    for x in str(x):\n",
    "        \n",
    "        bit_list.append(int(x))\n",
    "    \n",
    "    if bit_list[0] == 0:\n",
    "        \n",
    "        sign = +1\n",
    "        \n",
    "    else:\n",
    "        \n",
    "        sign= -1\n",
    "    \n",
    "    Mantissa_list= bit_list[9:] \n",
    "    \n",
    "    Exponent_list = bit_list[1:9] \n",
    "\n",
    "    exponent=0\n",
    "    \n",
    "    for i in range(len(Exponent_list)):\n",
    " \n",
    "        exponent = exponent + ((2**(len(Exponent_list)-1-i)))*Exponent_list[i]\n",
    "        \n",
    "    mantissa=0\n",
    "    \n",
    "    for i in range(len(Mantissa_list)):\n",
    "        \n",
    "        mantissa = mantissa + Mantissa_list[i]*(2**(-i-1))\n",
    "        \n",
    "    mantissa=mantissa + 1\n",
    "    \n",
    "    return sign * mantissa * (2**(exponent-127))  \n",
    "    \n",
    "print(convert_func(10010010011000000000000000000000))"
   ]
  },
  {
   "cell_type": "markdown",
   "metadata": {},
   "source": [
    "3\\. Write a program to determine the underflow and overflow limits (within a factor of 2) for python on your computer. \n",
    "\n",
    "**Tips**: define two variables inizialized to 1 and halve/double them enough time to exceed the under/over-flow limits  "
   ]
  },
  {
   "cell_type": "code",
   "execution_count": 4,
   "metadata": {},
   "outputs": [
    {
     "name": "stdout",
     "output_type": "stream",
     "text": [
      "5e-324\n"
     ]
    },
    {
     "ename": "KeyboardInterrupt",
     "evalue": "",
     "output_type": "error",
     "traceback": [
      "\u001b[1;31m---------------------------------------------------------------------------\u001b[0m",
      "\u001b[1;31mKeyboardInterrupt\u001b[0m                         Traceback (most recent call last)",
      "\u001b[1;32m<ipython-input-4-e48cded87179>\u001b[0m in \u001b[0;36m<module>\u001b[1;34m\u001b[0m\n\u001b[0;32m     15\u001b[0m     \u001b[0msaved_a\u001b[0m\u001b[1;33m=\u001b[0m\u001b[0ma\u001b[0m\u001b[1;33m\u001b[0m\u001b[1;33m\u001b[0m\u001b[0m\n\u001b[0;32m     16\u001b[0m \u001b[1;33m\u001b[0m\u001b[0m\n\u001b[1;32m---> 17\u001b[1;33m     \u001b[0ma\u001b[0m\u001b[1;33m=\u001b[0m\u001b[0ma\u001b[0m\u001b[1;33m*\u001b[0m\u001b[1;36m2\u001b[0m\u001b[1;33m\u001b[0m\u001b[1;33m\u001b[0m\u001b[0m\n\u001b[0m\u001b[0;32m     18\u001b[0m \u001b[1;33m\u001b[0m\u001b[0m\n\u001b[0;32m     19\u001b[0m \u001b[0mprint\u001b[0m\u001b[1;33m(\u001b[0m\u001b[0msaved_a\u001b[0m\u001b[1;33m)\u001b[0m\u001b[1;33m\u001b[0m\u001b[1;33m\u001b[0m\u001b[0m\n",
      "\u001b[1;31mKeyboardInterrupt\u001b[0m: "
     ]
    }
   ],
   "source": [
    "a=1    \n",
    "\n",
    "while(a!=0):\n",
    "    \n",
    "    saved_a=a\n",
    "    \n",
    "    a=a/2     \n",
    "    \n",
    "print(saved_a)\n",
    "\n",
    "a=1\n",
    "\n",
    "while(a!=math.inf): \n",
    "    \n",
    "    saved_a=a     \n",
    "    \n",
    "    a=a*2\n",
    "    \n",
    "print(saved_a)"
   ]
  },
  {
   "cell_type": "markdown",
   "metadata": {},
   "source": [
    "4\\. Write a program to determine the machine precision\n",
    "\n",
    "**Tips**: define a new variable by adding a smaller and smaller value (proceeding similarly to prob. 2) to an original variable and check the point where the two are the same "
   ]
  },
  {
   "cell_type": "code",
   "execution_count": null,
   "metadata": {},
   "outputs": [],
   "source": [
    "a=1\n",
    "b=1\n",
    "dx=0.5\n",
    "\n",
    "while(a!=b): \n",
    "    \n",
    "    saved_a = a       \n",
    "    \n",
    "    a=a+dx                   \n",
    "    \n",
    "    dx=dx/2\n",
    "    \n",
    "Machine_prec= b-saved_a\n",
    "\n",
    "print(Machine_prec)"
   ]
  },
  {
   "cell_type": "markdown",
   "metadata": {},
   "source": [
    "5\\. Write a function that takes in input three parameters $a$, $b$ and $c$ and prints out the two solutions to the quadratic equation $ax^2+bx+c=0$ using the standard formula:\n",
    "$$\n",
    "x=\\frac{-b\\pm\\sqrt{b^2-4ac}}{2a}\n",
    "$$\n",
    "\n",
    "(a) use the program to compute the solution for $a=0.001$, $b=1000$ and $c=0.001$\n",
    "\n",
    "(b) re-express the standard solution formula by multiplying top and bottom by $-b\\mp\\sqrt{b^2-4ac}$ and again find the solution for $a=0.001$, $b=1000$ and $c=0.001$. How does it compare with what previously obtained? Why?\n",
    "\n",
    "(c) write a function that compute the roots of a quadratic equation accurately in all cases"
   ]
  },
  {
   "cell_type": "code",
   "execution_count": null,
   "metadata": {},
   "outputs": [],
   "source": [
    "def S1_func(a,b,c):\n",
    "    \n",
    "    x1= (-b + math.sqrt(b**2 - 4*a*c))/(2*a)\n",
    "    \n",
    "    x2= (-b - math.sqrt(b**2 - 4*a*c))/(2*a)\n",
    "    \n",
    "    return x1,x2\n",
    "\n",
    "\n",
    "def S2_func(a,b,c):\n",
    "    \n",
    "    x1 = ((-b + math.sqrt(b**2 - 4*a*c)) * (-b - math.sqrt(b**2-4*a*c))) / ((-b - math.sqrt(b**2 - 4*a*c))*(2*a))\n",
    "    \n",
    "    x2 = ((-b - math.sqrt(b**2 - 4*a*c)) * (-b + math.sqrt(b**2-4*a*c))) / ((-b + math.sqrt(b**2 - 4*a*c))*(2*a))\n",
    "    \n",
    "    return x1,x2\n",
    "\n",
    "print(S1_func(0.001, 1000, 0.001))\n",
    "\n",
    "print(S2_func(0.001, 1000, 0.001))"
   ]
  },
  {
   "cell_type": "markdown",
   "metadata": {},
   "source": [
    "6\\. Write a program that implements the function $f(x)=x(x−1)$\n",
    "\n",
    "(a) Calculate the derivative of the function at the point $x = 1$ using the derivative definition:\n",
    "\n",
    "$$\n",
    "\\frac{{\\rm d}f}{{\\rm d}x} = \\lim_{\\delta\\to0} \\frac{f(x+\\delta)-f(x)}{\\delta}\n",
    "$$\n",
    "\n",
    "with $\\delta = 10^{−2}$. Calculate the true value of the same derivative analytically and compare with the answer your program gives. The two will not agree perfectly. Why not?\n",
    "\n",
    "(b) Repeat the calculation for $\\delta = 10^{−4}, 10^{−6}, 10^{−8}, 10^{−10}, 10^{−12}$ and $10^{−14}$. How does the accuracy scales with $\\delta$?"
   ]
  },
  {
   "cell_type": "code",
   "execution_count": null,
   "metadata": {},
   "outputs": [],
   "source": [
    "def f(x):\n",
    "    \n",
    "    return x*(x-1)\n",
    "\n",
    "def der_func(f,x,d):    \n",
    "    \n",
    "    return (f(x+d) - f(x)) / d\n",
    "\n",
    "x=1\n",
    "d= 0.01\n",
    "\n",
    "print(der_func(f,x, d))     \n",
    "\n",
    "print(derivative(f,x, d))   \n",
    "\n",
    "\n",
    "der_func_list=[]\n",
    "derivative_list=[]\n",
    "\n",
    "for i in range(-4, -16, -2):\n",
    "    \n",
    "    d= 10**i\n",
    "    \n",
    "    der_func_list.append(der_func(f,x,d))      \n",
    "    \n",
    "    derivative_list.append(derivative(f,x,d))\n",
    "    \n",
    "    \n",
    "print(der_func_list)\n",
    "\n",
    "print(derivative_list)\n",
    "\n",
    "print(\"The more the delta get smaller the more accuracy we achieve\")"
   ]
  },
  {
   "cell_type": "markdown",
   "metadata": {},
   "source": [
    "7\\. Consider the integral of the semicircle of radius 1:\n",
    "$$\n",
    "I=\\int_{-1}^{1} \\sqrt(1-x^2) {\\rm d}x\n",
    "$$\n",
    "which it's known to be $I=\\frac{\\pi}{2}=1.57079632679...$.\n",
    "Alternatively we can use the Riemann definition of the integral:\n",
    "$$\n",
    "I=\\lim_{N\\to\\infty} \\sum_{k=1}^{N} h y_k \n",
    "$$\n",
    "\n",
    "with $h=2/N$ the width of each of the $N$ slices the domain is divided into and where\n",
    "$y_k$ is the value of the function at the $k-$th slice.\n",
    "\n",
    "(a) Write a programe to compute the integral with $N=100$. How does the result compares to the true value?\n",
    "\n",
    "(b) How much can $N$ be increased if the computation needs to be run in less than a second? What is the gain in running it for 1 minute? \n"
   ]
  },
  {
   "cell_type": "code",
   "execution_count": null,
   "metadata": {},
   "outputs": [],
   "source": [
    "def f(x): \n",
    "    \n",
    "    return math.sqrt(1-x**2)\n",
    "\n",
    "N=100\n",
    "Integral=0\n",
    "x=-1\n",
    "\n",
    "for i in range(N): \n",
    "    \n",
    "    Integral= Integral + (2/N)*f(x)\n",
    "    \n",
    "    x = x + 2/N\n",
    "    \n",
    "print(Integral)\n",
    "\n",
    "print(math.pi/2)\n",
    "\n",
    "print(\"we obtained proper result which is close to the true value\")"
   ]
  },
  {
   "cell_type": "code",
   "execution_count": null,
   "metadata": {},
   "outputs": [],
   "source": []
  }
 ],
 "metadata": {
  "kernelspec": {
   "display_name": "Python 3",
   "language": "python",
   "name": "python3"
  },
  "language_info": {
   "codemirror_mode": {
    "name": "ipython",
    "version": 3
   },
   "file_extension": ".py",
   "mimetype": "text/x-python",
   "name": "python",
   "nbconvert_exporter": "python",
   "pygments_lexer": "ipython3",
   "version": "3.8.8"
  }
 },
 "nbformat": 4,
 "nbformat_minor": 2
}
