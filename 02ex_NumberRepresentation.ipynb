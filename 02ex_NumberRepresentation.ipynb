{
 "cells": [
  {
   "cell_type": "markdown",
   "metadata": {},
   "source": [
    "1\\. Write a function that converts number representation (bin<->dec<->hex)"
   ]
  },
  {
   "cell_type": "markdown",
   "metadata": {},
   "source": [
    "________"
   ]
  },
  {
   "cell_type": "code",
   "execution_count": 84,
   "metadata": {},
   "outputs": [
    {
     "name": "stdout",
     "output_type": "stream",
     "text": [
      "number is in which representation?\n",
      " 1)bin\t 2)dec\t 3)hex \t please just inter number of your choose.1\n",
      "which representation do you want convert your number?\n",
      " 1)bin\t 2)dec\t 3)hex \t please just inter number of your choose.3\n",
      "Enter your number:\n",
      "1010101\n",
      "1010101 Answer is: 0x55\n",
      "\n",
      "\n",
      "\n",
      "\n",
      "Enter your number:\n",
      "12\n",
      "Binary as decimal:4\n",
      "Decimal as binary:1100\n",
      "Decimal as hexadecimal:c\n",
      "Hexadecimal as decimal:18\n"
     ]
    }
   ],
   "source": [
    "# I have two answer : firs one---->\n",
    "\n",
    "ques1=int(input('number is in which representation?\\n 1)bin\\t 2)dec\\t 3)hex \\t please just inter number of your choose.'))\n",
    "ques2=int(input('which representation do you want convert your number?\\n 1)bin\\t 2)dec\\t 3)hex \\t please just inter number of your choose.'))\n",
    "num=int(input('Enter your number:\\n'))\n",
    "def func(num,ques1,ques2):\n",
    "    if ques1==1: number=int(str(num),2)\n",
    "    elif ques1==2: number=num\n",
    "    elif ques1==3: number=int(str(num),16)\n",
    "    else: print('!!You choice wrong, please try again!!')\n",
    "    if ques2==1: return bin(number)\n",
    "    elif ques2==2: return number\n",
    "    elif ques2==3: return hex(number)\n",
    "    else: return print('!!You choice wrong, please try again!!')\n",
    "print(str(num)+' Answer is: '+str(func(num,ques1,ques2)))\n",
    "\n",
    "\n",
    "################# \n",
    "print('\\n\\n\\n') #    \n",
    "#################\n",
    "\n",
    "\n",
    "#seccond answer --->\n",
    "\n",
    "num=int(input('Enter your number:\\n'))\n",
    "\n",
    "def bin_to_dec(num):\n",
    "    var = [int(x) for x in str(num)][::-1]\n",
    "    s = 0\n",
    "    for i in range(0,len(var)):\n",
    "        s += (2**i)*(var[i])\n",
    "    return(s)\n",
    "\n",
    "def dec_to_bin(num):\n",
    "    var = []   \n",
    "    while num>0:    \n",
    "        var.append(num%2)    \n",
    "        num = num//2 \n",
    "    var = var[::-1]\n",
    "    s = \"\".join(map(str,var))\n",
    "    return(s)\n",
    "\n",
    "def hex_to_dec(num):\n",
    "    var =[int(x) for x in str(num)]\n",
    "    var = var[::-1]\n",
    "    s = 0\n",
    "    for i in range(0,len(var)):\n",
    "        if   var[i] == 'a': var[i] = 10\n",
    "        elif var[i] == 'b': var[i] == 11 \n",
    "        elif var[i] == 'c': var[i] == 12\n",
    "        elif var[i] == 'd': var[i] == 13\n",
    "        elif var[i] == 'e': var[i] == 14\n",
    "        elif var[i] == 'f': var[i] == 15\n",
    "        s += pow(16,i)*var[i]\n",
    "    return(s)\n",
    "\n",
    "\n",
    "def dec_to_hex(num):\n",
    "    var = []\n",
    "    while num > 0:    \n",
    "        s = num%16    \n",
    "        if   s == 10: s = 'a'\n",
    "        elif s == 11: s = 'b'\n",
    "        elif s == 12: s = 'c'\n",
    "        elif s == 13: s = 'd'\n",
    "        elif s == 14: s = 'e'\n",
    "        elif s == 15: s = 'f'\n",
    "        var.append(s)\n",
    "        num = num//16\n",
    "    var = var[::-1]\n",
    "    ss = \"\".join(map(str,var))\n",
    "    return(ss)\n",
    "\n",
    "\n",
    "\n",
    "print(\"Binary as decimal:\"+ str(bin_to_dec(num))+'\\n'+\"Decimal as binary:\"+ str(dec_to_bin(num))+'\\n'+\"Decimal as hexadecimal:\"+ str(dec_to_hex(num))+'\\n'+\"Hexadecimal as decimal:\"+ str(hex_to_dec(num)))\n",
    "\n",
    "    "
   ]
  },
  {
   "cell_type": "markdown",
   "metadata": {},
   "source": [
    "---"
   ]
  },
  {
   "cell_type": "markdown",
   "metadata": {},
   "source": [
    "2\\. Write a function that converts a 32 bit word into a single precision floating point (i.e. interprets the various bits as sign, mantissa and exponent)"
   ]
  },
  {
   "cell_type": "markdown",
   "metadata": {},
   "source": [
    "___"
   ]
  },
  {
   "cell_type": "code",
   "execution_count": 6,
   "metadata": {},
   "outputs": [
    {
     "name": "stdout",
     "output_type": "stream",
     "text": [
      "01110011011000010110011001100101\n",
      "1.7858026138219034e+31\n"
     ]
    }
   ],
   "source": [
    "word = \"safe\"\n",
    "bw = '0'+'0'.join(format(ord(i), 'b') for i in word)\n",
    "def float_convert(a):\n",
    "    f=0\n",
    "    exp=0\n",
    "    for i in range(9,32):\n",
    "        f+=int(a[i])*(2**(8-i))\n",
    "    f+=1  \n",
    "    for i in range(1,9):\n",
    "        exp+=int(a[i])*pow(2,8-i)\n",
    "    exp=exp-127\n",
    "    f=f*(2**exp)\n",
    "    if int(a[0])==1:\n",
    "        f*=(-1)    \n",
    "    return(f)\n",
    "print(bw)\n",
    "print(float_convert(bw))"
   ]
  },
  {
   "cell_type": "markdown",
   "metadata": {},
   "source": [
    "---"
   ]
  },
  {
   "cell_type": "markdown",
   "metadata": {},
   "source": [
    "3\\. Write a program to determine the underflow and overflow limits (within a factor of 2) for python on your computer. \n",
    "\n",
    "**Tips**: define two variables inizialized to 1 and halve/double them enough time to exceed the under/over-flow limits  "
   ]
  },
  {
   "cell_type": "markdown",
   "metadata": {},
   "source": [
    "---"
   ]
  },
  {
   "cell_type": "code",
   "execution_count": 13,
   "metadata": {},
   "outputs": [
    {
     "name": "stdout",
     "output_type": "stream",
     "text": [
      "The underflow limit is 5e-324\n",
      "The overflow limit is 8.98846567431158e+307\n"
     ]
    }
   ],
   "source": [
    "s = int(1)\n",
    "while True:\n",
    "    under=s \n",
    "    s/=2\n",
    "    if s==0:\n",
    "        print(\"The underflow limit is {}\".format(under))\n",
    "        break\n",
    "\n",
    "st = float(1.0)\n",
    "while True:\n",
    "    over=st\n",
    "    st *= 2\n",
    "    if st==float('inf'):\n",
    "        print(\"The overflow limit is {}\".format(over))\n",
    "        break"
   ]
  },
  {
   "cell_type": "markdown",
   "metadata": {},
   "source": [
    "---"
   ]
  },
  {
   "cell_type": "markdown",
   "metadata": {},
   "source": [
    "4\\. Write a program to determine the machine precision\n",
    "\n",
    "**Tips**: define a new variable by adding a smaller and smaller value (proceeding similarly to prob. 2) to an original variable and check the point where the two are the same "
   ]
  },
  {
   "cell_type": "markdown",
   "metadata": {},
   "source": [
    "---"
   ]
  },
  {
   "cell_type": "code",
   "execution_count": 29,
   "metadata": {},
   "outputs": [
    {
     "name": "stdout",
     "output_type": "stream",
     "text": [
      "machine precision for 0.000010=  5.551115123125783e-22\n",
      "machine precision for 0.000100=  5.551115123125783e-21\n",
      "machine precision for 0.001000=  5.551115123125783e-20\n",
      "machine precision for 0.010000=  5.551115123125783e-19\n",
      "machine precision for 0.100000=  5.551115123125783e-18\n",
      "machine precision for 1.000000=  1.1102230246251565e-16\n",
      "machine precision for 10.000000=  5.551115123125783e-16\n",
      "machine precision for 100.000000=  5.551115123125783e-15\n",
      "machine precision for 1000.000000=  5.551115123125783e-14\n",
      "machine precision for 10000.000000=  5.551115123125783e-13\n"
     ]
    }
   ],
   "source": [
    "def per(k):\n",
    "    start=k\n",
    "    plus=k \n",
    "\n",
    "    while True:\n",
    "        plus/=2 \n",
    "        if start+plus==start:\n",
    "            print(\"machine precision for %f= \"%k,plus)\n",
    "            break\n",
    "            \n",
    "for i in range(-5,5):\n",
    "    per(10**i)"
   ]
  },
  {
   "cell_type": "markdown",
   "metadata": {},
   "source": [
    "---"
   ]
  },
  {
   "cell_type": "markdown",
   "metadata": {},
   "source": [
    "5\\. Write a function that takes in input three parameters $a$, $b$ and $c$ and prints out the two solutions to the quadratic equation $ax^2+bx+c=0$ using the standard formula:\n",
    "$$\n",
    "x=\\frac{-b\\pm\\sqrt{b^2-4ac}}{2a}\n",
    "$$\n",
    "\n",
    "(a) use the program to compute the solution for $a=0.001$, $b=1000$ and $c=0.001$\n",
    "\n",
    "(b) re-express the standard solution formula by multiplying top and bottom by $-b\\mp\\sqrt{b^2-4ac}$ and again find the solution for $a=0.001$, $b=1000$ and $c=0.001$. How does it compare with what previously obtained? Why?\n",
    "\n",
    "(c) write a function that compute the roots of a quadratic equation accurately in all cases"
   ]
  },
  {
   "cell_type": "markdown",
   "metadata": {},
   "source": [
    "___________________________________________________________________"
   ]
  },
  {
   "cell_type": "markdown",
   "metadata": {},
   "source": [
    "Answer part a:"
   ]
  },
  {
   "cell_type": "code",
   "execution_count": 56,
   "metadata": {},
   "outputs": [
    {
     "name": "stdout",
     "output_type": "stream",
     "text": [
      "Two solutions are x1 = -9.999894245993346e-07 and x2 = -999999.999999\n"
     ]
    }
   ],
   "source": [
    "import numpy as np\n",
    "def solver1(a,b,c):\n",
    "    delta=b**2-4*a*c\n",
    "    if delta>=0:\n",
    "        x1=(-b+np.sqrt(delta))/(2*a)\n",
    "        x2=(-b-np.sqrt(delta))/(2*a)\n",
    "        return(print(\"Two solutions are x1 =\", x1,\"and x2 =\", x2))\n",
    "    else: return(print(\"There is no real answer\"))\n",
    "\n",
    "solver1(0.001, 1000, 0.001)\n"
   ]
  },
  {
   "cell_type": "markdown",
   "metadata": {},
   "source": [
    "Answer part b:"
   ]
  },
  {
   "cell_type": "code",
   "execution_count": 58,
   "metadata": {},
   "outputs": [
    {
     "name": "stdout",
     "output_type": "stream",
     "text": [
      "Two solutions are x1 = -1.0000000000009999e-06 and x2 = -1000010.5755125057\n"
     ]
    }
   ],
   "source": [
    "def solver2(a,b,c):\n",
    "    delta = b**2 - 4*a*c\n",
    "    if delta >= 0:\n",
    "        x1=(4*a*c)/((2*a)*((-b-np.sqrt(delta))))\n",
    "        x2=(4*a*c)/((2*a)*((-b+np.sqrt(delta))))\n",
    "        return(print(\"Two solutions are x1 =\", x1,\"and x2 =\", x2))\n",
    "    else: return(print(\"No real solutions\"))\n",
    "solver2(0.001, 1000, 0.001)"
   ]
  },
  {
   "cell_type": "markdown",
   "metadata": {},
   "source": [
    "There is a problem in these tow functions which I think it comes from ${b^2-4ac}$ because there is $10^{12}$ difference between $b^2$ and ${4ac}$"
   ]
  },
  {
   "cell_type": "markdown",
   "metadata": {},
   "source": [
    "Answer part c:"
   ]
  },
  {
   "cell_type": "code",
   "execution_count": 64,
   "metadata": {},
   "outputs": [
    {
     "name": "stdout",
     "output_type": "stream",
     "text": [
      "Two solutions are x1 = -484188.6116991897 and x2 = -515811.3883008103\n"
     ]
    }
   ],
   "source": [
    "def solver3(a,b,c):\n",
    "    delta = b**2-4*a*c\n",
    "    if delta >= 0:\n",
    "        m=-b/a\n",
    "        n=np.sqrt(delta/a)\n",
    "        x1 = (m+n)/2\n",
    "        x2 = (m-n)/2\n",
    "        return(print(\"Two solutions are x1 =\", x1,\"and x2 =\", x2))\n",
    "    else:return(print(\"No real solutions\"))\n",
    "solver3(0.001, 1000, 0.001)"
   ]
  },
  {
   "cell_type": "markdown",
   "metadata": {},
   "source": [
    "---"
   ]
  },
  {
   "cell_type": "markdown",
   "metadata": {},
   "source": [
    "6\\. Write a program that implements the function $f(x)=x(x−1)$\n",
    "\n",
    "(a) Calculate the derivative of the function at the point $x = 1$ using the derivative definition:\n",
    "\n",
    "$$\n",
    "\\frac{{\\rm d}f}{{\\rm d}x} = \\lim_{\\delta\\to0} \\frac{f(x+\\delta)-f(x)}{\\delta}\n",
    "$$\n",
    "\n",
    "with $\\delta = 10^{−2}$. Calculate the true value of the same derivative analytically and compare with the answer your program gives. The two will not agree perfectly. Why not?\n",
    "\n",
    "(b) Repeat the calculation for $\\delta = 10^{−4}, 10^{−6}, 10^{−8}, 10^{−10}, 10^{−12}$ and $10^{−14}$. How does the accuracy scales with $\\delta$?"
   ]
  },
  {
   "cell_type": "markdown",
   "metadata": {},
   "source": [
    "______"
   ]
  },
  {
   "cell_type": "markdown",
   "metadata": {},
   "source": [
    "Answer part a:"
   ]
  },
  {
   "cell_type": "code",
   "execution_count": 68,
   "metadata": {},
   "outputs": [
    {
     "name": "stdout",
     "output_type": "stream",
     "text": [
      "1.010000000000001\n",
      "\n",
      " 0.010000000000000897\n"
     ]
    }
   ],
   "source": [
    "def f(x):\n",
    "    return(x*(x-1))\n",
    "\n",
    "def d(f,x,d):\n",
    "    dif=(f(x+d)-f(x))/d\n",
    "    return(dif)\n",
    "\n",
    "print(d(f, 1, 0.01))\n",
    "print('\\n diffrant',d(f, 1, 0.01)-1)"
   ]
  },
  {
   "cell_type": "markdown",
   "metadata": {},
   "source": [
    "yes , there is a little diffrant in analytically answer and this answer. Actually, it comes from sigma=0.01 becuase we should take smaller sigma for better answer. But for smaller than $10^{-12}$ it depends on machine error."
   ]
  },
  {
   "cell_type": "markdown",
   "metadata": {},
   "source": [
    "Answer part b:"
   ]
  },
  {
   "cell_type": "code",
   "execution_count": 96,
   "metadata": {},
   "outputs": [
    {
     "name": "stdout",
     "output_type": "stream",
     "text": [
      "for 0.0001 : 1.0000999999998899\n",
      "for 1e-06 : 1.0000009999177333\n",
      "for 1e-08 : 1.0000000039225287\n",
      "for 1e-10 : 1.000000082840371\n",
      "for 1e-12 : 1.0000889005833413\n",
      "for 1e-14 : 0.9992007221626509\n"
     ]
    }
   ],
   "source": [
    "l=[10**(-i) for i in range(4,15) ]\n",
    "for i in l[::2]:\n",
    "    print ('for',i,':',d(f, 1, i))\n"
   ]
  },
  {
   "cell_type": "markdown",
   "metadata": {},
   "source": [
    "7\\. Consider the integral of the semicircle of radius 1:\n",
    "$$\n",
    "I=\\int_{-1}^{1} \\sqrt(1-x^2) {\\rm d}x\n",
    "$$\n",
    "which it's known to be $I=\\frac{\\pi}{2}=1.57079632679...$.\n",
    "Alternatively we can use the Riemann definition of the integral:\n",
    "$$\n",
    "I=\\lim_{N\\to\\infty} \\sum_{k=1}^{N} h y_k \n",
    "$$\n",
    "\n",
    "with $h=2/N$ the width of each of the $N$ slices the domain is divided into and where\n",
    "$y_k$ is the value of the function at the $k-$th slice.\n",
    "\n",
    "(a) Write a programe to compute the integral with $N=100$. How does the result compares to the true value?\n",
    "\n",
    "(b) How much can $N$ be increased if the computation needs to be run in less than a second? What is the gain in running it for 1 minute? \n"
   ]
  },
  {
   "cell_type": "markdown",
   "metadata": {},
   "source": [
    "___"
   ]
  },
  {
   "cell_type": "markdown",
   "metadata": {},
   "source": [
    "Answer part a:"
   ]
  },
  {
   "cell_type": "code",
   "execution_count": 130,
   "metadata": {},
   "outputs": [
    {
     "name": "stdout",
     "output_type": "stream",
     "text": [
      "pi/2 1.5707963267948966\n",
      "The Riemann (N = 100):  1.5691342555492493\n",
      "error: 0.0010581074180626305\n"
     ]
    }
   ],
   "source": [
    "import numpy as np\n",
    "\n",
    "def R(N):\n",
    "    h,I,x = 2/N,0,-1\n",
    "    while x<1:\n",
    "        I+=h*(np.sqrt(1-x**2))\n",
    "        x+=h\n",
    "    return(I)\n",
    "\n",
    "pi2 = np.pi/2\n",
    "\n",
    "print(\"pi/2\", pi2)\n",
    "print(\"The Riemann (N = 100): \", R(100))\n",
    "print(\"error:\", abs(pi2-R(100))/pi2)\n"
   ]
  },
  {
   "cell_type": "markdown",
   "metadata": {},
   "source": [
    "Answer part b:"
   ]
  },
  {
   "cell_type": "code",
   "execution_count": 134,
   "metadata": {},
   "outputs": [
    {
     "name": "stdout",
     "output_type": "stream",
     "text": [
      "Max N for less than 1s: 420000 error: 10000\n"
     ]
    }
   ],
   "source": [
    "#1 sec\n",
    "import time\n",
    "t = 0\n",
    "N1s=10000\n",
    "d=10000\n",
    "while(t < 1.0):\n",
    "    start = time.process_time()\n",
    "    R(N1s)\n",
    "    end = time.process_time()\n",
    "    t = end-start\n",
    "    N1s+=d\n",
    "\n",
    "print(\"Max N for less than 1s:\", N1s,\"error:\",d)\n",
    "\n"
   ]
  },
  {
   "cell_type": "code",
   "execution_count": 136,
   "metadata": {},
   "outputs": [
    {
     "name": "stdout",
     "output_type": "stream",
     "text": [
      "Max N for less than 1min: 24880000 error: 100000\n"
     ]
    }
   ],
   "source": [
    "# 1 min\n",
    "import time\n",
    "t = 0\n",
    "N1s=420000*59\n",
    "d=100000\n",
    "while(t < 60.0):\n",
    "    start = time.process_time()\n",
    "    R(N1s)\n",
    "    end = time.process_time()\n",
    "    t = end-start\n",
    "    N1s+=d\n",
    "\n",
    "print(\"Max N for less than 1min:\", N1s,'error:',d)"
   ]
  },
  {
   "cell_type": "markdown",
   "metadata": {},
   "source": [
    "---"
   ]
  }
 ],
 "metadata": {
  "kernelspec": {
   "display_name": "Python 3",
   "language": "python",
   "name": "python3"
  },
  "language_info": {
   "codemirror_mode": {
    "name": "ipython",
    "version": 3
   },
   "file_extension": ".py",
   "mimetype": "text/x-python",
   "name": "python",
   "nbconvert_exporter": "python",
   "pygments_lexer": "ipython3",
   "version": "3.8.5"
  }
 },
 "nbformat": 4,
 "nbformat_minor": 2
}
