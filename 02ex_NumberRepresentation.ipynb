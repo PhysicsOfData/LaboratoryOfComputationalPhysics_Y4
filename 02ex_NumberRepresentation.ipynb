{
 "cells": [
  {
   "cell_type": "markdown",
   "metadata": {},
   "source": [
    "1\\. Write a function that converts number representation (bin<->dec<->hex)"
   ]
  },
  {
   "cell_type": "code",
   "execution_count": null,
   "metadata": {},
   "outputs": [],
   "source": [
    "def num_conv(num, conv_to):\n",
    "    if(num[:2] == \"0b\"):\n",
    "        if(conv_to == \"hex\"):\n",
    "            print(\"Convert bin to hex\")\n",
    "            num = oct(num)\n",
    "        elif(conv_to==\"dec\"):\n",
    "            print(\"Convert bin to dec\")\n",
    "            num = int(num)\n",
    "        else:\n",
    "            print(\"Invalid convertation\")\n",
    "    elif(num[:2] == \"0x\"):\n",
    "        if(conv_to == \"bin\"):\n",
    "            print(\"Convert hex to bin\")\n",
    "            num = bin(num)\n",
    "        elif(conv_to==\"dec\"):\n",
    "            print(\"Convert hex to dec\")\n",
    "            num = int(num)\n",
    "        else:\n",
    "            print(\"Invalid convertation\")\n",
    "    return num\n",
    "print(num_conv(\"0b11\",\"hex\"))"
   ]
  },
  {
   "cell_type": "markdown",
   "metadata": {},
   "source": [
    "2\\. Write a function that converts a 32 bit word into a single precision floating point (i.e. interprets the various bits as sign, mantissa and exponent)"
   ]
  },
  {
   "cell_type": "code",
   "execution_count": null,
   "metadata": {},
   "outputs": [],
   "source": [
    "def bittofloat(x):\n",
    "    sign = 0\n",
    "    if(x < 0):\n",
    "        sign = 1\n",
    "    #realpart = abs(x)\n",
    "    #intpart = int(x)\n",
    "    #remainder = realpart - intpart\n",
    "    mantissa = x[9:]\n",
    "    exponent = int(value[1:9], 2)\n",
    "    intmantissa = 0\n",
    "    exp = -1\n",
    "    for i in mantissa:\n",
    "        intmantissa = intmantissa + (int(i) * (2**exp))\n",
    "        exp = exp - 1\n",
    "\n",
    "    return ((-1)**sign)*(intmantissa+1)*(2**exp) \n",
    "#print(bittofloat(11111000000000000000000))"
   ]
  },
  {
   "cell_type": "markdown",
   "metadata": {},
   "source": [
    "3\\. Write a program to determine the underflow and overflow limits (within a factor of 2) for python on your computer. \n",
    "\n",
    "**Tips**: define two variables inizialized to 1 and halve/double them enough time to exceed the under/over-flow limits  "
   ]
  },
  {
   "cell_type": "code",
   "execution_count": null,
   "metadata": {},
   "outputs": [],
   "source": [
    "import math\n",
    "def underflow():\n",
    "    n = 1\n",
    "    while(n/2>0):\n",
    "        n = n/2\n",
    "    print(\"Min is\",n)\n",
    "    \n",
    "def overflow():\n",
    "    m = 1\n",
    "    while(m*2<math.inf):\n",
    "        m = m*2\n",
    "    print(\"Max is\", m)\n",
    "\n",
    "underflow()\n",
    "overflow()"
   ]
  },
  {
   "cell_type": "markdown",
   "metadata": {},
   "source": [
    "4\\. Write a program to determine the machine precision\n",
    "\n",
    "**Tips**: define a new variable by adding a smaller and smaller value (proceeding similarly to prob. 2) to an original variable and check the point where the two are the same "
   ]
  },
  {
   "cell_type": "code",
   "execution_count": null,
   "metadata": {},
   "outputs": [],
   "source": [
    "import sys\n",
    "eps = sys.float_info.epsilon\n",
    "a = 1\n",
    "b = 1\n",
    "while a+b/2 != a:\n",
    "    b /=2\n",
    "print(b)\n",
    "if(eps == b):\n",
    "    print(\"good job\")\n",
    "else:\n",
    "    print(\"something is wrong\")"
   ]
  },
  {
   "cell_type": "markdown",
   "metadata": {},
   "source": [
    "5\\. Write a function that takes in input three parameters $a$, $b$ and $c$ and prints out the two solutions to the quadratic equation $ax^2+bx+c=0$ using the standard formula:\n",
    "$$\n",
    "x=\\frac{-b\\pm\\sqrt{b^2-4ac}}{2a}\n",
    "$$\n",
    "\n",
    "(a) use the program to compute the solution for $a=0.001$, $b=1000$ and $c=0.001$\n",
    "\n",
    "(b) re-express the standard solution formula by multiplying top and bottom by $-b\\mp\\sqrt{b^2-4ac}$ and again find the solution for $a=0.001$, $b=1000$ and $c=0.001$. How does it compare with what previously obtained? Why?\n",
    "\n",
    "(c) write a function that compute the roots of a quadratic equation accurately in all cases"
   ]
  },
  {
   "cell_type": "code",
   "execution_count": null,
   "metadata": {},
   "outputs": [],
   "source": [
    "def solve1 (a, b, c):\n",
    "    x1 = (-b + ((b**2-4*a*c)**(1/2))) / (2*a) \n",
    "    x2 = (-b - ((b**2-4*a*c)**(1/2)))/ (2*a)\n",
    "    print(\"The solutions are the 1st way are\",x1,x2)\n",
    "def solve2 (a,b,c):\n",
    "    x1 = (-b+(b**2-4*a*c)**0.5)/(2*a)*(-b-(b**2-4*a*c)**0.5)/(-b-(b**2-4*a*c)**0.5)\n",
    "    x2 =(-b-(b**2-4*a*c)**0.5)/(2*a)*(-b+(b**2-4*a*c)**0.5)/(-b+(b**2-4*a*c)**0.5)\n",
    "    print(\"The solutions are the 2nd way are\",x1,x2)\n",
    "def solve3 (a, b, c):\n",
    "    x1 = (2*c)/(-b - ((b**2 -4*a*c)**(1/2)))\n",
    "    x2= (-b-(b**2 -4*a*c)**(1/2))/(2*a)\n",
    "    print(\"The solutions are the 3rd way are\",x1,x2)\n",
    "\n",
    "solve1(0.001,1000,0.001)\n",
    "solve2(0.001,1000,0.001)\n",
    "solve3(0.001,1000,0.001)"
   ]
  },
  {
   "cell_type": "markdown",
   "metadata": {},
   "source": [
    "6\\. Write a program that implements the function $f(x)=x(x−1)$\n",
    "\n",
    "(a) Calculate the derivative of the function at the point $x = 1$ using the derivative definition:\n",
    "\n",
    "$$\n",
    "\\frac{{\\rm d}f}{{\\rm d}x} = \\lim_{\\delta\\to0} \\frac{f(x+\\delta)-f(x)}{\\delta}\n",
    "$$\n",
    "\n",
    "with $\\delta = 10^{−2}$. Calculate the true value of the same derivative analytically and compare with the answer your program gives. The two will not agree perfectly. Why not?\n",
    "\n",
    "(b) Repeat the calculation for $\\delta = 10^{−4}, 10^{−6}, 10^{−8}, 10^{−10}, 10^{−12}$ and $10^{−14}$. How does the accuracy scales with $\\delta$?"
   ]
  },
  {
   "cell_type": "code",
   "execution_count": null,
   "metadata": {},
   "outputs": [],
   "source": [
    "def f(x):\n",
    "    return x*(x-1)\n",
    "\n",
    "def derivative(x, delta):\n",
    "    func = f(x)\n",
    "    fxdelta = f(x+delta)\n",
    "    return (fxdelta-func)/delta\n",
    "x = 1\n",
    "for i in range(2,16,2):\n",
    "    print(derivative(x,10**(-i)))"
   ]
  },
  {
   "cell_type": "markdown",
   "metadata": {},
   "source": [
    "7\\. Consider the integral of the semicircle of radius 1:\n",
    "$$\n",
    "I=\\int_{-1}^{1} \\sqrt(1-x^2) {\\rm d}x\n",
    "$$\n",
    "which it's known to be $I=\\frac{\\pi}{2}=1.57079632679...$.\n",
    "Alternatively we can use the Riemann definition of the integral:\n",
    "$$\n",
    "I=\\lim_{N\\to\\infty} \\sum_{k=1}^{N} h y_k \n",
    "$$\n",
    "\n",
    "with $h=2/N$ the width of each of the $N$ slices the domain is divided into and where\n",
    "$y_k$ is the value of the function at the $k-$th slice.\n",
    "\n",
    "(a) Write a programe to compute the integral with $N=100$. How does the result compares to the true value?\n",
    "\n",
    "(b) How much can $N$ be increased if the computation needs to be run in less than a second? What is the gain in running it for 1 minute? \n"
   ]
  },
  {
   "cell_type": "code",
   "execution_count": null,
   "metadata": {},
   "outputs": [],
   "source": [
    "import math\n",
    "import time \n",
    "#def timing(func):\n",
    " #   def wrapper(*args,**kwargs):\n",
    "  #      start_time = time.time()\n",
    "   #     func(*args,**kwargs)      #something was not working \n",
    "    #    end_time = time.time()\n",
    "     #   print(\"It took\", end_time-start_time,\"time\")\n",
    "    #return wrapper\n",
    "#@timing\n",
    "def semicircle(x):\n",
    "    return (1-x*x)**0.5\n",
    "def riemann(N):\n",
    "    a= -1\n",
    "    b=1\n",
    "    h = (b-a) / N\n",
    "    I=0\n",
    "    for i in range(N):\n",
    "        I += h * semicircle(a+h/2+i*h)\n",
    "    return I\n",
    "\n",
    "#start_time = time.time()\n",
    "R = riemann(100)\n",
    "%timeit riemann(100)\n",
    "#end_time = time.time()\n",
    "print(\"Riemann integral with N=100 is\", R)\n",
    "\n",
    "R1 = riemann(1000)\n",
    "%timeit riemann(1000)\n",
    "print(\"Riemann integral with N=1000 is\", R1)\n",
    "\n",
    "R2 = riemann(10000)\n",
    "%timeit riemann(1000)\n",
    "print(\"Riemann integral with N=10000 is\", R2)\n",
    "\n",
    "print(\"The value should be\", math.pi/2)"
   ]
  }
 ],
 "metadata": {
  "kernelspec": {
   "display_name": "Python 3",
   "language": "python",
   "name": "python3"
  },
  "language_info": {
   "codemirror_mode": {
    "name": "ipython",
    "version": 3
   },
   "file_extension": ".py",
   "mimetype": "text/x-python",
   "name": "python",
   "nbconvert_exporter": "python",
   "pygments_lexer": "ipython3",
   "version": "3.8.8"
  }
 },
 "nbformat": 4,
 "nbformat_minor": 2
}
