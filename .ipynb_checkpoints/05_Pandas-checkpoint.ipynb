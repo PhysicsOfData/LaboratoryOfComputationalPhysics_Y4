{
 "cells": [
  {
   "cell_type": "markdown",
   "metadata": {},
   "source": [
    "# Pandas\n",
    "\n",
    "The `numpy` module is excellent for numerical computations, but to handle missing data or arrays with mixed types takes more work. The `pandas` module is currently the most widely used tool for data manipulation, providing high-performance, easy-to-use data structures and advanced data analysis tools.\n",
    "\n",
    "In particular `pandas` features:\n",
    "\n",
    "* A fast and efficient \"DataFrame\" object for data manipulation with integrated indexing;\n",
    "* Tools for reading and writing data between in-memory data structures and different formats (CSV, Excel, SQL, HDF5);\n",
    "* Intelligent data alignment and integrated handling of missing data;\n",
    "* Intelligent label-based slicing, fancy indexing, and subsetting of large data sets;\n",
    "* Aggregating or transforming data with a powerful \"group-by\" engine; \n",
    "* High performance merging and joining of data sets;\n",
    "* Hierarchical axis indexing provides an intuitive way of working with high-dimensional data in a lower-dimensional data structure;\n",
    "* Time series-functionalities;\n",
    "* Highly optimized for performance, with critical code paths written in Cython or C.\n"
   ]
  },
  {
   "cell_type": "code",
   "execution_count": 1,
   "metadata": {},
   "outputs": [],
   "source": [
    "import pandas as pd\n",
    "import numpy as np"
   ]
  },
  {
   "cell_type": "markdown",
   "metadata": {},
   "source": [
    "## Series\n",
    "\n",
    "Series are completely equivalent to 1D array but with axis labels and the possibility to store heterogeneous elements. Of paramount importance are the time-series, used to define time evolutions of a phenomenon. \n"
   ]
  },
  {
   "cell_type": "code",
   "execution_count": 2,
   "metadata": {},
   "outputs": [
    {
     "name": "stdout",
     "output_type": "stream",
     "text": [
      "xs: a    0.0\n",
      "b    0.5\n",
      "c    1.0\n",
      "d    1.5\n",
      "e    2.0\n",
      "f    2.5\n",
      "g    3.0\n",
      "h    3.5\n",
      "i    4.0\n",
      "j    4.5\n",
      "dtype: float64 \n",
      "\n",
      "xs indexes: Index(['a', 'b', 'c', 'd', 'e', 'f', 'g', 'h', 'i', 'j'], dtype='object') \n",
      "\n",
      "xs values: [0.  0.5 1.  1.5 2.  2.5 3.  3.5 4.  4.5] <class 'numpy.ndarray'> \n",
      "\n",
      "2.5 2.5 3.5 \n",
      "\n",
      "d    1.5\n",
      "f    2.5\n",
      "h    3.5\n",
      "dtype: float64 \n",
      "\n",
      "<class 'pandas.core.series.Series'> \n",
      "\n"
     ]
    }
   ],
   "source": [
    "from string import ascii_lowercase as letters\n",
    "\n",
    "# Creating a series, accessing indexes, values and values by their index \n",
    "xs = pd.Series(np.arange(10)*0.5, index=tuple(letters[:10]))\n",
    "print (\"xs:\", xs,'\\n')\n",
    "print (\"xs indexes:\",xs.index,'\\n')\n",
    "# Values of the Series are actually a numpy array\n",
    "print (\"xs values:\", xs.values, type(xs.values),'\\n')\n",
    "print (xs['f'], xs.f, xs.h, '\\n')\n",
    "print (xs[['d', 'f', 'h']], '\\n')\n",
    "print (type(xs[['d', 'f', 'h']]), '\\n')"
   ]
  },
  {
   "cell_type": "code",
   "execution_count": 3,
   "metadata": {},
   "outputs": [
    {
     "name": "stdout",
     "output_type": "stream",
     "text": [
      "a    0.0\n",
      "b    0.5\n",
      "c    1.0\n",
      "dtype: float64 \n",
      "\n",
      "h    3.5\n",
      "i    4.0\n",
      "j    4.5\n",
      "dtype: float64 \n",
      "\n",
      "a    0.0\n",
      "d    1.5\n",
      "g    3.0\n",
      "j    4.5\n",
      "dtype: float64 \n",
      "\n",
      "h    3.5\n",
      "i    4.0\n",
      "j    4.5\n",
      "dtype: float64 \n",
      "\n",
      "a     1.000000\n",
      "b     1.648721\n",
      "c     2.718282\n",
      "d     4.481689\n",
      "e     7.389056\n",
      "f    12.182494\n",
      "g    20.085537\n",
      "h    33.115452\n",
      "i    54.598150\n",
      "j    90.017131\n",
      "dtype: float64 \n",
      "\n",
      "2.25 1.4361406616345072 \n",
      "\n"
     ]
    }
   ],
   "source": [
    "# Extracting elements and operations: same as numpy array\n",
    "print (xs[:3],'\\n')\n",
    "print (xs[7:], '\\n')\n",
    "print (xs[::3], '\\n')\n",
    "print (xs[xs>3], '\\n')\n",
    "print (np.exp(xs), '\\n')\n",
    "print (np.mean(xs), np.std(xs), '\\n')"
   ]
  },
  {
   "cell_type": "code",
   "execution_count": 4,
   "metadata": {},
   "outputs": [
    {
     "data": {
      "text/plain": [
       "b         1\n",
       "a       cat\n",
       "c    [2, 3]\n",
       "dtype: object"
      ]
     },
     "execution_count": 4,
     "metadata": {},
     "output_type": "execute_result"
    }
   ],
   "source": [
    "# Series can be created from python dictionary too.\n",
    "# Not that the elements can be whatever!\n",
    "d = {'b' : 1, 'a' : 'cat', 'c' : [2,3]}\n",
    "pd.Series(d)\n",
    "\n"
   ]
  },
  {
   "cell_type": "markdown",
   "metadata": {},
   "source": [
    "A key difference between Series and ndarray is that operations between Series automatically align the data based on label. Thus, you can write computations without considering whether the Series involved have the same labels."
   ]
  },
  {
   "cell_type": "code",
   "execution_count": 5,
   "metadata": {},
   "outputs": [
    {
     "name": "stdout",
     "output_type": "stream",
     "text": [
      "a    1.477175\n",
      "b    0.579850\n",
      "c    0.896675\n",
      "d    0.783712\n",
      "e    2.024798\n",
      "dtype: float64\n",
      "a         NaN\n",
      "b    1.159700\n",
      "c    1.793350\n",
      "d    1.567425\n",
      "e         NaN\n",
      "dtype: float64\n"
     ]
    }
   ],
   "source": [
    "s = pd.Series(np.random.randn(5), index=tuple(letters[:5]))\n",
    "print(s)\n",
    "s = s[1:] + s[:-1]\n",
    "print(s)"
   ]
  },
  {
   "cell_type": "markdown",
   "metadata": {},
   "source": [
    "### Time series\n",
    "\n",
    "Time series are very often used to profile the behaviour of a quantity as a function of time. Pandas has a special index for that, `DatetimeIndex`, that can be created e.g. with the function `pd.data_range()`"
   ]
  },
  {
   "cell_type": "code",
   "execution_count": 6,
   "metadata": {},
   "outputs": [
    {
     "name": "stdout",
     "output_type": "stream",
     "text": [
      "2022-01-03\n",
      "2021-11-22 12:45:10.000015\n",
      "22/11/2021 12:45:00\n",
      "DatetimeIndex(['2021-11-22 12:45:00', '2021-11-23 12:45:00',\n",
      "               '2021-11-24 12:45:00', '2021-11-25 12:45:00',\n",
      "               '2021-11-26 12:45:00', '2021-11-27 12:45:00',\n",
      "               '2021-11-28 12:45:00'],\n",
      "              dtype='datetime64[ns]', freq='D')\n",
      "DatetimeIndex(['2021-11-22 12:45:00', '2021-11-22 12:45:01',\n",
      "               '2021-11-22 12:45:02', '2021-11-22 12:45:03',\n",
      "               '2021-11-22 12:45:04', '2021-11-22 12:45:05',\n",
      "               '2021-11-22 12:45:06', '2021-11-22 12:45:07',\n",
      "               '2021-11-22 12:45:08', '2021-11-22 12:45:09',\n",
      "               ...\n",
      "               '2021-11-22 13:44:50', '2021-11-22 13:44:51',\n",
      "               '2021-11-22 13:44:52', '2021-11-22 13:44:53',\n",
      "               '2021-11-22 13:44:54', '2021-11-22 13:44:55',\n",
      "               '2021-11-22 13:44:56', '2021-11-22 13:44:57',\n",
      "               '2021-11-22 13:44:58', '2021-11-22 13:44:59'],\n",
      "              dtype='datetime64[ns]', length=3600, freq='S')\n"
     ]
    }
   ],
   "source": [
    "# to define a date, the datetime module is very useful\n",
    "import datetime as dt\n",
    "date = dt.date.today()\n",
    "print(date)\n",
    "\n",
    "date = dt.datetime(2021,11,22,12,45,10,15)\n",
    "print (date)\n",
    "\n",
    "# otherwise, several notations are interpreted too\n",
    "date = 'Nov 22 2021'\n",
    "# or alternatively\n",
    "date = '22/11/2021 12:45:00'\n",
    "print (date)\n",
    "\n",
    "days = pd.date_range(date, periods=7, freq='D')\n",
    "print (days)\n",
    "\n",
    "seconds = pd.date_range(date, periods=3600, freq='s')\n",
    "print (seconds)\n"
   ]
  },
  {
   "cell_type": "markdown",
   "metadata": {},
   "source": [
    "To learn more about the frequency strings, please see this [link](http://pandas.pydata.org/pandas-docs/stable/timeseries.html#offset-aliases)\n",
    "\n",
    "\n",
    "Timestamped data is the most basic type of time series data that associates values with points in time. For pandas objects it means using the points in time.\n",
    "\n",
    "functions like `pd.to_datetime` can be used, for instance, when reading information as string from a dataset.\n",
    "\n",
    "Timestamp is the pandas equivalent of python’s Datetime and is interchangeable with it in most cases. "
   ]
  },
  {
   "cell_type": "code",
   "execution_count": 7,
   "metadata": {},
   "outputs": [
    {
     "name": "stdout",
     "output_type": "stream",
     "text": [
      "1604880000000000000\n",
      "<class 'pandas._libs.tslibs.timestamps.Timestamp'>\n",
      "1289520000000000000\n",
      "2010-11-12 00:00:00\n",
      "1289520000000000000\n"
     ]
    }
   ],
   "source": [
    "tstamp = pd.Timestamp(dt.datetime(2020, 11, 9))\n",
    "\n",
    "# internally it counts the nanoseconds from January 1st 19\n",
    "#tstamp = pd.Timestamp(dt.datetime(1970, 1, 1, 0, 0, 0, 1))\n",
    "print(tstamp.value)\n",
    "\n",
    "# when creating a timestamp the format can be explicitly passed\n",
    "ts = pd.to_datetime('2010/11/12', format='%Y/%m/%d')\n",
    "print (type(ts))\n",
    "print (ts.value)\n",
    "ts = pd.to_datetime('12-11-2010 00:00', format='%d-%m-%Y %H:%M')\n",
    "print (ts)\n",
    "print (ts.value)\n",
    "\n"
   ]
  },
  {
   "cell_type": "markdown",
   "metadata": {},
   "source": [
    "A standard series can be created and (range of) elements can be used as indexes"
   ]
  },
  {
   "cell_type": "code",
   "execution_count": 8,
   "metadata": {
    "scrolled": true
   },
   "outputs": [
    {
     "name": "stdout",
     "output_type": "stream",
     "text": [
      "2021-11-22 12:45:00     9.087473\n",
      "2021-11-23 12:45:00     9.161147\n",
      "2021-11-24 12:45:00    11.648203\n",
      "2021-11-25 12:45:00     9.051931\n",
      "Freq: D, dtype: float64 \n",
      "\n",
      "2021-11-22 12:45:00    9.087473\n",
      "2021-11-23 12:45:00    9.161147\n",
      "Freq: D, dtype: float64 \n",
      "\n"
     ]
    }
   ],
   "source": [
    "tseries = pd.Series(np.random.normal(10, 1, len(days)), index=days)\n",
    "# Extracting elements\n",
    "print (tseries[0:4], '\\n')\n",
    "print (tseries['2021-11-22':'2021-11-23'], '\\n') # Note - includes end time\n"
   ]
  },
  {
   "cell_type": "markdown",
   "metadata": {},
   "source": [
    "`pd.to_datetime` can also be used to create a `DatetimeIndex`:"
   ]
  },
  {
   "cell_type": "code",
   "execution_count": 9,
   "metadata": {},
   "outputs": [
    {
     "data": {
      "text/plain": [
       "DatetimeIndex(['1980-02-04', '1980-02-05', '1980-02-06', '1980-02-07'], dtype='datetime64[ns]', freq=None)"
      ]
     },
     "execution_count": 9,
     "metadata": {},
     "output_type": "execute_result"
    }
   ],
   "source": [
    "pd.to_datetime([1, 2, 3, 4], unit='D', origin=pd.Timestamp('1980-02-03'))"
   ]
  },
  {
   "cell_type": "markdown",
   "metadata": {},
   "source": [
    "## DataFrame\n",
    "\n",
    "A pandas DataFrame is like a simple tabular spreadsheet. For future reference (or for people already familiar with R), a pandas DataFrame is very similar to the R DataFrame.\n",
    "\n",
    "Each column in a DataFrame is a Series object.\n",
    "\n",
    "The element can be whatever, missing data are dealt with too (as NaN)"
   ]
  },
  {
   "cell_type": "markdown",
   "metadata": {},
   "source": [
    "### DataFrame creation\n",
    "\n",
    "A DataFrame can be created implicitly, with, e.g., a DatatimeIndex object as index:"
   ]
  },
  {
   "cell_type": "code",
   "execution_count": 10,
   "metadata": {},
   "outputs": [
    {
     "data": {
      "text/html": [
       "<div>\n",
       "<style scoped>\n",
       "    .dataframe tbody tr th:only-of-type {\n",
       "        vertical-align: middle;\n",
       "    }\n",
       "\n",
       "    .dataframe tbody tr th {\n",
       "        vertical-align: top;\n",
       "    }\n",
       "\n",
       "    .dataframe thead th {\n",
       "        text-align: right;\n",
       "    }\n",
       "</style>\n",
       "<table border=\"1\" class=\"dataframe\">\n",
       "  <thead>\n",
       "    <tr style=\"text-align: right;\">\n",
       "      <th></th>\n",
       "      <th>A</th>\n",
       "      <th>B</th>\n",
       "      <th>C</th>\n",
       "      <th>D</th>\n",
       "    </tr>\n",
       "  </thead>\n",
       "  <tbody>\n",
       "    <tr>\n",
       "      <th>2021-11-22 12:45:00</th>\n",
       "      <td>-1.366249</td>\n",
       "      <td>-0.073889</td>\n",
       "      <td>-1.698144</td>\n",
       "      <td>-0.519571</td>\n",
       "    </tr>\n",
       "    <tr>\n",
       "      <th>2021-11-22 13:45:00</th>\n",
       "      <td>-0.344393</td>\n",
       "      <td>-0.382585</td>\n",
       "      <td>1.255839</td>\n",
       "      <td>-0.279964</td>\n",
       "    </tr>\n",
       "    <tr>\n",
       "      <th>2021-11-22 14:45:00</th>\n",
       "      <td>-0.375640</td>\n",
       "      <td>-0.465327</td>\n",
       "      <td>1.234855</td>\n",
       "      <td>1.705301</td>\n",
       "    </tr>\n",
       "    <tr>\n",
       "      <th>2021-11-22 15:45:00</th>\n",
       "      <td>1.540099</td>\n",
       "      <td>0.824566</td>\n",
       "      <td>-0.267375</td>\n",
       "      <td>-0.170200</td>\n",
       "    </tr>\n",
       "    <tr>\n",
       "      <th>2021-11-22 16:45:00</th>\n",
       "      <td>-0.136044</td>\n",
       "      <td>0.340457</td>\n",
       "      <td>1.260720</td>\n",
       "      <td>1.025577</td>\n",
       "    </tr>\n",
       "    <tr>\n",
       "      <th>2021-11-22 17:45:00</th>\n",
       "      <td>1.220303</td>\n",
       "      <td>1.070322</td>\n",
       "      <td>-0.821359</td>\n",
       "      <td>1.076622</td>\n",
       "    </tr>\n",
       "    <tr>\n",
       "      <th>2021-11-22 18:45:00</th>\n",
       "      <td>-0.074508</td>\n",
       "      <td>0.731778</td>\n",
       "      <td>1.817186</td>\n",
       "      <td>-0.580714</td>\n",
       "    </tr>\n",
       "    <tr>\n",
       "      <th>2021-11-22 19:45:00</th>\n",
       "      <td>-0.741644</td>\n",
       "      <td>1.430828</td>\n",
       "      <td>-0.221097</td>\n",
       "      <td>-1.261821</td>\n",
       "    </tr>\n",
       "    <tr>\n",
       "      <th>2021-11-22 20:45:00</th>\n",
       "      <td>0.935158</td>\n",
       "      <td>0.578401</td>\n",
       "      <td>-0.152079</td>\n",
       "      <td>0.445711</td>\n",
       "    </tr>\n",
       "    <tr>\n",
       "      <th>2021-11-22 21:45:00</th>\n",
       "      <td>-0.789627</td>\n",
       "      <td>-0.704049</td>\n",
       "      <td>0.511722</td>\n",
       "      <td>-0.129018</td>\n",
       "    </tr>\n",
       "  </tbody>\n",
       "</table>\n",
       "</div>"
      ],
      "text/plain": [
       "                            A         B         C         D\n",
       "2021-11-22 12:45:00 -1.366249 -0.073889 -1.698144 -0.519571\n",
       "2021-11-22 13:45:00 -0.344393 -0.382585  1.255839 -0.279964\n",
       "2021-11-22 14:45:00 -0.375640 -0.465327  1.234855  1.705301\n",
       "2021-11-22 15:45:00  1.540099  0.824566 -0.267375 -0.170200\n",
       "2021-11-22 16:45:00 -0.136044  0.340457  1.260720  1.025577\n",
       "2021-11-22 17:45:00  1.220303  1.070322 -0.821359  1.076622\n",
       "2021-11-22 18:45:00 -0.074508  0.731778  1.817186 -0.580714\n",
       "2021-11-22 19:45:00 -0.741644  1.430828 -0.221097 -1.261821\n",
       "2021-11-22 20:45:00  0.935158  0.578401 -0.152079  0.445711\n",
       "2021-11-22 21:45:00 -0.789627 -0.704049  0.511722 -0.129018"
      ]
     },
     "execution_count": 10,
     "metadata": {},
     "output_type": "execute_result"
    }
   ],
   "source": [
    "entries=10\n",
    "dates=pd.date_range('11/22/2021 12:45:00',freq='h', periods=entries)\n",
    "df = pd.DataFrame(np.random.randn(entries,4), index=dates, columns=['A','B','C','D'])\n",
    "df\n"
   ]
  },
  {
   "cell_type": "markdown",
   "metadata": {},
   "source": [
    "or by means of a dictionary:\n"
   ]
  },
  {
   "cell_type": "code",
   "execution_count": 11,
   "metadata": {},
   "outputs": [
    {
     "data": {
      "text/html": [
       "<div>\n",
       "<style scoped>\n",
       "    .dataframe tbody tr th:only-of-type {\n",
       "        vertical-align: middle;\n",
       "    }\n",
       "\n",
       "    .dataframe tbody tr th {\n",
       "        vertical-align: top;\n",
       "    }\n",
       "\n",
       "    .dataframe thead th {\n",
       "        text-align: right;\n",
       "    }\n",
       "</style>\n",
       "<table border=\"1\" class=\"dataframe\">\n",
       "  <thead>\n",
       "    <tr style=\"text-align: right;\">\n",
       "      <th></th>\n",
       "      <th>A</th>\n",
       "      <th>B</th>\n",
       "      <th>C</th>\n",
       "      <th>D</th>\n",
       "      <th>E</th>\n",
       "    </tr>\n",
       "  </thead>\n",
       "  <tbody>\n",
       "    <tr>\n",
       "      <th>0</th>\n",
       "      <td>1.0</td>\n",
       "      <td>2013-01-02</td>\n",
       "      <td>1.0</td>\n",
       "      <td>7</td>\n",
       "      <td>test</td>\n",
       "    </tr>\n",
       "    <tr>\n",
       "      <th>1</th>\n",
       "      <td>1.0</td>\n",
       "      <td>2013-01-02</td>\n",
       "      <td>1.0</td>\n",
       "      <td>8</td>\n",
       "      <td>train</td>\n",
       "    </tr>\n",
       "    <tr>\n",
       "      <th>2</th>\n",
       "      <td>1.0</td>\n",
       "      <td>2013-01-02</td>\n",
       "      <td>1.0</td>\n",
       "      <td>9</td>\n",
       "      <td>test</td>\n",
       "    </tr>\n",
       "    <tr>\n",
       "      <th>3</th>\n",
       "      <td>1.0</td>\n",
       "      <td>2013-01-02</td>\n",
       "      <td>1.0</td>\n",
       "      <td>10</td>\n",
       "      <td>train</td>\n",
       "    </tr>\n",
       "  </tbody>\n",
       "</table>\n",
       "</div>"
      ],
      "text/plain": [
       "     A          B    C   D      E\n",
       "0  1.0 2013-01-02  1.0   7   test\n",
       "1  1.0 2013-01-02  1.0   8  train\n",
       "2  1.0 2013-01-02  1.0   9   test\n",
       "3  1.0 2013-01-02  1.0  10  train"
      ]
     },
     "execution_count": 11,
     "metadata": {},
     "output_type": "execute_result"
    }
   ],
   "source": [
    "df2 = pd.DataFrame(\n",
    "    { 'A' : 1.,\n",
    "      'B' : pd.Timestamp('20130102'),\n",
    "      'C' : pd.Series(1,index=range(4),dtype='float32'),\n",
    "      'D' : np.arange(7,11),\n",
    "      'E' : pd.Categorical([\"test\",\"train\",\"test\",\"train\"]),\n",
    "    }\n",
    "    )\n",
    "df2\n",
    "\n",
    "# check what happens if D and E had different lenghts "
   ]
  },
  {
   "cell_type": "markdown",
   "metadata": {},
   "source": [
    "### Viewing Data"
   ]
  },
  {
   "cell_type": "code",
   "execution_count": 12,
   "metadata": {},
   "outputs": [
    {
     "data": {
      "text/html": [
       "<div>\n",
       "<style scoped>\n",
       "    .dataframe tbody tr th:only-of-type {\n",
       "        vertical-align: middle;\n",
       "    }\n",
       "\n",
       "    .dataframe tbody tr th {\n",
       "        vertical-align: top;\n",
       "    }\n",
       "\n",
       "    .dataframe thead th {\n",
       "        text-align: right;\n",
       "    }\n",
       "</style>\n",
       "<table border=\"1\" class=\"dataframe\">\n",
       "  <thead>\n",
       "    <tr style=\"text-align: right;\">\n",
       "      <th></th>\n",
       "      <th>A</th>\n",
       "      <th>B</th>\n",
       "      <th>C</th>\n",
       "      <th>D</th>\n",
       "    </tr>\n",
       "  </thead>\n",
       "  <tbody>\n",
       "    <tr>\n",
       "      <th>2021-11-22 12:45:00</th>\n",
       "      <td>-1.366249</td>\n",
       "      <td>-0.073889</td>\n",
       "      <td>-1.698144</td>\n",
       "      <td>-0.519571</td>\n",
       "    </tr>\n",
       "    <tr>\n",
       "      <th>2021-11-22 13:45:00</th>\n",
       "      <td>-0.344393</td>\n",
       "      <td>-0.382585</td>\n",
       "      <td>1.255839</td>\n",
       "      <td>-0.279964</td>\n",
       "    </tr>\n",
       "  </tbody>\n",
       "</table>\n",
       "</div>"
      ],
      "text/plain": [
       "                            A         B         C         D\n",
       "2021-11-22 12:45:00 -1.366249 -0.073889 -1.698144 -0.519571\n",
       "2021-11-22 13:45:00 -0.344393 -0.382585  1.255839 -0.279964"
      ]
     },
     "execution_count": 12,
     "metadata": {},
     "output_type": "execute_result"
    }
   ],
   "source": [
    "df.head(2)"
   ]
  },
  {
   "cell_type": "code",
   "execution_count": 13,
   "metadata": {},
   "outputs": [
    {
     "data": {
      "text/html": [
       "<div>\n",
       "<style scoped>\n",
       "    .dataframe tbody tr th:only-of-type {\n",
       "        vertical-align: middle;\n",
       "    }\n",
       "\n",
       "    .dataframe tbody tr th {\n",
       "        vertical-align: top;\n",
       "    }\n",
       "\n",
       "    .dataframe thead th {\n",
       "        text-align: right;\n",
       "    }\n",
       "</style>\n",
       "<table border=\"1\" class=\"dataframe\">\n",
       "  <thead>\n",
       "    <tr style=\"text-align: right;\">\n",
       "      <th></th>\n",
       "      <th>A</th>\n",
       "      <th>B</th>\n",
       "      <th>C</th>\n",
       "      <th>D</th>\n",
       "    </tr>\n",
       "  </thead>\n",
       "  <tbody>\n",
       "    <tr>\n",
       "      <th>2021-11-22 18:45:00</th>\n",
       "      <td>-0.074508</td>\n",
       "      <td>0.731778</td>\n",
       "      <td>1.817186</td>\n",
       "      <td>-0.580714</td>\n",
       "    </tr>\n",
       "    <tr>\n",
       "      <th>2021-11-22 19:45:00</th>\n",
       "      <td>-0.741644</td>\n",
       "      <td>1.430828</td>\n",
       "      <td>-0.221097</td>\n",
       "      <td>-1.261821</td>\n",
       "    </tr>\n",
       "    <tr>\n",
       "      <th>2021-11-22 20:45:00</th>\n",
       "      <td>0.935158</td>\n",
       "      <td>0.578401</td>\n",
       "      <td>-0.152079</td>\n",
       "      <td>0.445711</td>\n",
       "    </tr>\n",
       "    <tr>\n",
       "      <th>2021-11-22 21:45:00</th>\n",
       "      <td>-0.789627</td>\n",
       "      <td>-0.704049</td>\n",
       "      <td>0.511722</td>\n",
       "      <td>-0.129018</td>\n",
       "    </tr>\n",
       "  </tbody>\n",
       "</table>\n",
       "</div>"
      ],
      "text/plain": [
       "                            A         B         C         D\n",
       "2021-11-22 18:45:00 -0.074508  0.731778  1.817186 -0.580714\n",
       "2021-11-22 19:45:00 -0.741644  1.430828 -0.221097 -1.261821\n",
       "2021-11-22 20:45:00  0.935158  0.578401 -0.152079  0.445711\n",
       "2021-11-22 21:45:00 -0.789627 -0.704049  0.511722 -0.129018"
      ]
     },
     "execution_count": 13,
     "metadata": {},
     "output_type": "execute_result"
    }
   ],
   "source": [
    "df.tail(4)"
   ]
  },
  {
   "cell_type": "code",
   "execution_count": 14,
   "metadata": {},
   "outputs": [
    {
     "data": {
      "text/plain": [
       "DatetimeIndex(['2021-11-22 12:45:00', '2021-11-22 13:45:00',\n",
       "               '2021-11-22 14:45:00', '2021-11-22 15:45:00',\n",
       "               '2021-11-22 16:45:00', '2021-11-22 17:45:00',\n",
       "               '2021-11-22 18:45:00', '2021-11-22 19:45:00',\n",
       "               '2021-11-22 20:45:00', '2021-11-22 21:45:00'],\n",
       "              dtype='datetime64[ns]', freq='H')"
      ]
     },
     "execution_count": 14,
     "metadata": {},
     "output_type": "execute_result"
    }
   ],
   "source": [
    "df.index"
   ]
  },
  {
   "cell_type": "code",
   "execution_count": 15,
   "metadata": {},
   "outputs": [
    {
     "data": {
      "text/plain": [
       "Index(['A', 'B', 'C', 'D'], dtype='object')"
      ]
     },
     "execution_count": 15,
     "metadata": {},
     "output_type": "execute_result"
    }
   ],
   "source": [
    "df.columns"
   ]
  },
  {
   "cell_type": "code",
   "execution_count": 16,
   "metadata": {},
   "outputs": [
    {
     "data": {
      "text/plain": [
       "array([[-1.36624858, -0.07388857, -1.69814419, -0.51957067],\n",
       "       [-0.34439263, -0.38258467,  1.25583908, -0.27996425],\n",
       "       [-0.37564005, -0.46532708,  1.23485548,  1.70530105],\n",
       "       [ 1.54009924,  0.8245663 , -0.26737546, -0.17020028],\n",
       "       [-0.13604397,  0.34045741,  1.26071985,  1.02557707],\n",
       "       [ 1.22030289,  1.07032235, -0.82135889,  1.07662163],\n",
       "       [-0.07450826,  0.73177778,  1.81718569, -0.58071448],\n",
       "       [-0.74164408,  1.43082823, -0.22109724, -1.26182084],\n",
       "       [ 0.93515831,  0.57840066, -0.15207945,  0.4457115 ],\n",
       "       [-0.789627  , -0.70404857,  0.51172212, -0.12901835]])"
      ]
     },
     "execution_count": 16,
     "metadata": {},
     "output_type": "execute_result"
    }
   ],
   "source": [
    "df.values"
   ]
  },
  {
   "cell_type": "code",
   "execution_count": 17,
   "metadata": {},
   "outputs": [
    {
     "data": {
      "text/html": [
       "<div>\n",
       "<style scoped>\n",
       "    .dataframe tbody tr th:only-of-type {\n",
       "        vertical-align: middle;\n",
       "    }\n",
       "\n",
       "    .dataframe tbody tr th {\n",
       "        vertical-align: top;\n",
       "    }\n",
       "\n",
       "    .dataframe thead th {\n",
       "        text-align: right;\n",
       "    }\n",
       "</style>\n",
       "<table border=\"1\" class=\"dataframe\">\n",
       "  <thead>\n",
       "    <tr style=\"text-align: right;\">\n",
       "      <th></th>\n",
       "      <th>A</th>\n",
       "      <th>B</th>\n",
       "      <th>C</th>\n",
       "      <th>D</th>\n",
       "    </tr>\n",
       "  </thead>\n",
       "  <tbody>\n",
       "    <tr>\n",
       "      <th>count</th>\n",
       "      <td>10.000000</td>\n",
       "      <td>10.000000</td>\n",
       "      <td>10.000000</td>\n",
       "      <td>10.000000</td>\n",
       "    </tr>\n",
       "    <tr>\n",
       "      <th>mean</th>\n",
       "      <td>-0.013254</td>\n",
       "      <td>0.335050</td>\n",
       "      <td>0.292027</td>\n",
       "      <td>0.131192</td>\n",
       "    </tr>\n",
       "    <tr>\n",
       "      <th>std</th>\n",
       "      <td>0.946207</td>\n",
       "      <td>0.714935</td>\n",
       "      <td>1.110779</td>\n",
       "      <td>0.910976</td>\n",
       "    </tr>\n",
       "    <tr>\n",
       "      <th>min</th>\n",
       "      <td>-1.366249</td>\n",
       "      <td>-0.704049</td>\n",
       "      <td>-1.698144</td>\n",
       "      <td>-1.261821</td>\n",
       "    </tr>\n",
       "    <tr>\n",
       "      <th>25%</th>\n",
       "      <td>-0.650143</td>\n",
       "      <td>-0.305411</td>\n",
       "      <td>-0.255806</td>\n",
       "      <td>-0.459669</td>\n",
       "    </tr>\n",
       "    <tr>\n",
       "      <th>50%</th>\n",
       "      <td>-0.240218</td>\n",
       "      <td>0.459429</td>\n",
       "      <td>0.179821</td>\n",
       "      <td>-0.149609</td>\n",
       "    </tr>\n",
       "    <tr>\n",
       "      <th>75%</th>\n",
       "      <td>0.682742</td>\n",
       "      <td>0.801369</td>\n",
       "      <td>1.250593</td>\n",
       "      <td>0.880611</td>\n",
       "    </tr>\n",
       "    <tr>\n",
       "      <th>max</th>\n",
       "      <td>1.540099</td>\n",
       "      <td>1.430828</td>\n",
       "      <td>1.817186</td>\n",
       "      <td>1.705301</td>\n",
       "    </tr>\n",
       "  </tbody>\n",
       "</table>\n",
       "</div>"
      ],
      "text/plain": [
       "               A          B          C          D\n",
       "count  10.000000  10.000000  10.000000  10.000000\n",
       "mean   -0.013254   0.335050   0.292027   0.131192\n",
       "std     0.946207   0.714935   1.110779   0.910976\n",
       "min    -1.366249  -0.704049  -1.698144  -1.261821\n",
       "25%    -0.650143  -0.305411  -0.255806  -0.459669\n",
       "50%    -0.240218   0.459429   0.179821  -0.149609\n",
       "75%     0.682742   0.801369   1.250593   0.880611\n",
       "max     1.540099   1.430828   1.817186   1.705301"
      ]
     },
     "execution_count": 17,
     "metadata": {},
     "output_type": "execute_result"
    }
   ],
   "source": [
    "df.describe()"
   ]
  },
  {
   "cell_type": "code",
   "execution_count": 18,
   "metadata": {},
   "outputs": [
    {
     "data": {
      "text/html": [
       "<div>\n",
       "<style scoped>\n",
       "    .dataframe tbody tr th:only-of-type {\n",
       "        vertical-align: middle;\n",
       "    }\n",
       "\n",
       "    .dataframe tbody tr th {\n",
       "        vertical-align: top;\n",
       "    }\n",
       "\n",
       "    .dataframe thead th {\n",
       "        text-align: right;\n",
       "    }\n",
       "</style>\n",
       "<table border=\"1\" class=\"dataframe\">\n",
       "  <thead>\n",
       "    <tr style=\"text-align: right;\">\n",
       "      <th></th>\n",
       "      <th>2021-11-22 12:45:00</th>\n",
       "      <th>2021-11-22 13:45:00</th>\n",
       "      <th>2021-11-22 14:45:00</th>\n",
       "      <th>2021-11-22 15:45:00</th>\n",
       "      <th>2021-11-22 16:45:00</th>\n",
       "      <th>2021-11-22 17:45:00</th>\n",
       "      <th>2021-11-22 18:45:00</th>\n",
       "      <th>2021-11-22 19:45:00</th>\n",
       "      <th>2021-11-22 20:45:00</th>\n",
       "      <th>2021-11-22 21:45:00</th>\n",
       "    </tr>\n",
       "  </thead>\n",
       "  <tbody>\n",
       "    <tr>\n",
       "      <th>A</th>\n",
       "      <td>-1.366249</td>\n",
       "      <td>-0.344393</td>\n",
       "      <td>-0.375640</td>\n",
       "      <td>1.540099</td>\n",
       "      <td>-0.136044</td>\n",
       "      <td>1.220303</td>\n",
       "      <td>-0.074508</td>\n",
       "      <td>-0.741644</td>\n",
       "      <td>0.935158</td>\n",
       "      <td>-0.789627</td>\n",
       "    </tr>\n",
       "    <tr>\n",
       "      <th>B</th>\n",
       "      <td>-0.073889</td>\n",
       "      <td>-0.382585</td>\n",
       "      <td>-0.465327</td>\n",
       "      <td>0.824566</td>\n",
       "      <td>0.340457</td>\n",
       "      <td>1.070322</td>\n",
       "      <td>0.731778</td>\n",
       "      <td>1.430828</td>\n",
       "      <td>0.578401</td>\n",
       "      <td>-0.704049</td>\n",
       "    </tr>\n",
       "    <tr>\n",
       "      <th>C</th>\n",
       "      <td>-1.698144</td>\n",
       "      <td>1.255839</td>\n",
       "      <td>1.234855</td>\n",
       "      <td>-0.267375</td>\n",
       "      <td>1.260720</td>\n",
       "      <td>-0.821359</td>\n",
       "      <td>1.817186</td>\n",
       "      <td>-0.221097</td>\n",
       "      <td>-0.152079</td>\n",
       "      <td>0.511722</td>\n",
       "    </tr>\n",
       "    <tr>\n",
       "      <th>D</th>\n",
       "      <td>-0.519571</td>\n",
       "      <td>-0.279964</td>\n",
       "      <td>1.705301</td>\n",
       "      <td>-0.170200</td>\n",
       "      <td>1.025577</td>\n",
       "      <td>1.076622</td>\n",
       "      <td>-0.580714</td>\n",
       "      <td>-1.261821</td>\n",
       "      <td>0.445711</td>\n",
       "      <td>-0.129018</td>\n",
       "    </tr>\n",
       "  </tbody>\n",
       "</table>\n",
       "</div>"
      ],
      "text/plain": [
       "   2021-11-22 12:45:00  2021-11-22 13:45:00  2021-11-22 14:45:00  \\\n",
       "A            -1.366249            -0.344393            -0.375640   \n",
       "B            -0.073889            -0.382585            -0.465327   \n",
       "C            -1.698144             1.255839             1.234855   \n",
       "D            -0.519571            -0.279964             1.705301   \n",
       "\n",
       "   2021-11-22 15:45:00  2021-11-22 16:45:00  2021-11-22 17:45:00  \\\n",
       "A             1.540099            -0.136044             1.220303   \n",
       "B             0.824566             0.340457             1.070322   \n",
       "C            -0.267375             1.260720            -0.821359   \n",
       "D            -0.170200             1.025577             1.076622   \n",
       "\n",
       "   2021-11-22 18:45:00  2021-11-22 19:45:00  2021-11-22 20:45:00  \\\n",
       "A            -0.074508            -0.741644             0.935158   \n",
       "B             0.731778             1.430828             0.578401   \n",
       "C             1.817186            -0.221097            -0.152079   \n",
       "D            -0.580714            -1.261821             0.445711   \n",
       "\n",
       "   2021-11-22 21:45:00  \n",
       "A            -0.789627  \n",
       "B            -0.704049  \n",
       "C             0.511722  \n",
       "D            -0.129018  "
      ]
     },
     "execution_count": 18,
     "metadata": {},
     "output_type": "execute_result"
    }
   ],
   "source": [
    "df.T"
   ]
  },
  {
   "cell_type": "code",
   "execution_count": 19,
   "metadata": {},
   "outputs": [
    {
     "data": {
      "text/html": [
       "<div>\n",
       "<style scoped>\n",
       "    .dataframe tbody tr th:only-of-type {\n",
       "        vertical-align: middle;\n",
       "    }\n",
       "\n",
       "    .dataframe tbody tr th {\n",
       "        vertical-align: top;\n",
       "    }\n",
       "\n",
       "    .dataframe thead th {\n",
       "        text-align: right;\n",
       "    }\n",
       "</style>\n",
       "<table border=\"1\" class=\"dataframe\">\n",
       "  <thead>\n",
       "    <tr style=\"text-align: right;\">\n",
       "      <th></th>\n",
       "      <th>A</th>\n",
       "      <th>B</th>\n",
       "      <th>C</th>\n",
       "      <th>D</th>\n",
       "    </tr>\n",
       "  </thead>\n",
       "  <tbody>\n",
       "    <tr>\n",
       "      <th>2021-11-22 12:45:00</th>\n",
       "      <td>-1.366249</td>\n",
       "      <td>-0.073889</td>\n",
       "      <td>-1.698144</td>\n",
       "      <td>-0.519571</td>\n",
       "    </tr>\n",
       "    <tr>\n",
       "      <th>2021-11-22 13:45:00</th>\n",
       "      <td>-0.344393</td>\n",
       "      <td>-0.382585</td>\n",
       "      <td>1.255839</td>\n",
       "      <td>-0.279964</td>\n",
       "    </tr>\n",
       "    <tr>\n",
       "      <th>2021-11-22 14:45:00</th>\n",
       "      <td>-0.375640</td>\n",
       "      <td>-0.465327</td>\n",
       "      <td>1.234855</td>\n",
       "      <td>1.705301</td>\n",
       "    </tr>\n",
       "    <tr>\n",
       "      <th>2021-11-22 15:45:00</th>\n",
       "      <td>1.540099</td>\n",
       "      <td>0.824566</td>\n",
       "      <td>-0.267375</td>\n",
       "      <td>-0.170200</td>\n",
       "    </tr>\n",
       "    <tr>\n",
       "      <th>2021-11-22 16:45:00</th>\n",
       "      <td>-0.136044</td>\n",
       "      <td>0.340457</td>\n",
       "      <td>1.260720</td>\n",
       "      <td>1.025577</td>\n",
       "    </tr>\n",
       "    <tr>\n",
       "      <th>2021-11-22 17:45:00</th>\n",
       "      <td>1.220303</td>\n",
       "      <td>1.070322</td>\n",
       "      <td>-0.821359</td>\n",
       "      <td>1.076622</td>\n",
       "    </tr>\n",
       "    <tr>\n",
       "      <th>2021-11-22 18:45:00</th>\n",
       "      <td>-0.074508</td>\n",
       "      <td>0.731778</td>\n",
       "      <td>1.817186</td>\n",
       "      <td>-0.580714</td>\n",
       "    </tr>\n",
       "    <tr>\n",
       "      <th>2021-11-22 19:45:00</th>\n",
       "      <td>-0.741644</td>\n",
       "      <td>1.430828</td>\n",
       "      <td>-0.221097</td>\n",
       "      <td>-1.261821</td>\n",
       "    </tr>\n",
       "    <tr>\n",
       "      <th>2021-11-22 20:45:00</th>\n",
       "      <td>0.935158</td>\n",
       "      <td>0.578401</td>\n",
       "      <td>-0.152079</td>\n",
       "      <td>0.445711</td>\n",
       "    </tr>\n",
       "    <tr>\n",
       "      <th>2021-11-22 21:45:00</th>\n",
       "      <td>-0.789627</td>\n",
       "      <td>-0.704049</td>\n",
       "      <td>0.511722</td>\n",
       "      <td>-0.129018</td>\n",
       "    </tr>\n",
       "  </tbody>\n",
       "</table>\n",
       "</div>"
      ],
      "text/plain": [
       "                            A         B         C         D\n",
       "2021-11-22 12:45:00 -1.366249 -0.073889 -1.698144 -0.519571\n",
       "2021-11-22 13:45:00 -0.344393 -0.382585  1.255839 -0.279964\n",
       "2021-11-22 14:45:00 -0.375640 -0.465327  1.234855  1.705301\n",
       "2021-11-22 15:45:00  1.540099  0.824566 -0.267375 -0.170200\n",
       "2021-11-22 16:45:00 -0.136044  0.340457  1.260720  1.025577\n",
       "2021-11-22 17:45:00  1.220303  1.070322 -0.821359  1.076622\n",
       "2021-11-22 18:45:00 -0.074508  0.731778  1.817186 -0.580714\n",
       "2021-11-22 19:45:00 -0.741644  1.430828 -0.221097 -1.261821\n",
       "2021-11-22 20:45:00  0.935158  0.578401 -0.152079  0.445711\n",
       "2021-11-22 21:45:00 -0.789627 -0.704049  0.511722 -0.129018"
      ]
     },
     "execution_count": 19,
     "metadata": {},
     "output_type": "execute_result"
    }
   ],
   "source": [
    "df.sort_index(axis=0,ascending=True)"
   ]
  },
  {
   "cell_type": "code",
   "execution_count": 20,
   "metadata": {},
   "outputs": [
    {
     "data": {
      "text/html": [
       "<div>\n",
       "<style scoped>\n",
       "    .dataframe tbody tr th:only-of-type {\n",
       "        vertical-align: middle;\n",
       "    }\n",
       "\n",
       "    .dataframe tbody tr th {\n",
       "        vertical-align: top;\n",
       "    }\n",
       "\n",
       "    .dataframe thead th {\n",
       "        text-align: right;\n",
       "    }\n",
       "</style>\n",
       "<table border=\"1\" class=\"dataframe\">\n",
       "  <thead>\n",
       "    <tr style=\"text-align: right;\">\n",
       "      <th></th>\n",
       "      <th>A</th>\n",
       "      <th>B</th>\n",
       "      <th>C</th>\n",
       "      <th>D</th>\n",
       "    </tr>\n",
       "  </thead>\n",
       "  <tbody>\n",
       "    <tr>\n",
       "      <th>2021-11-22 12:45:00</th>\n",
       "      <td>-1.366249</td>\n",
       "      <td>-0.073889</td>\n",
       "      <td>-1.698144</td>\n",
       "      <td>-0.519571</td>\n",
       "    </tr>\n",
       "    <tr>\n",
       "      <th>2021-11-22 17:45:00</th>\n",
       "      <td>1.220303</td>\n",
       "      <td>1.070322</td>\n",
       "      <td>-0.821359</td>\n",
       "      <td>1.076622</td>\n",
       "    </tr>\n",
       "    <tr>\n",
       "      <th>2021-11-22 15:45:00</th>\n",
       "      <td>1.540099</td>\n",
       "      <td>0.824566</td>\n",
       "      <td>-0.267375</td>\n",
       "      <td>-0.170200</td>\n",
       "    </tr>\n",
       "    <tr>\n",
       "      <th>2021-11-22 19:45:00</th>\n",
       "      <td>-0.741644</td>\n",
       "      <td>1.430828</td>\n",
       "      <td>-0.221097</td>\n",
       "      <td>-1.261821</td>\n",
       "    </tr>\n",
       "    <tr>\n",
       "      <th>2021-11-22 20:45:00</th>\n",
       "      <td>0.935158</td>\n",
       "      <td>0.578401</td>\n",
       "      <td>-0.152079</td>\n",
       "      <td>0.445711</td>\n",
       "    </tr>\n",
       "    <tr>\n",
       "      <th>2021-11-22 21:45:00</th>\n",
       "      <td>-0.789627</td>\n",
       "      <td>-0.704049</td>\n",
       "      <td>0.511722</td>\n",
       "      <td>-0.129018</td>\n",
       "    </tr>\n",
       "    <tr>\n",
       "      <th>2021-11-22 14:45:00</th>\n",
       "      <td>-0.375640</td>\n",
       "      <td>-0.465327</td>\n",
       "      <td>1.234855</td>\n",
       "      <td>1.705301</td>\n",
       "    </tr>\n",
       "    <tr>\n",
       "      <th>2021-11-22 13:45:00</th>\n",
       "      <td>-0.344393</td>\n",
       "      <td>-0.382585</td>\n",
       "      <td>1.255839</td>\n",
       "      <td>-0.279964</td>\n",
       "    </tr>\n",
       "    <tr>\n",
       "      <th>2021-11-22 16:45:00</th>\n",
       "      <td>-0.136044</td>\n",
       "      <td>0.340457</td>\n",
       "      <td>1.260720</td>\n",
       "      <td>1.025577</td>\n",
       "    </tr>\n",
       "    <tr>\n",
       "      <th>2021-11-22 18:45:00</th>\n",
       "      <td>-0.074508</td>\n",
       "      <td>0.731778</td>\n",
       "      <td>1.817186</td>\n",
       "      <td>-0.580714</td>\n",
       "    </tr>\n",
       "  </tbody>\n",
       "</table>\n",
       "</div>"
      ],
      "text/plain": [
       "                            A         B         C         D\n",
       "2021-11-22 12:45:00 -1.366249 -0.073889 -1.698144 -0.519571\n",
       "2021-11-22 17:45:00  1.220303  1.070322 -0.821359  1.076622\n",
       "2021-11-22 15:45:00  1.540099  0.824566 -0.267375 -0.170200\n",
       "2021-11-22 19:45:00 -0.741644  1.430828 -0.221097 -1.261821\n",
       "2021-11-22 20:45:00  0.935158  0.578401 -0.152079  0.445711\n",
       "2021-11-22 21:45:00 -0.789627 -0.704049  0.511722 -0.129018\n",
       "2021-11-22 14:45:00 -0.375640 -0.465327  1.234855  1.705301\n",
       "2021-11-22 13:45:00 -0.344393 -0.382585  1.255839 -0.279964\n",
       "2021-11-22 16:45:00 -0.136044  0.340457  1.260720  1.025577\n",
       "2021-11-22 18:45:00 -0.074508  0.731778  1.817186 -0.580714"
      ]
     },
     "execution_count": 20,
     "metadata": {},
     "output_type": "execute_result"
    }
   ],
   "source": [
    "df.sort_values(by=\"C\")"
   ]
  },
  {
   "cell_type": "markdown",
   "metadata": {},
   "source": [
    "## Selection\n",
    "\n",
    "### Getting slices\n",
    "\n",
    "The following show how to get part of the DataFrame (i.e. not just the elements)"
   ]
  },
  {
   "cell_type": "code",
   "execution_count": 21,
   "metadata": {},
   "outputs": [
    {
     "name": "stdout",
     "output_type": "stream",
     "text": [
      "2021-11-22 12:45:00   -1.366249\n",
      "2021-11-22 13:45:00   -0.344393\n",
      "2021-11-22 14:45:00   -0.375640\n",
      "2021-11-22 15:45:00    1.540099\n",
      "2021-11-22 16:45:00   -0.136044\n",
      "2021-11-22 17:45:00    1.220303\n",
      "2021-11-22 18:45:00   -0.074508\n",
      "2021-11-22 19:45:00   -0.741644\n",
      "2021-11-22 20:45:00    0.935158\n",
      "2021-11-22 21:45:00   -0.789627\n",
      "Freq: H, Name: A, dtype: float64 \n",
      "\n",
      "2021-11-22 12:45:00   -1.366249\n",
      "2021-11-22 13:45:00   -0.344393\n",
      "2021-11-22 14:45:00   -0.375640\n",
      "2021-11-22 15:45:00    1.540099\n",
      "2021-11-22 16:45:00   -0.136044\n",
      "2021-11-22 17:45:00    1.220303\n",
      "2021-11-22 18:45:00   -0.074508\n",
      "2021-11-22 19:45:00   -0.741644\n",
      "2021-11-22 20:45:00    0.935158\n",
      "2021-11-22 21:45:00   -0.789627\n",
      "Freq: H, Name: A, dtype: float64\n"
     ]
    }
   ],
   "source": [
    "## standard and safe\n",
    "print (df['A'],'\\n')\n",
    "\n",
    "## equivalent but dangerous (imagine blank spaces in the name of the column..)\n",
    "print (df.A)"
   ]
  },
  {
   "cell_type": "code",
   "execution_count": 22,
   "metadata": {},
   "outputs": [
    {
     "name": "stdout",
     "output_type": "stream",
     "text": [
      "                            A         B         C         D\n",
      "2021-11-22 12:45:00 -1.366249 -0.073889 -1.698144 -0.519571\n",
      "2021-11-22 13:45:00 -0.344393 -0.382585  1.255839 -0.279964\n",
      "2021-11-22 14:45:00 -0.375640 -0.465327  1.234855  1.705301\n",
      "                            A         B         C         D\n",
      "2021-11-22 12:45:00 -1.366249 -0.073889 -1.698144 -0.519571\n",
      "2021-11-22 13:45:00 -0.344393 -0.382585  1.255839 -0.279964\n",
      "2021-11-22 14:45:00 -0.375640 -0.465327  1.234855  1.705301\n"
     ]
    }
   ],
   "source": [
    "# selecting rows by counting\n",
    "print (df[0:3])\n",
    "\n",
    "# or by index\n",
    "print (df[\"2021-11-22 12:45:00\":\"2021-11-22 14:45:00\"])"
   ]
  },
  {
   "cell_type": "markdown",
   "metadata": {},
   "source": [
    "### Selection by label"
   ]
  },
  {
   "cell_type": "code",
   "execution_count": 23,
   "metadata": {},
   "outputs": [
    {
     "data": {
      "text/plain": [
       "A   -1.366249\n",
       "B   -0.073889\n",
       "C   -1.698144\n",
       "D   -0.519571\n",
       "Name: 2021-11-22 12:45:00, dtype: float64"
      ]
     },
     "execution_count": 23,
     "metadata": {},
     "output_type": "execute_result"
    }
   ],
   "source": [
    "# getting a cross section (part of the DataFrame) using a label\n",
    "df.loc[dates[0]]"
   ]
  },
  {
   "cell_type": "code",
   "execution_count": 24,
   "metadata": {},
   "outputs": [
    {
     "data": {
      "text/html": [
       "<div>\n",
       "<style scoped>\n",
       "    .dataframe tbody tr th:only-of-type {\n",
       "        vertical-align: middle;\n",
       "    }\n",
       "\n",
       "    .dataframe tbody tr th {\n",
       "        vertical-align: top;\n",
       "    }\n",
       "\n",
       "    .dataframe thead th {\n",
       "        text-align: right;\n",
       "    }\n",
       "</style>\n",
       "<table border=\"1\" class=\"dataframe\">\n",
       "  <thead>\n",
       "    <tr style=\"text-align: right;\">\n",
       "      <th></th>\n",
       "      <th>A</th>\n",
       "      <th>B</th>\n",
       "    </tr>\n",
       "  </thead>\n",
       "  <tbody>\n",
       "    <tr>\n",
       "      <th>2021-11-22 12:45:00</th>\n",
       "      <td>-1.366249</td>\n",
       "      <td>-0.073889</td>\n",
       "    </tr>\n",
       "    <tr>\n",
       "      <th>2021-11-22 13:45:00</th>\n",
       "      <td>-0.344393</td>\n",
       "      <td>-0.382585</td>\n",
       "    </tr>\n",
       "    <tr>\n",
       "      <th>2021-11-22 14:45:00</th>\n",
       "      <td>-0.375640</td>\n",
       "      <td>-0.465327</td>\n",
       "    </tr>\n",
       "    <tr>\n",
       "      <th>2021-11-22 15:45:00</th>\n",
       "      <td>1.540099</td>\n",
       "      <td>0.824566</td>\n",
       "    </tr>\n",
       "    <tr>\n",
       "      <th>2021-11-22 16:45:00</th>\n",
       "      <td>-0.136044</td>\n",
       "      <td>0.340457</td>\n",
       "    </tr>\n",
       "    <tr>\n",
       "      <th>2021-11-22 17:45:00</th>\n",
       "      <td>1.220303</td>\n",
       "      <td>1.070322</td>\n",
       "    </tr>\n",
       "    <tr>\n",
       "      <th>2021-11-22 18:45:00</th>\n",
       "      <td>-0.074508</td>\n",
       "      <td>0.731778</td>\n",
       "    </tr>\n",
       "    <tr>\n",
       "      <th>2021-11-22 19:45:00</th>\n",
       "      <td>-0.741644</td>\n",
       "      <td>1.430828</td>\n",
       "    </tr>\n",
       "    <tr>\n",
       "      <th>2021-11-22 20:45:00</th>\n",
       "      <td>0.935158</td>\n",
       "      <td>0.578401</td>\n",
       "    </tr>\n",
       "    <tr>\n",
       "      <th>2021-11-22 21:45:00</th>\n",
       "      <td>-0.789627</td>\n",
       "      <td>-0.704049</td>\n",
       "    </tr>\n",
       "  </tbody>\n",
       "</table>\n",
       "</div>"
      ],
      "text/plain": [
       "                            A         B\n",
       "2021-11-22 12:45:00 -1.366249 -0.073889\n",
       "2021-11-22 13:45:00 -0.344393 -0.382585\n",
       "2021-11-22 14:45:00 -0.375640 -0.465327\n",
       "2021-11-22 15:45:00  1.540099  0.824566\n",
       "2021-11-22 16:45:00 -0.136044  0.340457\n",
       "2021-11-22 17:45:00  1.220303  1.070322\n",
       "2021-11-22 18:45:00 -0.074508  0.731778\n",
       "2021-11-22 19:45:00 -0.741644  1.430828\n",
       "2021-11-22 20:45:00  0.935158  0.578401\n",
       "2021-11-22 21:45:00 -0.789627 -0.704049"
      ]
     },
     "execution_count": 24,
     "metadata": {},
     "output_type": "execute_result"
    }
   ],
   "source": [
    "# selecting on a multi-axis by label:\n",
    "df.loc[:,['A','B']]\n",
    "#a=df.loc[:,['A','B']]"
   ]
  },
  {
   "cell_type": "code",
   "execution_count": 25,
   "metadata": {},
   "outputs": [
    {
     "data": {
      "text/html": [
       "<div>\n",
       "<style scoped>\n",
       "    .dataframe tbody tr th:only-of-type {\n",
       "        vertical-align: middle;\n",
       "    }\n",
       "\n",
       "    .dataframe tbody tr th {\n",
       "        vertical-align: top;\n",
       "    }\n",
       "\n",
       "    .dataframe thead th {\n",
       "        text-align: right;\n",
       "    }\n",
       "</style>\n",
       "<table border=\"1\" class=\"dataframe\">\n",
       "  <thead>\n",
       "    <tr style=\"text-align: right;\">\n",
       "      <th></th>\n",
       "      <th>A</th>\n",
       "      <th>B</th>\n",
       "    </tr>\n",
       "  </thead>\n",
       "  <tbody>\n",
       "    <tr>\n",
       "      <th>2021-11-22 16:45:00</th>\n",
       "      <td>-0.136044</td>\n",
       "      <td>0.340457</td>\n",
       "    </tr>\n",
       "    <tr>\n",
       "      <th>2021-11-22 17:45:00</th>\n",
       "      <td>1.220303</td>\n",
       "      <td>1.070322</td>\n",
       "    </tr>\n",
       "    <tr>\n",
       "      <th>2021-11-22 18:45:00</th>\n",
       "      <td>-0.074508</td>\n",
       "      <td>0.731778</td>\n",
       "    </tr>\n",
       "  </tbody>\n",
       "</table>\n",
       "</div>"
      ],
      "text/plain": [
       "                            A         B\n",
       "2021-11-22 16:45:00 -0.136044  0.340457\n",
       "2021-11-22 17:45:00  1.220303  1.070322\n",
       "2021-11-22 18:45:00 -0.074508  0.731778"
      ]
     },
     "execution_count": 25,
     "metadata": {},
     "output_type": "execute_result"
    }
   ],
   "source": [
    "# showing label slicing, both endpoints are included:\n",
    "df.loc['2021-11-22 16:45:00':'2021-11-22 18:45:00',['A','B']]"
   ]
  },
  {
   "cell_type": "code",
   "execution_count": 26,
   "metadata": {},
   "outputs": [
    {
     "name": "stdout",
     "output_type": "stream",
     "text": [
      "-0.3443926334185126\n",
      "-0.3443926334185126\n"
     ]
    }
   ],
   "source": [
    "# getting an individual element\n",
    "print (df.loc[dates[1],'A'])\n",
    "\n",
    "# equivalently\n",
    "print (df.at[dates[1],'A'])"
   ]
  },
  {
   "cell_type": "markdown",
   "metadata": {},
   "source": [
    "### Selecting by position"
   ]
  },
  {
   "cell_type": "code",
   "execution_count": 27,
   "metadata": {},
   "outputs": [
    {
     "name": "stdout",
     "output_type": "stream",
     "text": [
      "A    1.540099\n",
      "B    0.824566\n",
      "C   -0.267375\n",
      "D   -0.170200\n",
      "Name: 2021-11-22 15:45:00, dtype: float64 \n",
      "\n",
      "                            A         B\n",
      "2021-11-22 15:45:00  1.540099  0.824566\n",
      "2021-11-22 16:45:00 -0.136044  0.340457\n"
     ]
    }
   ],
   "source": [
    "# select via the position of the passed integers:\n",
    "print (df.iloc[3],'\\n')\n",
    "\n",
    "# notation similar to numpy/python\n",
    "print (df.iloc[3:5,0:2])"
   ]
  },
  {
   "cell_type": "code",
   "execution_count": 28,
   "metadata": {},
   "outputs": [
    {
     "data": {
      "text/html": [
       "<div>\n",
       "<style scoped>\n",
       "    .dataframe tbody tr th:only-of-type {\n",
       "        vertical-align: middle;\n",
       "    }\n",
       "\n",
       "    .dataframe tbody tr th {\n",
       "        vertical-align: top;\n",
       "    }\n",
       "\n",
       "    .dataframe thead th {\n",
       "        text-align: right;\n",
       "    }\n",
       "</style>\n",
       "<table border=\"1\" class=\"dataframe\">\n",
       "  <thead>\n",
       "    <tr style=\"text-align: right;\">\n",
       "      <th></th>\n",
       "      <th>A</th>\n",
       "      <th>C</th>\n",
       "    </tr>\n",
       "  </thead>\n",
       "  <tbody>\n",
       "    <tr>\n",
       "      <th>2021-11-22 13:45:00</th>\n",
       "      <td>-0.344393</td>\n",
       "      <td>1.255839</td>\n",
       "    </tr>\n",
       "    <tr>\n",
       "      <th>2021-11-22 14:45:00</th>\n",
       "      <td>-0.375640</td>\n",
       "      <td>1.234855</td>\n",
       "    </tr>\n",
       "    <tr>\n",
       "      <th>2021-11-22 16:45:00</th>\n",
       "      <td>-0.136044</td>\n",
       "      <td>1.260720</td>\n",
       "    </tr>\n",
       "  </tbody>\n",
       "</table>\n",
       "</div>"
      ],
      "text/plain": [
       "                            A         C\n",
       "2021-11-22 13:45:00 -0.344393  1.255839\n",
       "2021-11-22 14:45:00 -0.375640  1.234855\n",
       "2021-11-22 16:45:00 -0.136044  1.260720"
      ]
     },
     "execution_count": 28,
     "metadata": {},
     "output_type": "execute_result"
    }
   ],
   "source": [
    "# selecting raws 1,2 and 4 for columns 0 and 2\n",
    "df.iloc[[1,2,4],[0,2]]"
   ]
  },
  {
   "cell_type": "code",
   "execution_count": 29,
   "metadata": {},
   "outputs": [
    {
     "name": "stdout",
     "output_type": "stream",
     "text": [
      "                            A         B         C         D\n",
      "2021-11-22 13:45:00 -0.344393 -0.382585  1.255839 -0.279964\n",
      "2021-11-22 14:45:00 -0.375640 -0.465327  1.234855  1.705301 \n",
      "\n",
      "                            B         C\n",
      "2021-11-22 12:45:00 -0.073889 -1.698144\n",
      "2021-11-22 13:45:00 -0.382585  1.255839\n",
      "2021-11-22 14:45:00 -0.465327  1.234855\n",
      "2021-11-22 15:45:00  0.824566 -0.267375\n",
      "2021-11-22 16:45:00  0.340457  1.260720\n",
      "2021-11-22 17:45:00  1.070322 -0.821359\n",
      "2021-11-22 18:45:00  0.731778  1.817186\n",
      "2021-11-22 19:45:00  1.430828 -0.221097\n",
      "2021-11-22 20:45:00  0.578401 -0.152079\n",
      "2021-11-22 21:45:00 -0.704049  0.511722\n"
     ]
    }
   ],
   "source": [
    "# slicing rows explicitly\n",
    "print (df.iloc[1:3,:],'\\n')\n",
    "\n",
    "# slicing columns explicitly\n",
    "print (df.iloc[:,1:3])\n"
   ]
  },
  {
   "cell_type": "code",
   "execution_count": 30,
   "metadata": {},
   "outputs": [
    {
     "data": {
      "text/plain": [
       "-0.3825846664351312"
      ]
     },
     "execution_count": 30,
     "metadata": {},
     "output_type": "execute_result"
    }
   ],
   "source": [
    "# selecting an individual element by position\n",
    "df.iloc[1,1]\n",
    "df.iat[1,1]\n"
   ]
  },
  {
   "cell_type": "markdown",
   "metadata": {},
   "source": [
    "### Boolean index\n",
    "\n",
    "Very powerful way of filtering out data with certain features. Notation is very similar to numpy arrays."
   ]
  },
  {
   "cell_type": "code",
   "execution_count": 31,
   "metadata": {},
   "outputs": [
    {
     "data": {
      "text/html": [
       "<div>\n",
       "<style scoped>\n",
       "    .dataframe tbody tr th:only-of-type {\n",
       "        vertical-align: middle;\n",
       "    }\n",
       "\n",
       "    .dataframe tbody tr th {\n",
       "        vertical-align: top;\n",
       "    }\n",
       "\n",
       "    .dataframe thead th {\n",
       "        text-align: right;\n",
       "    }\n",
       "</style>\n",
       "<table border=\"1\" class=\"dataframe\">\n",
       "  <thead>\n",
       "    <tr style=\"text-align: right;\">\n",
       "      <th></th>\n",
       "      <th>A</th>\n",
       "      <th>B</th>\n",
       "      <th>C</th>\n",
       "      <th>D</th>\n",
       "    </tr>\n",
       "  </thead>\n",
       "  <tbody>\n",
       "    <tr>\n",
       "      <th>2021-11-22 15:45:00</th>\n",
       "      <td>1.540099</td>\n",
       "      <td>0.824566</td>\n",
       "      <td>-0.267375</td>\n",
       "      <td>-0.170200</td>\n",
       "    </tr>\n",
       "    <tr>\n",
       "      <th>2021-11-22 16:45:00</th>\n",
       "      <td>-0.136044</td>\n",
       "      <td>0.340457</td>\n",
       "      <td>1.260720</td>\n",
       "      <td>1.025577</td>\n",
       "    </tr>\n",
       "    <tr>\n",
       "      <th>2021-11-22 17:45:00</th>\n",
       "      <td>1.220303</td>\n",
       "      <td>1.070322</td>\n",
       "      <td>-0.821359</td>\n",
       "      <td>1.076622</td>\n",
       "    </tr>\n",
       "    <tr>\n",
       "      <th>2021-11-22 18:45:00</th>\n",
       "      <td>-0.074508</td>\n",
       "      <td>0.731778</td>\n",
       "      <td>1.817186</td>\n",
       "      <td>-0.580714</td>\n",
       "    </tr>\n",
       "    <tr>\n",
       "      <th>2021-11-22 19:45:00</th>\n",
       "      <td>-0.741644</td>\n",
       "      <td>1.430828</td>\n",
       "      <td>-0.221097</td>\n",
       "      <td>-1.261821</td>\n",
       "    </tr>\n",
       "    <tr>\n",
       "      <th>2021-11-22 20:45:00</th>\n",
       "      <td>0.935158</td>\n",
       "      <td>0.578401</td>\n",
       "      <td>-0.152079</td>\n",
       "      <td>0.445711</td>\n",
       "    </tr>\n",
       "  </tbody>\n",
       "</table>\n",
       "</div>"
      ],
      "text/plain": [
       "                            A         B         C         D\n",
       "2021-11-22 15:45:00  1.540099  0.824566 -0.267375 -0.170200\n",
       "2021-11-22 16:45:00 -0.136044  0.340457  1.260720  1.025577\n",
       "2021-11-22 17:45:00  1.220303  1.070322 -0.821359  1.076622\n",
       "2021-11-22 18:45:00 -0.074508  0.731778  1.817186 -0.580714\n",
       "2021-11-22 19:45:00 -0.741644  1.430828 -0.221097 -1.261821\n",
       "2021-11-22 20:45:00  0.935158  0.578401 -0.152079  0.445711"
      ]
     },
     "execution_count": 31,
     "metadata": {},
     "output_type": "execute_result"
    }
   ],
   "source": [
    "# Filter by a boolean condition on the values of a single column\n",
    "df[df['B'] > 0]"
   ]
  },
  {
   "cell_type": "code",
   "execution_count": 32,
   "metadata": {},
   "outputs": [
    {
     "data": {
      "text/html": [
       "<div>\n",
       "<style scoped>\n",
       "    .dataframe tbody tr th:only-of-type {\n",
       "        vertical-align: middle;\n",
       "    }\n",
       "\n",
       "    .dataframe tbody tr th {\n",
       "        vertical-align: top;\n",
       "    }\n",
       "\n",
       "    .dataframe thead th {\n",
       "        text-align: right;\n",
       "    }\n",
       "</style>\n",
       "<table border=\"1\" class=\"dataframe\">\n",
       "  <thead>\n",
       "    <tr style=\"text-align: right;\">\n",
       "      <th></th>\n",
       "      <th>A</th>\n",
       "      <th>B</th>\n",
       "      <th>C</th>\n",
       "      <th>D</th>\n",
       "    </tr>\n",
       "  </thead>\n",
       "  <tbody>\n",
       "    <tr>\n",
       "      <th>2021-11-22 12:45:00</th>\n",
       "      <td>NaN</td>\n",
       "      <td>NaN</td>\n",
       "      <td>NaN</td>\n",
       "      <td>NaN</td>\n",
       "    </tr>\n",
       "    <tr>\n",
       "      <th>2021-11-22 13:45:00</th>\n",
       "      <td>NaN</td>\n",
       "      <td>NaN</td>\n",
       "      <td>1.255839</td>\n",
       "      <td>NaN</td>\n",
       "    </tr>\n",
       "    <tr>\n",
       "      <th>2021-11-22 14:45:00</th>\n",
       "      <td>NaN</td>\n",
       "      <td>NaN</td>\n",
       "      <td>1.234855</td>\n",
       "      <td>1.705301</td>\n",
       "    </tr>\n",
       "    <tr>\n",
       "      <th>2021-11-22 15:45:00</th>\n",
       "      <td>1.540099</td>\n",
       "      <td>0.824566</td>\n",
       "      <td>NaN</td>\n",
       "      <td>NaN</td>\n",
       "    </tr>\n",
       "    <tr>\n",
       "      <th>2021-11-22 16:45:00</th>\n",
       "      <td>NaN</td>\n",
       "      <td>0.340457</td>\n",
       "      <td>1.260720</td>\n",
       "      <td>1.025577</td>\n",
       "    </tr>\n",
       "    <tr>\n",
       "      <th>2021-11-22 17:45:00</th>\n",
       "      <td>1.220303</td>\n",
       "      <td>1.070322</td>\n",
       "      <td>NaN</td>\n",
       "      <td>1.076622</td>\n",
       "    </tr>\n",
       "    <tr>\n",
       "      <th>2021-11-22 18:45:00</th>\n",
       "      <td>NaN</td>\n",
       "      <td>0.731778</td>\n",
       "      <td>1.817186</td>\n",
       "      <td>NaN</td>\n",
       "    </tr>\n",
       "    <tr>\n",
       "      <th>2021-11-22 19:45:00</th>\n",
       "      <td>NaN</td>\n",
       "      <td>1.430828</td>\n",
       "      <td>NaN</td>\n",
       "      <td>NaN</td>\n",
       "    </tr>\n",
       "    <tr>\n",
       "      <th>2021-11-22 20:45:00</th>\n",
       "      <td>0.935158</td>\n",
       "      <td>0.578401</td>\n",
       "      <td>NaN</td>\n",
       "      <td>0.445711</td>\n",
       "    </tr>\n",
       "    <tr>\n",
       "      <th>2021-11-22 21:45:00</th>\n",
       "      <td>NaN</td>\n",
       "      <td>NaN</td>\n",
       "      <td>0.511722</td>\n",
       "      <td>NaN</td>\n",
       "    </tr>\n",
       "  </tbody>\n",
       "</table>\n",
       "</div>"
      ],
      "text/plain": [
       "                            A         B         C         D\n",
       "2021-11-22 12:45:00       NaN       NaN       NaN       NaN\n",
       "2021-11-22 13:45:00       NaN       NaN  1.255839       NaN\n",
       "2021-11-22 14:45:00       NaN       NaN  1.234855  1.705301\n",
       "2021-11-22 15:45:00  1.540099  0.824566       NaN       NaN\n",
       "2021-11-22 16:45:00       NaN  0.340457  1.260720  1.025577\n",
       "2021-11-22 17:45:00  1.220303  1.070322       NaN  1.076622\n",
       "2021-11-22 18:45:00       NaN  0.731778  1.817186       NaN\n",
       "2021-11-22 19:45:00       NaN  1.430828       NaN       NaN\n",
       "2021-11-22 20:45:00  0.935158  0.578401       NaN  0.445711\n",
       "2021-11-22 21:45:00       NaN       NaN  0.511722       NaN"
      ]
     },
     "execution_count": 32,
     "metadata": {},
     "output_type": "execute_result"
    }
   ],
   "source": [
    "# Selecting on the basis of boolean conditions applied to the whole DataFrame\n",
    "df[df>0]\n",
    "\n",
    "# a DataFrame with the same shape is returned, with NaN's where condition is not met"
   ]
  },
  {
   "cell_type": "markdown",
   "metadata": {},
   "source": [
    "### Setting\n",
    "\n",
    "Combination of selection and setting of values"
   ]
  },
  {
   "cell_type": "code",
   "execution_count": 33,
   "metadata": {},
   "outputs": [],
   "source": [
    "# setting values by label (same as by position)\n",
    "df.at[dates[0],'A'] = 0\n",
    "\n",
    "# setting and assigning a numpy array\n",
    "df.loc[:,'D'] = np.array([5] * len(df))\n",
    "\n",
    "# defining a brend new column\n",
    "df['E'] = np.arange(len(df))*0.5\n",
    "\n",
    "# defining a brend new column by means of a pd.Series: indexes must be the same!\n",
    "df['E prime'] = pd.Series(np.arange(len(df))*2, index=df.index)\n"
   ]
  },
  {
   "cell_type": "code",
   "execution_count": 34,
   "metadata": {},
   "outputs": [
    {
     "data": {
      "text/html": [
       "<div>\n",
       "<style scoped>\n",
       "    .dataframe tbody tr th:only-of-type {\n",
       "        vertical-align: middle;\n",
       "    }\n",
       "\n",
       "    .dataframe tbody tr th {\n",
       "        vertical-align: top;\n",
       "    }\n",
       "\n",
       "    .dataframe thead th {\n",
       "        text-align: right;\n",
       "    }\n",
       "</style>\n",
       "<table border=\"1\" class=\"dataframe\">\n",
       "  <thead>\n",
       "    <tr style=\"text-align: right;\">\n",
       "      <th></th>\n",
       "      <th>A</th>\n",
       "      <th>B</th>\n",
       "      <th>C</th>\n",
       "      <th>D</th>\n",
       "      <th>E</th>\n",
       "      <th>E prime</th>\n",
       "      <th>cosine</th>\n",
       "    </tr>\n",
       "  </thead>\n",
       "  <tbody>\n",
       "    <tr>\n",
       "      <th>2021-11-22 12:45:00</th>\n",
       "      <td>0.000000</td>\n",
       "      <td>-0.073889</td>\n",
       "      <td>-1.698144</td>\n",
       "      <td>5</td>\n",
       "      <td>0.0</td>\n",
       "      <td>0</td>\n",
       "      <td>1.000000</td>\n",
       "    </tr>\n",
       "    <tr>\n",
       "      <th>2021-11-22 13:45:00</th>\n",
       "      <td>-0.344393</td>\n",
       "      <td>-0.382585</td>\n",
       "      <td>1.255839</td>\n",
       "      <td>5</td>\n",
       "      <td>0.5</td>\n",
       "      <td>2</td>\n",
       "      <td>0.999962</td>\n",
       "    </tr>\n",
       "    <tr>\n",
       "      <th>2021-11-22 14:45:00</th>\n",
       "      <td>-0.375640</td>\n",
       "      <td>-0.465327</td>\n",
       "      <td>1.234855</td>\n",
       "      <td>5</td>\n",
       "      <td>1.0</td>\n",
       "      <td>4</td>\n",
       "      <td>0.999848</td>\n",
       "    </tr>\n",
       "    <tr>\n",
       "      <th>2021-11-22 15:45:00</th>\n",
       "      <td>1.540099</td>\n",
       "      <td>0.824566</td>\n",
       "      <td>-0.267375</td>\n",
       "      <td>5</td>\n",
       "      <td>1.5</td>\n",
       "      <td>6</td>\n",
       "      <td>0.999657</td>\n",
       "    </tr>\n",
       "    <tr>\n",
       "      <th>2021-11-22 16:45:00</th>\n",
       "      <td>-0.136044</td>\n",
       "      <td>0.340457</td>\n",
       "      <td>1.260720</td>\n",
       "      <td>5</td>\n",
       "      <td>2.0</td>\n",
       "      <td>8</td>\n",
       "      <td>0.999391</td>\n",
       "    </tr>\n",
       "    <tr>\n",
       "      <th>2021-11-22 17:45:00</th>\n",
       "      <td>1.220303</td>\n",
       "      <td>1.070322</td>\n",
       "      <td>-0.821359</td>\n",
       "      <td>5</td>\n",
       "      <td>2.5</td>\n",
       "      <td>10</td>\n",
       "      <td>0.999048</td>\n",
       "    </tr>\n",
       "    <tr>\n",
       "      <th>2021-11-22 18:45:00</th>\n",
       "      <td>-0.074508</td>\n",
       "      <td>0.731778</td>\n",
       "      <td>1.817186</td>\n",
       "      <td>5</td>\n",
       "      <td>3.0</td>\n",
       "      <td>12</td>\n",
       "      <td>0.998630</td>\n",
       "    </tr>\n",
       "    <tr>\n",
       "      <th>2021-11-22 19:45:00</th>\n",
       "      <td>-0.741644</td>\n",
       "      <td>1.430828</td>\n",
       "      <td>-0.221097</td>\n",
       "      <td>5</td>\n",
       "      <td>3.5</td>\n",
       "      <td>14</td>\n",
       "      <td>0.998135</td>\n",
       "    </tr>\n",
       "    <tr>\n",
       "      <th>2021-11-22 20:45:00</th>\n",
       "      <td>0.935158</td>\n",
       "      <td>0.578401</td>\n",
       "      <td>-0.152079</td>\n",
       "      <td>5</td>\n",
       "      <td>4.0</td>\n",
       "      <td>16</td>\n",
       "      <td>0.997564</td>\n",
       "    </tr>\n",
       "    <tr>\n",
       "      <th>2021-11-22 21:45:00</th>\n",
       "      <td>-0.789627</td>\n",
       "      <td>-0.704049</td>\n",
       "      <td>0.511722</td>\n",
       "      <td>5</td>\n",
       "      <td>4.5</td>\n",
       "      <td>18</td>\n",
       "      <td>0.996917</td>\n",
       "    </tr>\n",
       "  </tbody>\n",
       "</table>\n",
       "</div>"
      ],
      "text/plain": [
       "                            A         B         C  D    E  E prime    cosine\n",
       "2021-11-22 12:45:00  0.000000 -0.073889 -1.698144  5  0.0        0  1.000000\n",
       "2021-11-22 13:45:00 -0.344393 -0.382585  1.255839  5  0.5        2  0.999962\n",
       "2021-11-22 14:45:00 -0.375640 -0.465327  1.234855  5  1.0        4  0.999848\n",
       "2021-11-22 15:45:00  1.540099  0.824566 -0.267375  5  1.5        6  0.999657\n",
       "2021-11-22 16:45:00 -0.136044  0.340457  1.260720  5  2.0        8  0.999391\n",
       "2021-11-22 17:45:00  1.220303  1.070322 -0.821359  5  2.5       10  0.999048\n",
       "2021-11-22 18:45:00 -0.074508  0.731778  1.817186  5  3.0       12  0.998630\n",
       "2021-11-22 19:45:00 -0.741644  1.430828 -0.221097  5  3.5       14  0.998135\n",
       "2021-11-22 20:45:00  0.935158  0.578401 -0.152079  5  4.0       16  0.997564\n",
       "2021-11-22 21:45:00 -0.789627 -0.704049  0.511722  5  4.5       18  0.996917"
      ]
     },
     "execution_count": 34,
     "metadata": {},
     "output_type": "execute_result"
    }
   ],
   "source": [
    "def dcos(theta):\n",
    "    theta = theta*(np.pi/180)\n",
    "    return np.cos(theta)\n",
    " \n",
    "df['cosine'] = pd.Series(df[\"E\"].apply(dcos), index=df.index)\n",
    "df"
   ]
  },
  {
   "cell_type": "code",
   "execution_count": null,
   "metadata": {},
   "outputs": [],
   "source": [
    "# another example of global setting\n",
    "df2=df.copy()\n",
    "\n",
    "df2[df2>0] = -df2\n",
    "df2"
   ]
  },
  {
   "cell_type": "code",
   "execution_count": null,
   "metadata": {},
   "outputs": [],
   "source": [
    "df"
   ]
  },
  {
   "cell_type": "markdown",
   "metadata": {},
   "source": [
    "### Dropping\n",
    "\n",
    "N.B.: dropping doesn't act permanently on the DataFrame, i.e. to get that do :\n",
    "```python\n",
    "df = df.drop(....)\n",
    "```"
   ]
  },
  {
   "cell_type": "code",
   "execution_count": null,
   "metadata": {},
   "outputs": [],
   "source": [
    "# Dropping by column\n",
    "df.drop(['E prime'], axis=1)\n",
    "\n",
    "#which is equivalent to\n",
    "new_df=df.drop(columns=['E prime'])\n",
    "new_df"
   ]
  },
  {
   "cell_type": "code",
   "execution_count": null,
   "metadata": {},
   "outputs": [],
   "source": [
    "# Dropping by raws\n",
    "# safe and always working\n",
    "df.drop(df.index[[1,2,3,4]])"
   ]
  },
  {
   "cell_type": "code",
   "execution_count": null,
   "metadata": {},
   "outputs": [],
   "source": [
    "df"
   ]
  },
  {
   "cell_type": "code",
   "execution_count": null,
   "metadata": {},
   "outputs": [],
   "source": [
    "# something like df.drop('index_name') \n",
    "# would work but the type of index must be specificed, \n",
    "# in particular with DatetimeIndex\n",
    "df.drop(pd.to_datetime(\"2021-11-22 20:45:00\"))"
   ]
  },
  {
   "cell_type": "markdown",
   "metadata": {},
   "source": [
    "## Missing data\n",
    "\n",
    "pandas primarily uses the value np.nan to represent missing data. It is by default not included in computations."
   ]
  },
  {
   "cell_type": "code",
   "execution_count": null,
   "metadata": {},
   "outputs": [],
   "source": [
    "df_wNan = df[df>0]\n",
    "df_wNan"
   ]
  },
  {
   "cell_type": "code",
   "execution_count": null,
   "metadata": {},
   "outputs": [],
   "source": [
    "# dropping raws with at least a Nan\n",
    "df_wNan.dropna(how='any')"
   ]
  },
  {
   "cell_type": "code",
   "execution_count": null,
   "metadata": {},
   "outputs": [],
   "source": [
    "# getting a mask\n",
    "df_wNan.isna()\n",
    "#df_wNan.notna()"
   ]
  },
  {
   "cell_type": "code",
   "execution_count": null,
   "metadata": {},
   "outputs": [],
   "source": [
    "# filling missing data\n",
    "df_wNan.fillna(value=0)"
   ]
  },
  {
   "cell_type": "markdown",
   "metadata": {},
   "source": [
    "Fill gaps forward or backward by propagating non-NA values forward or backward:"
   ]
  },
  {
   "cell_type": "code",
   "execution_count": null,
   "metadata": {},
   "outputs": [],
   "source": [
    "df_wNan.fillna(method='pad')"
   ]
  },
  {
   "cell_type": "markdown",
   "metadata": {},
   "source": [
    "## Operations\n",
    "\n",
    "Here comes the most relevant advantage of DataFrame. Operations on columns are extremly fast, almost as fast as the actual operation between elements in a raw"
   ]
  },
  {
   "cell_type": "code",
   "execution_count": null,
   "metadata": {},
   "outputs": [],
   "source": [
    "# Some statistics (mean() just as an example)\n",
    "# raws\n",
    "print (df.mean(axis=0),'\\n')\n",
    "# columns\n",
    "print (df.mean(axis=1),'\\n')"
   ]
  },
  {
   "cell_type": "code",
   "execution_count": null,
   "metadata": {},
   "outputs": [],
   "source": [
    "# global operations on columns\n",
    "df.apply(np.cumsum)"
   ]
  },
  {
   "cell_type": "code",
   "execution_count": null,
   "metadata": {},
   "outputs": [],
   "source": [
    "df"
   ]
  },
  {
   "cell_type": "code",
   "execution_count": null,
   "metadata": {},
   "outputs": [],
   "source": [
    "df.apply(lambda x: x.max() - x.min())"
   ]
  },
  {
   "cell_type": "code",
   "execution_count": null,
   "metadata": {},
   "outputs": [],
   "source": [
    "# syntax is as usual similar to that of numpy arrays\n",
    "df['A']+df['B']"
   ]
  },
  {
   "cell_type": "markdown",
   "metadata": {},
   "source": [
    "Let's play it hard and load (in memory) a (relatively) large dataset"
   ]
  },
  {
   "cell_type": "code",
   "execution_count": null,
   "metadata": {},
   "outputs": [],
   "source": [
    "# WARNING! link in past notebook was wrong!, (if needed) get the right file from:\n",
    "#!wget https://www.dropbox.com/s/xvjzaxzz3ysphme/data_000637.txt -P ~/data/\n",
    "\n",
    "file_name=\"~/data/data_000637.txt\"\n",
    "data=pd.read_csv(file_name)\n",
    "data"
   ]
  },
  {
   "cell_type": "markdown",
   "metadata": {},
   "source": [
    "Let's now do some operations among (elements of) columns"
   ]
  },
  {
   "cell_type": "code",
   "execution_count": null,
   "metadata": {},
   "outputs": [],
   "source": [
    "# the one-liner killing it all\n",
    "data['timens']=data['TDC_MEAS']*25/30+data['BX_COUNTER']*25"
   ]
  },
  {
   "cell_type": "code",
   "execution_count": null,
   "metadata": {},
   "outputs": [],
   "source": [
    "data['timens']"
   ]
  },
  {
   "cell_type": "code",
   "execution_count": null,
   "metadata": {},
   "outputs": [],
   "source": [
    "# the old slooow way\n",
    "def conversion(data):\n",
    "    result=[]\n",
    "    for i in range(len(data)): \n",
    "        result.append(data.loc[data.index[i],'TDC_MEAS']*25/30.+data.loc[data.index[i],'BX_COUNTER']*25)\n",
    "    return result\n",
    "\n",
    "data['timens']=conversion(data)"
   ]
  },
  {
   "cell_type": "markdown",
   "metadata": {},
   "source": [
    "## Merge\n",
    "\n",
    "pandas provides various facilities for easily combining together Series, DataFrame, and Panel objects with various kinds of set logic for the indexes and relational algebra functionality in the case of join / merge-type operations.\n",
    "\n",
    "### Concat\n",
    "\n",
    "concatenation (adding rows) is straightforward\n"
   ]
  },
  {
   "cell_type": "code",
   "execution_count": null,
   "metadata": {},
   "outputs": [],
   "source": [
    "rdf = pd.DataFrame(np.random.randn(10, 4))\n",
    "rdf"
   ]
  },
  {
   "cell_type": "code",
   "execution_count": null,
   "metadata": {},
   "outputs": [],
   "source": [
    "# divide it into pieaces raw-wise\n",
    "pieces = [rdf[:3], rdf[3:7], rdf[7:]]\n",
    "pieces"
   ]
  },
  {
   "cell_type": "code",
   "execution_count": null,
   "metadata": {},
   "outputs": [],
   "source": [
    "# put it back together\n",
    "#pd.concat(pieces)\n",
    "\n",
    "# indexes can be ignored\n",
    "pd.concat(pieces, ignore_index=True)\n",
    "\n",
    "# in case of dimension mismatch, Nan are added where needed"
   ]
  },
  {
   "cell_type": "code",
   "execution_count": null,
   "metadata": {},
   "outputs": [],
   "source": [
    "# appending a single row (as a Series)\n",
    "s = rdf.iloc[3]\n",
    "rdf.append(s, ignore_index=True)\n",
    "rdf"
   ]
  },
  {
   "cell_type": "markdown",
   "metadata": {},
   "source": [
    "### Merge/Join\n",
    "\n",
    "SQL like operations on table can be performed on DataFrames. This is all rather sophisticated, refer to the [doc](https://pandas.pydata.org/pandas-docs/stable/merging.html#merging) for more info/examples"
   ]
  },
  {
   "cell_type": "code",
   "execution_count": null,
   "metadata": {},
   "outputs": [],
   "source": [
    "left = pd.DataFrame({'key': ['foo', 'bar'], 'lval': [1, 2]})\n",
    "print(left)\n",
    "right = pd.DataFrame({'key': ['foo', 'bar'], 'rval': [4, 5]})\n",
    "print(right)\n",
    "pd.merge(left,right,on=\"key\")"
   ]
  },
  {
   "cell_type": "markdown",
   "metadata": {},
   "source": [
    "## Grouping\n",
    "\n",
    "By “group by” we are referring to a process involving one or more of the following steps:\n",
    "\n",
    "* Splitting the data into groups based on some criteria\n",
    "* Applying a function to each group independently\n",
    "* Combining the results into a data structure\n"
   ]
  },
  {
   "cell_type": "code",
   "execution_count": null,
   "metadata": {},
   "outputs": [],
   "source": [
    "gdf = pd.DataFrame({'A' : ['foo', 'bar', 'foo', 'bar',\n",
    "                          'foo', 'bar', 'foo', 'foo'],\n",
    "                    'B' : ['one', 'one', 'two', 'three',\n",
    "                           'two', 'two', 'one', 'three'],\n",
    "                    'C' : np.random.randn(8),\n",
    "                    'D' : np.random.randn(8)})\n",
    "gdf"
   ]
  },
  {
   "cell_type": "code",
   "execution_count": null,
   "metadata": {},
   "outputs": [],
   "source": [
    "# Grouping and then applying the sum() \n",
    "# function to the resulting groups (effective only where number are there).\n",
    "gdf.groupby('A').sum()"
   ]
  },
  {
   "cell_type": "markdown",
   "metadata": {},
   "source": [
    "## Multi-indexing\n",
    "\n",
    "\n",
    "Hierarchical / Multi-level indexing allows sophisticated data analysis on higher dimensional data. In essence, it enables you to store and manipulate data with an arbitrary number of dimensions in lower dimensional data structures like Series (1d) and DataFrame (2d)."
   ]
  },
  {
   "cell_type": "code",
   "execution_count": null,
   "metadata": {},
   "outputs": [],
   "source": [
    "tuples = list(zip(['bar', 'bar', 'baz', 'baz', 'foo', 'foo', 'qux', 'qux'],\n",
    "          ['one', 'two', 'one', 'two', 'one', 'two', 'one', 'two']))\n",
    "multi_index = pd.MultiIndex.from_tuples(tuples, names=['first', 'second'])\n",
    "print (multi_index,'\\n')\n",
    "\n",
    "s = pd.Series(np.random.randn(8), index=multi_index)\n",
    "print (s)\n"
   ]
  },
  {
   "cell_type": "code",
   "execution_count": null,
   "metadata": {},
   "outputs": [],
   "source": [
    "# it enables further features of the groupby method,\n",
    "# e.g. when group-by by multiple columns\n",
    "gdf.groupby(['A','B']).sum()"
   ]
  },
  {
   "cell_type": "code",
   "execution_count": null,
   "metadata": {},
   "outputs": [],
   "source": [
    "# stack() method “compresses” a level in the DataFrame’s columns\n",
    "gdf.groupby(['A','B']).sum().stack()"
   ]
  },
  {
   "cell_type": "markdown",
   "metadata": {},
   "source": [
    "## Plotting\n",
    "\n",
    "Just a preview, more on the next lab class!"
   ]
  },
  {
   "cell_type": "code",
   "execution_count": null,
   "metadata": {},
   "outputs": [],
   "source": [
    "ts = pd.Series(np.random.randn(1000), index=pd.date_range('1/1/2000', periods=1000))\n",
    "ts.cumsum().plot()"
   ]
  },
  {
   "cell_type": "code",
   "execution_count": null,
   "metadata": {},
   "outputs": [],
   "source": [
    "import matplotlib.pyplot as plt\n",
    "\n",
    "pdf=pd.DataFrame(np.random.randn(1000, 4), index=ts.index,columns=['A', 'B', 'C', 'D'])\n",
    "pdf = pdf.cumsum()\n",
    "plt.figure(); pdf.plot(); plt.legend(loc='best')"
   ]
  },
  {
   "cell_type": "code",
   "execution_count": null,
   "metadata": {},
   "outputs": [],
   "source": []
  }
 ],
 "metadata": {
  "kernelspec": {
   "display_name": "Python 3",
   "language": "python",
   "name": "python3"
  },
  "language_info": {
   "codemirror_mode": {
    "name": "ipython",
    "version": 3
   },
   "file_extension": ".py",
   "mimetype": "text/x-python",
   "name": "python",
   "nbconvert_exporter": "python",
   "pygments_lexer": "ipython3",
   "version": "3.8.8"
  }
 },
 "nbformat": 4,
 "nbformat_minor": 2
}
