{
 "cells": [
  {
   "cell_type": "markdown",
   "metadata": {},
   "source": [
    "1\\. Write the following as a list comprehension"
   ]
  },
  {
   "cell_type": "code",
   "execution_count": 1,
   "metadata": {},
   "outputs": [
    {
     "name": "stdout",
     "output_type": "stream",
     "text": [
      "[(0, 0), (0, 1), (0, 2), (0, 3), (1, 0), (1, 1), (1, 2), (1, 3), (2, 0), (2, 1), (2, 2), (2, 3)]\n",
      "[0, 4, 16]\n"
     ]
    }
   ],
   "source": [
    "# 1\n",
    "ans = []\n",
    "for i in range(3):\n",
    "    for j in range(4):\n",
    "        ans.append((i, j))\n",
    "print (ans)\n",
    "\n",
    "# 2\n",
    "ans = map(lambda x: x*x, filter(lambda x: x%2 == 0, range(5)))\n",
    "print (list(ans))\n"
   ]
  },
  {
   "cell_type": "code",
   "execution_count": 2,
   "metadata": {},
   "outputs": [
    {
     "name": "stdout",
     "output_type": "stream",
     "text": [
      "[(0, 0), (0, 1), (0, 2), (0, 3), (1, 0), (1, 1), (1, 2), (1, 3), (2, 0), (2, 1), (2, 2), (2, 3)]\n"
     ]
    }
   ],
   "source": [
    "ans = [(i,j) for i in range(3) for j in range (4)]\n",
    "print (ans)"
   ]
  },
  {
   "cell_type": "code",
   "execution_count": 23,
   "metadata": {},
   "outputs": [
    {
     "name": "stdout",
     "output_type": "stream",
     "text": [
      "[0, 4, 16]\n"
     ]
    }
   ],
   "source": [
    "ans = [x*x for x in range(5) if x % 2 == 0]\n",
    "print(ans)"
   ]
  },
  {
   "cell_type": "markdown",
   "metadata": {},
   "source": [
    "2. Convert the following function into a pure function with no global variables or side effects"
   ]
  },
  {
   "cell_type": "code",
   "execution_count": 3,
   "metadata": {},
   "outputs": [
    {
     "name": "stdout",
     "output_type": "stream",
     "text": [
      "[1, 2, 3, 0, 1, 2, 3, 4]\n",
      "[1, 2, 3, 0, 1, 2, 3, 4]\n"
     ]
    }
   ],
   "source": [
    "x = 5\n",
    "def f(alist):\n",
    "    for i in range(x):\n",
    "         alist.append(i)\n",
    "    return alist\n",
    "\n",
    "alist = [1,2,3]\n",
    "ans = f(alist)\n",
    "print (ans)\n",
    "print (alist) # alist has been changed!"
   ]
  },
  {
   "cell_type": "code",
   "execution_count": 6,
   "metadata": {},
   "outputs": [
    {
     "name": "stdout",
     "output_type": "stream",
     "text": [
      "[0, 1, 2, 3, 4]\n",
      "[1, 2, 3]\n"
     ]
    }
   ],
   "source": [
    "def f(alist, x = 5):\n",
    "    alist = []\n",
    "    for i in range(x):\n",
    "         alist.append(i)\n",
    "    return alist\n",
    "\n",
    "alist = [1,2,3]\n",
    "ans = f(alist)\n",
    "print (ans)\n",
    "print (alist) # alist has been changed!"
   ]
  },
  {
   "cell_type": "markdown",
   "metadata": {},
   "source": [
    "3\\. Write a `decorator` hello that makes every wrapped function print “Hello!”, i.e. something like:\n",
    "\n",
    "```python\n",
    "@hello\n",
    "def square(x):\n",
    "    return x*x\n",
    "```\n",
    "\n"
   ]
  },
  {
   "cell_type": "code",
   "execution_count": 15,
   "metadata": {},
   "outputs": [
    {
     "name": "stdout",
     "output_type": "stream",
     "text": [
      "hello\n",
      "4\n"
     ]
    }
   ],
   "source": [
    "def hello(func):\n",
    "    def wrapper(x):\n",
    "        print(\"hello\")\n",
    "        return func(x)\n",
    "        \n",
    "    return wrapper\n",
    "\n",
    "@hello\n",
    "def square(x):\n",
    "    return x*x\n",
    "print(square(2))"
   ]
  },
  {
   "cell_type": "markdown",
   "metadata": {},
   "source": [
    "4\\. Write the factorial function so that it a) does and b) does not use recursion."
   ]
  },
  {
   "cell_type": "code",
   "execution_count": 54,
   "metadata": {},
   "outputs": [
    {
     "name": "stdout",
     "output_type": "stream",
     "text": [
      "24\n"
     ]
    }
   ],
   "source": [
    "def fact(n):\n",
    "    \n",
    "    if n==0 or n==1: # base case\n",
    "        return 1 \n",
    "    else:\n",
    "        return n * fact(n-1)  # recurssive case\n",
    "\n",
    "    \n",
    "print (fact(4))"
   ]
  },
  {
   "cell_type": "code",
   "execution_count": 63,
   "metadata": {},
   "outputs": [
    {
     "name": "stdout",
     "output_type": "stream",
     "text": [
      "24\n"
     ]
    }
   ],
   "source": [
    "def factorial(x):\n",
    "    fact_1 = 1\n",
    "    \n",
    "    for i in range(1, 5):\n",
    "        fact_1 = fact_1 * i\n",
    "    return fact_1\n",
    "\n",
    "\n",
    "print(factorial(4))"
   ]
  },
  {
   "cell_type": "markdown",
   "metadata": {},
   "source": [
    "5\\. Use HOFs (zip in particular) to compute the weight of a circle, a disk and a sphere, assuming different radii and different densities:\n",
    "\n",
    "```python\n",
    "densities = {\"Al\":[0.5,1,2],\"Fe\":[3,4,5],\"Pb\": [15,20,30]}\n",
    "radii = [1,2,3]\n",
    "```\n",
    "\n",
    "where the entries of the dictionary's values are the linear, superficial and volumetric densities of the materials respectively.\n",
    "\n",
    "In particular define a list of three lambda functions using a comprehension that computes the circumference, the area and the volume for a given radius.\n"
   ]
  },
  {
   "cell_type": "code",
   "execution_count": 11,
   "metadata": {},
   "outputs": [
    {
     "name": "stdout",
     "output_type": "stream",
     "text": [
      "Radius: 1\n",
      "Al\n",
      "weight of circle 3.141592653589793\n",
      "weight of disk 3.141592653589793\n",
      "weight of sphere 8.377580409572781\n",
      "Fe\n",
      "weight of circle 18.84955592153876\n",
      "weight of disk 12.566370614359172\n",
      "weight of sphere 20.94395102393195\n",
      "Pb\n",
      "weight of circle 94.24777960769379\n",
      "weight of disk 62.83185307179586\n",
      "weight of sphere 125.66370614359171\n",
      "\n",
      "\n",
      "Radius: 2\n",
      "Al\n",
      "weight of circle 6.283185307179586\n",
      "weight of disk 12.566370614359172\n",
      "weight of sphere 67.02064327658225\n",
      "Fe\n",
      "weight of circle 37.69911184307752\n",
      "weight of disk 50.26548245743669\n",
      "weight of sphere 167.5516081914556\n",
      "Pb\n",
      "weight of circle 188.49555921538757\n",
      "weight of disk 251.32741228718345\n",
      "weight of sphere 1005.3096491487337\n",
      "\n",
      "\n",
      "Radius: 3\n",
      "Al\n",
      "weight of circle 9.42477796076938\n",
      "weight of disk 28.274333882308138\n",
      "weight of sphere 226.19467105846508\n",
      "Fe\n",
      "weight of circle 56.548667764616276\n",
      "weight of disk 113.09733552923255\n",
      "weight of sphere 565.4866776461627\n",
      "Pb\n",
      "weight of circle 282.7433388230814\n",
      "weight of disk 565.4866776461628\n",
      "weight of sphere 3392.920065876976\n",
      "\n",
      "\n"
     ]
    }
   ],
   "source": [
    "from math import pi\n",
    "\n",
    "# computing the circumference, the area and the volume\n",
    "\n",
    "#the circumference of the circle, dick and sphere are given by the same formular\n",
    "\n",
    "\n",
    "densities = {\"Al\":[0.5,1,2],\"Fe\":[3,4,5],\"Pb\": [15,20,30]}\n",
    "radii = [1,2,3]\n",
    "shapes = ['weight of circle','weight of disk','weight of sphere']\n",
    "cir = lambda  x: 2 * pi * x \n",
    "#Area of circle and disk\n",
    "area = lambda x: pi * x**2 \n",
    "#Area of sphere\n",
    "area_s = lambda x: 4 * pi * x**2 \n",
    "#volume of given radii\n",
    "vol = lambda x: 4/3 * pi * x**3 \n",
    "fun=[cir, area, vol]\n",
    "\n",
    "for i in radii:\n",
    "    print(\"Radius:\", i)\n",
    "    for j in densities:\n",
    "        print(j)\n",
    "        for x,y,z in zip(shapes,fun,densities[j]):\n",
    "            print(x,y(i)*z)\n",
    "    print('\\n')\n"
   ]
  },
  {
   "cell_type": "code",
   "execution_count": null,
   "metadata": {},
   "outputs": [],
   "source": [
    "import math as m\n",
    "\n",
    "densities = {\"Al\":[0.5,1,2],\"Fe\":[3,4,5],\"Pb\": [15,20,30]}\n",
    "radii = [1,2,3]\n",
    "funz = [lambda r:2*m.pi*r, lambda r:m.pi*r*r, lambda r:(4/3)*m.pi*r*r*r]\n",
    "shapes = ['Mass of circle','Mass of disk','Mass of sphere']\n",
    "\n",
    "for i in radii:\n",
    "    print(\"Radius:\", i)\n",
    "    for j in densities:\n",
    "        print(\"Element:\", j)\n",
    "        for x,y,z in zip(shapes,funz,densities[j]):\n",
    "            print(x,y(i)*z)\n",
    "    print('\\n')\n"
   ]
  },
  {
   "cell_type": "markdown",
   "metadata": {},
   "source": [
    "6\\. Edit the class defintion to add an instance attribute of is_hungry = True to the Dog class. Then add a method called eat() which changes the value of is_hungry to False when called. Figure out the best way to feed each dog and then output “My dogs are hungry.” if all are hungry or “My dogs are not hungry.” if all are not hungry. The final output should look like this:\n",
    "\n",
    "`I have 3 dogs. \n",
    "Tom is 6. \n",
    "Fletcher is 7. \n",
    "Larry is 9. \n",
    "And they're all mammals, of course. \n",
    "My dogs are not hungry.\n",
    "`\n",
    "\n",
    "```python\n",
    "# Parent class\n",
    "class Dog:\n",
    "\n",
    "    # Class attribute\n",
    "    species = 'mammal'\n",
    "\n",
    "    # Initializer / Instance attributes\n",
    "    def __init__(self, name, age):\n",
    "        self.name = name\n",
    "        self.age = age\n",
    "\n",
    "    # instance method\n",
    "    def description(self):\n",
    "        return \"{} is {} years old\".format(self.name, self.age)\n",
    "\n",
    "    # instance method\n",
    "    def speak(self, sound):\n",
    "        return \"{} says {}\".format(self.name, sound)\n",
    "\n",
    "# Child class (inherits from Dog class)\n",
    "class RussellTerrier(Dog):\n",
    "    def run(self, speed):\n",
    "        return \"{} runs {}\".format(self.name, speed)\n",
    "\n",
    "# Child class (inherits from Dog class)\n",
    "class Bulldog(Dog):\n",
    "    def run(self, speed):\n",
    "        return \"{} runs {}\".format(self.name, speed)\n",
    "```"
   ]
  },
  {
   "cell_type": "code",
   "execution_count": 26,
   "metadata": {},
   "outputs": [],
   "source": [
    "# Parent class\n",
    "class Dog:\n",
    "\n",
    "    # Class attribute\n",
    "    species = 'mammal'\n",
    "\n",
    "    # Initializer / Instance attributes\n",
    "    def __init__(self, name, age):\n",
    "        self.name = name\n",
    "        self.age = age\n",
    "        self.is_hungry = True\n",
    "        \n",
    "    # instance method\n",
    "    def description(self):\n",
    "        return \"{} is {} years old.\".format(self.name, self.age)\n",
    "    # instance method\n",
    "    def speak(self, sound):\n",
    "        return \"{} says {}\".format(self.name, sound)\n",
    "    \n",
    "    def eat(self):\n",
    "        if self.is_hungry == False:\n",
    "            self.is_hungry = \"My dogs are hungry\"\n",
    "        else:\n",
    "            self.is_hungry = \"My dogs are not hungry\"\n",
    "        return \"{}\".format(self.is_hungry)\n",
    "    \n",
    "# Child class (inherits from Dog class)\n",
    "class RussellTerrier(Dog):\n",
    "    def run(self, speed):\n",
    "        return \"{} runs {}\".format(self.name, speed)\n",
    "\n",
    "# Child class (inherits from Dog class)\n",
    "class Bulldog(Dog):\n",
    "    def run(self, speed):\n",
    "        return \"{} runs {}\".format(self.name, speed)\n"
   ]
  },
  {
   "cell_type": "code",
   "execution_count": 36,
   "metadata": {},
   "outputs": [
    {
     "name": "stdout",
     "output_type": "stream",
     "text": [
      "Tom is 6 years old.\n",
      "Fletcher is 7 years old.\n",
      "Larry is 9 years old.\n",
      "And they are all mammals, of course\n",
      "My dogs are not hungry\n"
     ]
    }
   ],
   "source": [
    "dog_1 = RussellTerrier('Tom', 6)\n",
    "dog_2 = Bulldog('Fletcher', 7)\n",
    "dog_3 = Dog('Larry', 9)\n",
    "print(dog_1.description())\n",
    "print(dog_2.description())\n",
    "print(dog_3.description())\n",
    "print(f\"And they are all {dog_1.species}s, of course\")\n",
    "print(dog_1.eat())\n",
    "\n",
    "\n"
   ]
  }
 ],
 "metadata": {
  "kernelspec": {
   "display_name": "Python 3",
   "language": "python",
   "name": "python3"
  },
  "language_info": {
   "codemirror_mode": {
    "name": "ipython",
    "version": 3
   },
   "file_extension": ".py",
   "mimetype": "text/x-python",
   "name": "python",
   "nbconvert_exporter": "python",
   "pygments_lexer": "ipython3",
   "version": "3.8.8"
  }
 },
 "nbformat": 4,
 "nbformat_minor": 2
}
