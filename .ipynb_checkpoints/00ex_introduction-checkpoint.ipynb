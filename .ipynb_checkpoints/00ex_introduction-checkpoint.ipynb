{
 "cells": [
  {
   "cell_type": "markdown",
   "metadata": {},
   "source": [
    "1. The MickeyMouse problem\n",
    "\n",
    "a) Write a program that prints the numbers from 1 to 100. But for multiples of three print Mickey instead of the number and for the multiples of five print Mouse. For numbers which are multiples of both three and five print MickeyMouse\n",
    "\n",
    "b) Put the result in a tuple and substitute Mickey with Donald and Mouse with Duck"
   ]
  },
  {
   "cell_type": "code",
   "execution_count": 3,
   "metadata": {},
   "outputs": [
    {
     "name": "stdout",
     "output_type": "stream",
     "text": [
      "1\n",
      "2\n",
      "Mickey\n",
      "4\n",
      "Mouse\n",
      "Mickey\n",
      "7\n",
      "8\n",
      "Mickey\n",
      "Mouse\n",
      "11\n",
      "Mickey\n",
      "13\n",
      "14\n",
      "MickeyMouse\n",
      "16\n",
      "17\n",
      "Mickey\n",
      "19\n",
      "Mouse\n",
      "Mickey\n",
      "22\n",
      "23\n",
      "Mickey\n",
      "Mouse\n",
      "26\n",
      "Mickey\n",
      "28\n",
      "29\n",
      "MickeyMouse\n",
      "31\n",
      "32\n",
      "Mickey\n",
      "34\n",
      "Mouse\n",
      "Mickey\n",
      "37\n",
      "38\n",
      "Mickey\n",
      "Mouse\n",
      "41\n",
      "Mickey\n",
      "43\n",
      "44\n",
      "MickeyMouse\n",
      "46\n",
      "47\n",
      "Mickey\n",
      "49\n",
      "Mouse\n",
      "Mickey\n",
      "52\n",
      "53\n",
      "Mickey\n",
      "Mouse\n",
      "56\n",
      "Mickey\n",
      "58\n",
      "59\n",
      "MickeyMouse\n",
      "61\n",
      "62\n",
      "Mickey\n",
      "64\n",
      "Mouse\n",
      "Mickey\n",
      "67\n",
      "68\n",
      "Mickey\n",
      "Mouse\n",
      "71\n",
      "Mickey\n",
      "73\n",
      "74\n",
      "MickeyMouse\n",
      "76\n",
      "77\n",
      "Mickey\n",
      "79\n",
      "Mouse\n",
      "Mickey\n",
      "82\n",
      "83\n",
      "Mickey\n",
      "Mouse\n",
      "86\n",
      "Mickey\n",
      "88\n",
      "89\n",
      "MickeyMouse\n",
      "91\n",
      "92\n",
      "Mickey\n",
      "94\n",
      "Mouse\n",
      "Mickey\n",
      "97\n",
      "98\n",
      "Mickey\n",
      "Mouse\n"
     ]
    }
   ],
   "source": [
    "#a\n",
    "\n",
    "for i in range (1, 101):\n",
    "    if i % 3 == 0 and i % 5 == 0:\n",
    "        print(\"MickeyMouse\")\n",
    "    elif i % 3 == 0:\n",
    "        print (\"Mickey\")\n",
    "    elif i % 5 == 0:\n",
    "        print(\"Mouse\")  \n",
    "    else:\n",
    "        print(i)\n",
    "          "
   ]
  },
  {
   "cell_type": "code",
   "execution_count": 5,
   "metadata": {},
   "outputs": [],
   "source": [
    "#b\n",
    "result = ()\n",
    "for i in range (1, 101):\n",
    "    if i % 3 == 0 and i % 5 == 0:\n",
    "        result = result + (\"MickeyMouse\", )\n",
    "    elif i % 3 == 0:\n",
    "        result = result + (\"Mickey\", )\n",
    "    elif i % 5 == 0:\n",
    "        result = result + (\"Mouse\", )\n",
    "    else:\n",
    "        result = result + (i, )\n",
    "        \n"
   ]
  },
  {
   "cell_type": "code",
   "execution_count": 6,
   "metadata": {},
   "outputs": [
    {
     "name": "stdout",
     "output_type": "stream",
     "text": [
      "(1, 2, 'Mickey', 4, 'Mouse', 'Mickey', 7, 8, 'Mickey', 'Mouse', 11, 'Mickey', 13, 14, 'MickeyMouse', 16, 17, 'Mickey', 19, 'Mouse', 'Mickey', 22, 23, 'Mickey', 'Mouse', 26, 'Mickey', 28, 29, 'MickeyMouse', 31, 32, 'Mickey', 34, 'Mouse', 'Mickey', 37, 38, 'Mickey', 'Mouse', 41, 'Mickey', 43, 44, 'MickeyMouse', 46, 47, 'Mickey', 49, 'Mouse', 'Mickey', 52, 53, 'Mickey', 'Mouse', 56, 'Mickey', 58, 59, 'MickeyMouse', 61, 62, 'Mickey', 64, 'Mouse', 'Mickey', 67, 68, 'Mickey', 'Mouse', 71, 'Mickey', 73, 74, 'MickeyMouse', 76, 77, 'Mickey', 79, 'Mouse', 'Mickey', 82, 83, 'Mickey', 'Mouse', 86, 'Mickey', 88, 89, 'MickeyMouse', 91, 92, 'Mickey', 94, 'Mouse', 'Mickey', 97, 98, 'Mickey', 'Mouse')\n"
     ]
    }
   ],
   "source": [
    "print (result)"
   ]
  },
  {
   "cell_type": "code",
   "execution_count": 9,
   "metadata": {},
   "outputs": [
    {
     "name": "stdout",
     "output_type": "stream",
     "text": [
      "(1, 2, 'Donald', 4, 'Duck', 'Donald', 7, 8, 'Donald', 'Duck', 11, 'Donald', 13, 14, 'MickeyMouse', 16, 17, 'Donald', 19, 'Duck', 'Donald', 22, 23, 'Donald', 'Duck', 26, 'Donald', 28, 29, 'MickeyMouse', 31, 32, 'Donald', 34, 'Duck', 'Donald', 37, 38, 'Donald', 'Duck', 41, 'Donald', 43, 44, 'MickeyMouse', 46, 47, 'Donald', 49, 'Duck', 'Donald', 52, 53, 'Donald', 'Duck', 56, 'Donald', 58, 59, 'MickeyMouse', 61, 62, 'Donald', 64, 'Duck', 'Donald', 67, 68, 'Donald', 'Duck', 71, 'Donald', 73, 74, 'MickeyMouse', 76, 77, 'Donald', 79, 'Duck', 'Donald', 82, 83, 'Donald', 'Duck', 86, 'Donald', 88, 89, 'MickeyMouse', 91, 92, 'Donald', 94, 'Duck', 'Donald', 97, 98, 'Donald', 'Duck')\n"
     ]
    }
   ],
   "source": [
    "result = list(result)\n",
    "for j in range(len(result)):\n",
    "    if result[j] == \"Mickey\":\n",
    "        result[j] = \"Donald\"\n",
    "    elif result[j] == \"Mouse\":\n",
    "        result[j] = \"Duck\"\n",
    "    \n",
    "\n",
    "result = tuple(result)      \n",
    "print(result)\n",
    "    \n",
    "        "
   ]
  },
  {
   "cell_type": "markdown",
   "metadata": {},
   "source": [
    "2\\. The swap function\n",
    "\n",
    "Write a function that swap the values of two input variables x and y (whatever the type). Try to do that also without a temporary variable"
   ]
  },
  {
   "cell_type": "code",
   "execution_count": 27,
   "metadata": {},
   "outputs": [
    {
     "name": "stdout",
     "output_type": "stream",
     "text": [
      "[5, 3, 2, 4, 6, 1]\n"
     ]
    }
   ],
   "source": [
    "#2 swap funtion \n",
    "nums = [6, 3, 2, 4, 5, 1]\n",
    "\n",
    "def swap(nums, x,  y):\n",
    "    temp = nums[x]\n",
    "    nums[x] = nums[y]\n",
    "    nums[y] = temp\n",
    "swap(nums, 0,4)\n",
    "print(nums)"
   ]
  },
  {
   "cell_type": "markdown",
   "metadata": {},
   "source": [
    "3\\. Computing the distance\n",
    "\n",
    "Write a function that calculates and returns the euclidean distance between two points *u* and *v*, where *u* and *v* are both 2-tuples *(x,y)*. For example, if *u=(3,0)* and *v=(0,4)*, the function should return 5"
   ]
  },
  {
   "cell_type": "code",
   "execution_count": 31,
   "metadata": {},
   "outputs": [
    {
     "name": "stdout",
     "output_type": "stream",
     "text": [
      "5.0\n"
     ]
    },
    {
     "data": {
      "text/plain": [
       "5.0"
      ]
     },
     "execution_count": 31,
     "metadata": {},
     "output_type": "execute_result"
    }
   ],
   "source": [
    "import math\n",
    "def distance(u, v):\n",
    "    x1 = u[0]\n",
    "    x2 = u[1]\n",
    "    y1 = v[0]\n",
    "    y2 = v[1]\n",
    "    d = math.sqrt((x1 - x2)**2 + (y1 - y2)**2)\n",
    "    \n",
    "    return d \n",
    "\n",
    "\n",
    "distance(u=(3,0), v=(0,4))"
   ]
  },
  {
   "cell_type": "markdown",
   "metadata": {},
   "source": [
    "4\\. Counting letters\n",
    "\n",
    "Write a program to calculate the number of times each character occurs in a given string *s*. Ignore differneces in capitalization"
   ]
  },
  {
   "cell_type": "code",
   "execution_count": 33,
   "metadata": {},
   "outputs": [],
   "source": [
    "s=\"Write a program that prints the numbers from 1 to 100. \\\n",
    "But for multiples of three print Mickey instead of the number and for the multiples of five print Mouse. \\\n",
    "For numbers which are multiples of both three and five print MickeyMouse\""
   ]
  },
  {
   "cell_type": "code",
   "execution_count": 42,
   "metadata": {},
   "outputs": [
    {
     "name": "stdout",
     "output_type": "stream",
     "text": [
      "W : 1\n",
      "r : 17\n",
      "i : 14\n",
      "t : 19\n",
      "e : 22\n",
      "  : 41\n",
      "a : 7\n",
      "  : 41\n",
      "p : 8\n",
      "r : 17\n",
      "o : 13\n",
      "g : 1\n",
      "r : 17\n",
      "a : 7\n",
      "m : 8\n",
      "  : 41\n",
      "t : 19\n",
      "h : 9\n",
      "a : 7\n",
      "t : 19\n",
      "  : 41\n",
      "p : 8\n",
      "r : 17\n",
      "i : 14\n",
      "n : 10\n",
      "t : 19\n",
      "s : 9\n",
      "  : 41\n",
      "t : 19\n",
      "h : 9\n",
      "e : 22\n",
      "  : 41\n",
      "n : 10\n",
      "u : 9\n",
      "m : 8\n",
      "b : 4\n",
      "e : 22\n",
      "r : 17\n",
      "s : 9\n",
      "  : 41\n",
      "f : 9\n",
      "r : 17\n",
      "o : 13\n",
      "m : 8\n",
      "  : 41\n",
      "1 : 2\n",
      "  : 41\n",
      "t : 19\n",
      "o : 13\n",
      "  : 41\n",
      "1 : 2\n",
      "0 : 2\n",
      "0 : 2\n",
      ". : 2\n",
      "  : 41\n",
      "B : 1\n",
      "u : 9\n",
      "t : 19\n",
      "  : 41\n",
      "f : 9\n",
      "o : 13\n",
      "r : 17\n",
      "  : 41\n",
      "m : 8\n",
      "u : 9\n",
      "l : 6\n",
      "t : 19\n",
      "i : 14\n",
      "p : 8\n",
      "l : 6\n",
      "e : 22\n",
      "s : 9\n",
      "  : 41\n",
      "o : 13\n",
      "f : 9\n",
      "  : 41\n",
      "t : 19\n",
      "h : 9\n",
      "r : 17\n",
      "e : 22\n",
      "e : 22\n",
      "  : 41\n",
      "p : 8\n",
      "r : 17\n",
      "i : 14\n",
      "n : 10\n",
      "t : 19\n",
      "  : 41\n",
      "M : 4\n",
      "i : 14\n",
      "c : 3\n",
      "k : 2\n",
      "e : 22\n",
      "y : 2\n",
      "  : 41\n",
      "i : 14\n",
      "n : 10\n",
      "s : 9\n",
      "t : 19\n",
      "e : 22\n",
      "a : 7\n",
      "d : 3\n",
      "  : 41\n",
      "o : 13\n",
      "f : 9\n",
      "  : 41\n",
      "t : 19\n",
      "h : 9\n",
      "e : 22\n",
      "  : 41\n",
      "n : 10\n",
      "u : 9\n",
      "m : 8\n",
      "b : 4\n",
      "e : 22\n",
      "r : 17\n",
      "  : 41\n",
      "a : 7\n",
      "n : 10\n",
      "d : 3\n",
      "  : 41\n",
      "f : 9\n",
      "o : 13\n",
      "r : 17\n",
      "  : 41\n",
      "t : 19\n",
      "h : 9\n",
      "e : 22\n",
      "  : 41\n",
      "m : 8\n",
      "u : 9\n",
      "l : 6\n",
      "t : 19\n",
      "i : 14\n",
      "p : 8\n",
      "l : 6\n",
      "e : 22\n",
      "s : 9\n",
      "  : 41\n",
      "o : 13\n",
      "f : 9\n",
      "  : 41\n",
      "f : 9\n",
      "i : 14\n",
      "v : 2\n",
      "e : 22\n",
      "  : 41\n",
      "p : 8\n",
      "r : 17\n",
      "i : 14\n",
      "n : 10\n",
      "t : 19\n",
      "  : 41\n",
      "M : 4\n",
      "o : 13\n",
      "u : 9\n",
      "s : 9\n",
      "e : 22\n",
      ". : 2\n",
      "  : 41\n",
      "F : 1\n",
      "o : 13\n",
      "r : 17\n",
      "  : 41\n",
      "n : 10\n",
      "u : 9\n",
      "m : 8\n",
      "b : 4\n",
      "e : 22\n",
      "r : 17\n",
      "s : 9\n",
      "  : 41\n",
      "w : 1\n",
      "h : 9\n",
      "i : 14\n",
      "c : 3\n",
      "h : 9\n",
      "  : 41\n",
      "a : 7\n",
      "r : 17\n",
      "e : 22\n",
      "  : 41\n",
      "m : 8\n",
      "u : 9\n",
      "l : 6\n",
      "t : 19\n",
      "i : 14\n",
      "p : 8\n",
      "l : 6\n",
      "e : 22\n",
      "s : 9\n",
      "  : 41\n",
      "o : 13\n",
      "f : 9\n",
      "  : 41\n",
      "b : 4\n",
      "o : 13\n",
      "t : 19\n",
      "h : 9\n",
      "  : 41\n",
      "t : 19\n",
      "h : 9\n",
      "r : 17\n",
      "e : 22\n",
      "e : 22\n",
      "  : 41\n",
      "a : 7\n",
      "n : 10\n",
      "d : 3\n",
      "  : 41\n",
      "f : 9\n",
      "i : 14\n",
      "v : 2\n",
      "e : 22\n",
      "  : 41\n",
      "p : 8\n",
      "r : 17\n",
      "i : 14\n",
      "n : 10\n",
      "t : 19\n",
      "  : 41\n",
      "M : 4\n",
      "i : 14\n",
      "c : 3\n",
      "k : 2\n",
      "e : 22\n",
      "y : 2\n",
      "M : 4\n",
      "o : 13\n",
      "u : 9\n",
      "s : 9\n",
      "e : 22\n"
     ]
    }
   ],
   "source": [
    "for i in s:\n",
    "    char = s.count(i)\n",
    "    print(i, \":\", char)\n",
    "    #still need to be work on "
   ]
  },
  {
   "cell_type": "markdown",
   "metadata": {},
   "source": [
    "5\\. Isolating the unique\n",
    "\n",
    "Write a function that determines and count the unique numbers in the list *l*"
   ]
  },
  {
   "cell_type": "code",
   "execution_count": 43,
   "metadata": {},
   "outputs": [],
   "source": [
    "l = [36, 45, 58, 3, 74, 96, 64, 45, 31, 10, 24, 19, 33, 86, 99, 18, 63, 70, 85,\n",
    " 85, 63, 47, 56, 42, 70, 84, 88, 55, 20, 54, 8, 56, 51, 79, 81, 57, 37, 91,\n",
    " 1, 84, 84, 36, 66, 9, 89, 50, 42, 91, 50, 95, 90, 98, 39, 16, 82, 31, 92, 41,\n",
    " 45, 30, 66, 70, 34, 85, 94, 5, 3, 36, 72, 91, 84, 34, 87, 75, 53, 51, 20, 89, 51, 20]"
   ]
  },
  {
   "cell_type": "code",
   "execution_count": 46,
   "metadata": {},
   "outputs": [
    {
     "name": "stdout",
     "output_type": "stream",
     "text": [
      "58 unique\n",
      "74 unique\n",
      "96 unique\n",
      "64 unique\n",
      "10 unique\n",
      "24 unique\n",
      "19 unique\n",
      "33 unique\n",
      "86 unique\n",
      "99 unique\n",
      "18 unique\n",
      "47 unique\n",
      "88 unique\n",
      "55 unique\n",
      "54 unique\n",
      "8 unique\n",
      "79 unique\n",
      "81 unique\n",
      "57 unique\n",
      "37 unique\n",
      "1 unique\n",
      "9 unique\n",
      "95 unique\n",
      "90 unique\n",
      "98 unique\n",
      "39 unique\n",
      "16 unique\n",
      "82 unique\n",
      "92 unique\n",
      "41 unique\n",
      "30 unique\n",
      "94 unique\n",
      "5 unique\n",
      "72 unique\n",
      "87 unique\n",
      "75 unique\n",
      "53 unique\n",
      "None\n"
     ]
    }
   ],
   "source": [
    "def unique_num(x):\n",
    "    for i in x:\n",
    "        new_list = x.count(i)\n",
    "        if new_list == 1:\n",
    "            print (i, \"unique\")\n",
    "            \n",
    "            \n",
    "new_list=unique_num(l)\n",
    "print(new_list)\n",
    "        \n",
    "       \n",
    "        \n",
    "    "
   ]
  },
  {
   "cell_type": "markdown",
   "metadata": {},
   "source": [
    "6\\. Combination of functions\n",
    "\n",
    "Write two functions - one that returns the square of a number, and one that returns the cube. Now write a third function that returns the number raised to the 6th power using the two previous functions."
   ]
  },
  {
   "cell_type": "code",
   "execution_count": 11,
   "metadata": {},
   "outputs": [
    {
     "name": "stdout",
     "output_type": "stream",
     "text": [
      "The Square is: 16\n",
      "The cube is: 64\n",
      "The 6th power is: 4096\n"
     ]
    }
   ],
   "source": [
    "#6\n",
    "#The square of a number \n",
    "def fun_1(x):\n",
    "    square_num = x ** 2\n",
    "    \n",
    "    return square_num\n",
    "\n",
    "# The cube of a number \n",
    "def fun_2(x):\n",
    "    cube_num = x**3\n",
    "    \n",
    "    return cube_num\n",
    "\n",
    "\n",
    "#the 6th power of a number\n",
    "def fun_3(x):\n",
    "    power_6th = x * fun_1(x) * fun_2(x)\n",
    "    \n",
    "    return power_6th \n",
    "\n",
    "\n",
    "square_num = fun_1(4)\n",
    "print(\"The Square is:\", square_num)\n",
    "cube_num = fun_2(4)\n",
    "print(\"The cube is:\",cube_num)\n",
    "result  = fun_3(4)\n",
    "print(\"The 6th power is:\",result)\n"
   ]
  },
  {
   "cell_type": "markdown",
   "metadata": {},
   "source": [
    "7\\. Cubes\n",
    "\n",
    "Create a list of the cubes of x for x in *[0, 10]* using:\n",
    "\n",
    "a) a for loop\n",
    "\n",
    "b) a list comprehension"
   ]
  },
  {
   "cell_type": "code",
   "execution_count": 10,
   "metadata": {},
   "outputs": [
    {
     "name": "stdout",
     "output_type": "stream",
     "text": [
      "[0, 1, 8, 27, 64, 125, 216, 343, 512, 729]\n"
     ]
    }
   ],
   "source": [
    "#7a\n",
    "list = []\n",
    "for i in range(0, 10):\n",
    "    x = i ** 3\n",
    "    list.append(x)\n",
    "    \n",
    "print(list)\n"
   ]
  },
  {
   "cell_type": "code",
   "execution_count": 9,
   "metadata": {},
   "outputs": [
    {
     "name": "stdout",
     "output_type": "stream",
     "text": [
      "[0, 1, 8, 27, 64, 125, 216, 343, 512, 729]\n"
     ]
    }
   ],
   "source": [
    "#b\n",
    "list_1 = [x**3 for x in range(0, 10)]\n",
    "print (list_1)"
   ]
  },
  {
   "cell_type": "markdown",
   "metadata": {},
   "source": [
    "8\\. Nested list comprehension\n",
    "\n",
    "A Pythagorean triple is an integer solution to the Pythagorean theorem $a^2+b^2=c^2$. The first Pythagorean triple is (3,4,5). Find and put in a tuple all unique Pythagorean triples for the positive integers a, b and c less than 100."
   ]
  },
  {
   "cell_type": "code",
   "execution_count": 46,
   "metadata": {},
   "outputs": [
    {
     "name": "stdout",
     "output_type": "stream",
     "text": [
      "((5, 4, 3), (10, 8, 6), (13, 12, 5), (15, 12, 9), (17, 15, 8), (20, 16, 12), (25, 20, 15), (25, 24, 7), (26, 24, 10), (29, 21, 20), (30, 24, 18), (34, 30, 16), (35, 28, 21), (37, 35, 12), (39, 36, 15), (40, 32, 24), (41, 40, 9), (45, 36, 27), (50, 40, 30), (50, 48, 14), (51, 45, 24), (52, 48, 20), (53, 45, 28), (55, 44, 33), (58, 42, 40), (60, 48, 36), (61, 60, 11), (65, 52, 39), (65, 56, 33), (65, 60, 25), (65, 63, 16), (68, 60, 32), (70, 56, 42), (73, 55, 48), (74, 70, 24), (75, 60, 45), (75, 72, 21), (78, 72, 30), (80, 64, 48), (82, 80, 18), (85, 68, 51), (85, 75, 40), (85, 77, 36), (85, 84, 13), (87, 63, 60), (89, 80, 39), (90, 72, 54), (91, 84, 35), (95, 76, 57), (97, 72, 65))\n"
     ]
    }
   ],
   "source": [
    "#8\n",
    "nested_list = [(a,b,c) for a in range(100) for b in range(a) for c in range(b) if a**2 == b**2 + c**2]\n",
    "nested_tuple = tuple(nested_list)\n",
    "print(nested_tuple)"
   ]
  },
  {
   "cell_type": "markdown",
   "metadata": {},
   "source": [
    "9\\. Normalization\n",
    "\n",
    "Write a function that takes a tuple of numbers and returns it with the entries normalized to one"
   ]
  },
  {
   "cell_type": "code",
   "execution_count": 45,
   "metadata": {},
   "outputs": [
    {
     "name": "stdout",
     "output_type": "stream",
     "text": [
      "(0.0, 0.1111111111111111, 0.2222222222222222, 0.3333333333333333, 0.4444444444444444, 0.5555555555555556, 0.6666666666666666, 0.7777777777777778, 0.8888888888888888, 1.0)\n"
     ]
    }
   ],
   "source": [
    "# 9. normalization \n",
    "\n",
    "def fun_tuple(x):\n",
    "    x = list(x)\n",
    "    a_min = min(x)\n",
    "    a_max = max(x)\n",
    "    \n",
    "    for a in range(len(x)):\n",
    "        a_norm = (a - a_min) / (a_max - a_min)\n",
    "        x[a] = a_norm\n",
    "        \n",
    "    x=tuple(x)\n",
    "    \n",
    "    return x\n",
    "          \n",
    "        \n",
    "list_norm = (0, 1, 2, 3, 4, 5, 6, 7, 8, 9)      \n",
    "print(fun_tuple(list(list_norm)))"
   ]
  }
 ],
 "metadata": {
  "kernelspec": {
   "display_name": "Python 3",
   "language": "python",
   "name": "python3"
  },
  "language_info": {
   "codemirror_mode": {
    "name": "ipython",
    "version": 3
   },
   "file_extension": ".py",
   "mimetype": "text/x-python",
   "name": "python",
   "nbconvert_exporter": "python",
   "pygments_lexer": "ipython3",
   "version": "3.8.8"
  }
 },
 "nbformat": 4,
 "nbformat_minor": 2
}
