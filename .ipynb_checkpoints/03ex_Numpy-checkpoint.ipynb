{
 "cells": [
  {
   "cell_type": "markdown",
   "metadata": {},
   "source": [
    "### Numpy basics"
   ]
  },
  {
   "cell_type": "code",
   "execution_count": 148,
   "metadata": {},
   "outputs": [],
   "source": [
    "import numpy as np\n",
    "import math\n",
    "import matplotlib.pyplot as plt "
   ]
  },
  {
   "cell_type": "markdown",
   "metadata": {},
   "source": [
    "1\\. Find the row, column and overall means for the following matrix:\n",
    "\n",
    "```python\n",
    "m = np.arange(12).reshape((3,4))\n",
    "```"
   ]
  },
  {
   "cell_type": "code",
   "execution_count": 35,
   "metadata": {},
   "outputs": [
    {
     "name": "stdout",
     "output_type": "stream",
     "text": [
      "[[ 0  1  2  3]\n",
      " [ 4  5  6  7]\n",
      " [ 8  9 10 11]] \n",
      "\n",
      "The mean of the rows are: [1.5 5.5 9.5]\n",
      "The mean of the columns are: [4. 5. 6. 7.]\n",
      "The overall mean of the matrix is: 5.5\n"
     ]
    }
   ],
   "source": [
    "\n",
    "m = np.arange(12).reshape((3,4))\n",
    "print(m, '\\n')\n",
    "\n",
    "#mean of rows of the matrix\n",
    "rows= np.mean(m, axis = 1)\n",
    "\n",
    "#mean of the columns of the matrix\n",
    "columns= np.mean(m, axis = 0)\n",
    "\n",
    "#overall mean of the matrix\n",
    "overall= np.mean(m)\n",
    "\n",
    "print (\"The mean of the rows are:\", rows)\n",
    "print (\"The mean of the columns are:\", columns)\n",
    "print (\"The overall mean of the matrix is:\", overall)\n"
   ]
  },
  {
   "cell_type": "markdown",
   "metadata": {},
   "source": [
    "2\\. Find the outer product of the following two vecotrs\n",
    "\n",
    "```python\n",
    "u = np.array([1,3,5,7])\n",
    "v = np.array([2,4,6,8])\n",
    "```\n",
    "\n",
    "Do this in the following ways:\n",
    "\n",
    "   * Using the function outer in numpy\n",
    "   * Using a nested for loop or list comprehension\n",
    "   * Using numpy broadcasting operatoins\n"
   ]
  },
  {
   "cell_type": "code",
   "execution_count": 189,
   "metadata": {},
   "outputs": [
    {
     "name": "stdout",
     "output_type": "stream",
     "text": [
      "[[ 2  4  6  8]\n",
      " [ 6 12 18 24]\n",
      " [10 20 30 40]\n",
      " [14 28 42 56]] \n",
      "\n",
      "[array([ 2, 12, 30, 56]), array([ 2, 12, 30, 56]), array([ 2, 12, 30, 56]), array([ 2, 12, 30, 56]), array([ 2, 12, 30, 56]), array([ 2, 12, 30, 56]), array([ 2, 12, 30, 56]), array([ 2, 12, 30, 56]), array([ 2, 12, 30, 56]), array([ 2, 12, 30, 56]), array([ 2, 12, 30, 56]), array([ 2, 12, 30, 56]), array([ 2, 12, 30, 56]), array([ 2, 12, 30, 56]), array([ 2, 12, 30, 56]), array([ 2, 12, 30, 56])] \n",
      "\n",
      "[ 2 12 30 56] \n",
      "\n"
     ]
    }
   ],
   "source": [
    "u = np.array([1,3,5,7])\n",
    "v = np.array([2,4,6,8])\n",
    "\n",
    "#the outer function in numpy\n",
    "outer_fun = np.outer(u, v)\n",
    "\n",
    "#nested for loop \n",
    "outer_fun1 =[(u * v) for i in np.nditer(u) for j in np.nditer(v)]\n",
    "\n",
    "#numpy broadcasting operation\n",
    "outer_fun2 = u * v\n",
    "\n",
    "print(outer_fun, '\\n')\n",
    "print(outer_fun1, '\\n')\n",
    "print(outer_fun2, '\\n')"
   ]
  },
  {
   "cell_type": "markdown",
   "metadata": {},
   "source": [
    "3\\. Create a 10 by 6 matrix of random uniform numbers. Set all rows with any entry less than 0.1 to be zero\n",
    "\n",
    "Hint: Use the following numpy functions - np.random.random, np.any as well as Boolean indexing and the axis argument."
   ]
  },
  {
   "cell_type": "code",
   "execution_count": 183,
   "metadata": {},
   "outputs": [
    {
     "name": "stdout",
     "output_type": "stream",
     "text": [
      "[[0.69646919 0.28613933 0.22685145 0.55131477 0.71946897 0.42310646]\n",
      " [0.9807642  0.68482974 0.4809319  0.39211752 0.34317802 0.72904971]\n",
      " [0.43857224 0.0596779  0.39804426 0.73799541 0.18249173 0.17545176]\n",
      " [0.53155137 0.53182759 0.63440096 0.84943179 0.72445532 0.61102351]\n",
      " [0.72244338 0.32295891 0.36178866 0.22826323 0.29371405 0.63097612]\n",
      " [0.09210494 0.43370117 0.43086276 0.4936851  0.42583029 0.31226122]\n",
      " [0.42635131 0.89338916 0.94416002 0.50183668 0.62395295 0.1156184 ]\n",
      " [0.31728548 0.41482621 0.86630916 0.25045537 0.48303426 0.98555979]\n",
      " [0.51948512 0.61289453 0.12062867 0.8263408  0.60306013 0.54506801]\n",
      " [0.34276383 0.30412079 0.41702221 0.68130077 0.87545684 0.51042234]] \n",
      "\n",
      "[False False  True False False  True False False False False]\n"
     ]
    }
   ],
   "source": [
    "# a random 10 by 6 matrix with replaced entries < 0.1\n",
    "np.random.seed(123)\n",
    "k = np.random.random((10, 6))\n",
    "print(k, '\\n')\n",
    "a = np.any(k < 0.1, axis = 1)\n",
    "print(a)\n"
   ]
  },
  {
   "cell_type": "markdown",
   "metadata": {},
   "source": [
    "4\\. Use np.linspace to create an array of 100 numbers between 0 and 2π (includsive).\n",
    "\n",
    "  * Extract every 10th element using slice notation\n",
    "  * Reverse the array using slice notation\n",
    "  * Extract elements where the absolute difference between the sine and cosine functions evaluated at that element is less than 0.1\n",
    "  * Make a plot showing the sin and cos functions and indicate where they are close"
   ]
  },
  {
   "cell_type": "code",
   "execution_count": 191,
   "metadata": {},
   "outputs": [
    {
     "name": "stdout",
     "output_type": "stream",
     "text": [
      "An array of 100 entries:\n",
      "[0.         0.06346652 0.12693304 0.19039955 0.25386607 0.31733259\n",
      " 0.38079911 0.44426563 0.50773215 0.57119866 0.63466518 0.6981317\n",
      " 0.76159822 0.82506474 0.88853126 0.95199777 1.01546429 1.07893081\n",
      " 1.14239733 1.20586385 1.26933037 1.33279688 1.3962634  1.45972992\n",
      " 1.52319644 1.58666296 1.65012947 1.71359599 1.77706251 1.84052903\n",
      " 1.90399555 1.96746207 2.03092858 2.0943951  2.15786162 2.22132814\n",
      " 2.28479466 2.34826118 2.41172769 2.47519421 2.53866073 2.60212725\n",
      " 2.66559377 2.72906028 2.7925268  2.85599332 2.91945984 2.98292636\n",
      " 3.04639288 3.10985939 3.17332591 3.23679243 3.30025895 3.36372547\n",
      " 3.42719199 3.4906585  3.55412502 3.61759154 3.68105806 3.74452458\n",
      " 3.8079911  3.87145761 3.93492413 3.99839065 4.06185717 4.12532369\n",
      " 4.1887902  4.25225672 4.31572324 4.37918976 4.44265628 4.5061228\n",
      " 4.56958931 4.63305583 4.69652235 4.75998887 4.82345539 4.88692191\n",
      " 4.95038842 5.01385494 5.07732146 5.14078798 5.2042545  5.26772102\n",
      " 5.33118753 5.39465405 5.45812057 5.52158709 5.58505361 5.64852012\n",
      " 5.71198664 5.77545316 5.83891968 5.9023862  5.96585272 6.02931923\n",
      " 6.09278575 6.15625227 6.21971879 6.28318531] \n",
      "\n",
      "An array of every 10th element:\n",
      "[0.06346652 0.6981317  1.33279688 1.96746207 2.60212725 3.23679243\n",
      " 3.87145761 4.5061228  5.14078798 5.77545316] \n",
      "\n",
      "The reserved array:\n",
      "[6.28318531 6.21971879 6.15625227 6.09278575 6.02931923 5.96585272\n",
      " 5.9023862  5.83891968 5.77545316 5.71198664 5.64852012 5.58505361\n",
      " 5.52158709 5.45812057 5.39465405 5.33118753 5.26772102 5.2042545\n",
      " 5.14078798 5.07732146 5.01385494 4.95038842 4.88692191 4.82345539\n",
      " 4.75998887 4.69652235 4.63305583 4.56958931 4.5061228  4.44265628\n",
      " 4.37918976 4.31572324 4.25225672 4.1887902  4.12532369 4.06185717\n",
      " 3.99839065 3.93492413 3.87145761 3.8079911  3.74452458 3.68105806\n",
      " 3.61759154 3.55412502 3.4906585  3.42719199 3.36372547 3.30025895\n",
      " 3.23679243 3.17332591 3.10985939 3.04639288 2.98292636 2.91945984\n",
      " 2.85599332 2.7925268  2.72906028 2.66559377 2.60212725 2.53866073\n",
      " 2.47519421 2.41172769 2.34826118 2.28479466 2.22132814 2.15786162\n",
      " 2.0943951  2.03092858 1.96746207 1.90399555 1.84052903 1.77706251\n",
      " 1.71359599 1.65012947 1.58666296 1.52319644 1.45972992 1.3962634\n",
      " 1.33279688 1.26933037 1.20586385 1.14239733 1.07893081 1.01546429\n",
      " 0.95199777 0.88853126 0.82506474 0.76159822 0.6981317  0.63466518\n",
      " 0.57119866 0.50773215 0.44426563 0.38079911 0.31733259 0.25386607\n",
      " 0.19039955 0.12693304 0.06346652 0.        ] \n",
      "\n",
      "The absolute difference between the sine and cosine funtions element < 0.1: \n",
      "[0.03365502662295816, 0.056082297100401135, 0.07849544915946327, 0.011219283672541658]\n"
     ]
    },
    {
     "data": {
      "image/png": "[encoded data removed]",
      "text/plain": [
       "<Figure size 432x288 with 1 Axes>"
      ]
     },
     "metadata": {
      "needs_background": "light"
     },
     "output_type": "display_data"
    }
   ],
   "source": [
    "\n",
    "# array of 100 numbers with linspace \n",
    "arr = np.linspace(0, 2 * math.pi, 100)\n",
    "print(\"An array of 100 entries:\")\n",
    "print(arr, '\\n')\n",
    "\n",
    "#extracting every 10th element\n",
    "extra_arr = arr[1:100:10]\n",
    "print(\"An array of every 10th element:\")\n",
    "print(extra_arr, '\\n')\n",
    "\n",
    "# reserve the array \n",
    "reversed_arr = arr[:: -1]\n",
    "print(\"The reserved array:\")\n",
    "print(reversed_arr, '\\n')\n",
    "\n",
    "#elements with the absolute difference btw the sine and cosine funtions\n",
    "arr_sine = np.sin(arr)\n",
    "arr_cosine = np.cos(arr)\n",
    "arr_funs_diff = np.abs(arr_sine - arr_cosine)\n",
    "#print (arr_funs_diff, '\\n')\n",
    "\n",
    "b = []\n",
    "y = [b.append(i) for i in arr_funs_diff if i < 0.1]\n",
    "print(\"The absolute difference between the sine and cosine funtions element < 0.1: \")\n",
    "print(b)\n",
    "\n",
    "#plot of sine and cosine functions\n",
    "plt.plot(arr, arr_cosine, arr_sine, 'red',)\n",
    "plt.show()"
   ]
  },
  {
   "cell_type": "markdown",
   "metadata": {},
   "source": [
    "5\\. Create a matrix that shows the 10 by 10 multiplication table.\n",
    "\n",
    " * Find the trace of the matrix\n",
    " * Extract the anto-diagonal (this should be ```array([10, 18, 24, 28, 30, 30, 28, 24, 18, 10])```)\n",
    " * Extract the diagnoal offset by 1 upwards (this should be ```array([ 2,  6, 12, 20, 30, 42, 56, 72, 90])```)"
   ]
  },
  {
   "cell_type": "code",
   "execution_count": 145,
   "metadata": {},
   "outputs": [
    {
     "name": "stdout",
     "output_type": "stream",
     "text": [
      "[[  1   2   3   4   5   6   7   8   9  10]\n",
      " [  2   4   6   8  10  12  14  16  18  20]\n",
      " [  3   6   9  12  15  18  21  24  27  30]\n",
      " [  4   8  12  16  20  24  28  32  36  40]\n",
      " [  5  10  15  20  25  30  35  40  45  50]\n",
      " [  6  12  18  24  30  36  42  48  54  60]\n",
      " [  7  14  21  28  35  42  49  56  63  70]\n",
      " [  8  16  24  32  40  48  56  64  72  80]\n",
      " [  9  18  27  36  45  54  63  72  81  90]\n",
      " [ 10  20  30  40  50  60  70  80  90 100]] \n",
      "\n",
      "The trace of the matrix: 385 \n",
      "\n",
      "Auto-diagonal of matrix: [10 18 24 28 30 30 28 24 18 10] \n",
      "\n",
      "The diagonal offset of the matrix is: [ 2  6 12 20 30 42 56 72 90] \n",
      "\n"
     ]
    }
   ],
   "source": [
    "x = np.arange(1, 11)\n",
    "multi_table = np.outer(x, x)\n",
    "print(multi_table, '\\n')\n",
    "\n",
    "#trace of the matrix\n",
    "trc_multi_table = np.trace(multi_table)\n",
    "print(\"The trace of the matrix:\", trc_multi_table, '\\n')\n",
    "\n",
    "#the anti-diagonal of the matrix \n",
    "anti_diagonal = np.flipud(multi_table).diagonal()\n",
    "print(\"Anti-diagonal of matrix:\", auto_diagonal, '\\n')\n",
    "\n",
    "#diagonal offset by 1 upwards\n",
    "offset_diagonal = np.diagonal(multi_table, offset = 1)\n",
    "print(\"The diagonal offset of the matrix is:\", offset_diagonal, '\\n')"
   ]
  },
  {
   "cell_type": "markdown",
   "metadata": {},
   "source": [
    "6\\. Use broadcasting to create a grid of distances\n",
    "\n",
    "Route 66 crosses the following cities in the US: Chicago, Springfield, Saint-Louis, Tulsa, Oklahoma City, Amarillo, Santa Fe, Albuquerque, Flagstaff, Los Angeles\n",
    "The corresponding positions in miles are: 0, 198, 303, 736, 871, 1175, 1475, 1544, 1913, 2448\n",
    "\n",
    "  * Construct a 2D grid of distances among each city along Route 66\n",
    "  * Convert that in km (those savages...)"
   ]
  },
  {
   "cell_type": "code",
   "execution_count": 184,
   "metadata": {},
   "outputs": [
    {
     "name": "stdout",
     "output_type": "stream",
     "text": [
      "<numpy.broadcast object at 0x00000234360EE180>\n"
     ]
    }
   ],
   "source": [
    "#Using broadcasting to create a grid of distances\n",
    "cities = np.array([\"Chicago\", \"Springfield\", \"Saint-Louis\", \"Tulsa\", \"Oklahoma City\", \"Amarillo\", \"Santa Fe\", \"Albuquerque\", \"Flagstaff\", \"Los Angeles\"])\n",
    "position = np.array([ 0, 198, 303, 736, 871, 1175, 1475, 1544, 1913, 2448])\n",
    "\n",
    "#2-D grid of corresponding distances with cities\n",
    "grid = np.broadcast(cities, position)\n",
    "print(grid)\n",
    "#grid1 = np.mgrid(cities, position)\n",
    "#print(grid1)\n"
   ]
  },
  {
   "cell_type": "markdown",
   "metadata": {},
   "source": [
    "7\\. Prime numbers sieve: compute the prime numbers in the 0-N (N=99 to start with) range with a sieve (mask).\n",
    "  * Constract a shape (100,) boolean array, the mask\n",
    "  * Identify the multiples of each number starting from 2 and set accordingly the corresponding mask element\n",
    "  * Apply the mask to obtain an array of ordered prime numbers\n",
    "  * Check the performances (timeit); how does it scale with N?\n",
    "  * Implement the optimization suggested in the [sieve of Eratosthenes](https://en.wikipedia.org/wiki/Sieve_of_Eratosthenes)"
   ]
  },
  {
   "cell_type": "code",
   "execution_count": null,
   "metadata": {},
   "outputs": [],
   "source": []
  },
  {
   "cell_type": "markdown",
   "metadata": {},
   "source": [
    "**N.B. the following exercises are meant to be solved only if you are familiar with the numpy random library. If not you can skip them (postponed for one of the next exercise sessions)**\n"
   ]
  },
  {
   "cell_type": "markdown",
   "metadata": {},
   "source": [
    "8\\. Diffusion using random walk\n",
    "\n",
    "Consider a simple random walk process: at each step in time, a walker jumps right or left (+1 or -1) with equal probability. The goal is to find the typical distance from the origin of a random walker after a given amount of time. \n",
    "To do that, let's simulate many walkers and create a 2D array with each walker as a raw and the actual time evolution as columns\n",
    "\n",
    "  * Take 1000 walkers and let them walk for 200 steps\n",
    "  * Use randint to create a 2D array of size walkers x steps with values -1 or 1\n",
    "  * Build the actual walking distances for each walker (i.e. another 2D array \"summing on each raw\")\n",
    "  * Take the square of that 2D array (elementwise)\n",
    "  * Compute the mean of the squared distances at each step (i.e. the mean along the columns)\n",
    "  * Plot the average distances (sqrt(distance\\*\\*2)) as a function of time (step)\n",
    "  \n",
    "Did you get what you expected?"
   ]
  },
  {
   "cell_type": "markdown",
   "metadata": {},
   "source": [
    "9\\. Analyze a data file \n",
    "  * Download the population of hares, lynxes and carrots at the beginning of the last century.\n",
    "    ```python\n",
    "    ! wget https://www.dropbox.com/s/3vigxoqayo389uc/populations.txt\n",
    "    ```\n",
    "\n",
    "  * Check the content by looking within the file\n",
    "  * Load the data (use an appropriate numpy method) into a 2D array\n",
    "  * Create arrays out of the columns, the arrays being (in order): *year*, *hares*, *lynxes*, *carrots* \n",
    "  * Plot the 3 populations over the years\n",
    "  * Compute the main statistical properties of the dataset (mean, std, correlations, etc.)\n",
    "  * Which species has the highest population each year?\n",
    "\n",
    "Do you feel there is some evident correlation here? [Studies](https://www.enr.gov.nt.ca/en/services/lynx/lynx-snowshoe-hare-cycle) tend to believe so."
   ]
  },
  {
   "cell_type": "code",
   "execution_count": null,
   "metadata": {},
   "outputs": [],
   "source": []
  }
 ],
 "metadata": {
  "kernelspec": {
   "display_name": "Python 3",
   "language": "python",
   "name": "python3"
  },
  "language_info": {
   "codemirror_mode": {
    "name": "ipython",
    "version": 3
   },
   "file_extension": ".py",
   "mimetype": "text/x-python",
   "name": "python",
   "nbconvert_exporter": "python",
   "pygments_lexer": "ipython3",
   "version": "3.8.8"
  }
 },
 "nbformat": 4,
 "nbformat_minor": 2
}
