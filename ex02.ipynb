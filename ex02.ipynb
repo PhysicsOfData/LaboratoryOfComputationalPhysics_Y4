{
 "cells": [
  {
   "cell_type": "code",
   "execution_count": 5,
   "id": "56621517",
   "metadata": {},
   "outputs": [
    {
     "name": "stdout",
     "output_type": "stream",
     "text": [
      "[22, '0b10110', '0x16']\n",
      "22:binary is:0b10110:in hexadecima is:0x16\n"
     ]
    }
   ],
   "source": [
    "#ans1\n",
    "\n",
    "def func(M):\n",
    "    \n",
    "    c = [M]\n",
    "    m_bin = bin(M)\n",
    "    c.append(m_bin)\n",
    "    m_hex = hex(M)\n",
    "    c.append(m_hex)\n",
    "    return c\n",
    "print(func(22))\n",
    "\n",
    "def f(M):\n",
    "\n",
    "    print(M,'binary is',bin(M),'in hexadecima is',hex(M), sep=\":\")\n",
    "    return\n",
    "f(22)"
   ]
  },
  {
   "cell_type": "code",
   "execution_count": 6,
   "id": "809e3f40",
   "metadata": {},
   "outputs": [
    {
     "name": "stdout",
     "output_type": "stream",
     "text": [
      "Number in binary:  11000000101100000000000000000000\n",
      "-1.314573e+04\n"
     ]
    }
   ],
   "source": [
    "#ans2\n",
    "\n",
    "\n",
    "import math\n",
    "a = 11000000101100000000000000000000 #binary\n",
    "alist = [str(x) for x in str(a)]\n",
    "\n",
    "\n",
    "def convert(*alist):\n",
    "    s = int(alist[0])\n",
    "    \n",
    "    \n",
    "    exp=alist[1:9]\n",
    "        \n",
    "    exp_n = int(\"\".join(exp),2) \n",
    "    p = pow(2,(exp_n-127))\n",
    "    \n",
    "        \n",
    "    mant=alist[9:33]\n",
    "    \n",
    "    mant_n=int(\"\".join(mant),2)\n",
    "    \n",
    "    power = math.ceil(math.log(mant_n,10))\n",
    "\n",
    "    \n",
    "    num = (pow(-1,s) + pow(-1,s)*(mant_n/pow(10,power))) * pow(10,p)\n",
    "    print(format(num, \"e\"))\n",
    "    \n",
    "\n",
    "    \n",
    "print(\"Number in binary: \", a)    \n",
    "convert(*alist)\n",
    "    \n"
   ]
  },
  {
   "cell_type": "code",
   "execution_count": 8,
   "id": "0598e0aa",
   "metadata": {},
   "outputs": [
    {
     "name": "stdout",
     "output_type": "stream",
     "text": [
      "8.98846567431158e+307\n",
      "5e-324\n"
     ]
    }
   ],
   "source": [
    "#ans3\n",
    "\n",
    "\n",
    "def f():\n",
    "    r   = 1.\n",
    "    rem = 1.\n",
    "    while r != float(\"inf\"):\n",
    "        rem = r\n",
    "        r  *= 2.\n",
    "    return rem\n",
    "print(f())\n",
    "def found():\n",
    "    r   = 1.\n",
    "    rem = 1.\n",
    "    while r != 0:\n",
    "        rem = r\n",
    "        r  /= 2.\n",
    "    return rem\n",
    "print(found())"
   ]
  },
  {
   "cell_type": "code",
   "execution_count": 7,
   "id": "a55dcb04",
   "metadata": {},
   "outputs": [
    {
     "name": "stdout",
     "output_type": "stream",
     "text": [
      "5.551115123125783e-17\n"
     ]
    }
   ],
   "source": [
    "#ans4\n",
    "\n",
    "def exact():\n",
    "    a , b=1.0,1.0\n",
    "    c=0.5\n",
    "    while ((a-c)!=b):\n",
    "        c*=0.5\n",
    "    return c\n",
    "print(exact())"
   ]
  },
  {
   "cell_type": "code",
   "execution_count": 13,
   "id": "e05a6ec1",
   "metadata": {},
   "outputs": [
    {
     "name": "stdout",
     "output_type": "stream",
     "text": [
      "(-9.999894245993346e-07, -999999.999999)\n",
      "(-9.999785106639132e-07, -999989.0859481583)\n",
      "(-9.999894245993346e-07, -999999.999999)\n"
     ]
    }
   ],
   "source": [
    "#ans5\n",
    "\n",
    "\n",
    "def f1(x, y, z):\n",
    "    x1 = (-y+(y*y-4*x*z)**0.5)/(2*x)\n",
    "    x2 = (-y-(y*y-4*x*z)**0.5)/(2*x)\n",
    "    return x1,x2\n",
    "\n",
    "def f2(x, y, z):\n",
    "    m = (y*y-4*x*z)**0.5\n",
    "    x1 = -(m**2-y**2)/((2*x)*(-y-m))\n",
    "    x2 = -(m**2-y**2)/((2*x)*(-y+m))\n",
    "    \n",
    "    return x1,x2\n",
    "\n",
    "def f3(x, y, z):\n",
    "    m = ((y/2)**2-x*z)**0.5\n",
    "    x1 = (-y/2+m)/(x)\n",
    "    x2 = (-y/2-m)/(x)\n",
    "    return x1,x2\n",
    "\n",
    "print(f1(0.001,1000,0.001))\n",
    "print(f2(0.001,1000,0.001))\n",
    "print(f3(0.001,1000,0.001))\n",
    "\n"
   ]
  },
  {
   "cell_type": "code",
   "execution_count": 15,
   "id": "0342e2d2",
   "metadata": {},
   "outputs": [
    {
     "name": "stdout",
     "output_type": "stream",
     "text": [
      "[-0.010000000000000897, -9.999999988985486e-05, -9.99917733279787e-07, -3.922528746258536e-09, -8.284037100736441e-08, -8.890058334132256e-05, 0.0007992778373491216]\n"
     ]
    }
   ],
   "source": [
    "#ans 6\n",
    "\n",
    "def func(x):\n",
    "    return x*(x-1)\n",
    "\n",
    "x = 1\n",
    "delta = [10**(-i) for i in range(1,15) if i%2 == 0]\n",
    "\n",
    "Deriv = 2*x-1\n",
    "d = []\n",
    "\n",
    "for j in delta:\n",
    "    deriv = (func(x+j)-func(x))/j\n",
    "    d.append(Deriv-deriv)\n",
    "\n",
    "print(d)\n",
    "\n"
   ]
  },
  {
   "cell_type": "code",
   "execution_count": null,
   "id": "1204ddee",
   "metadata": {},
   "outputs": [],
   "source": [
    "#ans 7\n",
    "#could not understand, sorry"
   ]
  }
 ],
 "metadata": {
  "kernelspec": {
   "display_name": "Python 3",
   "language": "python",
   "name": "python3"
  },
  "language_info": {
   "codemirror_mode": {
    "name": "ipython",
    "version": 3
   },
   "file_extension": ".py",
   "mimetype": "text/x-python",
   "name": "python",
   "nbconvert_exporter": "python",
   "pygments_lexer": "ipython3",
   "version": "3.8.8"
  }
 },
 "nbformat": 4,
 "nbformat_minor": 5
}
