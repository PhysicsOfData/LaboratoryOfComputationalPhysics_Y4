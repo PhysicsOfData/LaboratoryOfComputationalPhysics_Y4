{
 "cells": [
  {
   "cell_type": "code",
   "execution_count": 76,
   "id": "4771dad9",
   "metadata": {},
   "outputs": [
    {
     "name": "stdout",
     "output_type": "stream",
     "text": [
      "Gimme the starting base, where 2=binary, 10=decimal, 16=hexadecimal: 16\n",
      "Gimme the number in that base: ADEF\n",
      "Gimme the base you want that number to be expressed, where 2=binary, 10=decimal, 16=hexadecimal: 2\n",
      "The converted number is:  1010110111101111\n"
     ]
    }
   ],
   "source": [
    "#Exercise 1 without using bin() and hex()\n",
    "\n",
    "def Converter(x,base1,base2):\n",
    "    if base1==10:\n",
    "        x=int(x)\n",
    "        if base2==16:\n",
    "            digits=\"0123456789ABCDEF\"\n",
    "        if base2==2:\n",
    "            digits=\"01\"\n",
    "        s=''\n",
    "        while x>0 :\n",
    "            s=str(x%base2)+s\n",
    "            x=x//base2\n",
    "        return s\n",
    "    if base1==2:\n",
    "        s=0\n",
    "        i=1\n",
    "        for c in x:\n",
    "            s=s+int(c)*base1**(len(x)-i)\n",
    "            i=i+1\n",
    "        if base2==16:\n",
    "            return Converter(s,10,16)\n",
    "        if base2==10:\n",
    "            return s\n",
    "    if base1==16:\n",
    "        Dictionary={\"0\":0,\"1\":1,\"2\":2,\"3\":3,\"4\":4,\"5\":5,\"6\":6,\"7\":7,\"8\":8,\"9\":9,\"A\":10,\"B\":11,\"C\":12,\"D\":13,\"E\":14,\"F\":15}\n",
    "        s=0\n",
    "        i=1\n",
    "        for c in x:\n",
    "            s=s+Dictionary[c]*base1**(len(x)-i)\n",
    "            i=i+1\n",
    "        if base2==2:\n",
    "            return Converter(s,10,2)\n",
    "        if base2==10:\n",
    "            return s\n",
    "              \n",
    "base1=int(input(\"Gimme the starting base, where 2=binary, 10=decimal, 16=hexadecimal: \"))\n",
    "x=input(\"Gimme the number in that base: \")\n",
    "base2=int(input(\"Gimme the base you want that number to be expressed, where 2=binary, 10=decimal, 16=hexadecimal: \"))\n",
    "s=Converter(x,base1,base2)\n",
    "print(\"The converted number is: \",s)\n",
    "\n",
    "    \n",
    "    "
   ]
  },
  {
   "cell_type": "code",
   "execution_count": 97,
   "id": "01e1d680",
   "metadata": {
    "scrolled": true
   },
   "outputs": [
    {
     "name": "stdout",
     "output_type": "stream",
     "text": [
      "Gimme the word you want to convert into a float: 01000000010010010000111111011011\n",
      "The conversion to float is:  3.1415927410125732\n"
     ]
    }
   ],
   "source": [
    "#Exercise 2\n",
    "\n",
    "def Converter2(Mantissa):\n",
    "    s=0\n",
    "    i=1\n",
    "    for c in Mantissa:\n",
    "        s=s+int(c)*2**(-i)\n",
    "        i=i+1\n",
    "    return s\n",
    "\n",
    "def Floating(word):\n",
    "    Exp=\"\"\n",
    "    Mantissa=\"\"\n",
    "    Sgn=word[0]\n",
    "    for i in range(1,9):\n",
    "        Exp=Exp+word[i]\n",
    "    for i in range(9,32):\n",
    "        Mantissa=Mantissa+word[i]\n",
    "    return ((-1)**int(Sgn)*2**(Converter(Exp,2,10)-127)*(1+Converter2(Mantissa)))\n",
    "    \n",
    "word=input(\"Gimme the word you want to convert into a float: \")\n",
    "print(\"The conversion to float is: \", Floating(word))"
   ]
  },
  {
   "cell_type": "code",
   "execution_count": 134,
   "id": "4858cf04",
   "metadata": {},
   "outputs": [
    {
     "name": "stdout",
     "output_type": "stream",
     "text": [
      "On this machine I have underflow under:  5e-324\n",
      "On this machine I have overflow over:  8.98846567431158e+307\n"
     ]
    }
   ],
   "source": [
    "#Exercise 3\n",
    "\n",
    "x=a=2\n",
    "y=b=2\n",
    "i=1\n",
    "while x>0: #if i dont have underflow x is positive\n",
    "    y=x\n",
    "    x=x/2\n",
    "print(\"On this machine I have underflow under: \",y)\n",
    "while a+b>a: #When i will have overflow the result of a=2*a will be negative\n",
    "    b=a\n",
    "    a=1/i\n",
    "    i=i/2\n",
    "print(\"On this machine I have overflow over: \",b)"
   ]
  },
  {
   "cell_type": "code",
   "execution_count": 137,
   "id": "912fcbf6",
   "metadata": {},
   "outputs": [
    {
     "name": "stdout",
     "output_type": "stream",
     "text": [
      "On this machine I have a precision of:  2.220446049250313e-16\n"
     ]
    }
   ],
   "source": [
    "#Exercise 4\n",
    "\n",
    "i=j=1\n",
    "a=1\n",
    "while a<a+i:\n",
    "    j=i\n",
    "    i=i/2\n",
    "print(\"On this machine I have a precision of: \",j)"
   ]
  },
  {
   "cell_type": "code",
   "execution_count": 18,
   "id": "b32f94d2",
   "metadata": {},
   "outputs": [
    {
     "name": "stdout",
     "output_type": "stream",
     "text": [
      "Dammi il primo parametro: \n",
      "None1\n",
      "Dammi il secondo parametro: \n",
      "None8\n",
      "Dammi il terzo parametro: \n",
      "None2\n",
      "There are 2 real solutions: x= -0.25834261322605867  and x= -7.741657386773941\n"
     ]
    }
   ],
   "source": [
    "#Exercise 5\n",
    "\n",
    "def Quadratic(a,b,c):\n",
    "    if a==0:\n",
    "        if b==0:\n",
    "            if c==0:\n",
    "                print(\"The equation 0=0 is true for any x\")\n",
    "            else:\n",
    "                print(\"The equation doesn't have any solutions\")\n",
    "        else:\n",
    "            sol1=-c/b\n",
    "            print(\"The equation is a linear one, so there is only 1 solution: x=\",sol1)\n",
    "    else:\n",
    "        if (b**2-4*a*c)<0:\n",
    "            print(\"The equation doesn't have any real solution\")\n",
    "        else:\n",
    "            sol1=(-b+(b**2-4*a*c)**0.5)/2*a\n",
    "            sol2=(-b-(b**2-4*a*c)**0.5)/2*a\n",
    "            print(\"There are 2 real solutions: x=\",sol1,\" and x=\",sol2)\n",
    "    \n",
    "a=float(input(print(\"Dammi il primo parametro: \")))\n",
    "b=float(input(print(\"Dammi il secondo parametro: \")))\n",
    "c=float(input(print(\"Dammi il terzo parametro: \")))\n",
    "Quadratic(a,b,c)"
   ]
  },
  {
   "cell_type": "code",
   "execution_count": 25,
   "id": "5482aaf9",
   "metadata": {},
   "outputs": [
    {
     "name": "stdout",
     "output_type": "stream",
     "text": [
      "There are 2 real solutions: x= -9.999894245993345e-13  and x= -0.999999999999\n"
     ]
    }
   ],
   "source": [
    "#Exercise 5.a\n",
    "\n",
    "#The function fails to compute the correct solutions, x=-0.9999999999... is not a solution. The problem is the precision of the machine, the division between a large number and a very small one it's not done correctly.\n",
    "\n",
    "def Quadratic(a,b,c):\n",
    "    if a==0:\n",
    "        if b==0:\n",
    "            if c==0:\n",
    "                print(\"The equation 0=0 is true for any x\")\n",
    "            else:\n",
    "                print(\"The equation doesn't have any solutions\")\n",
    "        else:\n",
    "            sol1=-c/b\n",
    "            print(\"The equation is a linear one, so there is only 1 solution: x=\",sol1)\n",
    "    else:\n",
    "        if (b**2-4*a*c)<0:\n",
    "            print(\"The equation doesn't have any real solution\")\n",
    "        else:\n",
    "            sol1=(-b+(b**2-4*a*c)**0.5)/2*a\n",
    "            sol2=(-b-(b**2-4*a*c)**0.5)/2*a\n",
    "            print(\"There are 2 real solutions: x=\",sol1,\" and x=\",sol2)\n",
    "    \n",
    "a=0.001\n",
    "b=1000\n",
    "c=0.001\n",
    "Quadratic(a,b,c)"
   ]
  },
  {
   "cell_type": "code",
   "execution_count": 20,
   "id": "c4ea51a4",
   "metadata": {},
   "outputs": [
    {
     "name": "stdout",
     "output_type": "stream",
     "text": [
      "There are 2 real solutions: x= -9.999894245993346e-07  and x= -999999.9999990001\n"
     ]
    }
   ],
   "source": [
    "#Exercise 5.b\n",
    "\n",
    "#Now the function gives the correct answer, its because now the division accours after the moltipliction with a factor that reduces both member more managable numbers, the moltiplication reduces the big number and increases the small one.\n",
    "\n",
    "def Quadratic(a,b,c):\n",
    "    if a==0:\n",
    "        if b==0:\n",
    "            if c==0:\n",
    "                print(\"The equation 0=0 is true for any x\")\n",
    "            else:\n",
    "                print(\"The equation doesn't have any solutions\")\n",
    "        else:\n",
    "            sol1=-c/b\n",
    "            print(\"The equation is a linear one, so there is only 1 solution: x=\",sol1)\n",
    "    else:\n",
    "        if (b**2-4*a*c)<0:\n",
    "            print(\"The equation doesn't have any real solution\")\n",
    "        else:\n",
    "            sol1=((-b+(b**2-4*a*c)**0.5)*(-b-(b**2-4*a*c)**0.5))/(2*a*(-b-(b**2-4*a*c)**0.5))\n",
    "            sol2=((-b-(b**2-4*a*c)**0.5)*(-b+(b**2-4*a*c)**0.5))/(2*a*(-b+(b**2-4*a*c)**0.5))\n",
    "            print(\"There are 2 real solutions: x=\",sol1,\" and x=\",sol2)\n",
    "    \n",
    "a=0.001\n",
    "b=1000\n",
    "c=0.001\n",
    "Quadratic(a,b,c)"
   ]
  },
  {
   "cell_type": "code",
   "execution_count": 26,
   "id": "7148c1ce",
   "metadata": {},
   "outputs": [
    {
     "name": "stdout",
     "output_type": "stream",
     "text": [
      "Dammi il primo parametro: \n",
      "None1\n",
      "Dammi il secondo parametro: \n",
      "None2\n",
      "Dammi il terzo parametro: \n",
      "None3\n",
      "The equation doesn't have any real solution\n"
     ]
    }
   ],
   "source": [
    "#Exercise 5.c\n",
    "\n",
    "#This version of the program can give the real solutions to any second order equation\n",
    "\n",
    "def Quadratic(a,b,c):\n",
    "    if a==0:\n",
    "        if b==0:\n",
    "            if c==0:\n",
    "                print(\"The equation 0=0 is true for any x\")\n",
    "            else:\n",
    "                print(\"The equation doesn't have any solutions\")\n",
    "        else:\n",
    "            sol1=-c/b\n",
    "            print(\"The equation is a linear one, so there is only 1 solution: x=\",sol1)\n",
    "    else:\n",
    "        if (b**2-4*a*c)<0:\n",
    "            print(\"The equation doesn't have any real solution\")\n",
    "        else:\n",
    "            sol1=((-b+(b**2-4*a*c)**0.5)*(-b-(b**2-4*a*c)**0.5))/(2*a*(-b-(b**2-4*a*c)**0.5))\n",
    "            sol2=((-b-(b**2-4*a*c)**0.5)*(-b+(b**2-4*a*c)**0.5))/(2*a*(-b+(b**2-4*a*c)**0.5))\n",
    "            print(\"There are 2 real solutions: x=\",sol1,\" and x=\",sol2)\n",
    "            \n",
    "a=float(input(print(\"Dammi il primo parametro: \")))\n",
    "b=float(input(print(\"Dammi il secondo parametro: \")))\n",
    "c=float(input(print(\"Dammi il terzo parametro: \")))\n",
    "Quadratic(a,b,c)"
   ]
  },
  {
   "cell_type": "code",
   "execution_count": 34,
   "id": "516beec1",
   "metadata": {},
   "outputs": [
    {
     "name": "stdout",
     "output_type": "stream",
     "text": [
      "Exact value of the derivative of x*(x-1) at x=1 is: 1\n",
      "Derivative value of x*(x-1) at x=1 using delta = 10^(- 2 ) : 1.010000000000001\n",
      "Derivative value of x*(x-1) at x=1 using delta = 10^(- 4 ) : 1.0000999999998899\n",
      "Derivative value of x*(x-1) at x=1 using delta = 10^(- 6 ) : 1.0000009999177333\n",
      "Derivative value of x*(x-1) at x=1 using delta = 10^(- 8 ) : 1.0000000039225287\n",
      "Derivative value of x*(x-1) at x=1 using delta = 10^(- 10 ) : 1.000000082840371\n",
      "Derivative value of x*(x-1) at x=1 using delta = 10^(- 12 ) : 1.0000889005833413\n",
      "Derivative value of x*(x-1) at x=1 using delta = 10^(- 14 ) : 0.9992007221626509\n"
     ]
    }
   ],
   "source": [
    "#Exercise 6.a and 6.b\n",
    "\n",
    "def f(x):\n",
    "    return x*(x-1)\n",
    "\n",
    "x=1\n",
    "\n",
    "print(\"Exact value of the derivative of x*(x-1) at x=1 is: 1\")\n",
    "\n",
    "for i in range(1,8):\n",
    "    print(\"Derivative value of x*(x-1) at x=1 using delta = 10^(-\",2*i,\")\",\":\",(f(x+10**(-2*i))-f(x))/(10**(-2*i)))\n",
    "    \n",
    "#6.a: with delta = 10^(-2) the result is not exactly 1 because the delta is still too big to rapresent the tangent line to the function.\n",
    "#6.b: the difference between the derivative calculated with the limit and 1 has a minimum with delta = 10^(-8), with other values of delta the differences increases.\n",
    "    "
   ]
  },
  {
   "cell_type": "code",
   "execution_count": 21,
   "id": "97692a14",
   "metadata": {},
   "outputs": [
    {
     "name": "stdout",
     "output_type": "stream",
     "text": [
      "The area is equal to:  1.570796326776609\n"
     ]
    }
   ],
   "source": [
    "#Exercise 6.a and 6.b\n",
    "\n",
    "def y(x):\n",
    "    return (1-x**2)**0.5\n",
    "\n",
    "N=10000000\n",
    "I=0\n",
    "for x in range(-N,N+1):\n",
    "    I=I+y(1*x/N)*1/N\n",
    "\n",
    "print(\"The area is equal to: \",I)\n",
    "\n",
    "#The area calculated with N=100 has the first 9 decimal digits equal to the true value.\n",
    "#I can calculate the area in less than a second til N=10^6\n",
    "#I can calculate the area in less than a minute til N=10^7, the precision gained using N=10^7 rather than N=10^6 is beyond the precision of the machine, so it is minimal\n",
    "\n"
   ]
  },
  {
   "cell_type": "code",
   "execution_count": 39,
   "id": "a16ff584",
   "metadata": {},
   "outputs": [
    {
     "name": "stdout",
     "output_type": "stream",
     "text": [
      "[[[...]]]\n"
     ]
    }
   ],
   "source": []
  },
  {
   "cell_type": "code",
   "execution_count": 43,
   "id": "dc5fdfac",
   "metadata": {},
   "outputs": [
    {
     "data": {
      "text/plain": [
       "True"
      ]
     },
     "execution_count": 43,
     "metadata": {},
     "output_type": "execute_result"
    }
   ],
   "source": []
  },
  {
   "cell_type": "code",
   "execution_count": null,
   "id": "9817447e",
   "metadata": {},
   "outputs": [],
   "source": []
  }
 ],
 "metadata": {
  "kernelspec": {
   "display_name": "Python 3",
   "language": "python",
   "name": "python3"
  },
  "language_info": {
   "codemirror_mode": {
    "name": "ipython",
    "version": 3
   },
   "file_extension": ".py",
   "mimetype": "text/x-python",
   "name": "python",
   "nbconvert_exporter": "python",
   "pygments_lexer": "ipython3",
   "version": "3.8.8"
  }
 },
 "nbformat": 4,
 "nbformat_minor": 5
}
