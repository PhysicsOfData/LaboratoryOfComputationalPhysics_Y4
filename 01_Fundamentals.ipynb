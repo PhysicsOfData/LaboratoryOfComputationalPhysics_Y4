{
 "cells": [
  {
   "cell_type": "markdown",
   "metadata": {},
   "source": [
    "# Modules/packages/libraries\n",
    "\n",
    "Definitions:\n",
    "\n",
    "  * Modules:\n",
    "  A module is a file which contains python functions, global variables etc. It is nothing but .py file which has python executable code / statement.\n",
    "\n",
    "  * Packages:\n",
    "  A package is a namespace which contains multiple package/modules. It is a directory which contains a special file `__init__.py`\n",
    "  \n",
    "  * Libraries:\n",
    "  A library is a collection of various packages. There is no difference between package and python library conceptually.\n",
    "  \n",
    "Modules/packages/libraries can be easily \"imported\" and made functional in your python code. A set of libriaries comes with every python installation. Others can be installed locally and then imported. Your own code sitting somewhere else in your local computer can be imported too.\n",
    "\n",
    "Further details (very important!) on packages and how to create them can be found online. We may find the need of creating our own during the course."
   ]
  },
  {
   "cell_type": "code",
   "execution_count": 2,
   "metadata": {},
   "outputs": [
    {
     "name": "stdout",
     "output_type": "stream",
     "text": [
      "3.141592653589793\n",
      "3.141592653589793\n",
      "3.141592653589793\n",
      "2.6457513110645907\n"
     ]
    }
   ],
   "source": [
    "###### all the \"stuff\" that is in the math library can be used\n",
    "import math\n",
    "print(math.pi)\n",
    "\n",
    "# you can give math a label for convenience\n",
    "import math as m\n",
    "print (m.pi)\n",
    "\n",
    "# alternatively you can import only a given \"thing\" from the library\n",
    "from math import pi    #you can add several libraries at once, just list them separated by a \", \"\n",
    "print (pi)\n",
    "\n",
    "# or just get everything (very dangerous!!!)\n",
    "from math import *\n",
    "print (sqrt(7))"
   ]
  },
  {
   "cell_type": "markdown",
   "metadata": {},
   "source": [
    "To know which modules are there for you to use just type:"
   ]
  },
  {
   "cell_type": "code",
   "execution_count": 3,
   "metadata": {},
   "outputs": [
    {
     "name": "stdout",
     "output_type": "stream",
     "text": [
      "\n",
      "Please wait a moment while I gather a list of all available modules...\n",
      "\n"
     ]
    },
    {
     "name": "stderr",
     "output_type": "stream",
     "text": [
      "C:\\Users\\media\\anaconda3\\lib\\site-packages\\IPython\\kernel\\__init__.py:12: ShimWarning: The `IPython.kernel` package has been deprecated since IPython 4.0.You should import from ipykernel or jupyter_client instead.\n",
      "  warn(\"The `IPython.kernel` package has been deprecated since IPython 4.0.\"\n",
      "WARNING: AstropyDeprecationWarning: The private astropy._erfa module has been made into its own package, pyerfa, which is a dependency of astropy and can be imported directly using \"import erfa\" [astropy._erfa]\n",
      "C:\\Users\\media\\anaconda3\\lib\\pkgutil.py:92: MatplotlibDeprecationWarning: \n",
      "The matplotlib.compat module was deprecated in Matplotlib 3.3 and will be removed two minor releases later.\n",
      "  __import__(info.name)\n",
      "C:\\Users\\media\\anaconda3\\lib\\site-packages\\nltk\\twitter\\__init__.py:21: UserWarning: The twython library has not been installed. Some functionality from the twitter package will not be available.\n",
      "  warnings.warn(\n",
      "C:\\Users\\media\\anaconda3\\lib\\site-packages\\skimage\\viewer\\utils\\__init__.py:1: UserWarning: Recommended matplotlib backend is `Agg` for full skimage.viewer functionality.\n",
      "  from .core import *\n"
     ]
    },
    {
     "name": "stdout",
     "output_type": "stream",
     "text": [
      "Update LANGUAGE_CODES (inside config/base.py) if a new translation has been added to Spyder\n"
     ]
    },
    {
     "name": "stderr",
     "output_type": "stream",
     "text": [
      "C:\\Users\\media\\anaconda3\\lib\\site-packages\\qtawesome\\iconic_font.py:313: UserWarning: You need to have a running QApplication to use QtAwesome!\n",
      "  warnings.warn(\"You need to have a running \"\n",
      "C:\\Users\\media\\anaconda3\\lib\\pkgutil.py:107: VisibleDeprecationWarning: zmq.eventloop.minitornado is deprecated in pyzmq 14.0 and will be removed.\n",
      "    Install tornado itself to use zmq with the tornado IOLoop.\n",
      "    \n",
      "  yield from walk_packages(path, info.name+'.', onerror)\n"
     ]
    },
    {
     "name": "stdout",
     "output_type": "stream",
     "text": [
      "Cython              brain_re            lxml                smtplib\n",
      "IPython             brain_responses     lzma                sndhdr\n",
      "OpenSSL             brain_scipy_signal  mailbox             sniffio\n",
      "PIL                 brain_six           mailcap             snowballstemmer\n",
      "PyQt5               brain_sqlalchemy    markupsafe          socket\n",
      "__future__          brain_ssl           marshal             socketserver\n",
      "_abc                brain_subprocess    math                socks\n",
      "_ast                brain_threading     matplotlib          sockshandler\n",
      "_asyncio            brain_type          mccabe              sortedcollections\n",
      "_bisect             brain_typing        menuinst            sortedcontainers\n",
      "_black_version      brain_uuid          mimetypes           soupsieve\n",
      "_blake2             brotli              mistune             sphinx\n",
      "_bootlocale         bs4                 mkl                 sphinxcontrib\n",
      "_bz2                builtins            mkl_fft             spyder\n",
      "_cffi_backend       bz2                 mkl_random          spyder_kernels\n",
      "_codecs             cProfile            mmap                sqlalchemy\n",
      "_codecs_cn          calendar            mmapfile            sqlite3\n",
      "_codecs_hk          certifi             mmsystem            sre_compile\n",
      "_codecs_iso2022     cffi                mock                sre_constants\n",
      "_codecs_jp          cgi                 modulefinder        sre_parse\n",
      "_codecs_kr          cgitb               more_itertools      ssl\n",
      "_codecs_tw          chardet             mpmath              sspi\n",
      "_collections        chunk               msgpack             sspicon\n",
      "_collections_abc    click               msilib              stat\n",
      "_compat_pickle      cloudpickle         msvcrt              statistics\n",
      "_compression        clyent              multipledispatch    statsmodels\n",
      "_contextvars        cmath               multiprocessing     storemagic\n",
      "_csv                cmd                 mypy_extensions     string\n",
      "_ctypes             code                nacl                stringprep\n",
      "_ctypes_test        codecs              navigator_updater   struct\n",
      "_datetime           codeop              nbclassic           subprocess\n",
      "_decimal            collections         nbclient            sunau\n",
      "_distutils_hack     colorama            nbconvert           symbol\n",
      "_dummy_thread       colorsys            nbformat            sympy\n",
      "_elementtree        commctrl            nest_asyncio        sympyprinting\n",
      "_functools          compileall          netbios             symtable\n",
      "_hashlib            comtypes            netrc               sys\n",
      "_heapq              concurrent          networkx            sysconfig\n",
      "_imp                conda               nltk                tables\n",
      "_io                 conda_build         nntplib             tabnanny\n",
      "_json               conda_content_trust nose                tarfile\n",
      "_locale             conda_env           notebook            tblib\n",
      "_lsprof             conda_package_handling nt                  telnetlib\n",
      "_lzma               conda_token         ntpath              tempfile\n",
      "_markupbase         conda_verify        ntsecuritycon       terminado\n",
      "_md5                configparser        nturl2path          test\n",
      "_msi                contextlib          numba               test_data\n",
      "_multibytecodec     contextlib2         numbers             test_pycosat\n",
      "_multiprocessing    contextvars         numexpr             testpath\n",
      "_nsis               copy                numpy               tests\n",
      "_opcode             copyreg             numpydoc            textdistance\n",
      "_operator           crypt               odbc                textwrap\n",
      "_osx_support        cryptography        olefile             this\n",
      "_overlapped         csv                 opcode              threading\n",
      "_pickle             ctypes              openpyxl            threadpoolctl\n",
      "_py_abc             curl                operator            three_merge\n",
      "_pydecimal          curses              optparse            tifffile\n",
      "_pyio               cwp                 os                  time\n",
      "_pyrsistent_version cycler              packaging           timeit\n",
      "_pytest             cython              pandas              timer\n",
      "_queue              cythonmagic         pandocfilters       tkinter\n",
      "_random             cytoolz             paramiko            tlz\n",
      "_sha1               dask                parser              token\n",
      "_sha256             dataclasses         parso               tokenize\n",
      "_sha3               datetime            partd               toml\n",
      "_sha512             dateutil            past                toolz\n",
      "_signal             dbi                 path                tornado\n",
      "_sitebuiltins       dbm                 pathlib             tqdm\n",
      "_socket             dde                 pathlib2            trace\n",
      "_sqlite3            decimal             pathspec            traceback\n",
      "_sre                decorator           patsy               tracemalloc\n",
      "_ssl                defusedxml          pdb                 traitlets\n",
      "_stat               diff_match_patch    pep8                tty\n",
      "_statistics         difflib             perfmon             turtle\n",
      "_string             dis                 pexpect             turtledemo\n",
      "_strptime           distributed         pickle              typed_ast\n",
      "_struct             distutils           pickleshare         types\n",
      "_symtable           doctest             pickletools         typing\n",
      "_system_path        docutils            pip                 typing_extensions\n",
      "_testbuffer         dummy_threading     pipes               ujson\n",
      "_testcapi           email               pkg_resources       unicodecsv\n",
      "_testconsole        encodings           pkginfo             unicodedata\n",
      "_testimportmultiple ensurepip           pkgutil             unittest\n",
      "_testinternalcapi   entrypoints         platform            urllib\n",
      "_testmultiphase     enum                plistlib            urllib3\n",
      "_thread             erfa                pluggy              uu\n",
      "_threading_local    errno               ply                 uuid\n",
      "_tkinter            et_xmlfile          poplib              venv\n",
      "_tracemalloc        fastcache           posixpath           warnings\n",
      "_warnings           faulthandler        pprint              watchdog\n",
      "_weakref            filecmp             profile             wave\n",
      "_weakrefset         fileinput           prometheus_client   wcwidth\n",
      "_win32sysloader     filelock            prompt_toolkit      weakref\n",
      "_winapi             flake8              pstats              webbrowser\n",
      "_winxptheme         flask               psutil              webencodings\n",
      "_xxsubinterpreters  fnmatch             pty                 werkzeug\n",
      "_yaml               formatter           ptyprocess          wget\n",
      "abc                 fractions           pvectorc            wheel\n",
      "adodbapi            fsspec              py                  widgetsnbextension\n",
      "afxres              ftplib              py_compile          win2kras\n",
      "aifc                functools           pyclbr              win32api\n",
      "alabaster           future              pycodestyle         win32clipboard\n",
      "anaconda_navigator  gc                  pycosat             win32com\n",
      "anaconda_project    genericpath         pycparser           win32con\n",
      "antigravity         getopt              pycurl              win32console\n",
      "anyio               getpass             pydoc               win32cred\n",
      "appdirs             gettext             pydoc_data          win32crypt\n",
      "argh                gevent              pydocstyle          win32cryptcon\n",
      "argon2              glob                pyexpat             win32ctypes\n",
      "argparse            glob2               pyflakes            win32event\n",
      "array               greenlet            pygments            win32evtlog\n",
      "asn1crypto          gzip                pylab               win32evtlogutil\n",
      "ast                 h5py                pylint              win32file\n",
      "astroid             hashlib             pyls                win32gui\n",
      "astropy             heapdict            pyls_black          win32gui_struct\n",
      "async_generator     heapq               pyls_jsonrpc        win32help\n",
      "asynchat            hmac                pyls_spyder         win32inet\n",
      "asyncio             html                pyodbc              win32inetcon\n"
     ]
    },
    {
     "name": "stdout",
     "output_type": "stream",
     "text": [
      "asyncore            html5lib            pyparsing           win32job\n",
      "atexit              http                pyreadline          win32lz\n",
      "atomicwrites        idlelib             pyrsistent          win32net\n",
      "attr                idna                pytest              win32netcon\n",
      "audioop             imagecodecs         pythoncom           win32pdh\n",
      "autopep8            imageio             pytz                win32pdhquery\n",
      "autoreload          imagesize           pywin               win32pdhutil\n",
      "babel               imaplib             pywin32_bootstrap   win32pipe\n",
      "backcall            imghdr              pywin32_testutil    win32print\n",
      "backports           imp                 pywintypes          win32process\n",
      "base64              importlib           pywt                win32profile\n",
      "bcrypt              importlib_metadata  pyximport           win32ras\n",
      "bdb                 iniconfig           qdarkstyle          win32rcparser\n",
      "binascii            inspect             qtawesome           win32security\n",
      "binhex              intervaltree        qtconsole           win32service\n",
      "binstar_client      io                  qtpy                win32serviceutil\n",
      "bisect              ipaddress           queue               win32timezone\n",
      "bitarray            ipykernel           quopri              win32trace\n",
      "bkcharts            ipykernel_launcher  random              win32traceutil\n",
      "black               ipython_genutils    rasutil             win32transaction\n",
      "blackd              ipywidgets          re                  win32ts\n",
      "bleach              isapi               readline            win32ui\n",
      "blib2to3            isort               regcheck            win32uiole\n",
      "bokeh               isympy              regex               win32verstamp\n",
      "boto                itertools           regutil             win32wnet\n",
      "bottleneck          itsdangerous        repo_cli            win_inet_pton\n",
      "brain_argparse      jdcal               reprlib             win_unicode_console\n",
      "brain_attrs         jedi                requests            wincertstore\n",
      "brain_boto3         jinja2              rlcompleter         winerror\n",
      "brain_builtin_inference joblib              rmagic              winioctlcon\n",
      "brain_collections   json                rope                winnt\n",
      "brain_crypt         json5               rtree               winperf\n",
      "brain_curses        jsonschema          ruamel_yaml         winpty\n",
      "brain_dataclasses   jupyter             run                 winreg\n",
      "brain_dateutil      jupyter_client      runpy               winsound\n",
      "brain_fstrings      jupyter_console     sched               winxpgui\n",
      "brain_functools     jupyter_core        scipy               winxptheme\n",
      "brain_gi            jupyter_packaging   scripts             wrapt\n",
      "brain_hashlib       jupyter_server      seaborn             wsgiref\n",
      "brain_http          jupyterlab          secrets             xdrlib\n",
      "brain_hypothesis    jupyterlab_pygments select              xlrd\n",
      "brain_io            jupyterlab_server   selectors           xlsxwriter\n",
      "brain_mechanize     jupyterlab_widgets  send2trash          xlwings\n",
      "brain_multiprocessing jupyterthemes       servicemanager      xlwt\n",
      "brain_namedtuple_enum keyring             setuptools          xml\n",
      "brain_nose          keyword             shelve              xmlrpc\n",
      "brain_numpy_core_fromnumeric kiwisolver          shlex               xmltodict\n",
      "brain_numpy_core_function_base lazy_object_proxy   shutil              xxsubtype\n",
      "brain_numpy_core_multiarray lesscpy             signal              yaml\n",
      "brain_numpy_core_numeric lib2to3             simplegeneric       yapf\n",
      "brain_numpy_core_numerictypes libarchive          singledispatch      yapftests\n",
      "brain_numpy_core_umath libfuturize         sip                 zict\n",
      "brain_numpy_ndarray libpasteurize       sipconfig           zipapp\n",
      "brain_numpy_random_mtrand lief                sipdistutils        zipfile\n",
      "brain_numpy_utils   linecache           site                zipimport\n",
      "brain_pkg_resources llvmlite            six                 zipp\n",
      "brain_pytest        locale              skimage             zlib\n",
      "brain_qt            locket              sklearn             zmq\n",
      "brain_random        logging             smtpd               zope\n",
      "\n",
      "Enter any module name to get more help.  Or, type \"modules spam\" to search\n",
      "for modules whose name or summary contain the string \"spam\".\n",
      "\n",
      "None\n"
     ]
    }
   ],
   "source": [
    "print (help('modules') )\n"
   ]
  },
  {
   "cell_type": "markdown",
   "metadata": {},
   "source": [
    "`pip` is a special package. It is used from the command line to install properly (e.g. matching the version of the local packages) new packages. It can also be used from within python to check i.e. the set installed packages and their versions. N.B.: only the installed packages on top of the default ones will be listed "
   ]
  },
  {
   "cell_type": "code",
   "execution_count": 4,
   "metadata": {},
   "outputs": [
    {
     "data": {
      "text/plain": [
       "['alabaster==0.7.12',\n",
       " 'anaconda-client==1.7.2',\n",
       " 'anaconda-navigator==2.0.3',\n",
       " 'anaconda-project==0.9.1',\n",
       " 'anyio==2.2.0',\n",
       " 'appdirs==1.4.4',\n",
       " 'argh==0.26.2',\n",
       " 'argon2-cffi==20.1.0',\n",
       " 'asn1crypto==1.4.0',\n",
       " 'astroid==2.5',\n",
       " 'astropy==4.2.1',\n",
       " 'async-generator==1.10',\n",
       " 'atomicwrites==1.4.0',\n",
       " 'attrs==20.3.0',\n",
       " 'autopep8==1.5.6',\n",
       " 'babel==2.9.0',\n",
       " 'backcall==0.2.0',\n",
       " 'backports.functools-lru-cache==1.6.4',\n",
       " 'backports.shutil-get-terminal-size==1.0.0',\n",
       " 'backports.tempfile==1.0',\n",
       " 'backports.weakref==1.0.post1',\n",
       " 'bcrypt==3.2.0',\n",
       " 'beautifulsoup4==4.9.3',\n",
       " 'bitarray==1.9.2',\n",
       " 'bkcharts==0.2',\n",
       " 'black==19.10b0',\n",
       " 'bleach==3.3.0',\n",
       " 'bokeh==2.3.2',\n",
       " 'boto==2.49.0',\n",
       " 'bottleneck==1.3.2',\n",
       " 'brotlipy==0.7.0',\n",
       " 'certifi==2020.12.5',\n",
       " 'cffi==1.14.5',\n",
       " 'chardet==4.0.0',\n",
       " 'click==7.1.2',\n",
       " 'cloudpickle==1.6.0',\n",
       " 'clyent==1.2.2',\n",
       " 'colorama==0.4.4',\n",
       " 'comtypes==1.1.9',\n",
       " 'conda-build==3.21.4',\n",
       " 'conda-content-trust==0+unknown',\n",
       " 'conda-package-handling==1.7.3',\n",
       " 'conda-repo-cli==1.0.4',\n",
       " 'conda-token==0.3.0',\n",
       " 'conda-verify==3.4.2',\n",
       " 'conda==4.10.1',\n",
       " 'contextlib2==0.6.0.post1',\n",
       " 'cryptography==3.4.7',\n",
       " 'cycler==0.10.0',\n",
       " 'cython==0.29.23',\n",
       " 'cytoolz==0.11.0',\n",
       " 'dask==2021.4.0',\n",
       " 'decorator==5.0.6',\n",
       " 'defusedxml==0.7.1',\n",
       " 'diff-match-patch==20200713',\n",
       " 'distributed==2021.4.0',\n",
       " 'docutils==0.17',\n",
       " 'entrypoints==0.3',\n",
       " 'et-xmlfile==1.0.1',\n",
       " 'fastcache==1.1.0',\n",
       " 'filelock==3.0.12',\n",
       " 'flake8==3.9.0',\n",
       " 'flask==1.1.2',\n",
       " 'fsspec==0.9.0',\n",
       " 'future==0.18.2',\n",
       " 'gevent==21.1.2',\n",
       " 'glob2==0.7',\n",
       " 'greenlet==1.0.0',\n",
       " 'h5py==2.10.0',\n",
       " 'heapdict==1.0.1',\n",
       " 'html5lib==1.1',\n",
       " 'idna==2.10',\n",
       " 'imagecodecs==2021.3.31',\n",
       " 'imageio==2.9.0',\n",
       " 'imagesize==1.2.0',\n",
       " 'importlib-metadata==3.10.0',\n",
       " 'iniconfig==1.1.1',\n",
       " 'intervaltree==3.1.0',\n",
       " 'ipykernel==5.3.4',\n",
       " 'ipython-genutils==0.2.0',\n",
       " 'ipython==7.22.0',\n",
       " 'ipywidgets==7.6.3',\n",
       " 'isort==5.8.0',\n",
       " 'itsdangerous==1.1.0',\n",
       " 'jdcal==1.4.1',\n",
       " 'jedi==0.17.2',\n",
       " 'jinja2==2.11.3',\n",
       " 'joblib==1.0.1',\n",
       " 'json5==0.9.5',\n",
       " 'jsonschema==3.2.0',\n",
       " 'jupyter-client==6.1.12',\n",
       " 'jupyter-console==6.4.0',\n",
       " 'jupyter-core==4.7.1',\n",
       " 'jupyter-packaging==0.7.12',\n",
       " 'jupyter-server==1.4.1',\n",
       " 'jupyter==1.0.0',\n",
       " 'jupyterlab-pygments==0.1.2',\n",
       " 'jupyterlab-server==2.4.0',\n",
       " 'jupyterlab-widgets==1.0.0',\n",
       " 'jupyterlab==3.0.14',\n",
       " 'jupyterthemes==0.20.0',\n",
       " 'keyring==22.3.0',\n",
       " 'kiwisolver==1.3.1',\n",
       " 'lazy-object-proxy==1.6.0',\n",
       " 'lesscpy==0.15.0',\n",
       " 'libarchive-c==2.9',\n",
       " 'llvmlite==0.36.0',\n",
       " 'locket==0.2.1',\n",
       " 'lxml==4.6.3',\n",
       " 'markupsafe==1.1.1',\n",
       " 'matplotlib==3.3.4',\n",
       " 'mccabe==0.6.1',\n",
       " 'menuinst==1.4.16',\n",
       " 'mistune==0.8.4',\n",
       " 'mkl-fft==1.3.0',\n",
       " 'mkl-random==1.2.1',\n",
       " 'mkl-service==2.3.0',\n",
       " 'mock==4.0.3',\n",
       " 'more-itertools==8.7.0',\n",
       " 'mpmath==1.2.1',\n",
       " 'msgpack==1.0.2',\n",
       " 'multipledispatch==0.6.0',\n",
       " 'mypy-extensions==0.4.3',\n",
       " 'navigator-updater==0.2.1',\n",
       " 'nbclassic==0.2.6',\n",
       " 'nbclient==0.5.3',\n",
       " 'nbconvert==6.0.7',\n",
       " 'nbformat==5.1.3',\n",
       " 'nest-asyncio==1.5.1',\n",
       " 'networkx==2.5',\n",
       " 'nltk==3.6.1',\n",
       " 'nose==1.3.7',\n",
       " 'notebook==6.3.0',\n",
       " 'numba==0.53.1',\n",
       " 'numexpr==2.7.3',\n",
       " 'numpy==1.20.1',\n",
       " 'numpydoc==1.1.0',\n",
       " 'olefile==0.46',\n",
       " 'openpyxl==3.0.7',\n",
       " 'packaging==20.9',\n",
       " 'pandas==1.2.4',\n",
       " 'pandocfilters==1.4.3',\n",
       " 'paramiko==2.7.2',\n",
       " 'parso==0.7.0',\n",
       " 'partd==1.2.0',\n",
       " 'path==15.1.2',\n",
       " 'pathlib2==2.3.5',\n",
       " 'pathspec==0.7.0',\n",
       " 'patsy==0.5.1',\n",
       " 'pep8==1.7.1',\n",
       " 'pexpect==4.8.0',\n",
       " 'pickleshare==0.7.5',\n",
       " 'pillow==8.2.0',\n",
       " 'pip==21.0.1',\n",
       " 'pkginfo==1.7.0',\n",
       " 'pluggy==0.13.1',\n",
       " 'ply==3.11',\n",
       " 'prometheus-client==0.10.1',\n",
       " 'prompt-toolkit==3.0.17',\n",
       " 'psutil==5.8.0',\n",
       " 'ptyprocess==0.7.0',\n",
       " 'py==1.10.0',\n",
       " 'pycodestyle==2.6.0',\n",
       " 'pycosat==0.6.3',\n",
       " 'pycparser==2.20',\n",
       " 'pycurl==7.43.0.6',\n",
       " 'pydocstyle==6.0.0',\n",
       " 'pyerfa==1.7.3',\n",
       " 'pyflakes==2.2.0',\n",
       " 'pygments==2.8.1',\n",
       " 'pylint==2.7.4',\n",
       " 'pyls-black==0.4.6',\n",
       " 'pyls-spyder==0.3.2',\n",
       " 'pynacl==1.4.0',\n",
       " 'pyodbc==4.0.0-unsupported',\n",
       " 'pyopenssl==20.0.1',\n",
       " 'pyparsing==2.4.7',\n",
       " 'pyreadline==2.1',\n",
       " 'pyrsistent==0.17.3',\n",
       " 'pysocks==1.7.1',\n",
       " 'pytest==6.2.3',\n",
       " 'python-dateutil==2.8.1',\n",
       " 'python-jsonrpc-server==0.4.0',\n",
       " 'python-language-server==0.36.2',\n",
       " 'pytz==2021.1',\n",
       " 'pywavelets==1.1.1',\n",
       " 'pywin32-ctypes==0.2.0',\n",
       " 'pywin32==227',\n",
       " 'pywinpty==0.5.7',\n",
       " 'pyyaml==5.4.1',\n",
       " 'pyzmq==20.0.0',\n",
       " 'qdarkstyle==2.8.1',\n",
       " 'qtawesome==1.0.2',\n",
       " 'qtconsole==5.0.3',\n",
       " 'qtpy==1.9.0',\n",
       " 'regex==2021.4.4',\n",
       " 'requests==2.25.1',\n",
       " 'rope==0.18.0',\n",
       " 'rtree==0.9.7',\n",
       " 'ruamel-yaml-conda==0.15.100',\n",
       " 'scikit-image==0.18.1',\n",
       " 'scikit-learn==0.24.1',\n",
       " 'scipy==1.6.2',\n",
       " 'seaborn==0.11.1',\n",
       " 'send2trash==1.5.0',\n",
       " 'setuptools==52.0.0.post20210125',\n",
       " 'simplegeneric==0.8.1',\n",
       " 'singledispatch==0.0.0',\n",
       " 'sip==4.19.13',\n",
       " 'six==1.15.0',\n",
       " 'sniffio==1.2.0',\n",
       " 'snowballstemmer==2.1.0',\n",
       " 'sortedcollections==2.1.0',\n",
       " 'sortedcontainers==2.3.0',\n",
       " 'soupsieve==2.2.1',\n",
       " 'sphinx==4.0.1',\n",
       " 'sphinxcontrib-applehelp==1.0.2',\n",
       " 'sphinxcontrib-devhelp==1.0.2',\n",
       " 'sphinxcontrib-htmlhelp==1.0.3',\n",
       " 'sphinxcontrib-jsmath==1.0.1',\n",
       " 'sphinxcontrib-qthelp==1.0.3',\n",
       " 'sphinxcontrib-serializinghtml==1.1.4',\n",
       " 'sphinxcontrib-websupport==1.2.4',\n",
       " 'spyder-kernels==1.10.2',\n",
       " 'spyder==4.2.5',\n",
       " 'sqlalchemy==1.4.7',\n",
       " 'statsmodels==0.12.2',\n",
       " 'sympy==1.8',\n",
       " 'tables==3.6.1',\n",
       " 'tblib==1.7.0',\n",
       " 'terminado==0.9.4',\n",
       " 'testpath==0.4.4',\n",
       " 'textdistance==4.2.1',\n",
       " 'threadpoolctl==2.1.0',\n",
       " 'three-merge==0.1.1',\n",
       " 'tifffile==2021.4.8',\n",
       " 'toml==0.10.2',\n",
       " 'toolz==0.11.1',\n",
       " 'tornado==6.1',\n",
       " 'tqdm==4.59.0',\n",
       " 'traitlets==5.0.5',\n",
       " 'typed-ast==1.4.2',\n",
       " 'typing-extensions==3.7.4.3',\n",
       " 'ujson==4.0.2',\n",
       " 'unicodecsv==0.14.1',\n",
       " 'urllib3==1.26.4',\n",
       " 'watchdog==1.0.2',\n",
       " 'wcwidth==0.2.5',\n",
       " 'webencodings==0.5.1',\n",
       " 'werkzeug==1.0.1',\n",
       " 'wget==3.2',\n",
       " 'wheel==0.36.2',\n",
       " 'widgetsnbextension==3.5.1',\n",
       " 'win-inet-pton==1.1.0',\n",
       " 'win-unicode-console==0.5',\n",
       " 'wincertstore==0.2',\n",
       " 'wrapt==1.12.1',\n",
       " 'xlrd==2.0.1',\n",
       " 'xlsxwriter==1.3.8',\n",
       " 'xlwings==0.23.0',\n",
       " 'xlwt==1.3.0',\n",
       " 'xmltodict==0.12.0',\n",
       " 'yapf==0.31.0',\n",
       " 'zict==2.0.0',\n",
       " 'zipp==3.4.1',\n",
       " 'zope.event==4.5.0',\n",
       " 'zope.interface==5.3.0']"
      ]
     },
     "execution_count": 4,
     "metadata": {},
     "output_type": "execute_result"
    }
   ],
   "source": [
    "import pip\n",
    "sorted([\"%s==%s\" % (i.key, i.version) for i in pip._internal.utils.misc.get_installed_distributions()])"
   ]
  },
  {
   "cell_type": "markdown",
   "metadata": {},
   "source": [
    "# Functions"
   ]
  },
  {
   "cell_type": "code",
   "execution_count": 5,
   "metadata": {},
   "outputs": [
    {
     "name": "stdout",
     "output_type": "stream",
     "text": [
      "9\n",
      "27\n",
      "cube 27\n",
      "square 9\n"
     ]
    }
   ],
   "source": [
    "def square(x):\n",
    "    \"\"\"Square of x.\"\"\"\n",
    "    return x*x\n",
    "\n",
    "def cube(x):\n",
    "    \"\"\"Cube of x.\"\"\"\n",
    "    return x*x*x\n",
    "\n",
    "# create a dictionary of functions\n",
    "funcs = {\n",
    "    'square': square,\n",
    "    'cube': cube,\n",
    "}\n",
    "\n",
    "x = 3\n",
    "print(square(x))\n",
    "print(cube(x))\n",
    "\n",
    "for func in sorted(funcs):\n",
    "    print (func, funcs[func](x))"
   ]
  },
  {
   "cell_type": "markdown",
   "metadata": {},
   "source": [
    "## Functions arguments"
   ]
  },
  {
   "cell_type": "markdown",
   "metadata": {},
   "source": [
    "What is passsed to a function is a copy of the input. Imagine we have a list *x =[1, 2, 3]*, i.e. a mutable object. If within the function the content of *x* is directly changed (e.g. *x[0] = 999*), then *x* changes outside the funciton as well. "
   ]
  },
  {
   "cell_type": "code",
   "execution_count": 7,
   "metadata": {},
   "outputs": [
    {
     "name": "stdout",
     "output_type": "stream",
     "text": [
      "[1, 2, 3]\n",
      "[999, 2, 3]\n",
      "[999, 2, 3]\n"
     ]
    }
   ],
   "source": [
    "def modify(x):\n",
    "    x[0] = 999\n",
    "    return x\n",
    "\n",
    "x = [1,2,3]\n",
    "print (x)\n",
    "print (modify(x))\n",
    "print (x)"
   ]
  },
  {
   "cell_type": "markdown",
   "metadata": {},
   "source": [
    "However, if *x* is reassigned within the function to a new object (e.g. another list), then the copy of the name *x* now points to the new object, but *x* outside the function is unhcanged."
   ]
  },
  {
   "cell_type": "code",
   "execution_count": 8,
   "metadata": {},
   "outputs": [
    {
     "name": "stdout",
     "output_type": "stream",
     "text": [
      "[1, 2, 3]\n",
      "[4, 5, 6]\n",
      "[1, 2, 3]\n"
     ]
    }
   ],
   "source": [
    "def no_modify(x):\n",
    "    x = [4,5,6]\n",
    "    return x\n",
    "\n",
    "x = [1,2,3]\n",
    "print (x)\n",
    "print (no_modify(x))\n",
    "print (x)\n"
   ]
  },
  {
   "cell_type": "markdown",
   "metadata": {},
   "source": [
    "What if the function tries to modify the value of an immutable object?"
   ]
  },
  {
   "cell_type": "markdown",
   "metadata": {},
   "source": [
    "Binding of default arguments occurs at function definition:"
   ]
  },
  {
   "cell_type": "code",
   "execution_count": 9,
   "metadata": {},
   "outputs": [
    {
     "name": "stdout",
     "output_type": "stream",
     "text": [
      "[1]\n",
      "[1, 1]\n",
      "[9, 9, 9, 1]\n",
      "[1, 1, 1]\n",
      "[1, 1, 1, 1]\n"
     ]
    }
   ],
   "source": [
    "def f(x = []):\n",
    "    x.append(1)\n",
    "    return x\n",
    "\n",
    "print (f())\n",
    "print (f())\n",
    "print (f(x = [9,9,9]))\n",
    "print (f())\n",
    "print (f())"
   ]
  },
  {
   "cell_type": "markdown",
   "metadata": {},
   "source": [
    "Try to aviod that!!"
   ]
  },
  {
   "cell_type": "code",
   "execution_count": 10,
   "metadata": {},
   "outputs": [
    {
     "name": "stdout",
     "output_type": "stream",
     "text": [
      "[1]\n",
      "[1]\n",
      "[9, 9, 9, 1]\n",
      "[1]\n",
      "[1]\n"
     ]
    }
   ],
   "source": [
    "def f(x = None):\n",
    "    if x is None:\n",
    "        x = []\n",
    "    x.append(1)\n",
    "    return x\n",
    "\n",
    "print (f())\n",
    "print (f())\n",
    "print (f(x = [9,9,9]))\n",
    "print (f())\n",
    "print (f())"
   ]
  },
  {
   "cell_type": "markdown",
   "metadata": {},
   "source": [
    "## Higher order functions\n",
    "\n",
    "A function that uses another function as an input argument or returns a function is known as a higher-order function (HOF). The most familiar examples are `map` and `filter`."
   ]
  },
  {
   "cell_type": "markdown",
   "metadata": {},
   "source": [
    "### map\n",
    "\n",
    "The map function applies a function to each member of a collection"
   ]
  },
  {
   "cell_type": "code",
   "execution_count": 11,
   "metadata": {},
   "outputs": [
    {
     "name": "stdout",
     "output_type": "stream",
     "text": [
      "[0, 1, 4, 9, 16]\n",
      "0\n",
      "1\n",
      "4\n",
      "9\n",
      "16\n"
     ]
    },
    {
     "data": {
      "text/plain": [
       "[0, 1, 4, 9, 16, 25]"
      ]
     },
     "execution_count": 11,
     "metadata": {},
     "output_type": "execute_result"
    }
   ],
   "source": [
    "x = list(map(square, range(5))) \n",
    "print (x)\n",
    "\n",
    "# Note the difference w.r.t python 2. In python 3 map retuns an iterator so you can do stuff like:\n",
    "for i in map(square,range(5)): print(i)\n",
    "\n",
    "# or\n",
    "[i for i in map(square,range(6))]"
   ]
  },
  {
   "cell_type": "markdown",
   "metadata": {},
   "source": [
    "### filter\n",
    "\n",
    "The filter function applies a predicate to each member of a collection, retaining only those members where the predicate is True"
   ]
  },
  {
   "cell_type": "code",
   "execution_count": null,
   "metadata": {},
   "outputs": [],
   "source": [
    "def is_even(x):\n",
    "    return x%2 == 0\n",
    "\n",
    "print (list(filter(is_even, range(5))))"
   ]
  },
  {
   "cell_type": "markdown",
   "metadata": {},
   "source": [
    "Combinations in sequence of HOF are obviously possible"
   ]
  },
  {
   "cell_type": "code",
   "execution_count": null,
   "metadata": {},
   "outputs": [],
   "source": [
    "list(map(square, filter(is_even, range(5))))"
   ]
  },
  {
   "cell_type": "markdown",
   "metadata": {},
   "source": [
    "### reduce\n",
    "\n",
    "The reduce function reduces a collection using a binary operator to combine items two at a time. More often than not reduce can be substituted with a more efficient for loop. It is worth mentioning it for its key role in big-data applications together with map (the map-reduce paradigm). \n",
    "N.B.: it no loger exist as built-in function in python 3, it is now part of the `functools` library"
   ]
  },
  {
   "cell_type": "code",
   "execution_count": null,
   "metadata": {},
   "outputs": [],
   "source": [
    "from functools import reduce\n",
    "\n",
    "def my_add(x, y):\n",
    "    return x + y\n",
    "\n",
    "# another implementation of the sum function\n",
    "reduce(my_add, [1,2,3,4,5])"
   ]
  },
  {
   "cell_type": "markdown",
   "metadata": {},
   "source": [
    "### zip\n",
    "\n",
    "zip is useful when you need to iterate over matched elements of multiple lists"
   ]
  },
  {
   "cell_type": "code",
   "execution_count": 1,
   "metadata": {},
   "outputs": [
    {
     "name": "stdout",
     "output_type": "stream",
     "text": [
      "1 10 a\n",
      "2 20 b\n",
      "3 30 c\n",
      "4 40 d\n"
     ]
    }
   ],
   "source": [
    "xs = [1, 2, 3, 4]\n",
    "ys = [10, 20, 30, 40]\n",
    "zs = ['a', 'b', 'c', 'd', 'e']\n",
    "\n",
    "for x, y, z in zip(xs, ys, zs):\n",
    "    print (x, y, z)"
   ]
  },
  {
   "cell_type": "markdown",
   "metadata": {},
   "source": [
    "### Custom HOF"
   ]
  },
  {
   "cell_type": "code",
   "execution_count": null,
   "metadata": {},
   "outputs": [],
   "source": [
    "def custom_sum(xs, transform):\n",
    "    \"\"\"Returns the sum of xs after a user specified transform.\"\"\"\n",
    "    return sum(map(transform, xs))\n",
    "\n",
    "xs = range(5)\n",
    "print (custom_sum(xs, square))\n",
    "print (custom_sum(xs, cube))\n",
    "\n"
   ]
  },
  {
   "cell_type": "markdown",
   "metadata": {},
   "source": [
    "### Returning a function"
   ]
  },
  {
   "cell_type": "code",
   "execution_count": null,
   "metadata": {},
   "outputs": [],
   "source": [
    "def make_logger(target):\n",
    "    def logger(data):\n",
    "        with open(target, 'a') as f:\n",
    "            f.write(data + '\\n')\n",
    "    return logger\n",
    "\n",
    "foo_logger = make_logger('foo.txt') #foo.txt will be created if not there already\n",
    "foo_logger('Hello')\n",
    "foo_logger('World')"
   ]
  },
  {
   "cell_type": "code",
   "execution_count": null,
   "metadata": {},
   "outputs": [],
   "source": [
    "! cat 'foo.txt'"
   ]
  },
  {
   "cell_type": "markdown",
   "metadata": {},
   "source": [
    "## Anonimous functions (lambda)\n",
    "\n",
    "When using functional style, there is often the need to create specific functions that perform a limited task as input to a HOF such as map or filter. In such cases, these functions are often written as anonymous or lambda functions. \n",
    "The syntax is as follows:\n",
    "\n",
    "lambda *arguments* : *expression*\n",
    "\n",
    "\n",
    "If you find it hard to understand what a lambda function is doing, it should probably be rewritten as a regular function."
   ]
  },
  {
   "cell_type": "code",
   "execution_count": null,
   "metadata": {},
   "outputs": [],
   "source": [
    "sum = lambda x,y: x+y\n",
    "sum(3,4)"
   ]
  },
  {
   "cell_type": "code",
   "execution_count": null,
   "metadata": {},
   "outputs": [],
   "source": [
    "for i in map(lambda x: x*x, range(5)): print (i)"
   ]
  },
  {
   "cell_type": "code",
   "execution_count": null,
   "metadata": {},
   "outputs": [],
   "source": [
    "# what does this function do?\n",
    "from functools import reduce\n",
    "s1 = reduce(lambda x, y: x+y, map(lambda x: x**2, range(1,10)))\n",
    "print(s1)\n"
   ]
  },
  {
   "cell_type": "markdown",
   "metadata": {},
   "source": [
    "## Recursive functions "
   ]
  },
  {
   "cell_type": "code",
   "execution_count": 5,
   "metadata": {},
   "outputs": [
    {
     "name": "stdout",
     "output_type": "stream",
     "text": [
      "[1, 1, 2, 3, 5, 8, 13, 21, 34, 55]\n"
     ]
    }
   ],
   "source": [
    "def fib1(n):\n",
    "    \"\"\"Fib with recursion.\"\"\"\n",
    "\n",
    "    # base case\n",
    "    if n==0 or n==1:\n",
    "        return 1\n",
    "    # recurssive case\n",
    "    else:\n",
    "        return fib1(n-1) + fib1(n-2)\n",
    "\n",
    "    \n",
    "print ([fib1(i) for i in range(10)])"
   ]
  },
  {
   "cell_type": "code",
   "execution_count": 6,
   "metadata": {},
   "outputs": [
    {
     "name": "stdout",
     "output_type": "stream",
     "text": [
      "[1, 1, 2, 3, 5, 8, 13, 21, 34, 55]\n"
     ]
    }
   ],
   "source": [
    "# In Python, a more efficient version that does not use recursion is\n",
    "\n",
    "def fib2(n):\n",
    "    \"\"\"Fib without recursion.\"\"\"\n",
    "    a, b = 0, 1\n",
    "    for i in range(1, n+1):\n",
    "        a, b = b, a+b\n",
    "    return b\n",
    "\n",
    "print ([fib2(i) for i in range(10)])"
   ]
  },
  {
   "cell_type": "code",
   "execution_count": 7,
   "metadata": {},
   "outputs": [
    {
     "name": "stdout",
     "output_type": "stream",
     "text": [
      "2.7 ms ± 305 µs per loop (mean ± std. dev. of 7 runs, 100 loops each)\n",
      "1.07 µs ± 30.9 ns per loop (mean ± std. dev. of 7 runs, 1000000 loops each)\n"
     ]
    }
   ],
   "source": [
    "# check indeed the timing:\n",
    "\n",
    "%timeit fib1(20)\n",
    "%timeit fib2(20)\n"
   ]
  },
  {
   "cell_type": "markdown",
   "metadata": {},
   "source": [
    "## Iterators\n",
    "\n",
    "Iterators represent streams of values. Because only one value is consumed at a time, they use very little memory. Use of iterators is very helpful for working with data sets too large to fit into RAM."
   ]
  },
  {
   "cell_type": "code",
   "execution_count": null,
   "metadata": {},
   "outputs": [],
   "source": [
    "# Iterators can be created from sequences with the built-in function iter()\n",
    "\n",
    "xs = [1,2,3]\n",
    "x_iter = iter(xs)\n",
    "\n",
    "print (next(x_iter))\n",
    "print (next(x_iter))\n",
    "print (next(x_iter))\n",
    "print (next(x_iter))"
   ]
  },
  {
   "cell_type": "code",
   "execution_count": null,
   "metadata": {},
   "outputs": [],
   "source": [
    "# Most commonly, iterators are used (automatically) within a for loop\n",
    "# which terminates when it encouters a StopIteration exception\n",
    "\n",
    "x_iter = iter(xs)\n",
    "for x in x_iter:\n",
    "    print (x)"
   ]
  },
  {
   "cell_type": "markdown",
   "metadata": {},
   "source": [
    "## More on comprehensions"
   ]
  },
  {
   "cell_type": "code",
   "execution_count": null,
   "metadata": {},
   "outputs": [],
   "source": [
    "# A generator expression\n",
    "\n",
    "print ((x for x in range(10)))\n",
    "\n",
    "# A list comprehesnnion\n",
    "\n",
    "print ([x for x in range(10)])\n",
    "\n",
    "# A set comprehension\n",
    "\n",
    "print ({x for x in range(10)})\n",
    "\n",
    "# A dictionary comprehension\n",
    "\n",
    "print ({x: x for x in range(10)})"
   ]
  },
  {
   "cell_type": "markdown",
   "metadata": {},
   "source": [
    "## Useful Modules\n",
    "\n",
    "You may want to have a look at the content of the following modules for further usage of (HO) functions:\n",
    "  - [operator](https://docs.python.org/3/library/operator.html)\n",
    "  - [functools](https://docs.python.org/3/library/functools.html)\n",
    "  - [itertools](https://docs.python.org/3/library/itertools.html)\n",
    "  - [toolz](https://pypi.org/project/toolz/)\n",
    "  - [funcy](https://pypi.org/project/funcy/)"
   ]
  },
  {
   "cell_type": "markdown",
   "metadata": {},
   "source": [
    "## Decorators\n",
    "\n",
    "Decorators are a type of HOF that take a function and return a wrapped function that provides additional useful properties.\n",
    "\n",
    "Examples:\n",
    "\n",
    "  - logging\n",
    "  - profiling\n",
    "  - Just-In-Time (JIT) compilation"
   ]
  },
  {
   "cell_type": "code",
   "execution_count": 3,
   "metadata": {},
   "outputs": [],
   "source": [
    "def my_decorator(func):\n",
    "    def wrapper():\n",
    "        print(\"Something is happening before the function is called.\")\n",
    "        func()\n",
    "        print(\"Something is happening after the function is called.\")\n",
    "    return wrapper\n",
    "\n",
    "def say_whee():\n",
    "    print(\"Whee!\")\n",
    "\n",
    "say_whee = my_decorator(say_whee)"
   ]
  },
  {
   "cell_type": "code",
   "execution_count": null,
   "metadata": {},
   "outputs": [],
   "source": [
    "say_whee()"
   ]
  },
  {
   "cell_type": "markdown",
   "metadata": {},
   "source": [
    "Python allows you to use decorators in a simpler way with the @ symbol, sometimes called the “pie” syntax"
   ]
  },
  {
   "cell_type": "code",
   "execution_count": null,
   "metadata": {},
   "outputs": [],
   "source": [
    "def my_decorator(func):\n",
    "    def wrapper():\n",
    "        print(\"Something is happening before the function is called.\")\n",
    "        func()\n",
    "        print(\"Something is happening after the function is called.\")\n",
    "    return wrapper\n",
    "\n",
    "@my_decorator\n",
    "def say_whee():\n",
    "    print(\"Whee!\")"
   ]
  },
  {
   "cell_type": "code",
   "execution_count": 4,
   "metadata": {},
   "outputs": [
    {
     "name": "stdout",
     "output_type": "stream",
     "text": [
      "Something is happening before the function is called.\n",
      "Whee!\n",
      "Something is happening after the function is called.\n"
     ]
    }
   ],
   "source": [
    "say_whee()"
   ]
  },
  {
   "cell_type": "markdown",
   "metadata": {},
   "source": [
    "# Classes and Objects\n",
    "\n",
    "Old school object-oriented programming is possible and often used in python. Classes are defined similarly to standard object-oriented languages, with similar functionalities.\n",
    "\n",
    "The main python doc [page](https://docs.python.org/3.6/tutorial/classes.html) is worth reading through "
   ]
  },
  {
   "cell_type": "code",
   "execution_count": null,
   "metadata": {},
   "outputs": [],
   "source": [
    "class Pet:\n",
    "    # the \"constructor\"\n",
    "    def __init__(self, name, age):  #inizialize the elements of the class\n",
    "        self.name=name\n",
    "        self.age=age\n",
    "    # class functions take the \"self\" parameter !!!\n",
    "    def set_name(self,name):\n",
    "        self.name=name\n",
    "    def convert_age(self,factor):\n",
    "        self.age*=factor\n",
    "\n",
    "buddy=Pet(\"buddy\",12)\n",
    "print (buddy.name, buddy.age)\n",
    "buddy.age=3\n",
    "print (buddy.age)\n",
    "\n"
   ]
  },
  {
   "cell_type": "code",
   "execution_count": null,
   "metadata": {},
   "outputs": [],
   "source": [
    "# ineritance is straightforward\n",
    "class Dog(Pet):\n",
    "    # the following variables is \"global\", i.e. holds for all \"Dog\" objects\n",
    "    species = \"mammal\"\n",
    "    # functions can be redefined as usual\n",
    "    def convert_age(self):\n",
    "        self.age*=7\n",
    "    def set_species(self, species):\n",
    "        self.species = species\n",
    "        \n",
    "puppy=Dog(\"tobia\",10)\n",
    "print(puppy.name)\n",
    "puppy.convert_age()\n",
    "print(puppy.age)\n",
    "\n"
   ]
  }
 ],
 "metadata": {
  "kernelspec": {
   "display_name": "Python 3",
   "language": "python",
   "name": "python3"
  },
  "language_info": {
   "codemirror_mode": {
    "name": "ipython",
    "version": 3
   },
   "file_extension": ".py",
   "mimetype": "text/x-python",
   "name": "python",
   "nbconvert_exporter": "python",
   "pygments_lexer": "ipython3",
   "version": "3.8.8"
  }
 },
 "nbformat": 4,
 "nbformat_minor": 2
}
