{
 "cells": [
  {
   "cell_type": "code",
   "execution_count": 4,
   "id": "d2fde2cc",
   "metadata": {},
   "outputs": [
    {
     "name": "stdout",
     "output_type": "stream",
     "text": [
      "[[ 0  1  2  3]\n",
      " [ 4  5  6  7]\n",
      " [ 8  9 10 11]]\n",
      "\n",
      "\n",
      "row: [4. 5. 6. 7.]\n",
      "column: [1.5 5.5 9.5]\n",
      "Over: 5.5\n"
     ]
    }
   ],
   "source": [
    "#q1\n",
    "\n",
    "\n",
    "\n",
    "import numpy as np\n",
    "\n",
    "num = np.arange(12).reshape((3,4))\n",
    "print( num )\n",
    "print(\"\\n\")\n",
    "\n",
    "roww = num.mean(axis = 0)\n",
    "columnn = num.mean(axis = 1)\n",
    "\n",
    "\n",
    "\n",
    "mean = num.mean()\n",
    "\n",
    "print('row:', roww)\n",
    "print('column:', columnn)\n",
    "print('Over:', mean)\n"
   ]
  },
  {
   "cell_type": "code",
   "execution_count": 6,
   "id": "00f8c3a2",
   "metadata": {},
   "outputs": [
    {
     "name": "stdout",
     "output_type": "stream",
     "text": [
      "[1 3 5 7] [2 4 6 8]\n",
      "\n",
      "\n",
      "1) \n",
      "[[ 2  4  6  8]\n",
      " [ 6 12 18 24]\n",
      " [10 20 30 40]\n",
      " [14 28 42 56]]\n",
      "\n",
      "\n",
      "2) \n",
      "[[ 2  4  6  8]\n",
      " [ 6 12 18 24]\n",
      " [10 20 30 40]\n",
      " [14 28 42 56]]\n",
      "\n",
      "\n",
      "3) \n",
      "[[ 2  4  6  8]\n",
      " [ 6 12 18 24]\n",
      " [10 20 30 40]\n",
      " [14 28 42 56]]\n"
     ]
    }
   ],
   "source": [
    "#q2\n",
    "\n",
    "\n",
    "import numpy as np\n",
    "\n",
    "u = np.array([1,3,5,7])\n",
    "v = np.array([2,4,6,8])\n",
    "\n",
    "print(u, v)\n",
    "print(\"\\n\")\n",
    "\n",
    "\n",
    "print(\"1) \") #first_way\n",
    "num = np.zeros((4,4))\n",
    "print(np.outer(u,v))\n",
    "print(\"\\n\")\n",
    "\n",
    "\n",
    "\n",
    "print(\"2) \") #second_way\n",
    "print(np.array([v*j for j in u]))\n",
    "print(\"\\n\")\n",
    "\n",
    "\n",
    "print(\"3) \") #third_way\n",
    "a = np.array(u[:,np.newaxis])\n",
    "b = print(a*v)"
   ]
  },
  {
   "cell_type": "code",
   "execution_count": 8,
   "id": "2488425a",
   "metadata": {},
   "outputs": [
    {
     "name": "stdout",
     "output_type": "stream",
     "text": [
      "array\n",
      "\n",
      "[[0.25002679 0.74114783 0.83269654 0.88948655 0.94807024 0.        ]\n",
      " [0.34643818 0.52767118 0.30954279 0.64516735 0.80305733 0.34479279]\n",
      " [0.14561568 0.8048705  0.1341934  0.79784679 0.98623453 0.64763753]\n",
      " [0.28772484 0.56353756 0.97654568 0.86522427 0.44583894 0.25931101]\n",
      " [0.24029705 0.56673443 0.         0.37804265 0.39481324 0.40091995]\n",
      " [0.98697335 0.25498606 0.47756738 0.31814788 0.9165934  0.37726453]\n",
      " [0.98048429 0.9279216  0.31639037 0.8913808  0.         0.        ]\n",
      " [0.36754626 0.41096255 0.92065071 0.42266965 0.89057723 0.75069302]\n",
      " [0.92054356 0.69900443 0.57860842 0.82537264 0.51401108 0.56384114]\n",
      " [0.98966186 0.13010003 0.67427902 0.7918135  0.19860338 0.13249757]]\n"
     ]
    }
   ],
   "source": [
    "#q3\n",
    "\n",
    "import numpy as np\n",
    "\n",
    "\n",
    "\n",
    "print(\"array\\n\")\n",
    "number = np.random.random((10,6))\n",
    "number[number <= 0.1] = 0\n",
    "\n",
    "\n",
    "print(number)"
   ]
  },
  {
   "cell_type": "code",
   "execution_count": 10,
   "id": "07095a3e",
   "metadata": {},
   "outputs": [
    {
     "name": "stdout",
     "output_type": "stream",
     "text": [
      "Original:[0.         0.06346652 0.12693304 0.19039955 0.25386607 0.31733259\n",
      " 0.38079911 0.44426563 0.50773215 0.57119866 0.63466518 0.6981317\n",
      " 0.76159822 0.82506474 0.88853126 0.95199777 1.01546429 1.07893081\n",
      " 1.14239733 1.20586385 1.26933037 1.33279688 1.3962634  1.45972992\n",
      " 1.52319644 1.58666296 1.65012947 1.71359599 1.77706251 1.84052903\n",
      " 1.90399555 1.96746207 2.03092858 2.0943951  2.15786162 2.22132814\n",
      " 2.28479466 2.34826118 2.41172769 2.47519421 2.53866073 2.60212725\n",
      " 2.66559377 2.72906028 2.7925268  2.85599332 2.91945984 2.98292636\n",
      " 3.04639288 3.10985939 3.17332591 3.23679243 3.30025895 3.36372547\n",
      " 3.42719199 3.4906585  3.55412502 3.61759154 3.68105806 3.74452458\n",
      " 3.8079911  3.87145761 3.93492413 3.99839065 4.06185717 4.12532369\n",
      " 4.1887902  4.25225672 4.31572324 4.37918976 4.44265628 4.5061228\n",
      " 4.56958931 4.63305583 4.69652235 4.75998887 4.82345539 4.88692191\n",
      " 4.95038842 5.01385494 5.07732146 5.14078798 5.2042545  5.26772102\n",
      " 5.33118753 5.39465405 5.45812057 5.52158709 5.58505361 5.64852012\n",
      " 5.71198664 5.77545316 5.83891968 5.9023862  5.96585272 6.02931923\n",
      " 6.09278575 6.15625227 6.21971879 6.28318531]:\n",
      "\n",
      "Sliced:[0.         0.63466518 1.26933037 1.90399555 2.53866073 3.17332591\n",
      " 3.8079911  4.44265628 5.07732146 5.71198664]:\n",
      "\n",
      "Reverse:[6.28318531 6.21971879 6.15625227 6.09278575 6.02931923 5.96585272\n",
      " 5.9023862  5.83891968 5.77545316 5.71198664 5.64852012 5.58505361\n",
      " 5.52158709 5.45812057 5.39465405 5.33118753 5.26772102 5.2042545\n",
      " 5.14078798 5.07732146 5.01385494 4.95038842 4.88692191 4.82345539\n",
      " 4.75998887 4.69652235 4.63305583 4.56958931 4.5061228  4.44265628\n",
      " 4.37918976 4.31572324 4.25225672 4.1887902  4.12532369 4.06185717\n",
      " 3.99839065 3.93492413 3.87145761 3.8079911  3.74452458 3.68105806\n",
      " 3.61759154 3.55412502 3.4906585  3.42719199 3.36372547 3.30025895\n",
      " 3.23679243 3.17332591 3.10985939 3.04639288 2.98292636 2.91945984\n",
      " 2.85599332 2.7925268  2.72906028 2.66559377 2.60212725 2.53866073\n",
      " 2.47519421 2.41172769 2.34826118 2.28479466 2.22132814 2.15786162\n",
      " 2.0943951  2.03092858 1.96746207 1.90399555 1.84052903 1.77706251\n",
      " 1.71359599 1.65012947 1.58666296 1.52319644 1.45972992 1.3962634\n",
      " 1.33279688 1.26933037 1.20586385 1.14239733 1.07893081 1.01546429\n",
      " 0.95199777 0.88853126 0.82506474 0.76159822 0.6981317  0.63466518\n",
      " 0.57119866 0.50773215 0.44426563 0.38079911 0.31733259 0.25386607\n",
      " 0.19039955 0.12693304 0.06346652 0.        ]:\n",
      "\n",
      "Sin/Cos [0.76159822 0.82506474 3.87145761 3.93492413]\n"
     ]
    },
    {
     "data": {
      "text/plain": [
       "<matplotlib.legend.Legend at 0x182d6d6cb20>"
      ]
     },
     "execution_count": 10,
     "metadata": {},
     "output_type": "execute_result"
    },
    {
     "data": {
      "image/png": "[encoded data removed]",
      "text/plain": [
       "<Figure size 432x288 with 1 Axes>"
      ]
     },
     "metadata": {
      "needs_background": "light"
     },
     "output_type": "display_data"
    }
   ],
   "source": [
    "#q4\n",
    "\n",
    "import matplotlib.pyplot as plt\n",
    "\n",
    "a = np.linspace(0, 2*np.pi, 100)\n",
    "\n",
    "slice = a[ : : 10]\n",
    "\n",
    "reverse = a[ : :-1]\n",
    "\n",
    "d = a[abs(np.sin(a)-np.cos(a))<0.1]\n",
    "\n",
    "\n",
    "#arrays\n",
    "\n",
    "\n",
    "print(\"Original\", a, \"\\n\", sep= \":\")\n",
    "print(\"Sliced\", slice, \"\\n\", sep= \":\")\n",
    "print(\"Reverse\", reverse, \"\\n\", sep= \":\")\n",
    "print(\"Sin/Cos\", d)\n",
    "\n",
    "\n",
    "\n",
    "\n",
    "\n",
    "plt.plot(a, np.sin(a), label = \"Sin\")\n",
    "plt.plot(a, np.cos(a), label = \"Cos\")\n",
    "plt.plot(d, np.cos(d), 'ro', label = \"Close\")\n",
    "plt.plot(d, np.sin(d), 'ro')\n",
    "plt.legend()\n"
   ]
  },
  {
   "cell_type": "code",
   "execution_count": 13,
   "id": "b132a098",
   "metadata": {},
   "outputs": [
    {
     "name": "stdout",
     "output_type": "stream",
     "text": [
      "[[  1.   2.   3.   4.   5.   6.   7.   8.   9.  10.]\n",
      " [  2.   4.   6.   8.  10.  12.  14.  16.  18.  20.]\n",
      " [  3.   6.   9.  12.  15.  18.  21.  24.  27.  30.]\n",
      " [  4.   8.  12.  16.  20.  24.  28.  32.  36.  40.]\n",
      " [  5.  10.  15.  20.  25.  30.  35.  40.  45.  50.]\n",
      " [  6.  12.  18.  24.  30.  36.  42.  48.  54.  60.]\n",
      " [  7.  14.  21.  28.  35.  42.  49.  56.  63.  70.]\n",
      " [  8.  16.  24.  32.  40.  48.  56.  64.  72.  80.]\n",
      " [  9.  18.  27.  36.  45.  54.  63.  72.  81.  90.]\n",
      " [ 10.  20.  30.  40.  50.  60.  70.  80.  90. 100.]]\n",
      "[10. 18. 24. 28. 30. 30. 28. 24. 18. 10.]\n",
      "[ 2.  6. 12. 20. 30. 42. 56. 72. 90.]\n"
     ]
    }
   ],
   "source": [
    "#q5\n",
    "m = np.ones((10,10))\n",
    "\n",
    "\n",
    "\n",
    "\n",
    "for x in range(len(m)) :\n",
    "    for y in range(len(m)) :\n",
    "        m[y][x]=(y+1) * (x+1)\n",
    "print(m)\n",
    "\n",
    "\n",
    "\n",
    "\n",
    "an = np.diag(np.rot90(m))\n",
    "print(an)\n",
    "\n",
    "\n",
    "\n",
    "\n",
    "upward = np.diag(m, k=1)\n",
    "print(upward)\n"
   ]
  },
  {
   "cell_type": "code",
   "execution_count": 14,
   "id": "e2622d65",
   "metadata": {},
   "outputs": [
    {
     "name": "stdout",
     "output_type": "stream",
     "text": [
      " Distances in miles:\n",
      " [[   0  198  303  736  871 1175 1475 1544 1913  448]\n",
      " [ 198    0  105  538  673  977 1277 1346 1715  250]\n",
      " [ 303  105    0  433  568  872 1172 1241 1610  145]\n",
      " [ 736  538  433    0  135  439  739  808 1177  288]\n",
      " [ 871  673  568  135    0  304  604  673 1042  423]\n",
      " [1175  977  872  439  304    0  300  369  738  727]\n",
      " [1475 1277 1172  739  604  300    0   69  438 1027]\n",
      " [1544 1346 1241  808  673  369   69    0  369 1096]\n",
      " [1913 1715 1610 1177 1042  738  438  369    0 1465]\n",
      " [ 448  250  145  288  423  727 1027 1096 1465    0]]\n",
      "Distances in km:\n",
      " [[   0.        318.650112  487.631232 1184.477184 1401.738624 1890.9792\n",
      "  2373.7824   2484.827136 3078.675072  720.986112]\n",
      " [ 318.650112    0.        168.98112   865.827072 1083.088512 1572.329088\n",
      "  2055.132288 2166.177024 2760.02496   402.336   ]\n",
      " [ 487.631232  168.98112     0.        696.845952  914.107392 1403.347968\n",
      "  1886.151168 1997.195904 2591.04384   233.35488 ]\n",
      " [1184.477184  865.827072  696.845952    0.        217.26144   706.502016\n",
      "  1189.305216 1300.349952 1894.197888  463.491072]\n",
      " [1401.738624 1083.088512  914.107392  217.26144     0.        489.240576\n",
      "   972.043776 1083.088512 1676.936448  680.752512]\n",
      " [1890.9792   1572.329088 1403.347968  706.502016  489.240576    0.\n",
      "   482.8032    593.847936 1187.695872 1169.993088]\n",
      " [2373.7824   2055.132288 1886.151168 1189.305216  972.043776  482.8032\n",
      "     0.        111.044736  704.892672 1652.796288]\n",
      " [2484.827136 2166.177024 1997.195904 1300.349952 1083.088512  593.847936\n",
      "   111.044736    0.        593.847936 1763.841024]\n",
      " [3078.675072 2760.02496  2591.04384  1894.197888 1676.936448 1187.695872\n",
      "   704.892672  593.847936    0.       2357.68896 ]\n",
      " [ 720.986112  402.336     233.35488   463.491072  680.752512 1169.993088\n",
      "  1652.796288 1763.841024 2357.68896     0.      ]]\n"
     ]
    }
   ],
   "source": [
    "#q6\n",
    "\n",
    "\n",
    "dis = np.array([0,198,303,736,871,1175,1475,1544,1913,448])\n",
    "grid = np.array(abs(dis-np.array([dis]).T))\n",
    "print(\" Distances in miles:\\n\", grid)\n",
    "m = (grid * 1.609344)\n",
    "print(\"Distances in km:\\n\", m)\n"
   ]
  },
  {
   "cell_type": "code",
   "execution_count": null,
   "id": "8cc4d78a",
   "metadata": {},
   "outputs": [],
   "source": [
    "#"
   ]
  }
 ],
 "metadata": {
  "kernelspec": {
   "display_name": "Python 3",
   "language": "python",
   "name": "python3"
  },
  "language_info": {
   "codemirror_mode": {
    "name": "ipython",
    "version": 3
   },
   "file_extension": ".py",
   "mimetype": "text/x-python",
   "name": "python",
   "nbconvert_exporter": "python",
   "pygments_lexer": "ipython3",
   "version": "3.8.8"
  }
 },
 "nbformat": 4,
 "nbformat_minor": 5
}
