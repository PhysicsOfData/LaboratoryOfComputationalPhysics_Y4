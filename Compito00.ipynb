{
 "cells": [
  {
   "cell_type": "code",
   "execution_count": 42,
   "id": "ed92d2bd",
   "metadata": {
    "scrolled": false
   },
   "outputs": [
    {
     "name": "stdout",
     "output_type": "stream",
     "text": [
      "1\n",
      "2\n",
      "Mickey\n",
      "4\n",
      "Mouse\n",
      "Mickey\n",
      "7\n",
      "8\n",
      "Mickey\n",
      "Mouse\n",
      "11\n",
      "Mickey\n",
      "13\n",
      "14\n",
      "MickeyMouse\n",
      "16\n",
      "17\n",
      "Mickey\n",
      "19\n",
      "Mouse\n",
      "Mickey\n",
      "22\n",
      "23\n",
      "Mickey\n",
      "Mouse\n",
      "26\n",
      "Mickey\n",
      "28\n",
      "29\n",
      "MickeyMouse\n",
      "31\n",
      "32\n",
      "Mickey\n",
      "34\n",
      "Mouse\n",
      "Mickey\n",
      "37\n",
      "38\n",
      "Mickey\n",
      "Mouse\n",
      "41\n",
      "Mickey\n",
      "43\n",
      "44\n",
      "MickeyMouse\n",
      "46\n",
      "47\n",
      "Mickey\n",
      "49\n",
      "Mouse\n",
      "Mickey\n",
      "52\n",
      "53\n",
      "Mickey\n",
      "Mouse\n",
      "56\n",
      "Mickey\n",
      "58\n",
      "59\n",
      "MickeyMouse\n",
      "61\n",
      "62\n",
      "Mickey\n",
      "64\n",
      "Mouse\n",
      "Mickey\n",
      "67\n",
      "68\n",
      "Mickey\n",
      "Mouse\n",
      "71\n",
      "Mickey\n",
      "73\n",
      "74\n",
      "MickeyMouse\n",
      "76\n",
      "77\n",
      "Mickey\n",
      "79\n",
      "Mouse\n",
      "Mickey\n",
      "82\n",
      "83\n",
      "Mickey\n",
      "Mouse\n",
      "86\n",
      "Mickey\n",
      "88\n",
      "89\n",
      "MickeyMouse\n",
      "91\n",
      "92\n",
      "Mickey\n",
      "94\n",
      "Mouse\n",
      "Mickey\n",
      "97\n",
      "98\n",
      "Mickey\n",
      "Mouse\n",
      "(1, 2, 'Donald', 4, 'Duck', 'Donald', 7, 8, 'Donald', 'Duck', 11, 'Donald', 13, 14, 'DonaldDuck', 16, 17, 'Donald', 19, 'Duck', 'Donald', 22, 23, 'Donald', 'Duck', 26, 'Donald', 28, 29, 'DonaldDuck', 31, 32, 'Donald', 34, 'Duck', 'Donald', 37, 38, 'Donald', 'Duck', 41, 'Donald', 43, 44, 'DonaldDuck', 46, 47, 'Donald', 49, 'Duck', 'Donald', 52, 53, 'Donald', 'Duck', 56, 'Donald', 58, 59, 'DonaldDuck', 61, 62, 'Donald', 64, 'Duck', 'Donald', 67, 68, 'Donald', 'Duck', 71, 'Donald', 73, 74, 'DonaldDuck', 76, 77, 'Donald', 79, 'Duck', 'Donald', 82, 83, 'Donald', 'Duck', 86, 'Donald', 88, 89, 'DonaldDuck', 91, 92, 'Donald', 94, 'Duck', 'Donald', 97, 98, 'Donald', 'Duck', 1, 2, 'Donald', 4, 'Duck', 'Donald', 7, 8, 'Donald', 'Duck', 11, 'Donald', 13, 14, 'DonaldDuck', 16, 17, 'Donald', 19, 'Duck', 'Donald', 22, 23, 'Donald', 'Duck', 26, 'Donald', 28, 29, 'DonaldDuck', 31, 32, 'Donald', 34, 'Duck', 'Donald', 37, 38, 'Donald', 'Duck', 41, 'Donald', 43, 44, 'DonaldDuck', 46, 47, 'Donald', 49, 'Duck', 'Donald', 52, 53, 'Donald', 'Duck', 56, 'Donald', 58, 59, 'DonaldDuck', 61, 62, 'Donald', 64, 'Duck', 'Donald', 67, 68, 'Donald', 'Duck', 71, 'Donald', 73, 74, 'DonaldDuck', 76, 77, 'Donald', 79, 'Duck', 'Donald', 82, 83, 'Donald', 'Duck', 86, 'Donald', 88, 89, 'DonaldDuck', 91, 92, 'Donald', 94, 'Duck', 'Donald', 97, 98, 'Donald', 'Duck', 1, 2, 'Donald', 4, 'Duck', 'Donald', 7, 8, 'Donald', 'Duck', 11, 'Donald', 13, 14, 'DonaldDuck', 16, 17, 'Donald', 19, 'Duck', 'Donald', 22, 23, 'Donald', 'Duck', 26, 'Donald', 28, 29, 'DonaldDuck', 31, 32, 'Donald', 34, 'Duck', 'Donald', 37, 38, 'Donald', 'Duck', 41, 'Donald', 43, 44, 'DonaldDuck', 46, 47, 'Donald', 49, 'Duck', 'Donald', 52, 53, 'Donald', 'Duck', 56, 'Donald', 58, 59, 'DonaldDuck', 61, 62, 'Donald', 64, 'Duck', 'Donald', 67, 68, 'Donald', 'Duck', 71, 'Donald', 73, 74, 'DonaldDuck', 76, 77, 'Donald', 79, 'Duck', 'Donald', 82, 83, 'Donald', 'Duck', 86, 'Donald', 88, 89, 'DonaldDuck', 91, 92, 'Donald', 94, 'Duck', 'Donald', 97, 98, 'Donald', 'Duck', 1, 2, 'Donald', 4, 'Duck', 'Donald', 7, 8, 'Donald', 'Duck', 11, 'Donald', 13, 14, 'DonaldDuck', 16, 17, 'Donald', 19, 'Duck', 'Donald', 22, 23, 'Donald', 'Duck', 26, 'Donald', 28, 29, 'DonaldDuck', 31, 32, 'Donald', 34, 'Duck', 'Donald', 37, 38, 'Donald', 'Duck', 41, 'Donald', 43, 44, 'DonaldDuck', 46, 47, 'Donald', 49, 'Duck', 'Donald', 52, 53, 'Donald', 'Duck', 56, 'Donald', 58, 59, 'DonaldDuck', 61, 62, 'Donald', 64, 'Duck', 'Donald', 67, 68, 'Donald', 'Duck', 71, 'Donald', 73, 74, 'DonaldDuck', 76, 77, 'Donald', 79, 'Duck', 'Donald', 82, 83, 'Donald', 'Duck', 86, 'Donald', 88, 89, 'DonaldDuck', 91, 92, 'Donald', 94, 'Duck', 'Donald', 97, 98, 'Donald', 'Duck')\n"
     ]
    }
   ],
   "source": [
    "#Exercise 1\n",
    "\n",
    "for i in range(1,101):\n",
    "    if i%3==0:\n",
    "        if i%5==0:\n",
    "            print(\"MickeyMouse\")\n",
    "            singolo=(\"DonaldDuck\",)\n",
    "        else:\n",
    "            print(\"Mickey\")\n",
    "            singolo=(\"Donald\",)\n",
    "    elif i%5==0:\n",
    "        print(\"Mouse\")\n",
    "        singolo=(\"Duck\",)\n",
    "    else:\n",
    "        singolo=(i,)\n",
    "        print(i)\n",
    "    results=results+singolo\n",
    "    i=+1\n",
    "print(results)"
   ]
  },
  {
   "cell_type": "code",
   "execution_count": 51,
   "id": "767df30f",
   "metadata": {},
   "outputs": [
    {
     "name": "stdout",
     "output_type": "stream",
     "text": [
      "Dammi x: 5\n",
      "Dammi y: 10\n",
      "Ora x vale:  10 e y vale:  5\n"
     ]
    }
   ],
   "source": [
    "#Exercise 2\n",
    "\n",
    "def function(a,b):\n",
    "    x=b\n",
    "    y=a\n",
    "    print(\"Now x is: \",x,\"and y is: \",y)\n",
    "    \n",
    "x=input(\"Give me x: \")\n",
    "y=input(\"Give me y: \")\n",
    "function(x,y)\n",
    "        "
   ]
  },
  {
   "cell_type": "code",
   "execution_count": 60,
   "id": "fb8fdadc",
   "metadata": {},
   "outputs": [
    {
     "name": "stdout",
     "output_type": "stream",
     "text": [
      "Give me x1: 0\n",
      "Give me y1: 0\n",
      "Give me x2: 1\n",
      "Give me y2: 1\n",
      "1.4142135623730951\n"
     ]
    }
   ],
   "source": [
    "#Exercise 3\n",
    "\n",
    "def function(point1,point2):\n",
    "    distance=pow(pow(point1[0]-point2[0],2)+pow(point1[1]-point2[1],2),0.5)\n",
    "    print(distance)\n",
    "    \n",
    "x1=int(input(\"Give me x1: \"))\n",
    "y1=int(input(\"Give me y1: \"))\n",
    "x2=int(input(\"Give me x2: \"))\n",
    "y2=int(input(\"Give me y2: \"))\n",
    "point1=(x1,y1)\n",
    "point2=(x2,y2)\n",
    "function(point1,point2)\n"
   ]
  },
  {
   "cell_type": "code",
   "execution_count": 66,
   "id": "bd946cd0",
   "metadata": {},
   "outputs": [
    {
     "name": "stdout",
     "output_type": "stream",
     "text": [
      "These are the characters in the given string{'w': 2, 'r': 17, 'i': 14, 't': 19, 'e': 22, ' ': 41, 'a': 7, 'p': 8, 'o': 13, 'g': 1, 'm': 12, 'h': 9, 'n': 10, 's': 9, 'u': 9, 'b': 5, 'f': 10, '1': 2, '0': 2, '.': 2, 'l': 6, 'c': 3, 'k': 2, 'y': 2, 'd': 3, 'v': 2}\n"
     ]
    }
   ],
   "source": [
    "#Exercise 4\n",
    "\n",
    "s = \"Write a program that prints the numbers from 1 to 100. \\\n",
    "But for multiples of three print Mickey instead of the number and for the multiples of five print Mouse. \\\n",
    "For numbers which are multiples of both three and five print MickeyMouse\"\n",
    "string=s.lower()\n",
    "Dictionary={}     \n",
    "for char in string: \n",
    "    if char in Dictionary: \n",
    "        Dictionary[char]+=1\n",
    "    else: \n",
    "        Dictionary[char]=1 \n",
    "print (\"These are the characters in the given string\"+ str(Dictionary)) "
   ]
  },
  {
   "cell_type": "code",
   "execution_count": 69,
   "id": "b55c6851",
   "metadata": {},
   "outputs": [
    {
     "name": "stdout",
     "output_type": "stream",
     "text": [
      "There are  37 unique numbers in l and they are:  [58, 74, 96, 64, 10, 24, 19, 33, 86, 99, 18, 47, 88, 55, 54, 8, 79, 81, 57, 37, 1, 9, 95, 90, 98, 39, 16, 82, 92, 41, 30, 94, 5, 72, 87, 75, 53]\n"
     ]
    }
   ],
   "source": [
    "#Exercise 5\n",
    "\n",
    "l = (36, 45, 58, 3, 74, 96, 64, 45, 31, 10, 24, 19, 33, 86, 99, 18, 63, 70, 85,\n",
    " 85, 63, 47, 56, 42, 70, 84, 88, 55, 20, 54, 8, 56, 51, 79, 81, 57, 37, 91,\n",
    " 1, 84, 84, 36, 66, 9, 89, 50, 42, 91, 50, 95, 90, 98, 39, 16, 82, 31, 92, 41,\n",
    " 45, 30, 66, 70, 34, 85, 94, 5, 3, 36, 72, 91, 84, 34, 87, 75, 53, 51, 20, 89, 51, 20)\n",
    "Dictionary1={}\n",
    "list=[]\n",
    "for number in l:\n",
    "    if number in Dictionary1:\n",
    "        Dictionary1[number]+=1\n",
    "    else:\n",
    "        Dictionary1[number]=1\n",
    "for unique in Dictionary1:\n",
    "    if Dictionary1[unique]==1:\n",
    "        list.append(unique)\n",
    "print(\"There are \",len(list),\"unique numbers in l and they are: \",list)\n",
    "        \n"
   ]
  },
  {
   "cell_type": "code",
   "execution_count": 71,
   "id": "989639f3",
   "metadata": {},
   "outputs": [
    {
     "name": "stdout",
     "output_type": "stream",
     "text": [
      "Give me a number: 6\n",
      "The sixth power of the number you gave me is:  46656.0\n"
     ]
    }
   ],
   "source": [
    "#Exercise 6\n",
    "\n",
    "def square(n):\n",
    "    return pow(n,2)\n",
    "def cube(n):\n",
    "    return pow(n,3)\n",
    "def sixth(n2,n3):\n",
    "    return pow(n3/n2,6)\n",
    "\n",
    "n=int(input(\"Give me a number: \"))\n",
    "n2=square(n)\n",
    "n3=cube(n)\n",
    "n6=sixth(n2,n3)\n",
    "print(\"The sixth power of the number you gave me is: \",n6)\n"
   ]
  },
  {
   "cell_type": "code",
   "execution_count": 73,
   "id": "996087f8",
   "metadata": {},
   "outputs": [
    {
     "name": "stdout",
     "output_type": "stream",
     "text": [
      "Metodo1:  [0, 1, 8, 27, 64, 125, 216, 343, 512, 729, 1000] Metodo2:  [0, 1, 8, 27, 64, 125, 216, 343, 512, 729, 1000]\n"
     ]
    }
   ],
   "source": [
    "#Exercise 7\n",
    "\n",
    "Method1=[]\n",
    "for x in range(0,11):\n",
    "    Method1.append(pow(x,3))\n",
    "\n",
    "Method2=[pow(x,3) for x in range(0,11)]\n",
    "\n",
    "print(\"Method1: \",Method1,\"Method2: \",Method2)"
   ]
  },
  {
   "cell_type": "code",
   "execution_count": 100,
   "id": "e571da79",
   "metadata": {},
   "outputs": [
    {
     "name": "stdout",
     "output_type": "stream",
     "text": [
      "Pythagorean triples between 0 and 100 are (it doesnt include permutations, but it includes triples multiple of each others): \n",
      "(3, 4, 5)\n",
      "(5, 12, 13)\n",
      "(6, 8, 10)\n",
      "(7, 24, 25)\n",
      "(8, 15, 17)\n",
      "(9, 12, 15)\n",
      "(9, 40, 41)\n",
      "(10, 24, 26)\n",
      "(11, 60, 61)\n",
      "(12, 16, 20)\n",
      "(12, 35, 37)\n",
      "(13, 84, 85)\n",
      "(14, 48, 50)\n",
      "(15, 20, 25)\n",
      "(15, 36, 39)\n",
      "(16, 30, 34)\n",
      "(16, 63, 65)\n",
      "(18, 24, 30)\n",
      "(18, 80, 82)\n",
      "(20, 21, 29)\n",
      "(20, 48, 52)\n",
      "(21, 28, 35)\n",
      "(21, 72, 75)\n",
      "(24, 32, 40)\n",
      "(24, 45, 51)\n",
      "(24, 70, 74)\n",
      "(25, 60, 65)\n",
      "(27, 36, 45)\n",
      "(28, 45, 53)\n",
      "(30, 40, 50)\n",
      "(30, 72, 78)\n",
      "(32, 60, 68)\n",
      "(33, 44, 55)\n",
      "(33, 56, 65)\n",
      "(35, 84, 91)\n",
      "(36, 48, 60)\n",
      "(36, 77, 85)\n",
      "(39, 52, 65)\n",
      "(39, 80, 89)\n",
      "(40, 42, 58)\n",
      "(40, 75, 85)\n",
      "(42, 56, 70)\n",
      "(45, 60, 75)\n",
      "(48, 55, 73)\n",
      "(48, 64, 80)\n",
      "(51, 68, 85)\n",
      "(54, 72, 90)\n",
      "(57, 76, 95)\n",
      "(60, 63, 87)\n",
      "(65, 72, 97)\n"
     ]
    }
   ],
   "source": [
    "#Exercise 8\n",
    "\n",
    "triples=()\n",
    "for a in range(1,100):\n",
    "    for b in range(a,100):\n",
    "        for c in range(b,100):\n",
    "            if (pow(a,2)+pow(b,2)==pow(c,2)):\n",
    "                triples=(triples)+((a,b,c),)\n",
    "print(\"Pythagorean triples between 0 and 100 are (it doesnt include permutations, but it includes triples multiple of each others): \")\n",
    "for i in range(0,len(triples)):\n",
    "    print(triples[i])\n"
   ]
  },
  {
   "cell_type": "code",
   "execution_count": 142,
   "id": "96b3a8b0",
   "metadata": {},
   "outputs": [
    {
     "name": "stdout",
     "output_type": "stream",
     "text": [
      "How many numbers do you want to enter?2\n",
      "Give me a number: 23\n",
      "Give me a number: 45\n",
      "The normalized vector is:  (0.4551110597891078, 0.8904346821960806)\n"
     ]
    }
   ],
   "source": [
    "#Exercise 9\n",
    "\n",
    "Vector=()\n",
    "\n",
    "def Normalizer(Vector):\n",
    "    Norm=()\n",
    "    squares=0\n",
    "    for i in range(0,len(Vector)):\n",
    "        squares=squares+pow(Vector[i],2)\n",
    "    if squares!=0:\n",
    "        for i in range(0,len(Vector)):\n",
    "            Norm=Norm+(Vector[i]/pow(squares,0.5),)\n",
    "        return Norm\n",
    "    else:\n",
    "        return None\n",
    "\n",
    "N=int(input(\"How many numbers do you want to enter?\" ))\n",
    "for i in range(0,N):\n",
    "    x=int(input(\"Give me a number: \"))\n",
    "    Vector=Vector+(x,)\n",
    "Norm=Normalizer(Vector)    \n",
    "print(\"The normalized vector is: \",Norm)\n",
    "    \n",
    "    \n"
   ]
  },
  {
   "cell_type": "code",
   "execution_count": null,
   "id": "c183d174",
   "metadata": {},
   "outputs": [],
   "source": []
  },
  {
   "cell_type": "code",
   "execution_count": null,
   "id": "817e5f92",
   "metadata": {},
   "outputs": [],
   "source": []
  }
 ],
 "metadata": {
  "kernelspec": {
   "display_name": "Python 3",
   "language": "python",
   "name": "python3"
  },
  "language_info": {
   "codemirror_mode": {
    "name": "ipython",
    "version": 3
   },
   "file_extension": ".py",
   "mimetype": "text/x-python",
   "name": "python",
   "nbconvert_exporter": "python",
   "pygments_lexer": "ipython3",
   "version": "3.8.8"
  }
 },
 "nbformat": 4,
 "nbformat_minor": 5
}
