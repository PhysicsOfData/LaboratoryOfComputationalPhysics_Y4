{
 "cells": [
  {
   "cell_type": "markdown",
   "metadata": {},
   "source": [
    "1\\. Write the following as a list comprehension"
   ]
  },
  {
   "cell_type": "code",
   "execution_count": 2,
   "metadata": {},
   "outputs": [
    {
     "name": "stdout",
     "output_type": "stream",
     "text": [
      "[(0, 0), (0, 1), (0, 2), (0, 3), (1, 0), (1, 1), (1, 2), (1, 3), (2, 0), (2, 1), (2, 2), (2, 3)]\n",
      "[0, 4, 16]\n"
     ]
    }
   ],
   "source": [
    "# 1\n",
    "ans = []\n",
    "for i in range(3):\n",
    "    for j in range(4):\n",
    "        ans.append((i, j))\n",
    "print (ans)\n",
    "\n",
    "# 2\n",
    "ans = map(lambda x: x*x, filter(lambda x: x%2 == 0, range(5)))\n",
    "print (list(ans))\n",
    "\n"
   ]
  },
  {
   "cell_type": "code",
   "execution_count": 3,
   "metadata": {},
   "outputs": [
    {
     "name": "stdout",
     "output_type": "stream",
     "text": [
      "[(0, 0), (0, 1), (0, 2), (0, 3), (1, 0), (1, 1), (1, 2), (1, 3), (2, 0), (2, 1), (2, 2), (2, 3)]\n",
      "[0, 4, 16]\n"
     ]
    }
   ],
   "source": [
    "#1\n",
    "print([(x,y) for x in range(3) for y in range(4)])\n",
    "\n",
    "#2\n",
    "print([x*x for x in range(5) if x%2==0])"
   ]
  },
  {
   "cell_type": "markdown",
   "metadata": {},
   "source": [
    "2\\. Convert the following function into a pure function with no global variables or side effects"
   ]
  },
  {
   "cell_type": "code",
   "execution_count": 4,
   "metadata": {},
   "outputs": [
    {
     "name": "stdout",
     "output_type": "stream",
     "text": [
      "[1, 2, 3, 0, 1, 2, 3, 4]\n",
      "[1, 2, 3, 0, 1, 2, 3, 4]\n"
     ]
    }
   ],
   "source": [
    "x = 5\n",
    "def f(alist):\n",
    "    for i in range(x):\n",
    "         alist.append(i)\n",
    "    return alist\n",
    "\n",
    "alist = [1,2,3]\n",
    "ans = f(alist)\n",
    "print (ans)\n",
    "print (alist) # alist has been changed!"
   ]
  },
  {
   "cell_type": "code",
   "execution_count": 6,
   "metadata": {},
   "outputs": [
    {
     "name": "stdout",
     "output_type": "stream",
     "text": [
      "[1, 2, 3, 0, 1, 2, 3, 4]\n",
      "[1, 2, 3]\n"
     ]
    }
   ],
   "source": [
    "x = 5\n",
    "def f(alist):\n",
    "    for i in range(x):\n",
    "        alist=alist+[i]\n",
    "    return alist\n",
    "\n",
    "alist = [1,2,3]\n",
    "ans = f(alist)\n",
    "print (ans)\n",
    "print (alist)"
   ]
  },
  {
   "cell_type": "markdown",
   "metadata": {},
   "source": [
    "3\\. Write a `decorator` hello that makes every wrapped function print “Hello!”, i.e. something like:\n",
    "\n",
    "```python\n",
    "@hello\n",
    "def square(x):\n",
    "    return x*x\n",
    "```\n",
    "\n"
   ]
  },
  {
   "cell_type": "code",
   "execution_count": 7,
   "metadata": {},
   "outputs": [
    {
     "name": "stdout",
     "output_type": "stream",
     "text": [
      "“Hello!”\n"
     ]
    }
   ],
   "source": [
    "def hello(func):\n",
    "    def wrapper(x):\n",
    "        print('“Hello!”')\n",
    "    return wrapper\n",
    "\n",
    "@hello\n",
    "def square(x):\n",
    "    return x*x\n",
    "square(2)"
   ]
  },
  {
   "cell_type": "markdown",
   "metadata": {},
   "source": [
    "4\\. Write the factorial function so that it a) does and b) does not use recursion."
   ]
  },
  {
   "cell_type": "code",
   "execution_count": 8,
   "metadata": {},
   "outputs": [
    {
     "name": "stdout",
     "output_type": "stream",
     "text": [
      "[1, 1, 2, 6, 24, 120, 720, 5040, 40320, 362880]\n",
      "[1, 1, 2, 6, 24, 120, 720, 5040, 40320, 362880]\n"
     ]
    }
   ],
   "source": [
    "def factorial1(n):\n",
    "    \"\"\"factorial with recursion.\"\"\"\n",
    "    if n==0 or n==1:\n",
    "        return 1\n",
    "    else:\n",
    "        return factorial1(n-1)*n\n",
    "\n",
    "    \n",
    "print ([factorial1(i) for i in range(10)])\n",
    "\n",
    "def factorial2(n):\n",
    "    \"\"\"factorial without recursion.\"\"\"\n",
    "    a, b = 2, 1\n",
    "    for i in range(1, n):\n",
    "        a, b = a+1, a*b\n",
    "    return b\n",
    "print ([factorial2(i) for i in range(10)])"
   ]
  },
  {
   "cell_type": "markdown",
   "metadata": {},
   "source": [
    "5\\. Use HOFs (zip in particular) to compute the weight of a circle, a disk and a sphere, assuming different radii and different densities:\n",
    "\n",
    "```python\n",
    "densities = {\"Al\":[0.5,1,2],\"Fe\":[3,4,5],\"Pb\": [15,20,30]}\n",
    "radii = [1,2,3]\n",
    "```\n",
    "\n",
    "where the entries of the dictionary's values are the linear, superficial and volumetric densities of the materials respectively.\n",
    "\n",
    "In particular define a list of three lambda functions using a comprehension that computes the circumference, the area and the volume for a given radius.\n"
   ]
  },
  {
   "cell_type": "code",
   "execution_count": 1,
   "metadata": {},
   "outputs": [
    {
     "name": "stdout",
     "output_type": "stream",
     "text": [
      "weight for linear density for Al respect to list of radii is: [3.141592653589793, 6.283185307179586, 9.42477796076938] \n",
      "\n",
      "weight for linear density for Fe respect to list of radii is: [18.84955592153876, 37.69911184307752, 56.548667764616276] \n",
      "\n",
      "weight for linear density for Pb respect to list of radii is: [94.24777960769379, 188.49555921538757, 282.7433388230814] \n",
      "\n",
      "weight for superficial density for Al respect to list of radii is: [3.141592653589793, 12.566370614359172, 28.274333882308138] \n",
      "\n",
      "weight for superficial density for Fe respect to list of radii is: [12.566370614359172, 50.26548245743669, 113.09733552923255] \n",
      "\n",
      "weight for superficial density for Pb respect to list of radii is: [62.83185307179586, 251.32741228718345, 565.4866776461628] \n",
      "\n",
      "weight for volumetric density for Al respect to list of radii is: [8.377580409572781, 67.02064327658225, 226.1946710584651] \n",
      "\n",
      "weight for volumetric density for Fe respect to list of radii is: [20.94395102393195, 167.5516081914556, 565.4866776461628] \n",
      "\n",
      "weight for volumetric density for Pb respect to list of radii is: [125.66370614359171, 1005.3096491487337, 3392.9200658769764] \n",
      "\n"
     ]
    }
   ],
   "source": [
    "import math\n",
    "from math import pi\n",
    "\n",
    "densities = {\"Al\":[0.5,1,2],\"Fe\":[3,4,5],\"Pb\": [15,20,30]}\n",
    "radii = [1,2,3]\n",
    "lsv=[(lambda r: 2*pi*r),(lambda r: pi*r*r),(lambda r: 4/3*pi*r*r*r)]\n",
    "\n",
    "type_m=[\"Al\",\"Fe\",\"Pb\"]\n",
    "type_d=[\"linear\",\"superficial\",\"volumetric\"]\n",
    "densities_type=[[],[],[]]\n",
    "lsv_r=[[],[],[]]\n",
    "\n",
    "for i in range(3):\n",
    "    for material in densities:\n",
    "        densities_type[i]=densities_type[i]+[densities[material][i]]        \n",
    "for j in range(3):\n",
    "        lsv_r[j]=lsv_r[j]+[i  for i in map(lsv[j], radii)]  \n",
    "def cros(x,y,n):\n",
    "    for i in range(3):\n",
    "        weight=[]\n",
    "        for j in range(3):\n",
    "            weight=weight+[x[j]*y[i]]    \n",
    "        print(\"weight for\",type_d[n],\"density for\",type_m[i],\"respect to list of radii is:\" ,weight,\"\\n\")\n",
    "n=0        \n",
    "for x,y in zip (lsv_r,densities_type):\n",
    "    cros(x,y,n)\n",
    "    n=n+1\n"
   ]
  },
  {
   "cell_type": "markdown",
   "metadata": {},
   "source": [
    "6\\. Edit the class defintion to add an instance attribute of is_hungry = True to the Dog class. Then add a method called eat() which changes the value of is_hungry to False when called. Figure out the best way to feed each dog and then output “My dogs are hungry.” if all are hungry or “My dogs are not hungry.” if all are not hungry. The final output should look like this:\n",
    "\n",
    "`I have 3 dogs. \n",
    "Tom is 6. \n",
    "Fletcher is 7. \n",
    "Larry is 9. \n",
    "And they're all mammals, of course. \n",
    "My dogs are not hungry.\n",
    "`\n",
    "\n",
    "```python\n",
    "# Parent class\n",
    "class Dog:\n",
    "\n",
    "    # Class attribute\n",
    "    species = 'mammal'\n",
    "\n",
    "    # Initializer / Instance attributes\n",
    "    def __init__(self, name, age):\n",
    "        self.name = name\n",
    "        self.age = age\n",
    "\n",
    "    # instance method\n",
    "    def description(self):\n",
    "        return \"{} is {} years old\".format(self.name, self.age)\n",
    "\n",
    "    # instance method\n",
    "    def speak(self, sound):\n",
    "        return \"{} says {}\".format(self.name, sound)\n",
    "\n",
    "# Child class (inherits from Dog class)\n",
    "class RussellTerrier(Dog):\n",
    "    def run(self, speed):\n",
    "        return \"{} runs {}\".format(self.name, speed)\n",
    "\n",
    "# Child class (inherits from Dog class)\n",
    "class Bulldog(Dog):\n",
    "    def run(self, speed):\n",
    "        return \"{} runs {}\".format(self.name, speed)\n",
    "```"
   ]
  },
  {
   "cell_type": "code",
   "execution_count": 1,
   "metadata": {},
   "outputs": [
    {
     "name": "stdout",
     "output_type": "stream",
     "text": [
      "I have 3 dogs\n",
      "Tom is 6.\n",
      "Fletcher is 7.\n",
      "Larry is 9.\n",
      "And they're all mammals, of course.\n",
      "My dogs are not hungry.\n"
     ]
    }
   ],
   "source": [
    "class Dog:\n",
    "\n",
    "    # Class attribute\n",
    "    species = 'mammal'\n",
    "\n",
    "    # Initializer / Instance attributes\n",
    "    def __init__(self, name, age):\n",
    "        self.name = name\n",
    "        self.age = age\n",
    "        is_hungry = True\n",
    "              \n",
    "    def eat(self):\n",
    "        self.is_hungry = False\n",
    "        \n",
    "food=0 \n",
    "dog_l=[(\"Tom\",6),(\"Fletcher\",7),(\"Larry\",9)]\n",
    "print(\"I have\",len(dog_l),\"dogs\")\n",
    "\n",
    "for i in range(len(dog_l)):\n",
    "    a=Dog(dog_l[i][0],dog_l[i][1])\n",
    "    print(\"{} is {}.\".format(a.name, a.age))\n",
    "    a.eat()\n",
    "    if a.is_hungry is False:\n",
    "        food=food+1 \n",
    "        \n",
    "print(\"And they're all {}s, of course.\".format(Dog(dog_l[1][0],dog_l[1][1]).species)) \n",
    "if food==3:\n",
    "    print(\"My dogs are not hungry.\")\n",
    "elif food==0:\n",
    "    print(\"My dogs are hungry.\")"
   ]
  },
  {
   "cell_type": "code",
   "execution_count": null,
   "metadata": {},
   "outputs": [],
   "source": []
  }
 ],
 "metadata": {
  "kernelspec": {
   "display_name": "Python 3",
   "language": "python",
   "name": "python3"
  },
  "language_info": {
   "codemirror_mode": {
    "name": "ipython",
    "version": 3
   },
   "file_extension": ".py",
   "mimetype": "text/x-python",
   "name": "python",
   "nbconvert_exporter": "python",
   "pygments_lexer": "ipython3",
   "version": "3.8.8"
  }
 },
 "nbformat": 4,
 "nbformat_minor": 2
}
