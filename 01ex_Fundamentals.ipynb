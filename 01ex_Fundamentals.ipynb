{
 "cells": [
  {
   "cell_type": "markdown",
   "metadata": {},
   "source": [
    "1\\. Write the following as a list comprehension"
   ]
  },
  {
   "cell_type": "code",
   "execution_count": 1,
   "metadata": {},
   "outputs": [
    {
     "name": "stdout",
     "output_type": "stream",
     "text": [
      "[(0, 0), (0, 1), (0, 2), (0, 3), (1, 0), (1, 1), (1, 2), (1, 3), (2, 0), (2, 1), (2, 2), (2, 3)]\n",
      "[0, 4, 16]\n"
     ]
    }
   ],
   "source": [
    "# 1\n",
    "ans = []\n",
    "for i in range(3):\n",
    "    for j in range(4):\n",
    "        ans.append((i, j))\n",
    "print (ans)\n",
    "\n",
    "# 2\n",
    "ans = map(lambda x: x*x, filter(lambda x: x%2 == 0, range(5)))\n",
    "print (list(ans))\n",
    "\n"
   ]
  },
  {
   "cell_type": "markdown",
   "metadata": {},
   "source": [
    "2\\. Convert the following function into a pure function with no global variables or side effects"
   ]
  },
  {
   "cell_type": "code",
   "execution_count": 2,
   "metadata": {},
   "outputs": [
    {
     "name": "stdout",
     "output_type": "stream",
     "text": [
      "[1, 2, 3]\n",
      "[1, 2, 3, 0, 1, 2, 3, 4]\n",
      "[1, 2, 3]\n"
     ]
    }
   ],
   "source": [
    "x = 5\n",
    "def f(alist,x):\n",
    "    blist = [] + alist\n",
    "    for i in range(x):\n",
    "        blist.append(i)\n",
    "    return blist\n",
    "\n",
    "alist = [1,2,3]\n",
    "print(alist)\n",
    "ans = f(alist,x)\n",
    "print(ans)\n",
    "print(alist)"
   ]
  },
  {
   "cell_type": "markdown",
   "metadata": {},
   "source": [
    "3\\. Write a `decorator` hello that makes every wrapped function print “Hello!”, i.e. something like:\n",
    "\n",
    "```python\n",
    "@hello\n",
    "def square(x):\n",
    "    return x*x\n",
    "```\n",
    "\n"
   ]
  },
  {
   "cell_type": "code",
   "execution_count": 3,
   "metadata": {},
   "outputs": [
    {
     "name": "stdout",
     "output_type": "stream",
     "text": [
      "Hello!\n",
      "The function has been called\n",
      "4\n"
     ]
    }
   ],
   "source": [
    "def hello(func):\n",
    "    def wrapper(x):\n",
    "        print(\"Hello!\")\n",
    "        y = func(x)\n",
    "        print(\"The function has been called\")\n",
    "        return y\n",
    "    return wrapper\n",
    "\n",
    "@hello\n",
    "def square(x):\n",
    "    return x*x\n",
    "    \n",
    "\n",
    "print(square(2))"
   ]
  },
  {
   "cell_type": "markdown",
   "metadata": {},
   "source": [
    "4\\. Write the factorial function so that it a) does and b) does not use recursion."
   ]
  },
  {
   "cell_type": "code",
   "execution_count": 4,
   "metadata": {},
   "outputs": [
    {
     "name": "stdout",
     "output_type": "stream",
     "text": [
      "120\n",
      "120\n"
     ]
    }
   ],
   "source": [
    "# a)\n",
    "\n",
    "def factorial(n): # it tests if the input is an integer\n",
    "    if type(n) != int:\n",
    "        print(\"the input number isn't an integer\")\n",
    "        return\n",
    "    elif n == 0 or n == 1:\n",
    "        return 1\n",
    "    else:    \n",
    "        return n*factorial(n-1)\n",
    "    \n",
    "print(factorial(5))\n",
    "\n",
    "# b)\n",
    "\n",
    "def factorial(n):\n",
    "    if type(n) != int:\n",
    "        print(\"the input number isn't an integer\")\n",
    "        return    \n",
    "    elif n == 0 or n == 1:\n",
    "        return 1\n",
    "    else:\n",
    "        res = n\n",
    "        for i in range(1,n):\n",
    "            res *= n-i   \n",
    "        return res\n",
    "\n",
    "print(factorial(5))"
   ]
  },
  {
   "cell_type": "markdown",
   "metadata": {},
   "source": [
    "5\\. Use HOFs (zip in particular) to compute the weight of a circle, a disk and a sphere, assuming different radii and different densities:\n",
    "\n",
    "```python\n",
    "densities = {\"Al\":[0.5,1,2],\"Fe\":[3,4,5],\"Pb\": [15,20,30]}\n",
    "radii = [1,2,3]\n",
    "```\n",
    "\n",
    "where the entries of the dictionary's values are the linear, superficial and volumetric densities of the materials respectively.\n",
    "\n",
    "In particular define a list of three lambda functions using a comprehension that computes the circumference, the area and the volume for a given radius.\n"
   ]
  },
  {
   "cell_type": "code",
   "execution_count": 5,
   "metadata": {},
   "outputs": [
    {
     "name": "stdout",
     "output_type": "stream",
     "text": [
      "Per Al: raggio= 1  denistà=  0.5 Circonferenza=  6.283185307179586 Peso=  3.141592653589793\n",
      "Per Al: raggio= 2  denistà=  1 Area=  12.566370614359172 Peso=  12.566370614359172\n",
      "Per Al: raggio= 3  denistà=  2 Volume=  113.09733552923254 Peso=  226.19467105846508\n",
      "Per Fe: raggio= 1  denistà=  3 Circonferenza=  6.283185307179586 Peso=  18.84955592153876\n",
      "Per Fe: raggio= 2  denistà=  4 Area=  12.566370614359172 Peso=  50.26548245743669\n",
      "Per Fe: raggio= 3  denistà=  5 Volume=  113.09733552923254 Peso=  565.4866776461627\n",
      "Per Pb: raggio= 1  denistà=  15 Circonferenza=  6.283185307179586 Peso=  94.24777960769379\n",
      "Per Pb: raggio= 2  denistà=  20 Area=  12.566370614359172 Peso=  251.32741228718345\n",
      "Per Pb: raggio= 3  denistà=  30 Volume=  113.09733552923254 Peso=  3392.920065876976\n"
     ]
    }
   ],
   "source": [
    "import math\n",
    "\n",
    "densita = {\"Al\":[0.5,1,2],\"Fe\":[3,4,5],\"Pb\": [15,20,30]}\n",
    "nome=['Circonferenza= ','Area= ','Volume= ']\n",
    "raggio = [1,2,3]\n",
    "const=(2,1,4/3)\n",
    "tipi=(\"Al\",\"Fe\",\"Pb\")\n",
    "\n",
    "lam=[lambda x: 2*math.pi*x, lambda x: math.pi*(x**2), lambda x: (4/3)*math.pi*(x**3)]\n",
    "\n",
    "for l,rad, d,n in zip(lam,raggio,densita['Al'],nome):\n",
    "    print('Per Al: raggio=',rad, ' densità= ', d, n,l(rad), 'peso= ',l(rad)*d)\n",
    "\n",
    "for l,rad, d,n in zip(lam,raggio,densita['Fe'],nome):\n",
    "    print('Per Fe: raggio=',rad, ' densità= ', d, n,l(rad), 'peso= ',l(rad)*d)\n",
    "\n",
    "for l,rad, d,n in zip(lam,raggio,densita['Pb'],nome):\n",
    "    print('Per Pb: raggio=',rad, ' densità= ', d, n,l(rad), 'peso= ',l(rad)*d)"
   ]
  },
  {
   "cell_type": "markdown",
   "metadata": {},
   "source": [
    "6\\. Edit the class defintion to add an instance attribute of is_hungry = True to the Dog class. Then add a method called eat() which changes the value of is_hungry to False when called. Figure out the best way to feed each dog and then output “My dogs are hungry.” if all are hungry or “My dogs are not hungry.” if all are not hungry. The final output should look like this:\n",
    "\n",
    "`I have 3 dogs. \n",
    "Tom is 6. \n",
    "Fletcher is 7. \n",
    "Larry is 9. \n",
    "And they're all mammals, of course. \n",
    "My dogs are not hungry.\n",
    "`\n",
    "\n",
    "```python\n",
    "# Parent class\n",
    "class Dog:\n",
    "\n",
    "    # Class attribute\n",
    "    species = 'mammal'\n",
    "\n",
    "    # Initializer / Instance attributes\n",
    "    def __init__(self, name, age):\n",
    "        self.name = name\n",
    "        self.age = age\n",
    "\n",
    "    # instance method\n",
    "    def description(self):\n",
    "        return \"{} is {} years old\".format(self.name, self.age)\n",
    "\n",
    "    # instance method\n",
    "    def speak(self, sound):\n",
    "        return \"{} says {}\".format(self.name, sound)\n",
    "\n",
    "# Child class (inherits from Dog class)\n",
    "class RussellTerrier(Dog):\n",
    "    def run(self, speed):\n",
    "        return \"{} runs {}\".format(self.name, speed)\n",
    "\n",
    "# Child class (inherits from Dog class)\n",
    "class Bulldog(Dog):\n",
    "    def run(self, speed):\n",
    "        return \"{} runs {}\".format(self.name, speed)\n",
    "```"
   ]
  },
  {
   "cell_type": "code",
   "execution_count": 6,
   "metadata": {},
   "outputs": [
    {
     "name": "stdout",
     "output_type": "stream",
     "text": [
      "I have 4 dogs.\n",
      "Fletcher is 6 years old\n",
      "Larry is 9 years old\n",
      "Dan is 5 years old\n",
      "Tom is 1 years old\n",
      "And they are mammals, of course\n",
      "My dogs are not hungry\n"
     ]
    }
   ],
   "source": [
    "# Parent class\\n\",\n",
    "class Dog:\n",
    "\n",
    "# Class attribute\\n\",\n",
    "    species = 'mammal'\n",
    "    is_hungry= True\n",
    "    number=0\n",
    "    all_dog=True\n",
    "\n",
    "    # Initializer / Instance attributes\\n\",\n",
    "    def __init__(self, name, age):\n",
    "        self.name = name\n",
    "        self.age = age\n",
    "        Dog.number+=1\n",
    "\n",
    "    # instance method\n",
    "    def description(self):\n",
    "        return \"{} is {} years old\".format(self.name, self.age)\n",
    "\n",
    "    # instance method\\n\",\n",
    "    def speak(self, sound):\n",
    "        return \"{} says {}\".format(self.name, sound)\n",
    "\n",
    "    def eat(self):\n",
    "        self.is_hungry=False\n",
    "        Dog.all_dog=False\n",
    "\n",
    "    def give_food():\n",
    "        if Dog.all_dog==True:\n",
    "            answ=' not '\n",
    "        else:\n",
    "            answ=' '\n",
    "        return('My dogs are{}hungry'.format(answ))\n",
    "\n",
    "# Child class (inherits from Dog class)\n",
    "class RussellTerrier(Dog):\n",
    "    def run(self, speed):\n",
    "        return \"{} runs {}\".format(self.name, speed)\n",
    "\n",
    "# Child class (inherits from Dog class)\n",
    "class Bulldog(Dog):\n",
    "    def run(self, speed):\n",
    "        return \"{} runs {}\".format(self.name, speed)\n",
    "\n",
    "d=[Bulldog('Fletcher',6),RussellTerrier('Larry',9),Bulldog('Dan',5),RussellTerrier('Tom',1)]\n",
    "\n",
    "print('I have %.i dogs.'%Dog.number)\n",
    "for doggy in d:\n",
    "    print(doggy.description())\n",
    "\n",
    "print('And they are',Dog.species+'s,','of course')\n",
    "print(Dog.give_food())"
   ]
  },
  {
   "cell_type": "code",
   "execution_count": null,
   "metadata": {},
   "outputs": [],
   "source": []
  }
 ],
 "metadata": {
  "kernelspec": {
   "display_name": "Python 3",
   "language": "python",
   "name": "python3"
  },
  "language_info": {
   "codemirror_mode": {
    "name": "ipython",
    "version": 3
   },
   "file_extension": ".py",
   "mimetype": "text/x-python",
   "name": "python",
   "nbconvert_exporter": "python",
   "pygments_lexer": "ipython3",
   "version": "3.8.8"
  }
 },
 "nbformat": 4,
 "nbformat_minor": 2
}
