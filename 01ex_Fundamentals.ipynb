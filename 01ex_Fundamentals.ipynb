{
 "cells": [
  {
   "cell_type": "markdown",
   "metadata": {},
   "source": [
    "1\\. Write the following as a list comprehension"
   ]
  },
  {
   "cell_type": "code",
   "execution_count": 26,
   "metadata": {
    "scrolled": true
   },
   "outputs": [
    {
     "name": "stdout",
     "output_type": "stream",
     "text": [
      "[(0, 0), (0, 1), (0, 2), (0, 3), (1, 0), (1, 1), (1, 2), (1, 3), (2, 0), (2, 1), (2, 2), (2, 3)]\n",
      "[(0, 0), (0, 1), (0, 2), (0, 3), (1, 0), (1, 1), (1, 2), (1, 3), (2, 0), (2, 1), (2, 2), (2, 3)]\n",
      "[0, 4, 16]\n",
      "[0, 4, 16]\n"
     ]
    }
   ],
   "source": [
    "# 1\n",
    "ans = []\n",
    "for i in range(3):\n",
    "    for j in range(4):\n",
    "        ans.append((i, j))\n",
    "print (ans)\n",
    "\n",
    "#ans 1\n",
    "newlist =[(x,y) for x in range(3) for y in range(4)]\n",
    "print (newlist)\n",
    "\n",
    "\n",
    "# 2\n",
    "ans = map(lambda x: x*x, filter(lambda x: x%2 == 0, range(5)))\n",
    "print (list(ans))\n",
    "\n",
    "#ans 2\n",
    "lc=[i**2 for i in range(5) if i%2==0]\n",
    "print(lc)\n"
   ]
  },
  {
   "cell_type": "markdown",
   "metadata": {},
   "source": [
    "2\\. Convert the following function into a pure function with no global variables or side effects"
   ]
  },
  {
   "cell_type": "code",
   "execution_count": 29,
   "metadata": {},
   "outputs": [
    {
     "name": "stdout",
     "output_type": "stream",
     "text": [
      "[0, 1, 2, 3, 4]\n",
      "[1, 2, 3]\n"
     ]
    }
   ],
   "source": [
    "x = 5\n",
    "# there are 2 ways for this ex:\n",
    "#ans 1:\n",
    "\n",
    "'''\n",
    "def f(alist):\n",
    "    k=[]\n",
    "    for i in range(x):\n",
    "         k.append(i)\n",
    "    alist=k\n",
    "    return alist\n",
    "'''\n",
    "#ans 2:\n",
    "\n",
    "def f(alist):\n",
    "    alist=[i for i in range(x)]\n",
    "    return alist\n",
    "\n",
    "alist = [1,2,3]\n",
    "ans = f(alist)\n",
    "print (ans)\n",
    "print (alist) # alist has been changed!"
   ]
  },
  {
   "cell_type": "markdown",
   "metadata": {},
   "source": [
    "3\\. Write a `decorator` hello that makes every wrapped function print “Hello!”, i.e. something like:\n",
    "\n",
    "```python\n",
    "@hello\n",
    "def square(x):\n",
    "    return x*x\n",
    "```\n",
    "\n"
   ]
  },
  {
   "cell_type": "code",
   "execution_count": 111,
   "metadata": {},
   "outputs": [
    {
     "name": "stdout",
     "output_type": "stream",
     "text": [
      "64\n",
      "Hello!\n"
     ]
    }
   ],
   "source": [
    "def hello(func):\n",
    "    def wrapper(x):\n",
    "        print(func(x))\n",
    "        print(\"Hello!\")\n",
    "    return wrapper\n",
    "\n",
    "@hello\n",
    "\n",
    "def square(x):\n",
    "    return x*x\n",
    "\n",
    "square(8)\n",
    "\n"
   ]
  },
  {
   "cell_type": "markdown",
   "metadata": {},
   "source": [
    "4\\. Write the factorial function so that it a) does and b) does not use recursion."
   ]
  },
  {
   "cell_type": "code",
   "execution_count": 33,
   "metadata": {},
   "outputs": [
    {
     "name": "stdout",
     "output_type": "stream",
     "text": [
      "24\n",
      "5.15 µs ± 80.6 ns per loop (mean ± std. dev. of 7 runs, 100000 loops each)\n"
     ]
    }
   ],
   "source": [
    "#a\n",
    "def fac(n):\n",
    "    if n==1:\n",
    "        return 1\n",
    "    else:\n",
    "        return n*fac(n-1)\n",
    "print(fac(4))\n",
    "\n",
    "%timeit fac(20)"
   ]
  },
  {
   "cell_type": "code",
   "execution_count": 60,
   "metadata": {},
   "outputs": [
    {
     "name": "stdout",
     "output_type": "stream",
     "text": [
      "24\n",
      "2.26 µs ± 24.8 ns per loop (mean ± std. dev. of 7 runs, 100000 loops each)\n"
     ]
    }
   ],
   "source": [
    "#b\n",
    "def factorial(n) :\n",
    "    a=1\n",
    "    for i in range(1,n+1) :\n",
    "        a=a*i \n",
    "    return a\n",
    "\n",
    "print(factorial(4))\n",
    "%timeit factorial(20)\n",
    "\n",
    "#this is faster!"
   ]
  },
  {
   "cell_type": "markdown",
   "metadata": {},
   "source": [
    "5\\. Use HOFs (zip in particular) to compute the weight of a circle, a disk and a sphere, assuming different radii and different densities:\n",
    "\n",
    "```python\n",
    "densities = {\"Al\":[0.5,1,2],\"Fe\":[3,4,5],\"Pb\": [15,20,30]}\n",
    "radii = [1,2,3]\n",
    "```\n",
    "\n",
    "where the entries of the dictionary's values are the linear, superficial and volumetric densities of the materials respectively.\n",
    "\n",
    "In particular define a list of three lambda functions using a comprehension that computes the circumference, the area and the volume for a given radius.\n"
   ]
  },
  {
   "cell_type": "code",
   "execution_count": 47,
   "metadata": {},
   "outputs": [
    {
     "name": "stdout",
     "output_type": "stream",
     "text": [
      "al circle: 3.141592653589793 for r= 1\n",
      "al circle: 6.283185307179586 for r= 2\n",
      "al circle: 9.42477796076938 for r= 3\n",
      "fe circle: 18.84955592153876 for= 1\n",
      "fe circle: 37.69911184307752 for= 2\n",
      "fe circle: 56.548667764616276 for= 3\n",
      "pb circle: 94.24777960769379 for= 1\n",
      "pb circle: 188.49555921538757 for= 2\n",
      "pb circle: 282.7433388230814 for= 3\n",
      "al disk: 1.5707963267948966 for r= 1\n",
      "al disk: 6.283185307179586 for r= 2\n",
      "al disk: 14.137166941154069 for r= 3\n",
      "fe disk: 9.42477796076938 for r= 1\n",
      "fe disk: 37.69911184307752 for r= 2\n",
      "fe disk: 84.82300164692441 for r= 3\n",
      "pb disk: 47.12388980384689 for r= 1\n",
      "pb disk: 188.49555921538757 for r= 2\n",
      "pb disk: 424.11500823462205 for r= 3\n",
      "al sphere: 2.0943951023931953 for r= 1\n",
      "al sphere: 16.755160819145562 for r= 2\n",
      "al sphere: 56.548667764616276 for r= 3\n",
      "fe sphere: 12.566370614359172 for r= 1\n",
      "fe sphere: 100.53096491487338 for r= 2\n",
      "fe sphere: 339.29200658769764 for r= 3\n",
      "pb sphere: 62.831853071795855 for r= 1\n",
      "pb sphere: 502.65482457436684 for r= 2\n",
      "pb sphere: 1696.4600329384882 for r= 3\n"
     ]
    }
   ],
   "source": [
    "#part 1\n",
    "\n",
    "densities = {\"Al\":[0.5,1,2],\"Fe\":[3,4,5],\"Pb\": [15,20,30]}\n",
    "radii =[1,2,3]\n",
    "import math\n",
    "\n",
    "def lin(x):\n",
    "    return x*2*math.pi\n",
    "def sup(x):\n",
    "    return x*x*math.pi\n",
    "def vol(x):\n",
    "    return 4/3*x*x*x*math.pi\n",
    "\n",
    "a=0\n",
    "for al, fe, pb in zip(densities['Al'], densities['Fe'], densities['Pb']):\n",
    "    if a==0:\n",
    "        for i,j in zip(map(lin,radii),radii):print('al circle:',i*al,'for r=',j)\n",
    "        for i,j in zip(map(lin,radii),radii):print('fe circle:',i*fe,'for=',j)\n",
    "        for i,j in zip(map(lin,radii),radii):print('pb circle:',i*pb,'for=',j)\n",
    "        a+=1\n",
    "        pass\n",
    "    if a==1:\n",
    "        for i,j in zip(map(sup,radii),radii):print('al disk:',i*al,'for r=',j)\n",
    "        for i,j in zip(map(sup,radii),radii):print('fe disk:',i*fe,'for r=',j)\n",
    "        for i,j in zip(map(sup,radii),radii):print('pb disk:',i*pb,'for r=',j)\n",
    "        a+=1\n",
    "        pass\n",
    "    if a==2:\n",
    "        for i,j in zip(map(vol,radii),radii):print('al sphere:',i*al,'for r=',j)\n",
    "        for i,j in zip(map(vol,radii),radii):print('fe sphere:',i*fe,'for r=',j)\n",
    "        for i,j in zip(map(vol,radii),radii):print('pb sphere:',i*pb,'for r=',j)\n",
    "        a+=1\n",
    "        pass"
   ]
  },
  {
   "cell_type": "code",
   "execution_count": 51,
   "metadata": {},
   "outputs": [
    {
     "name": "stdout",
     "output_type": "stream",
     "text": [
      "6.283185307179586\n",
      "12.566370614359172\n",
      "18.84955592153876\n",
      "3.141592653589793\n",
      "12.566370614359172\n",
      "28.274333882308138\n",
      "4.1887902047863905\n",
      "33.510321638291124\n",
      "113.09733552923255\n"
     ]
    }
   ],
   "source": [
    "#part 1 (second way)\n",
    "'''\n",
    "densities = {\"Al\":[0.5,1,2],\"Fe\":[3,4,5],\"Pb\": [15,20,30]}\n",
    "radii =[1,2,3]\n",
    "import math\n",
    "a=0\n",
    "for al, fe, pb in zip(densities['Al'], densities['Fe'], densities['Pb']):\n",
    "    if a==0:\n",
    "        for i in map (lambda x : x*2*math.pi*al, radii):print ('al circle:',i)\n",
    "        for i in map (lambda x : x*2*math.pi*fe, radii):print ('fe circle:',i)\n",
    "        for i in map (lambda x : x*2*math.pi*pb, radii):print ('pb circle:',i)\n",
    "        a+=1\n",
    "        pass\n",
    "    if a==1:\n",
    "        for i in map (lambda x : x*x*math.pi*al, radii):print ('al disk:',i)\n",
    "        for i in map (lambda x : x*x*math.pi*fe, radii):print ('fe disk:',i)\n",
    "        for i in map (lambda x : x*x*math.pi*pb, radii):print ('pb disk:',i)\n",
    "        pass\n",
    "        a+=1\n",
    "    if a==2:\n",
    "        for i in map (lambda x : 4/3*x*x*x*math.pi*al, radii):print ('al sphere:',i)\n",
    "        for i in map (lambda x : 4/3*x*x*x*math.pi*fe, radii):print ('fe sphere:',i)\n",
    "        for i in map (lambda x : 4/3*x*x*x*math.pi*pb, radii):print ('pb sphere:',i)\n",
    "        a+=1\n",
    "        pass\n",
    "'''\n",
    "\n",
    "#part 2   \n",
    "\n",
    "densities = {\"Al\":[0.5,1,2],\"Fe\":[3,4,5],\"Pb\": [15,20,30]}\n",
    "radii =[1,2,3]\n",
    "import math\n",
    "a=0\n",
    "\n",
    "for i in map (lambda x : x*2*math.pi, radii):print (i)\n",
    "for i in map (lambda x : x*x*math.pi, radii):print (i)\n",
    "for i in map (lambda x : 4/3*x*x*x*math.pi, radii):print (i)\n"
   ]
  },
  {
   "cell_type": "markdown",
   "metadata": {},
   "source": [
    "6\\. Edit the class defintion to add an instance attribute of is_hungry = True to the Dog class. Then add a method called eat() which changes the value of is_hungry to False when called. Figure out the best way to feed each dog and then output “My dogs are hungry.” if all are hungry or “My dogs are not hungry.” if all are not hungry. The final output should look like this:\n",
    "\n",
    "`I have 3 dogs. \n",
    "Tom is 6. \n",
    "Fletcher is 7. \n",
    "Larry is 9. \n",
    "And they're all mammals, of course. \n",
    "My dogs are not hungry.\n",
    "`\n",
    "\n",
    "```python\n",
    "# Parent class\n",
    "class Dog:\n",
    "\n",
    "    # Class attribute\n",
    "    species = 'mammal'\n",
    "\n",
    "    # Initializer / Instance attributes\n",
    "    def __init__(self, name, age):\n",
    "        self.name = name\n",
    "        self.age = age\n",
    "\n",
    "    # instance method\n",
    "    def description(self):\n",
    "        return \"{} is {} years old\".format(self.name, self.age)\n",
    "\n",
    "    # instance method\n",
    "    def speak(self, sound):\n",
    "        return \"{} says {}\".format(self.name, sound)\n",
    "\n",
    "# Child class (inherits from Dog class)\n",
    "class RussellTerrier(Dog):\n",
    "    def run(self, speed):\n",
    "        return \"{} runs {}\".format(self.name, speed)\n",
    "\n",
    "# Child class (inherits from Dog class)\n",
    "class Bulldog(Dog):\n",
    "    def run(self, speed):\n",
    "        return \"{} runs {}\".format(self.name, speed)\n",
    "```"
   ]
  },
  {
   "cell_type": "code",
   "execution_count": 53,
   "metadata": {},
   "outputs": [
    {
     "name": "stdout",
     "output_type": "stream",
     "text": [
      "I have 3 dogs.\n",
      "Tom is 10 .\n",
      "bob is 2 .\n",
      "bob is hungry\n",
      "Fletcher is 7 .\n",
      "And they are all mammals, of course.\n",
      "My dogs are hungry.\n"
     ]
    }
   ],
   "source": [
    "# Parent class\n",
    "dogs=[]\n",
    "class Dog:\n",
    "\n",
    "    # Class attribute\n",
    "    species = 'mammal'\n",
    "    _counter = 0\n",
    "    # Initializer / Instance attributes\n",
    "    def __init__(self, name, age):\n",
    "        dogs.append(self)\n",
    "        self.name = name\n",
    "        self.age = age\n",
    "        Dog._counter += 1\n",
    "        self.id = Dog._counter\n",
    "        self.is_hungry=True\n",
    "        \n",
    "    def eat(self):\n",
    "        self.is_hungry=False\n",
    "        \n",
    "    def inf(self):\n",
    "        if self.is_hungry==True:\n",
    "            print(\"{}\".format(self.name),'is hungry')\n",
    "        else:\n",
    "            print(\"{}\".format(self.name),'is not hungry')\n",
    "        return \"{}\".format(self.id)\n",
    "    \n",
    "    def hung(self):\n",
    "        return self.is_hungry\n",
    "\n",
    "    def num(self):\n",
    "        print(self)\n",
    "\n",
    "    # instance method\n",
    "    def description(self):\n",
    "        return \"{} is {} years old\".format(self.name, self.age)\n",
    "\n",
    "    # instance method\n",
    "    def speak(self, sound):\n",
    "        return \"{} says {}\".format(self.name, sound)\n",
    "\n",
    "# Child class (inherits from Dog class)\n",
    "class RussellTerrier(Dog):\n",
    "    def run(self, speed):\n",
    "        return \"{} runs {}\".format(self.name, speed)\n",
    "\n",
    "# Child class (inherits from Dog class)\n",
    "class Bulldog(Dog):\n",
    "    def run(self, speed):\n",
    "        return \"{} runs {}\".format(self.name, speed)\n",
    "\n",
    "Tom=Dog('Tom',10)\n",
    "bob=Dog('bob',2)\n",
    "Fletcher=Dog('Fletcher',7)\n",
    "\n",
    "Tom.eat()\n",
    "bob.eat()\n",
    "Fletcher.eat()\n",
    "\n",
    "def information():\n",
    "    print('I have',len(dogs),'dogs.')\n",
    "    hung=False\n",
    "    for i in dogs:\n",
    "        print(i.name,'is',i.age,'.')\n",
    "        \n",
    "        if i.species=='mammal':\n",
    "            mammal=True\n",
    "        else:\n",
    "            mammal=False\n",
    "            \n",
    "        if i.hung()==True:\n",
    "            hung=True\n",
    "            print(\"{}\".format(i.name),'is hungry')\n",
    "            \n",
    "    if mammal==True:\n",
    "        print('And they are all mammals, of course.' )\n",
    "    if hung==True:\n",
    "        print('My dogs are hungry.')\n",
    "    else:\n",
    "        print('My dogs are not hungry.')\n",
    "        \n",
    "information()\n",
    "        "
   ]
  },
  {
   "cell_type": "code",
   "execution_count": null,
   "metadata": {},
   "outputs": [],
   "source": []
  }
 ],
 "metadata": {
  "kernelspec": {
   "display_name": "Python 3",
   "language": "python",
   "name": "python3"
  },
  "language_info": {
   "codemirror_mode": {
    "name": "ipython",
    "version": 3
   },
   "file_extension": ".py",
   "mimetype": "text/x-python",
   "name": "python",
   "nbconvert_exporter": "python",
   "pygments_lexer": "ipython3",
   "version": "3.8.5"
  }
 },
 "nbformat": 4,
 "nbformat_minor": 2
}
